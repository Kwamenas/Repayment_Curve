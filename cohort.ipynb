{
 "cells": [
  {
   "cell_type": "markdown",
   "metadata": {},
   "source": [
    "# Goal:\n",
    "###### The Credit team want you to create cohort repayment curves for NASE portfolio. \n",
    "###### A cohort is a subset of customers who were all registered in the same month. A Cohort Repayment Curve is \n",
    "###### the cumulative percentage paid of the total cohort value at each month since registration (months on books). \n",
    "###### They want to filter these cohort curves by Product and Region\n",
    "###### A Cohort Repayment Curves show the percentage paid of the cohort TotalValue by the months on books. "
   ]
  },
  {
   "cell_type": "markdown",
   "metadata": {},
   "source": [
    "# Load Libraries"
   ]
  },
  {
   "cell_type": "code",
   "execution_count": 1,
   "metadata": {},
   "outputs": [],
   "source": [
    "import numpy as np #bring in numpy\n",
    "import pandas as pd #bring in pandas\n",
    "from pandas import DataFrame,Series #bring in dataframe and Series\n",
    "\n",
    "#for visualization\n",
    "import seaborn as sns\n",
    "import plotly.express as px\n",
    "import matplotlib.pyplot as plt\n"
   ]
  },
  {
   "cell_type": "markdown",
   "metadata": {},
   "source": []
  },
  {
   "cell_type": "markdown",
   "metadata": {},
   "source": [
    "# Load and Explore our data"
   ]
  },
  {
   "cell_type": "code",
   "execution_count": 2,
   "metadata": {},
   "outputs": [
    {
     "name": "stdout",
     "output_type": "stream",
     "text": [
      "c:\\Users\\HP\\Desktop\\Data Analysis Proj\\Cohort Analysis 1\n",
      "['.venv', 'cohort.ipynb', 'data_source', 'requirements.txt']\n"
     ]
    }
   ],
   "source": [
    "import os\n",
    "from pathlib import Path\n",
    "print(Path.cwd()) #show current directory\n",
    "print(os.listdir()) #list the directory\n",
    "current_dir=Path.cwd() #assignning the directory"
   ]
  },
  {
   "cell_type": "code",
   "execution_count": 3,
   "metadata": {},
   "outputs": [
    {
     "data": {
      "text/plain": [
       "['Account.csv', 'Customer.csv', 'Payment.csv', 'PaymentPlan.csv']"
      ]
     },
     "execution_count": 3,
     "metadata": {},
     "output_type": "execute_result"
    }
   ],
   "source": [
    "current=Path(current_dir)\n",
    "new_path=current/\"data_source\"\n",
    "\n",
    "new_path\n",
    "os.chdir(new_path)\n",
    "\n",
    "(os.listdir())"
   ]
  },
  {
   "cell_type": "code",
   "execution_count": 4,
   "metadata": {},
   "outputs": [
    {
     "data": {
      "text/plain": [
       "WindowsPath('c:/Users/HP/Desktop/Data Analysis Proj/Cohort Analysis 1/data_source')"
      ]
     },
     "execution_count": 4,
     "metadata": {},
     "output_type": "execute_result"
    }
   ],
   "source": [
    "new_path"
   ]
  },
  {
   "cell_type": "markdown",
   "metadata": {},
   "source": [
    "### function to Load data"
   ]
  },
  {
   "cell_type": "code",
   "execution_count": 5,
   "metadata": {},
   "outputs": [],
   "source": [
    "from pathlib import Path\n",
    "\n",
    "dicts={} #creates a dictionary\n",
    "\n",
    "\n",
    "def load_csv_files(directory):\n",
    "    files=list(directory.glob(\"*.csv\")) #searches in the directory for any csv file\n",
    "    if len(files)==0: #if none is available return no file based on the lenght of the file\n",
    "        return('no file')\n",
    "    \n",
    "    for file in files:# if there is a file, i want the stem or last name of the file\n",
    "        df_name=Path(file).stem #use the name as the key to the dict\n",
    "        dicts[df_name]=pd.read_csv(file) #append the dictionatry\n",
    "\n",
    "\n",
    "directory=Path('c:/Users/HP/Desktop/Data Analysis Proj/Cohort Analysis 1/data_source') #load directory\n",
    "load_csv_files(directory)"
   ]
  },
  {
   "cell_type": "code",
   "execution_count": 6,
   "metadata": {},
   "outputs": [],
   "source": [
    "df_Account=dicts['Account']\n",
    "df_Customer=dicts['Customer']\n",
    "df_Payment=dicts['Payment']\n",
    "df_PaymentPlan=dicts['PaymentPlan']"
   ]
  },
  {
   "cell_type": "code",
   "execution_count": 7,
   "metadata": {},
   "outputs": [
    {
     "data": {
      "text/html": [
       "<div>\n",
       "<style scoped>\n",
       "    .dataframe tbody tr th:only-of-type {\n",
       "        vertical-align: middle;\n",
       "    }\n",
       "\n",
       "    .dataframe tbody tr th {\n",
       "        vertical-align: top;\n",
       "    }\n",
       "\n",
       "    .dataframe thead th {\n",
       "        text-align: right;\n",
       "    }\n",
       "</style>\n",
       "<table border=\"1\" class=\"dataframe\">\n",
       "  <thead>\n",
       "    <tr style=\"text-align: right;\">\n",
       "      <th></th>\n",
       "      <th>AccountId</th>\n",
       "      <th>RegistrationDate</th>\n",
       "      <th>CustomerId</th>\n",
       "      <th>PaymentPlanId</th>\n",
       "    </tr>\n",
       "  </thead>\n",
       "  <tbody>\n",
       "    <tr>\n",
       "      <th>0</th>\n",
       "      <td>5000</td>\n",
       "      <td>2020-03-30</td>\n",
       "      <td>4720</td>\n",
       "      <td>63</td>\n",
       "    </tr>\n",
       "    <tr>\n",
       "      <th>1</th>\n",
       "      <td>5002</td>\n",
       "      <td>2020-06-06</td>\n",
       "      <td>2674</td>\n",
       "      <td>63</td>\n",
       "    </tr>\n",
       "    <tr>\n",
       "      <th>2</th>\n",
       "      <td>5003</td>\n",
       "      <td>2020-02-28</td>\n",
       "      <td>2495</td>\n",
       "      <td>69</td>\n",
       "    </tr>\n",
       "    <tr>\n",
       "      <th>3</th>\n",
       "      <td>5007</td>\n",
       "      <td>2020-02-20</td>\n",
       "      <td>1749</td>\n",
       "      <td>37</td>\n",
       "    </tr>\n",
       "    <tr>\n",
       "      <th>4</th>\n",
       "      <td>5010</td>\n",
       "      <td>2020-09-03</td>\n",
       "      <td>2905</td>\n",
       "      <td>20</td>\n",
       "    </tr>\n",
       "  </tbody>\n",
       "</table>\n",
       "</div>"
      ],
      "text/plain": [
       "   AccountId RegistrationDate  CustomerId  PaymentPlanId\n",
       "0       5000       2020-03-30        4720             63\n",
       "1       5002       2020-06-06        2674             63\n",
       "2       5003       2020-02-28        2495             69\n",
       "3       5007       2020-02-20        1749             37\n",
       "4       5010       2020-09-03        2905             20"
      ]
     },
     "execution_count": 7,
     "metadata": {},
     "output_type": "execute_result"
    }
   ],
   "source": [
    "df_Account.head()"
   ]
  },
  {
   "cell_type": "code",
   "execution_count": 8,
   "metadata": {},
   "outputs": [
    {
     "data": {
      "text/html": [
       "<div>\n",
       "<style scoped>\n",
       "    .dataframe tbody tr th:only-of-type {\n",
       "        vertical-align: middle;\n",
       "    }\n",
       "\n",
       "    .dataframe tbody tr th {\n",
       "        vertical-align: top;\n",
       "    }\n",
       "\n",
       "    .dataframe thead th {\n",
       "        text-align: right;\n",
       "    }\n",
       "</style>\n",
       "<table border=\"1\" class=\"dataframe\">\n",
       "  <thead>\n",
       "    <tr style=\"text-align: right;\">\n",
       "      <th></th>\n",
       "      <th>CustomerId</th>\n",
       "      <th>FirstName</th>\n",
       "      <th>LastName</th>\n",
       "      <th>Region</th>\n",
       "    </tr>\n",
       "  </thead>\n",
       "  <tbody>\n",
       "    <tr>\n",
       "      <th>0</th>\n",
       "      <td>1000</td>\n",
       "      <td>Obinna</td>\n",
       "      <td>Mbori</td>\n",
       "      <td>mombasa</td>\n",
       "    </tr>\n",
       "    <tr>\n",
       "      <th>1</th>\n",
       "      <td>1003</td>\n",
       "      <td>Frank</td>\n",
       "      <td>Nyakwea</td>\n",
       "      <td>kisumu</td>\n",
       "    </tr>\n",
       "    <tr>\n",
       "      <th>2</th>\n",
       "      <td>1004</td>\n",
       "      <td>Victor</td>\n",
       "      <td>Nyakwea</td>\n",
       "      <td>nairobi</td>\n",
       "    </tr>\n",
       "    <tr>\n",
       "      <th>3</th>\n",
       "      <td>1005</td>\n",
       "      <td>Brian</td>\n",
       "      <td>Mbori</td>\n",
       "      <td>kisumu</td>\n",
       "    </tr>\n",
       "    <tr>\n",
       "      <th>4</th>\n",
       "      <td>1006</td>\n",
       "      <td>Mercy</td>\n",
       "      <td>Muguku</td>\n",
       "      <td>kisumu</td>\n",
       "    </tr>\n",
       "  </tbody>\n",
       "</table>\n",
       "</div>"
      ],
      "text/plain": [
       "   CustomerId FirstName LastName   Region\n",
       "0        1000    Obinna    Mbori  mombasa\n",
       "1        1003     Frank  Nyakwea   kisumu\n",
       "2        1004    Victor  Nyakwea  nairobi\n",
       "3        1005     Brian    Mbori   kisumu\n",
       "4        1006     Mercy   Muguku   kisumu"
      ]
     },
     "execution_count": 8,
     "metadata": {},
     "output_type": "execute_result"
    }
   ],
   "source": [
    "df_Customer.head()"
   ]
  },
  {
   "cell_type": "code",
   "execution_count": 9,
   "metadata": {},
   "outputs": [
    {
     "data": {
      "text/html": [
       "<div>\n",
       "<style scoped>\n",
       "    .dataframe tbody tr th:only-of-type {\n",
       "        vertical-align: middle;\n",
       "    }\n",
       "\n",
       "    .dataframe tbody tr th {\n",
       "        vertical-align: top;\n",
       "    }\n",
       "\n",
       "    .dataframe thead th {\n",
       "        text-align: right;\n",
       "    }\n",
       "</style>\n",
       "<table border=\"1\" class=\"dataframe\">\n",
       "  <thead>\n",
       "    <tr style=\"text-align: right;\">\n",
       "      <th></th>\n",
       "      <th>PaymentId</th>\n",
       "      <th>Amount</th>\n",
       "      <th>ReceivedWhen</th>\n",
       "      <th>AccountId</th>\n",
       "      <th>PaymentType</th>\n",
       "    </tr>\n",
       "  </thead>\n",
       "  <tbody>\n",
       "    <tr>\n",
       "      <th>308</th>\n",
       "      <td>1636</td>\n",
       "      <td>28.475379</td>\n",
       "      <td>2020-04-11</td>\n",
       "      <td>5000</td>\n",
       "      <td>DailyPayment</td>\n",
       "    </tr>\n",
       "    <tr>\n",
       "      <th>2503</th>\n",
       "      <td>5982</td>\n",
       "      <td>28.475379</td>\n",
       "      <td>2020-04-10</td>\n",
       "      <td>5000</td>\n",
       "      <td>DailyPayment</td>\n",
       "    </tr>\n",
       "    <tr>\n",
       "      <th>2959</th>\n",
       "      <td>6872</td>\n",
       "      <td>28.475379</td>\n",
       "      <td>2020-09-25</td>\n",
       "      <td>5000</td>\n",
       "      <td>DailyPayment</td>\n",
       "    </tr>\n",
       "    <tr>\n",
       "      <th>4872</th>\n",
       "      <td>10731</td>\n",
       "      <td>28.475379</td>\n",
       "      <td>2020-07-13</td>\n",
       "      <td>5000</td>\n",
       "      <td>DailyPayment</td>\n",
       "    </tr>\n",
       "    <tr>\n",
       "      <th>5042</th>\n",
       "      <td>11085</td>\n",
       "      <td>28.475379</td>\n",
       "      <td>2020-09-08</td>\n",
       "      <td>5000</td>\n",
       "      <td>DailyPayment</td>\n",
       "    </tr>\n",
       "    <tr>\n",
       "      <th>...</th>\n",
       "      <td>...</td>\n",
       "      <td>...</td>\n",
       "      <td>...</td>\n",
       "      <td>...</td>\n",
       "      <td>...</td>\n",
       "    </tr>\n",
       "    <tr>\n",
       "      <th>225704</th>\n",
       "      <td>452380</td>\n",
       "      <td>28.475379</td>\n",
       "      <td>2020-11-15</td>\n",
       "      <td>5000</td>\n",
       "      <td>DailyPayment</td>\n",
       "    </tr>\n",
       "    <tr>\n",
       "      <th>226379</th>\n",
       "      <td>453754</td>\n",
       "      <td>28.475379</td>\n",
       "      <td>2020-06-30</td>\n",
       "      <td>5000</td>\n",
       "      <td>DailyPayment</td>\n",
       "    </tr>\n",
       "    <tr>\n",
       "      <th>227168</th>\n",
       "      <td>455326</td>\n",
       "      <td>28.475379</td>\n",
       "      <td>2020-10-24</td>\n",
       "      <td>5000</td>\n",
       "      <td>DailyPayment</td>\n",
       "    </tr>\n",
       "    <tr>\n",
       "      <th>228639</th>\n",
       "      <td>458293</td>\n",
       "      <td>28.475379</td>\n",
       "      <td>2020-08-15</td>\n",
       "      <td>5000</td>\n",
       "      <td>DailyPayment</td>\n",
       "    </tr>\n",
       "    <tr>\n",
       "      <th>234267</th>\n",
       "      <td>469530</td>\n",
       "      <td>28.475379</td>\n",
       "      <td>2020-04-25</td>\n",
       "      <td>5000</td>\n",
       "      <td>DailyPayment</td>\n",
       "    </tr>\n",
       "  </tbody>\n",
       "</table>\n",
       "<p>167 rows × 5 columns</p>\n",
       "</div>"
      ],
      "text/plain": [
       "        PaymentId     Amount ReceivedWhen  AccountId   PaymentType\n",
       "308          1636  28.475379   2020-04-11       5000  DailyPayment\n",
       "2503         5982  28.475379   2020-04-10       5000  DailyPayment\n",
       "2959         6872  28.475379   2020-09-25       5000  DailyPayment\n",
       "4872        10731  28.475379   2020-07-13       5000  DailyPayment\n",
       "5042        11085  28.475379   2020-09-08       5000  DailyPayment\n",
       "...           ...        ...          ...        ...           ...\n",
       "225704     452380  28.475379   2020-11-15       5000  DailyPayment\n",
       "226379     453754  28.475379   2020-06-30       5000  DailyPayment\n",
       "227168     455326  28.475379   2020-10-24       5000  DailyPayment\n",
       "228639     458293  28.475379   2020-08-15       5000  DailyPayment\n",
       "234267     469530  28.475379   2020-04-25       5000  DailyPayment\n",
       "\n",
       "[167 rows x 5 columns]"
      ]
     },
     "execution_count": 9,
     "metadata": {},
     "output_type": "execute_result"
    }
   ],
   "source": [
    "df_Payment[df_Payment['AccountId']==5000]"
   ]
  },
  {
   "cell_type": "code",
   "execution_count": 10,
   "metadata": {},
   "outputs": [
    {
     "data": {
      "text/html": [
       "<div>\n",
       "<style scoped>\n",
       "    .dataframe tbody tr th:only-of-type {\n",
       "        vertical-align: middle;\n",
       "    }\n",
       "\n",
       "    .dataframe tbody tr th {\n",
       "        vertical-align: top;\n",
       "    }\n",
       "\n",
       "    .dataframe thead th {\n",
       "        text-align: right;\n",
       "    }\n",
       "</style>\n",
       "<table border=\"1\" class=\"dataframe\">\n",
       "  <thead>\n",
       "    <tr style=\"text-align: right;\">\n",
       "      <th></th>\n",
       "      <th>PaymentPlanId</th>\n",
       "      <th>Product</th>\n",
       "      <th>DailyValue</th>\n",
       "      <th>LoanTerm</th>\n",
       "      <th>Deposit</th>\n",
       "      <th>TotalValue</th>\n",
       "    </tr>\n",
       "  </thead>\n",
       "  <tbody>\n",
       "    <tr>\n",
       "      <th>0</th>\n",
       "      <td>10</td>\n",
       "      <td>tv</td>\n",
       "      <td>75</td>\n",
       "      <td>200</td>\n",
       "      <td>1125</td>\n",
       "      <td>16125</td>\n",
       "    </tr>\n",
       "    <tr>\n",
       "      <th>1</th>\n",
       "      <td>11</td>\n",
       "      <td>phone</td>\n",
       "      <td>35</td>\n",
       "      <td>150</td>\n",
       "      <td>175</td>\n",
       "      <td>5425</td>\n",
       "    </tr>\n",
       "    <tr>\n",
       "      <th>2</th>\n",
       "      <td>12</td>\n",
       "      <td>phone</td>\n",
       "      <td>25</td>\n",
       "      <td>300</td>\n",
       "      <td>500</td>\n",
       "      <td>8000</td>\n",
       "    </tr>\n",
       "    <tr>\n",
       "      <th>3</th>\n",
       "      <td>13</td>\n",
       "      <td>solar</td>\n",
       "      <td>45</td>\n",
       "      <td>200</td>\n",
       "      <td>1125</td>\n",
       "      <td>10125</td>\n",
       "    </tr>\n",
       "    <tr>\n",
       "      <th>4</th>\n",
       "      <td>15</td>\n",
       "      <td>solar</td>\n",
       "      <td>50</td>\n",
       "      <td>200</td>\n",
       "      <td>1250</td>\n",
       "      <td>11250</td>\n",
       "    </tr>\n",
       "  </tbody>\n",
       "</table>\n",
       "</div>"
      ],
      "text/plain": [
       "   PaymentPlanId Product  DailyValue  LoanTerm  Deposit  TotalValue\n",
       "0             10      tv          75       200     1125       16125\n",
       "1             11   phone          35       150      175        5425\n",
       "2             12   phone          25       300      500        8000\n",
       "3             13   solar          45       200     1125       10125\n",
       "4             15   solar          50       200     1250       11250"
      ]
     },
     "execution_count": 10,
     "metadata": {},
     "output_type": "execute_result"
    }
   ],
   "source": [
    "df_PaymentPlan.head()"
   ]
  },
  {
   "cell_type": "markdown",
   "metadata": {},
   "source": [
    "# EDA\n",
    "###### We are going to explore the data and summarize our findings\n",
    "###### Also we will join some tables and and explore well\n"
   ]
  },
  {
   "cell_type": "code",
   "execution_count": 11,
   "metadata": {},
   "outputs": [
    {
     "data": {
      "text/plain": [
       "CustomerId    0\n",
       "FirstName     0\n",
       "LastName      0\n",
       "Region        0\n",
       "dtype: int64"
      ]
     },
     "execution_count": 11,
     "metadata": {},
     "output_type": "execute_result"
    }
   ],
   "source": [
    "## let's join df_Account and df_Customer\n",
    "## but lets make sure there is no null value\n",
    "\n",
    "df_Account.isna().sum()\n",
    "df_Customer.isna().sum()\n",
    "\n"
   ]
  },
  {
   "cell_type": "code",
   "execution_count": 12,
   "metadata": {},
   "outputs": [
    {
     "data": {
      "text/html": [
       "<div>\n",
       "<style scoped>\n",
       "    .dataframe tbody tr th:only-of-type {\n",
       "        vertical-align: middle;\n",
       "    }\n",
       "\n",
       "    .dataframe tbody tr th {\n",
       "        vertical-align: top;\n",
       "    }\n",
       "\n",
       "    .dataframe thead th {\n",
       "        text-align: right;\n",
       "    }\n",
       "</style>\n",
       "<table border=\"1\" class=\"dataframe\">\n",
       "  <thead>\n",
       "    <tr style=\"text-align: right;\">\n",
       "      <th></th>\n",
       "      <th>CustomerId</th>\n",
       "      <th>FirstName</th>\n",
       "      <th>LastName</th>\n",
       "      <th>Region</th>\n",
       "    </tr>\n",
       "  </thead>\n",
       "  <tbody>\n",
       "    <tr>\n",
       "      <th>0</th>\n",
       "      <td>1000</td>\n",
       "      <td>Obinna</td>\n",
       "      <td>Mbori</td>\n",
       "      <td>mombasa</td>\n",
       "    </tr>\n",
       "    <tr>\n",
       "      <th>1</th>\n",
       "      <td>1003</td>\n",
       "      <td>Frank</td>\n",
       "      <td>Nyakwea</td>\n",
       "      <td>kisumu</td>\n",
       "    </tr>\n",
       "    <tr>\n",
       "      <th>2</th>\n",
       "      <td>1004</td>\n",
       "      <td>Victor</td>\n",
       "      <td>Nyakwea</td>\n",
       "      <td>nairobi</td>\n",
       "    </tr>\n",
       "    <tr>\n",
       "      <th>3</th>\n",
       "      <td>1005</td>\n",
       "      <td>Brian</td>\n",
       "      <td>Mbori</td>\n",
       "      <td>kisumu</td>\n",
       "    </tr>\n",
       "    <tr>\n",
       "      <th>4</th>\n",
       "      <td>1006</td>\n",
       "      <td>Mercy</td>\n",
       "      <td>Muguku</td>\n",
       "      <td>kisumu</td>\n",
       "    </tr>\n",
       "  </tbody>\n",
       "</table>\n",
       "</div>"
      ],
      "text/plain": [
       "   CustomerId FirstName LastName   Region\n",
       "0        1000    Obinna    Mbori  mombasa\n",
       "1        1003     Frank  Nyakwea   kisumu\n",
       "2        1004    Victor  Nyakwea  nairobi\n",
       "3        1005     Brian    Mbori   kisumu\n",
       "4        1006     Mercy   Muguku   kisumu"
      ]
     },
     "execution_count": 12,
     "metadata": {},
     "output_type": "execute_result"
    }
   ],
   "source": [
    "df_Customer.head()"
   ]
  },
  {
   "cell_type": "code",
   "execution_count": 13,
   "metadata": {},
   "outputs": [],
   "source": [
    "df_Customer['FullName']=df_Customer['FirstName']+' '+df_Customer['LastName']"
   ]
  },
  {
   "cell_type": "code",
   "execution_count": 14,
   "metadata": {},
   "outputs": [
    {
     "data": {
      "text/html": [
       "<div>\n",
       "<style scoped>\n",
       "    .dataframe tbody tr th:only-of-type {\n",
       "        vertical-align: middle;\n",
       "    }\n",
       "\n",
       "    .dataframe tbody tr th {\n",
       "        vertical-align: top;\n",
       "    }\n",
       "\n",
       "    .dataframe thead th {\n",
       "        text-align: right;\n",
       "    }\n",
       "</style>\n",
       "<table border=\"1\" class=\"dataframe\">\n",
       "  <thead>\n",
       "    <tr style=\"text-align: right;\">\n",
       "      <th></th>\n",
       "      <th>CustomerId</th>\n",
       "      <th>FirstName</th>\n",
       "      <th>LastName</th>\n",
       "      <th>Region</th>\n",
       "      <th>FullName</th>\n",
       "    </tr>\n",
       "  </thead>\n",
       "  <tbody>\n",
       "    <tr>\n",
       "      <th>0</th>\n",
       "      <td>1000</td>\n",
       "      <td>Obinna</td>\n",
       "      <td>Mbori</td>\n",
       "      <td>mombasa</td>\n",
       "      <td>Obinna Mbori</td>\n",
       "    </tr>\n",
       "    <tr>\n",
       "      <th>1</th>\n",
       "      <td>1003</td>\n",
       "      <td>Frank</td>\n",
       "      <td>Nyakwea</td>\n",
       "      <td>kisumu</td>\n",
       "      <td>Frank Nyakwea</td>\n",
       "    </tr>\n",
       "    <tr>\n",
       "      <th>2</th>\n",
       "      <td>1004</td>\n",
       "      <td>Victor</td>\n",
       "      <td>Nyakwea</td>\n",
       "      <td>nairobi</td>\n",
       "      <td>Victor Nyakwea</td>\n",
       "    </tr>\n",
       "    <tr>\n",
       "      <th>3</th>\n",
       "      <td>1005</td>\n",
       "      <td>Brian</td>\n",
       "      <td>Mbori</td>\n",
       "      <td>kisumu</td>\n",
       "      <td>Brian Mbori</td>\n",
       "    </tr>\n",
       "    <tr>\n",
       "      <th>4</th>\n",
       "      <td>1006</td>\n",
       "      <td>Mercy</td>\n",
       "      <td>Muguku</td>\n",
       "      <td>kisumu</td>\n",
       "      <td>Mercy Muguku</td>\n",
       "    </tr>\n",
       "  </tbody>\n",
       "</table>\n",
       "</div>"
      ],
      "text/plain": [
       "   CustomerId FirstName LastName   Region        FullName\n",
       "0        1000    Obinna    Mbori  mombasa    Obinna Mbori\n",
       "1        1003     Frank  Nyakwea   kisumu   Frank Nyakwea\n",
       "2        1004    Victor  Nyakwea  nairobi  Victor Nyakwea\n",
       "3        1005     Brian    Mbori   kisumu     Brian Mbori\n",
       "4        1006     Mercy   Muguku   kisumu    Mercy Muguku"
      ]
     },
     "execution_count": 14,
     "metadata": {},
     "output_type": "execute_result"
    }
   ],
   "source": [
    "df_Customer.head()"
   ]
  },
  {
   "cell_type": "code",
   "execution_count": 15,
   "metadata": {},
   "outputs": [],
   "source": [
    "df_Account_upd=df_Account.merge(df_Customer[['CustomerId','FullName','Region']],how='left',on='CustomerId')"
   ]
  },
  {
   "cell_type": "markdown",
   "metadata": {},
   "source": [
    "We have no null value in account and Customer data hence we go ahead and join Account and Customer together"
   ]
  },
  {
   "cell_type": "code",
   "execution_count": 16,
   "metadata": {},
   "outputs": [
    {
     "data": {
      "text/html": [
       "<div>\n",
       "<style scoped>\n",
       "    .dataframe tbody tr th:only-of-type {\n",
       "        vertical-align: middle;\n",
       "    }\n",
       "\n",
       "    .dataframe tbody tr th {\n",
       "        vertical-align: top;\n",
       "    }\n",
       "\n",
       "    .dataframe thead th {\n",
       "        text-align: right;\n",
       "    }\n",
       "</style>\n",
       "<table border=\"1\" class=\"dataframe\">\n",
       "  <thead>\n",
       "    <tr style=\"text-align: right;\">\n",
       "      <th></th>\n",
       "      <th>count</th>\n",
       "      <th>mean</th>\n",
       "      <th>std</th>\n",
       "      <th>min</th>\n",
       "      <th>25%</th>\n",
       "      <th>50%</th>\n",
       "      <th>75%</th>\n",
       "      <th>max</th>\n",
       "    </tr>\n",
       "  </thead>\n",
       "  <tbody>\n",
       "    <tr>\n",
       "      <th>AccountId</th>\n",
       "      <td>2000.0</td>\n",
       "      <td>6979.2830</td>\n",
       "      <td>1160.845924</td>\n",
       "      <td>5000.0</td>\n",
       "      <td>5974.75</td>\n",
       "      <td>6972.5</td>\n",
       "      <td>7973.25</td>\n",
       "      <td>8999.0</td>\n",
       "    </tr>\n",
       "    <tr>\n",
       "      <th>CustomerId</th>\n",
       "      <td>2000.0</td>\n",
       "      <td>2982.5785</td>\n",
       "      <td>1148.129501</td>\n",
       "      <td>1000.0</td>\n",
       "      <td>1988.75</td>\n",
       "      <td>3004.0</td>\n",
       "      <td>3958.00</td>\n",
       "      <td>4998.0</td>\n",
       "    </tr>\n",
       "    <tr>\n",
       "      <th>PaymentPlanId</th>\n",
       "      <td>2000.0</td>\n",
       "      <td>38.1145</td>\n",
       "      <td>18.503475</td>\n",
       "      <td>10.0</td>\n",
       "      <td>20.00</td>\n",
       "      <td>38.0</td>\n",
       "      <td>53.00</td>\n",
       "      <td>69.0</td>\n",
       "    </tr>\n",
       "  </tbody>\n",
       "</table>\n",
       "</div>"
      ],
      "text/plain": [
       "                count       mean          std     min      25%     50%  \\\n",
       "AccountId      2000.0  6979.2830  1160.845924  5000.0  5974.75  6972.5   \n",
       "CustomerId     2000.0  2982.5785  1148.129501  1000.0  1988.75  3004.0   \n",
       "PaymentPlanId  2000.0    38.1145    18.503475    10.0    20.00    38.0   \n",
       "\n",
       "                   75%     max  \n",
       "AccountId      7973.25  8999.0  \n",
       "CustomerId     3958.00  4998.0  \n",
       "PaymentPlanId    53.00    69.0  "
      ]
     },
     "execution_count": 16,
     "metadata": {},
     "output_type": "execute_result"
    }
   ],
   "source": [
    "df_Account_upd.describe().T"
   ]
  },
  {
   "cell_type": "code",
   "execution_count": 17,
   "metadata": {},
   "outputs": [
    {
     "name": "stdout",
     "output_type": "stream",
     "text": [
      "<class 'pandas.core.frame.DataFrame'>\n",
      "RangeIndex: 2000 entries, 0 to 1999\n",
      "Data columns (total 6 columns):\n",
      " #   Column            Non-Null Count  Dtype \n",
      "---  ------            --------------  ----- \n",
      " 0   AccountId         2000 non-null   int64 \n",
      " 1   RegistrationDate  2000 non-null   object\n",
      " 2   CustomerId        2000 non-null   int64 \n",
      " 3   PaymentPlanId     2000 non-null   int64 \n",
      " 4   FullName          2000 non-null   object\n",
      " 5   Region            2000 non-null   object\n",
      "dtypes: int64(3), object(3)\n",
      "memory usage: 93.9+ KB\n"
     ]
    }
   ],
   "source": [
    "df_Account_upd.info()\n",
    "\n",
    "df_Account_upd['RegistrationDate']=pd.to_datetime(df_Account_upd['RegistrationDate'],format='%Y-%m-%d')"
   ]
  },
  {
   "cell_type": "code",
   "execution_count": 18,
   "metadata": {},
   "outputs": [],
   "source": [
    "df_Account_upd['Month']=df_Account_upd['RegistrationDate'].dt.month\n",
    "df_Account_upd['Year']=df_Account_upd['RegistrationDate'].dt.year"
   ]
  },
  {
   "cell_type": "code",
   "execution_count": 19,
   "metadata": {},
   "outputs": [],
   "source": [
    "df_Account_upd=df_Account_upd.merge(df_PaymentPlan[['PaymentPlanId','Product','Deposit','TotalValue']],how='left',on='PaymentPlanId')"
   ]
  },
  {
   "cell_type": "code",
   "execution_count": 20,
   "metadata": {},
   "outputs": [
    {
     "data": {
      "text/html": [
       "<div>\n",
       "<style scoped>\n",
       "    .dataframe tbody tr th:only-of-type {\n",
       "        vertical-align: middle;\n",
       "    }\n",
       "\n",
       "    .dataframe tbody tr th {\n",
       "        vertical-align: top;\n",
       "    }\n",
       "\n",
       "    .dataframe thead th {\n",
       "        text-align: right;\n",
       "    }\n",
       "</style>\n",
       "<table border=\"1\" class=\"dataframe\">\n",
       "  <thead>\n",
       "    <tr style=\"text-align: right;\">\n",
       "      <th></th>\n",
       "      <th>AccountId</th>\n",
       "      <th>RegistrationDate</th>\n",
       "      <th>CustomerId</th>\n",
       "      <th>PaymentPlanId</th>\n",
       "      <th>FullName</th>\n",
       "      <th>Region</th>\n",
       "      <th>Month</th>\n",
       "      <th>Year</th>\n",
       "      <th>Product</th>\n",
       "      <th>Deposit</th>\n",
       "      <th>TotalValue</th>\n",
       "    </tr>\n",
       "  </thead>\n",
       "  <tbody>\n",
       "    <tr>\n",
       "      <th>0</th>\n",
       "      <td>5000</td>\n",
       "      <td>2020-03-30</td>\n",
       "      <td>4720</td>\n",
       "      <td>63</td>\n",
       "      <td>Michael Mbori</td>\n",
       "      <td>nairobi</td>\n",
       "      <td>3</td>\n",
       "      <td>2020</td>\n",
       "      <td>phone</td>\n",
       "      <td>250</td>\n",
       "      <td>7750</td>\n",
       "    </tr>\n",
       "    <tr>\n",
       "      <th>1</th>\n",
       "      <td>5002</td>\n",
       "      <td>2020-06-06</td>\n",
       "      <td>2674</td>\n",
       "      <td>63</td>\n",
       "      <td>Titus Mbori</td>\n",
       "      <td>kisumu</td>\n",
       "      <td>6</td>\n",
       "      <td>2020</td>\n",
       "      <td>phone</td>\n",
       "      <td>250</td>\n",
       "      <td>7750</td>\n",
       "    </tr>\n",
       "    <tr>\n",
       "      <th>2</th>\n",
       "      <td>5003</td>\n",
       "      <td>2020-02-28</td>\n",
       "      <td>2495</td>\n",
       "      <td>69</td>\n",
       "      <td>Mercy Warimu</td>\n",
       "      <td>mombasa</td>\n",
       "      <td>2</td>\n",
       "      <td>2020</td>\n",
       "      <td>tv</td>\n",
       "      <td>1375</td>\n",
       "      <td>23375</td>\n",
       "    </tr>\n",
       "    <tr>\n",
       "      <th>3</th>\n",
       "      <td>5007</td>\n",
       "      <td>2020-02-20</td>\n",
       "      <td>1749</td>\n",
       "      <td>37</td>\n",
       "      <td>Frank Lwoyelo</td>\n",
       "      <td>mombasa</td>\n",
       "      <td>2</td>\n",
       "      <td>2020</td>\n",
       "      <td>solar</td>\n",
       "      <td>675</td>\n",
       "      <td>9675</td>\n",
       "    </tr>\n",
       "    <tr>\n",
       "      <th>4</th>\n",
       "      <td>5010</td>\n",
       "      <td>2020-09-03</td>\n",
       "      <td>2905</td>\n",
       "      <td>20</td>\n",
       "      <td>Titus Mbori</td>\n",
       "      <td>nairobi</td>\n",
       "      <td>9</td>\n",
       "      <td>2020</td>\n",
       "      <td>solar</td>\n",
       "      <td>1625</td>\n",
       "      <td>27625</td>\n",
       "    </tr>\n",
       "  </tbody>\n",
       "</table>\n",
       "</div>"
      ],
      "text/plain": [
       "   AccountId RegistrationDate  CustomerId  PaymentPlanId       FullName  \\\n",
       "0       5000       2020-03-30        4720             63  Michael Mbori   \n",
       "1       5002       2020-06-06        2674             63    Titus Mbori   \n",
       "2       5003       2020-02-28        2495             69   Mercy Warimu   \n",
       "3       5007       2020-02-20        1749             37  Frank Lwoyelo   \n",
       "4       5010       2020-09-03        2905             20    Titus Mbori   \n",
       "\n",
       "    Region  Month  Year Product  Deposit  TotalValue  \n",
       "0  nairobi      3  2020   phone      250        7750  \n",
       "1   kisumu      6  2020   phone      250        7750  \n",
       "2  mombasa      2  2020      tv     1375       23375  \n",
       "3  mombasa      2  2020   solar      675        9675  \n",
       "4  nairobi      9  2020   solar     1625       27625  "
      ]
     },
     "execution_count": 20,
     "metadata": {},
     "output_type": "execute_result"
    }
   ],
   "source": [
    "df_Account_upd.head()"
   ]
  },
  {
   "cell_type": "code",
   "execution_count": 21,
   "metadata": {},
   "outputs": [
    {
     "data": {
      "application/vnd.plotly.v1+json": {
       "config": {
        "plotlyServerURL": "https://plot.ly"
       },
       "data": [
        {
         "hovertemplate": "Month=%{x}<br>AccountId=%{text}<extra></extra>",
         "legendgroup": "",
         "line": {
          "color": "#636efa",
          "dash": "solid"
         },
         "marker": {
          "symbol": "circle"
         },
         "mode": "lines+markers+text",
         "name": "",
         "orientation": "v",
         "showlegend": false,
         "text": {
          "bdata": "AAAAAADAZEAAAAAAACBhQAAAAAAAAGVAAAAAAAAgYkAAAAAAAABmQAAAAAAAwGNAAAAAAABgY0AAAAAAAOBnQAAAAAAAoGZAAAAAAABAZkAAAAAAAGBkQAAAAAAAwGZA",
          "dtype": "f8"
         },
         "textfont": {
          "size": 12
         },
         "textposition": "top center",
         "type": "scatter",
         "x": {
          "bdata": "AQAAAAIAAAADAAAABAAAAAUAAAAGAAAABwAAAAgAAAAJAAAACgAAAAsAAAAMAAAA",
          "dtype": "i4"
         },
         "xaxis": "x",
         "y": {
          "bdata": "pgCJAKgAkQCwAJ4AmwC/ALUAsgCjALYA",
          "dtype": "i2"
         },
         "yaxis": "y"
        }
       ],
       "layout": {
        "legend": {
         "tracegroupgap": 0
        },
        "margin": {
         "t": 60
        },
        "template": {
         "data": {
          "bar": [
           {
            "error_x": {
             "color": "#2a3f5f"
            },
            "error_y": {
             "color": "#2a3f5f"
            },
            "marker": {
             "line": {
              "color": "#E5ECF6",
              "width": 0.5
             },
             "pattern": {
              "fillmode": "overlay",
              "size": 10,
              "solidity": 0.2
             }
            },
            "type": "bar"
           }
          ],
          "barpolar": [
           {
            "marker": {
             "line": {
              "color": "#E5ECF6",
              "width": 0.5
             },
             "pattern": {
              "fillmode": "overlay",
              "size": 10,
              "solidity": 0.2
             }
            },
            "type": "barpolar"
           }
          ],
          "carpet": [
           {
            "aaxis": {
             "endlinecolor": "#2a3f5f",
             "gridcolor": "white",
             "linecolor": "white",
             "minorgridcolor": "white",
             "startlinecolor": "#2a3f5f"
            },
            "baxis": {
             "endlinecolor": "#2a3f5f",
             "gridcolor": "white",
             "linecolor": "white",
             "minorgridcolor": "white",
             "startlinecolor": "#2a3f5f"
            },
            "type": "carpet"
           }
          ],
          "choropleth": [
           {
            "colorbar": {
             "outlinewidth": 0,
             "ticks": ""
            },
            "type": "choropleth"
           }
          ],
          "contour": [
           {
            "colorbar": {
             "outlinewidth": 0,
             "ticks": ""
            },
            "colorscale": [
             [
              0,
              "#0d0887"
             ],
             [
              0.1111111111111111,
              "#46039f"
             ],
             [
              0.2222222222222222,
              "#7201a8"
             ],
             [
              0.3333333333333333,
              "#9c179e"
             ],
             [
              0.4444444444444444,
              "#bd3786"
             ],
             [
              0.5555555555555556,
              "#d8576b"
             ],
             [
              0.6666666666666666,
              "#ed7953"
             ],
             [
              0.7777777777777778,
              "#fb9f3a"
             ],
             [
              0.8888888888888888,
              "#fdca26"
             ],
             [
              1,
              "#f0f921"
             ]
            ],
            "type": "contour"
           }
          ],
          "contourcarpet": [
           {
            "colorbar": {
             "outlinewidth": 0,
             "ticks": ""
            },
            "type": "contourcarpet"
           }
          ],
          "heatmap": [
           {
            "colorbar": {
             "outlinewidth": 0,
             "ticks": ""
            },
            "colorscale": [
             [
              0,
              "#0d0887"
             ],
             [
              0.1111111111111111,
              "#46039f"
             ],
             [
              0.2222222222222222,
              "#7201a8"
             ],
             [
              0.3333333333333333,
              "#9c179e"
             ],
             [
              0.4444444444444444,
              "#bd3786"
             ],
             [
              0.5555555555555556,
              "#d8576b"
             ],
             [
              0.6666666666666666,
              "#ed7953"
             ],
             [
              0.7777777777777778,
              "#fb9f3a"
             ],
             [
              0.8888888888888888,
              "#fdca26"
             ],
             [
              1,
              "#f0f921"
             ]
            ],
            "type": "heatmap"
           }
          ],
          "histogram": [
           {
            "marker": {
             "pattern": {
              "fillmode": "overlay",
              "size": 10,
              "solidity": 0.2
             }
            },
            "type": "histogram"
           }
          ],
          "histogram2d": [
           {
            "colorbar": {
             "outlinewidth": 0,
             "ticks": ""
            },
            "colorscale": [
             [
              0,
              "#0d0887"
             ],
             [
              0.1111111111111111,
              "#46039f"
             ],
             [
              0.2222222222222222,
              "#7201a8"
             ],
             [
              0.3333333333333333,
              "#9c179e"
             ],
             [
              0.4444444444444444,
              "#bd3786"
             ],
             [
              0.5555555555555556,
              "#d8576b"
             ],
             [
              0.6666666666666666,
              "#ed7953"
             ],
             [
              0.7777777777777778,
              "#fb9f3a"
             ],
             [
              0.8888888888888888,
              "#fdca26"
             ],
             [
              1,
              "#f0f921"
             ]
            ],
            "type": "histogram2d"
           }
          ],
          "histogram2dcontour": [
           {
            "colorbar": {
             "outlinewidth": 0,
             "ticks": ""
            },
            "colorscale": [
             [
              0,
              "#0d0887"
             ],
             [
              0.1111111111111111,
              "#46039f"
             ],
             [
              0.2222222222222222,
              "#7201a8"
             ],
             [
              0.3333333333333333,
              "#9c179e"
             ],
             [
              0.4444444444444444,
              "#bd3786"
             ],
             [
              0.5555555555555556,
              "#d8576b"
             ],
             [
              0.6666666666666666,
              "#ed7953"
             ],
             [
              0.7777777777777778,
              "#fb9f3a"
             ],
             [
              0.8888888888888888,
              "#fdca26"
             ],
             [
              1,
              "#f0f921"
             ]
            ],
            "type": "histogram2dcontour"
           }
          ],
          "mesh3d": [
           {
            "colorbar": {
             "outlinewidth": 0,
             "ticks": ""
            },
            "type": "mesh3d"
           }
          ],
          "parcoords": [
           {
            "line": {
             "colorbar": {
              "outlinewidth": 0,
              "ticks": ""
             }
            },
            "type": "parcoords"
           }
          ],
          "pie": [
           {
            "automargin": true,
            "type": "pie"
           }
          ],
          "scatter": [
           {
            "fillpattern": {
             "fillmode": "overlay",
             "size": 10,
             "solidity": 0.2
            },
            "type": "scatter"
           }
          ],
          "scatter3d": [
           {
            "line": {
             "colorbar": {
              "outlinewidth": 0,
              "ticks": ""
             }
            },
            "marker": {
             "colorbar": {
              "outlinewidth": 0,
              "ticks": ""
             }
            },
            "type": "scatter3d"
           }
          ],
          "scattercarpet": [
           {
            "marker": {
             "colorbar": {
              "outlinewidth": 0,
              "ticks": ""
             }
            },
            "type": "scattercarpet"
           }
          ],
          "scattergeo": [
           {
            "marker": {
             "colorbar": {
              "outlinewidth": 0,
              "ticks": ""
             }
            },
            "type": "scattergeo"
           }
          ],
          "scattergl": [
           {
            "marker": {
             "colorbar": {
              "outlinewidth": 0,
              "ticks": ""
             }
            },
            "type": "scattergl"
           }
          ],
          "scattermap": [
           {
            "marker": {
             "colorbar": {
              "outlinewidth": 0,
              "ticks": ""
             }
            },
            "type": "scattermap"
           }
          ],
          "scattermapbox": [
           {
            "marker": {
             "colorbar": {
              "outlinewidth": 0,
              "ticks": ""
             }
            },
            "type": "scattermapbox"
           }
          ],
          "scatterpolar": [
           {
            "marker": {
             "colorbar": {
              "outlinewidth": 0,
              "ticks": ""
             }
            },
            "type": "scatterpolar"
           }
          ],
          "scatterpolargl": [
           {
            "marker": {
             "colorbar": {
              "outlinewidth": 0,
              "ticks": ""
             }
            },
            "type": "scatterpolargl"
           }
          ],
          "scatterternary": [
           {
            "marker": {
             "colorbar": {
              "outlinewidth": 0,
              "ticks": ""
             }
            },
            "type": "scatterternary"
           }
          ],
          "surface": [
           {
            "colorbar": {
             "outlinewidth": 0,
             "ticks": ""
            },
            "colorscale": [
             [
              0,
              "#0d0887"
             ],
             [
              0.1111111111111111,
              "#46039f"
             ],
             [
              0.2222222222222222,
              "#7201a8"
             ],
             [
              0.3333333333333333,
              "#9c179e"
             ],
             [
              0.4444444444444444,
              "#bd3786"
             ],
             [
              0.5555555555555556,
              "#d8576b"
             ],
             [
              0.6666666666666666,
              "#ed7953"
             ],
             [
              0.7777777777777778,
              "#fb9f3a"
             ],
             [
              0.8888888888888888,
              "#fdca26"
             ],
             [
              1,
              "#f0f921"
             ]
            ],
            "type": "surface"
           }
          ],
          "table": [
           {
            "cells": {
             "fill": {
              "color": "#EBF0F8"
             },
             "line": {
              "color": "white"
             }
            },
            "header": {
             "fill": {
              "color": "#C8D4E3"
             },
             "line": {
              "color": "white"
             }
            },
            "type": "table"
           }
          ]
         },
         "layout": {
          "annotationdefaults": {
           "arrowcolor": "#2a3f5f",
           "arrowhead": 0,
           "arrowwidth": 1
          },
          "autotypenumbers": "strict",
          "coloraxis": {
           "colorbar": {
            "outlinewidth": 0,
            "ticks": ""
           }
          },
          "colorscale": {
           "diverging": [
            [
             0,
             "#8e0152"
            ],
            [
             0.1,
             "#c51b7d"
            ],
            [
             0.2,
             "#de77ae"
            ],
            [
             0.3,
             "#f1b6da"
            ],
            [
             0.4,
             "#fde0ef"
            ],
            [
             0.5,
             "#f7f7f7"
            ],
            [
             0.6,
             "#e6f5d0"
            ],
            [
             0.7,
             "#b8e186"
            ],
            [
             0.8,
             "#7fbc41"
            ],
            [
             0.9,
             "#4d9221"
            ],
            [
             1,
             "#276419"
            ]
           ],
           "sequential": [
            [
             0,
             "#0d0887"
            ],
            [
             0.1111111111111111,
             "#46039f"
            ],
            [
             0.2222222222222222,
             "#7201a8"
            ],
            [
             0.3333333333333333,
             "#9c179e"
            ],
            [
             0.4444444444444444,
             "#bd3786"
            ],
            [
             0.5555555555555556,
             "#d8576b"
            ],
            [
             0.6666666666666666,
             "#ed7953"
            ],
            [
             0.7777777777777778,
             "#fb9f3a"
            ],
            [
             0.8888888888888888,
             "#fdca26"
            ],
            [
             1,
             "#f0f921"
            ]
           ],
           "sequentialminus": [
            [
             0,
             "#0d0887"
            ],
            [
             0.1111111111111111,
             "#46039f"
            ],
            [
             0.2222222222222222,
             "#7201a8"
            ],
            [
             0.3333333333333333,
             "#9c179e"
            ],
            [
             0.4444444444444444,
             "#bd3786"
            ],
            [
             0.5555555555555556,
             "#d8576b"
            ],
            [
             0.6666666666666666,
             "#ed7953"
            ],
            [
             0.7777777777777778,
             "#fb9f3a"
            ],
            [
             0.8888888888888888,
             "#fdca26"
            ],
            [
             1,
             "#f0f921"
            ]
           ]
          },
          "colorway": [
           "#636efa",
           "#EF553B",
           "#00cc96",
           "#ab63fa",
           "#FFA15A",
           "#19d3f3",
           "#FF6692",
           "#B6E880",
           "#FF97FF",
           "#FECB52"
          ],
          "font": {
           "color": "#2a3f5f"
          },
          "geo": {
           "bgcolor": "white",
           "lakecolor": "white",
           "landcolor": "#E5ECF6",
           "showlakes": true,
           "showland": true,
           "subunitcolor": "white"
          },
          "hoverlabel": {
           "align": "left"
          },
          "hovermode": "closest",
          "mapbox": {
           "style": "light"
          },
          "paper_bgcolor": "white",
          "plot_bgcolor": "#E5ECF6",
          "polar": {
           "angularaxis": {
            "gridcolor": "white",
            "linecolor": "white",
            "ticks": ""
           },
           "bgcolor": "#E5ECF6",
           "radialaxis": {
            "gridcolor": "white",
            "linecolor": "white",
            "ticks": ""
           }
          },
          "scene": {
           "xaxis": {
            "backgroundcolor": "#E5ECF6",
            "gridcolor": "white",
            "gridwidth": 2,
            "linecolor": "white",
            "showbackground": true,
            "ticks": "",
            "zerolinecolor": "white"
           },
           "yaxis": {
            "backgroundcolor": "#E5ECF6",
            "gridcolor": "white",
            "gridwidth": 2,
            "linecolor": "white",
            "showbackground": true,
            "ticks": "",
            "zerolinecolor": "white"
           },
           "zaxis": {
            "backgroundcolor": "#E5ECF6",
            "gridcolor": "white",
            "gridwidth": 2,
            "linecolor": "white",
            "showbackground": true,
            "ticks": "",
            "zerolinecolor": "white"
           }
          },
          "shapedefaults": {
           "line": {
            "color": "#2a3f5f"
           }
          },
          "ternary": {
           "aaxis": {
            "gridcolor": "white",
            "linecolor": "white",
            "ticks": ""
           },
           "baxis": {
            "gridcolor": "white",
            "linecolor": "white",
            "ticks": ""
           },
           "bgcolor": "#E5ECF6",
           "caxis": {
            "gridcolor": "white",
            "linecolor": "white",
            "ticks": ""
           }
          },
          "title": {
           "x": 0.05
          },
          "xaxis": {
           "automargin": true,
           "gridcolor": "white",
           "linecolor": "white",
           "ticks": "",
           "title": {
            "standoff": 15
           },
           "zerolinecolor": "white",
           "zerolinewidth": 2
          },
          "yaxis": {
           "automargin": true,
           "gridcolor": "white",
           "linecolor": "white",
           "ticks": "",
           "title": {
            "standoff": 15
           },
           "zerolinecolor": "white",
           "zerolinewidth": 2
          }
         }
        },
        "title": {
         "text": "Monthly Account ID Trends",
         "x": 0.5
        },
        "xaxis": {
         "anchor": "y",
         "domain": [
          0,
          1
         ],
         "title": {
          "text": "Month"
         }
        },
        "yaxis": {
         "anchor": "x",
         "domain": [
          0,
          1
         ],
         "title": {
          "text": "Number of Accounts"
         }
        }
       }
      }
     },
     "metadata": {},
     "output_type": "display_data"
    }
   ],
   "source": [
    "## This will help no the number of customers onboarded  monthly\n",
    "\n",
    "sum_acc=df_Account_upd.groupby(['Month']).agg({'AccountId': 'count'}).reset_index()\n",
    "fig=px.line(data_frame=sum_acc,x='Month',y='AccountId',text='AccountId')\n",
    "fig.update_traces(textposition=\"top center\", textfont_size=12)\n",
    "fig.update_layout(\n",
    "    title=\"Monthly Account ID Trends\",\n",
    "    xaxis_title='Month',\n",
    "    yaxis_title='Number of Accounts',\n",
    "    title_x=0.5\n",
    "\n",
    ")\n",
    "fig.show()"
   ]
  },
  {
   "cell_type": "markdown",
   "metadata": {},
   "source": [
    "#### August recorded the highest number of customers onboarded"
   ]
  },
  {
   "cell_type": "code",
   "execution_count": 22,
   "metadata": {},
   "outputs": [
    {
     "data": {
      "application/vnd.plotly.v1+json": {
       "config": {
        "plotlyServerURL": "https://plot.ly"
       },
       "data": [
        {
         "alignmentgroup": "True",
         "hovertemplate": "Product=phone<br>Month=%{x}<br>AccountId=%{y}<extra></extra>",
         "legendgroup": "phone",
         "marker": {
          "color": "#636efa",
          "pattern": {
           "shape": ""
          }
         },
         "name": "phone",
         "offsetgroup": "phone",
         "orientation": "v",
         "showlegend": true,
         "textposition": "auto",
         "type": "bar",
         "x": {
          "bdata": "AQAAAAIAAAADAAAABAAAAAUAAAAGAAAABwAAAAgAAAAJAAAACgAAAAsAAAAMAAAA",
          "dtype": "i4"
         },
         "xaxis": "x",
         "y": {
          "bdata": "NjQ6MT09OzI7MTc1",
          "dtype": "i1"
         },
         "yaxis": "y"
        },
        {
         "alignmentgroup": "True",
         "hovertemplate": "Product=solar<br>Month=%{x}<br>AccountId=%{y}<extra></extra>",
         "legendgroup": "solar",
         "marker": {
          "color": "#EF553B",
          "pattern": {
           "shape": ""
          }
         },
         "name": "solar",
         "offsetgroup": "solar",
         "orientation": "v",
         "showlegend": true,
         "textposition": "auto",
         "type": "bar",
         "x": {
          "bdata": "AQAAAAIAAAADAAAABAAAAAUAAAAGAAAABwAAAAgAAAAJAAAACgAAAAsAAAAMAAAA",
          "dtype": "i4"
         },
         "xaxis": "x",
         "y": {
          "bdata": "NyUtLTwwMkQ0Oj1E",
          "dtype": "i1"
         },
         "yaxis": "y"
        },
        {
         "alignmentgroup": "True",
         "hovertemplate": "Product=tv<br>Month=%{x}<br>AccountId=%{y}<extra></extra>",
         "legendgroup": "tv",
         "marker": {
          "color": "#00cc96",
          "pattern": {
           "shape": ""
          }
         },
         "name": "tv",
         "offsetgroup": "tv",
         "orientation": "v",
         "showlegend": true,
         "textposition": "auto",
         "type": "bar",
         "x": {
          "bdata": "AQAAAAIAAAADAAAABAAAAAUAAAAGAAAABwAAAAgAAAAJAAAACgAAAAsAAAAMAAAA",
          "dtype": "i4"
         },
         "xaxis": "x",
         "y": {
          "bdata": "OTBBMzcxLklGRy89",
          "dtype": "i1"
         },
         "yaxis": "y"
        }
       ],
       "layout": {
        "barmode": "group",
        "legend": {
         "title": {
          "text": "Product"
         },
         "tracegroupgap": 0
        },
        "template": {
         "data": {
          "bar": [
           {
            "error_x": {
             "color": "#2a3f5f"
            },
            "error_y": {
             "color": "#2a3f5f"
            },
            "marker": {
             "line": {
              "color": "#E5ECF6",
              "width": 0.5
             },
             "pattern": {
              "fillmode": "overlay",
              "size": 10,
              "solidity": 0.2
             }
            },
            "type": "bar"
           }
          ],
          "barpolar": [
           {
            "marker": {
             "line": {
              "color": "#E5ECF6",
              "width": 0.5
             },
             "pattern": {
              "fillmode": "overlay",
              "size": 10,
              "solidity": 0.2
             }
            },
            "type": "barpolar"
           }
          ],
          "carpet": [
           {
            "aaxis": {
             "endlinecolor": "#2a3f5f",
             "gridcolor": "white",
             "linecolor": "white",
             "minorgridcolor": "white",
             "startlinecolor": "#2a3f5f"
            },
            "baxis": {
             "endlinecolor": "#2a3f5f",
             "gridcolor": "white",
             "linecolor": "white",
             "minorgridcolor": "white",
             "startlinecolor": "#2a3f5f"
            },
            "type": "carpet"
           }
          ],
          "choropleth": [
           {
            "colorbar": {
             "outlinewidth": 0,
             "ticks": ""
            },
            "type": "choropleth"
           }
          ],
          "contour": [
           {
            "colorbar": {
             "outlinewidth": 0,
             "ticks": ""
            },
            "colorscale": [
             [
              0,
              "#0d0887"
             ],
             [
              0.1111111111111111,
              "#46039f"
             ],
             [
              0.2222222222222222,
              "#7201a8"
             ],
             [
              0.3333333333333333,
              "#9c179e"
             ],
             [
              0.4444444444444444,
              "#bd3786"
             ],
             [
              0.5555555555555556,
              "#d8576b"
             ],
             [
              0.6666666666666666,
              "#ed7953"
             ],
             [
              0.7777777777777778,
              "#fb9f3a"
             ],
             [
              0.8888888888888888,
              "#fdca26"
             ],
             [
              1,
              "#f0f921"
             ]
            ],
            "type": "contour"
           }
          ],
          "contourcarpet": [
           {
            "colorbar": {
             "outlinewidth": 0,
             "ticks": ""
            },
            "type": "contourcarpet"
           }
          ],
          "heatmap": [
           {
            "colorbar": {
             "outlinewidth": 0,
             "ticks": ""
            },
            "colorscale": [
             [
              0,
              "#0d0887"
             ],
             [
              0.1111111111111111,
              "#46039f"
             ],
             [
              0.2222222222222222,
              "#7201a8"
             ],
             [
              0.3333333333333333,
              "#9c179e"
             ],
             [
              0.4444444444444444,
              "#bd3786"
             ],
             [
              0.5555555555555556,
              "#d8576b"
             ],
             [
              0.6666666666666666,
              "#ed7953"
             ],
             [
              0.7777777777777778,
              "#fb9f3a"
             ],
             [
              0.8888888888888888,
              "#fdca26"
             ],
             [
              1,
              "#f0f921"
             ]
            ],
            "type": "heatmap"
           }
          ],
          "histogram": [
           {
            "marker": {
             "pattern": {
              "fillmode": "overlay",
              "size": 10,
              "solidity": 0.2
             }
            },
            "type": "histogram"
           }
          ],
          "histogram2d": [
           {
            "colorbar": {
             "outlinewidth": 0,
             "ticks": ""
            },
            "colorscale": [
             [
              0,
              "#0d0887"
             ],
             [
              0.1111111111111111,
              "#46039f"
             ],
             [
              0.2222222222222222,
              "#7201a8"
             ],
             [
              0.3333333333333333,
              "#9c179e"
             ],
             [
              0.4444444444444444,
              "#bd3786"
             ],
             [
              0.5555555555555556,
              "#d8576b"
             ],
             [
              0.6666666666666666,
              "#ed7953"
             ],
             [
              0.7777777777777778,
              "#fb9f3a"
             ],
             [
              0.8888888888888888,
              "#fdca26"
             ],
             [
              1,
              "#f0f921"
             ]
            ],
            "type": "histogram2d"
           }
          ],
          "histogram2dcontour": [
           {
            "colorbar": {
             "outlinewidth": 0,
             "ticks": ""
            },
            "colorscale": [
             [
              0,
              "#0d0887"
             ],
             [
              0.1111111111111111,
              "#46039f"
             ],
             [
              0.2222222222222222,
              "#7201a8"
             ],
             [
              0.3333333333333333,
              "#9c179e"
             ],
             [
              0.4444444444444444,
              "#bd3786"
             ],
             [
              0.5555555555555556,
              "#d8576b"
             ],
             [
              0.6666666666666666,
              "#ed7953"
             ],
             [
              0.7777777777777778,
              "#fb9f3a"
             ],
             [
              0.8888888888888888,
              "#fdca26"
             ],
             [
              1,
              "#f0f921"
             ]
            ],
            "type": "histogram2dcontour"
           }
          ],
          "mesh3d": [
           {
            "colorbar": {
             "outlinewidth": 0,
             "ticks": ""
            },
            "type": "mesh3d"
           }
          ],
          "parcoords": [
           {
            "line": {
             "colorbar": {
              "outlinewidth": 0,
              "ticks": ""
             }
            },
            "type": "parcoords"
           }
          ],
          "pie": [
           {
            "automargin": true,
            "type": "pie"
           }
          ],
          "scatter": [
           {
            "fillpattern": {
             "fillmode": "overlay",
             "size": 10,
             "solidity": 0.2
            },
            "type": "scatter"
           }
          ],
          "scatter3d": [
           {
            "line": {
             "colorbar": {
              "outlinewidth": 0,
              "ticks": ""
             }
            },
            "marker": {
             "colorbar": {
              "outlinewidth": 0,
              "ticks": ""
             }
            },
            "type": "scatter3d"
           }
          ],
          "scattercarpet": [
           {
            "marker": {
             "colorbar": {
              "outlinewidth": 0,
              "ticks": ""
             }
            },
            "type": "scattercarpet"
           }
          ],
          "scattergeo": [
           {
            "marker": {
             "colorbar": {
              "outlinewidth": 0,
              "ticks": ""
             }
            },
            "type": "scattergeo"
           }
          ],
          "scattergl": [
           {
            "marker": {
             "colorbar": {
              "outlinewidth": 0,
              "ticks": ""
             }
            },
            "type": "scattergl"
           }
          ],
          "scattermap": [
           {
            "marker": {
             "colorbar": {
              "outlinewidth": 0,
              "ticks": ""
             }
            },
            "type": "scattermap"
           }
          ],
          "scattermapbox": [
           {
            "marker": {
             "colorbar": {
              "outlinewidth": 0,
              "ticks": ""
             }
            },
            "type": "scattermapbox"
           }
          ],
          "scatterpolar": [
           {
            "marker": {
             "colorbar": {
              "outlinewidth": 0,
              "ticks": ""
             }
            },
            "type": "scatterpolar"
           }
          ],
          "scatterpolargl": [
           {
            "marker": {
             "colorbar": {
              "outlinewidth": 0,
              "ticks": ""
             }
            },
            "type": "scatterpolargl"
           }
          ],
          "scatterternary": [
           {
            "marker": {
             "colorbar": {
              "outlinewidth": 0,
              "ticks": ""
             }
            },
            "type": "scatterternary"
           }
          ],
          "surface": [
           {
            "colorbar": {
             "outlinewidth": 0,
             "ticks": ""
            },
            "colorscale": [
             [
              0,
              "#0d0887"
             ],
             [
              0.1111111111111111,
              "#46039f"
             ],
             [
              0.2222222222222222,
              "#7201a8"
             ],
             [
              0.3333333333333333,
              "#9c179e"
             ],
             [
              0.4444444444444444,
              "#bd3786"
             ],
             [
              0.5555555555555556,
              "#d8576b"
             ],
             [
              0.6666666666666666,
              "#ed7953"
             ],
             [
              0.7777777777777778,
              "#fb9f3a"
             ],
             [
              0.8888888888888888,
              "#fdca26"
             ],
             [
              1,
              "#f0f921"
             ]
            ],
            "type": "surface"
           }
          ],
          "table": [
           {
            "cells": {
             "fill": {
              "color": "#EBF0F8"
             },
             "line": {
              "color": "white"
             }
            },
            "header": {
             "fill": {
              "color": "#C8D4E3"
             },
             "line": {
              "color": "white"
             }
            },
            "type": "table"
           }
          ]
         },
         "layout": {
          "annotationdefaults": {
           "arrowcolor": "#2a3f5f",
           "arrowhead": 0,
           "arrowwidth": 1
          },
          "autotypenumbers": "strict",
          "coloraxis": {
           "colorbar": {
            "outlinewidth": 0,
            "ticks": ""
           }
          },
          "colorscale": {
           "diverging": [
            [
             0,
             "#8e0152"
            ],
            [
             0.1,
             "#c51b7d"
            ],
            [
             0.2,
             "#de77ae"
            ],
            [
             0.3,
             "#f1b6da"
            ],
            [
             0.4,
             "#fde0ef"
            ],
            [
             0.5,
             "#f7f7f7"
            ],
            [
             0.6,
             "#e6f5d0"
            ],
            [
             0.7,
             "#b8e186"
            ],
            [
             0.8,
             "#7fbc41"
            ],
            [
             0.9,
             "#4d9221"
            ],
            [
             1,
             "#276419"
            ]
           ],
           "sequential": [
            [
             0,
             "#0d0887"
            ],
            [
             0.1111111111111111,
             "#46039f"
            ],
            [
             0.2222222222222222,
             "#7201a8"
            ],
            [
             0.3333333333333333,
             "#9c179e"
            ],
            [
             0.4444444444444444,
             "#bd3786"
            ],
            [
             0.5555555555555556,
             "#d8576b"
            ],
            [
             0.6666666666666666,
             "#ed7953"
            ],
            [
             0.7777777777777778,
             "#fb9f3a"
            ],
            [
             0.8888888888888888,
             "#fdca26"
            ],
            [
             1,
             "#f0f921"
            ]
           ],
           "sequentialminus": [
            [
             0,
             "#0d0887"
            ],
            [
             0.1111111111111111,
             "#46039f"
            ],
            [
             0.2222222222222222,
             "#7201a8"
            ],
            [
             0.3333333333333333,
             "#9c179e"
            ],
            [
             0.4444444444444444,
             "#bd3786"
            ],
            [
             0.5555555555555556,
             "#d8576b"
            ],
            [
             0.6666666666666666,
             "#ed7953"
            ],
            [
             0.7777777777777778,
             "#fb9f3a"
            ],
            [
             0.8888888888888888,
             "#fdca26"
            ],
            [
             1,
             "#f0f921"
            ]
           ]
          },
          "colorway": [
           "#636efa",
           "#EF553B",
           "#00cc96",
           "#ab63fa",
           "#FFA15A",
           "#19d3f3",
           "#FF6692",
           "#B6E880",
           "#FF97FF",
           "#FECB52"
          ],
          "font": {
           "color": "#2a3f5f"
          },
          "geo": {
           "bgcolor": "white",
           "lakecolor": "white",
           "landcolor": "#E5ECF6",
           "showlakes": true,
           "showland": true,
           "subunitcolor": "white"
          },
          "hoverlabel": {
           "align": "left"
          },
          "hovermode": "closest",
          "mapbox": {
           "style": "light"
          },
          "paper_bgcolor": "white",
          "plot_bgcolor": "#E5ECF6",
          "polar": {
           "angularaxis": {
            "gridcolor": "white",
            "linecolor": "white",
            "ticks": ""
           },
           "bgcolor": "#E5ECF6",
           "radialaxis": {
            "gridcolor": "white",
            "linecolor": "white",
            "ticks": ""
           }
          },
          "scene": {
           "xaxis": {
            "backgroundcolor": "#E5ECF6",
            "gridcolor": "white",
            "gridwidth": 2,
            "linecolor": "white",
            "showbackground": true,
            "ticks": "",
            "zerolinecolor": "white"
           },
           "yaxis": {
            "backgroundcolor": "#E5ECF6",
            "gridcolor": "white",
            "gridwidth": 2,
            "linecolor": "white",
            "showbackground": true,
            "ticks": "",
            "zerolinecolor": "white"
           },
           "zaxis": {
            "backgroundcolor": "#E5ECF6",
            "gridcolor": "white",
            "gridwidth": 2,
            "linecolor": "white",
            "showbackground": true,
            "ticks": "",
            "zerolinecolor": "white"
           }
          },
          "shapedefaults": {
           "line": {
            "color": "#2a3f5f"
           }
          },
          "ternary": {
           "aaxis": {
            "gridcolor": "white",
            "linecolor": "white",
            "ticks": ""
           },
           "baxis": {
            "gridcolor": "white",
            "linecolor": "white",
            "ticks": ""
           },
           "bgcolor": "#E5ECF6",
           "caxis": {
            "gridcolor": "white",
            "linecolor": "white",
            "ticks": ""
           }
          },
          "title": {
           "x": 0.05
          },
          "xaxis": {
           "automargin": true,
           "gridcolor": "white",
           "linecolor": "white",
           "ticks": "",
           "title": {
            "standoff": 15
           },
           "zerolinecolor": "white",
           "zerolinewidth": 2
          },
          "yaxis": {
           "automargin": true,
           "gridcolor": "white",
           "linecolor": "white",
           "ticks": "",
           "title": {
            "standoff": 15
           },
           "zerolinecolor": "white",
           "zerolinewidth": 2
          }
         }
        },
        "title": {
         "text": "Monthly Product Trends",
         "x": 0.5
        },
        "xaxis": {
         "anchor": "y",
         "domain": [
          0,
          1
         ],
         "title": {
          "text": "Month"
         }
        },
        "yaxis": {
         "anchor": "x",
         "domain": [
          0,
          1
         ],
         "title": {
          "text": "Count of Products"
         }
        }
       }
      }
     },
     "metadata": {},
     "output_type": "display_data"
    }
   ],
   "source": [
    "df_Account_upd.head()## This will help no the number of customers onboarded  monthly\n",
    "\n",
    "sum_prod=df_Account_upd.groupby(['Product','Month']).agg({'AccountId': 'count'}).reset_index()\n",
    "\n",
    "sum_prod_pivot=sum_prod.pivot(index='Product',columns='Month',values='AccountId')\n",
    "\n",
    "sum_prod_pivot.columns.name=None\n",
    "\n",
    "sum_prod_pivot=sum_prod_pivot.reset_index()\n",
    "\n",
    "fig=px.bar(sum_prod,x='Month',y='AccountId',color='Product',barmode='group',title='Product Distribution per Month')\n",
    "fig.update_layout(\n",
    "    title=\"Monthly Product Trends\",\n",
    "    xaxis_title='Month',\n",
    "    yaxis_title='Count of Products',\n",
    "    title_x=0.5\n",
    "\n",
    ")\n"
   ]
  },
  {
   "cell_type": "code",
   "execution_count": 23,
   "metadata": {},
   "outputs": [
    {
     "data": {
      "text/html": [
       "<div>\n",
       "<style scoped>\n",
       "    .dataframe tbody tr th:only-of-type {\n",
       "        vertical-align: middle;\n",
       "    }\n",
       "\n",
       "    .dataframe tbody tr th {\n",
       "        vertical-align: top;\n",
       "    }\n",
       "\n",
       "    .dataframe thead th {\n",
       "        text-align: right;\n",
       "    }\n",
       "</style>\n",
       "<table border=\"1\" class=\"dataframe\">\n",
       "  <thead>\n",
       "    <tr style=\"text-align: right;\">\n",
       "      <th></th>\n",
       "      <th>Product</th>\n",
       "      <th>1</th>\n",
       "      <th>2</th>\n",
       "      <th>3</th>\n",
       "      <th>4</th>\n",
       "      <th>5</th>\n",
       "      <th>6</th>\n",
       "      <th>7</th>\n",
       "      <th>8</th>\n",
       "      <th>9</th>\n",
       "      <th>10</th>\n",
       "      <th>11</th>\n",
       "      <th>12</th>\n",
       "    </tr>\n",
       "  </thead>\n",
       "  <tbody>\n",
       "    <tr>\n",
       "      <th>0</th>\n",
       "      <td>phone</td>\n",
       "      <td>54</td>\n",
       "      <td>52</td>\n",
       "      <td>58</td>\n",
       "      <td>49</td>\n",
       "      <td>61</td>\n",
       "      <td>61</td>\n",
       "      <td>59</td>\n",
       "      <td>50</td>\n",
       "      <td>59</td>\n",
       "      <td>49</td>\n",
       "      <td>55</td>\n",
       "      <td>53</td>\n",
       "    </tr>\n",
       "    <tr>\n",
       "      <th>1</th>\n",
       "      <td>solar</td>\n",
       "      <td>55</td>\n",
       "      <td>37</td>\n",
       "      <td>45</td>\n",
       "      <td>45</td>\n",
       "      <td>60</td>\n",
       "      <td>48</td>\n",
       "      <td>50</td>\n",
       "      <td>68</td>\n",
       "      <td>52</td>\n",
       "      <td>58</td>\n",
       "      <td>61</td>\n",
       "      <td>68</td>\n",
       "    </tr>\n",
       "    <tr>\n",
       "      <th>2</th>\n",
       "      <td>tv</td>\n",
       "      <td>57</td>\n",
       "      <td>48</td>\n",
       "      <td>65</td>\n",
       "      <td>51</td>\n",
       "      <td>55</td>\n",
       "      <td>49</td>\n",
       "      <td>46</td>\n",
       "      <td>73</td>\n",
       "      <td>70</td>\n",
       "      <td>71</td>\n",
       "      <td>47</td>\n",
       "      <td>61</td>\n",
       "    </tr>\n",
       "  </tbody>\n",
       "</table>\n",
       "</div>"
      ],
      "text/plain": [
       "  Product   1   2   3   4   5   6   7   8   9  10  11  12\n",
       "0   phone  54  52  58  49  61  61  59  50  59  49  55  53\n",
       "1   solar  55  37  45  45  60  48  50  68  52  58  61  68\n",
       "2      tv  57  48  65  51  55  49  46  73  70  71  47  61"
      ]
     },
     "execution_count": 23,
     "metadata": {},
     "output_type": "execute_result"
    }
   ],
   "source": [
    "sum_prod_pivot"
   ]
  },
  {
   "cell_type": "code",
   "execution_count": 24,
   "metadata": {},
   "outputs": [],
   "source": [
    "#sum_prod_pivot['Total']=sum_prod_pivot.iloc[:,1:].sum(axis=1)\n",
    "\n"
   ]
  },
  {
   "cell_type": "code",
   "execution_count": 25,
   "metadata": {},
   "outputs": [],
   "source": [
    "max_values=sum_prod_pivot.iloc[:,1:].max(axis=0)\n",
    "\n",
    "max_products=sum_prod_pivot.iloc[:,1:].idxmax(axis=0).apply(lambda x:sum_prod_pivot.loc[x,'Product'])\n",
    "\n",
    "max_df=DataFrame({\n",
    "    \"Max_Value\":max_values,\n",
    "    \"Product\":max_products\n",
    "})"
   ]
  },
  {
   "cell_type": "code",
   "execution_count": 26,
   "metadata": {},
   "outputs": [
    {
     "data": {
      "text/html": [
       "<div>\n",
       "<style scoped>\n",
       "    .dataframe tbody tr th:only-of-type {\n",
       "        vertical-align: middle;\n",
       "    }\n",
       "\n",
       "    .dataframe tbody tr th {\n",
       "        vertical-align: top;\n",
       "    }\n",
       "\n",
       "    .dataframe thead th {\n",
       "        text-align: right;\n",
       "    }\n",
       "</style>\n",
       "<table border=\"1\" class=\"dataframe\">\n",
       "  <thead>\n",
       "    <tr style=\"text-align: right;\">\n",
       "      <th></th>\n",
       "      <th>Product</th>\n",
       "      <th>1</th>\n",
       "      <th>2</th>\n",
       "      <th>3</th>\n",
       "      <th>4</th>\n",
       "      <th>5</th>\n",
       "      <th>6</th>\n",
       "      <th>7</th>\n",
       "      <th>8</th>\n",
       "      <th>9</th>\n",
       "      <th>10</th>\n",
       "      <th>11</th>\n",
       "      <th>12</th>\n",
       "    </tr>\n",
       "  </thead>\n",
       "  <tbody>\n",
       "    <tr>\n",
       "      <th>0</th>\n",
       "      <td>phone</td>\n",
       "      <td>54</td>\n",
       "      <td>52</td>\n",
       "      <td>58</td>\n",
       "      <td>49</td>\n",
       "      <td>61</td>\n",
       "      <td>61</td>\n",
       "      <td>59</td>\n",
       "      <td>50</td>\n",
       "      <td>59</td>\n",
       "      <td>49</td>\n",
       "      <td>55</td>\n",
       "      <td>53</td>\n",
       "    </tr>\n",
       "    <tr>\n",
       "      <th>1</th>\n",
       "      <td>solar</td>\n",
       "      <td>55</td>\n",
       "      <td>37</td>\n",
       "      <td>45</td>\n",
       "      <td>45</td>\n",
       "      <td>60</td>\n",
       "      <td>48</td>\n",
       "      <td>50</td>\n",
       "      <td>68</td>\n",
       "      <td>52</td>\n",
       "      <td>58</td>\n",
       "      <td>61</td>\n",
       "      <td>68</td>\n",
       "    </tr>\n",
       "    <tr>\n",
       "      <th>2</th>\n",
       "      <td>tv</td>\n",
       "      <td>57</td>\n",
       "      <td>48</td>\n",
       "      <td>65</td>\n",
       "      <td>51</td>\n",
       "      <td>55</td>\n",
       "      <td>49</td>\n",
       "      <td>46</td>\n",
       "      <td>73</td>\n",
       "      <td>70</td>\n",
       "      <td>71</td>\n",
       "      <td>47</td>\n",
       "      <td>61</td>\n",
       "    </tr>\n",
       "  </tbody>\n",
       "</table>\n",
       "</div>"
      ],
      "text/plain": [
       "  Product   1   2   3   4   5   6   7   8   9  10  11  12\n",
       "0   phone  54  52  58  49  61  61  59  50  59  49  55  53\n",
       "1   solar  55  37  45  45  60  48  50  68  52  58  61  68\n",
       "2      tv  57  48  65  51  55  49  46  73  70  71  47  61"
      ]
     },
     "execution_count": 26,
     "metadata": {},
     "output_type": "execute_result"
    }
   ],
   "source": [
    "sum_prod_pivot"
   ]
  },
  {
   "cell_type": "code",
   "execution_count": 27,
   "metadata": {},
   "outputs": [],
   "source": [
    "max_df=max_df.reset_index().rename(columns={'index':'Months'})\n"
   ]
  },
  {
   "cell_type": "code",
   "execution_count": 28,
   "metadata": {},
   "outputs": [
    {
     "data": {
      "application/vnd.plotly.v1+json": {
       "config": {
        "plotlyServerURL": "https://plot.ly"
       },
       "data": [
        {
         "hovertemplate": "Product=tv<br>Months=%{x}<br>Max_Value=%{y}<extra></extra>",
         "legendgroup": "tv",
         "marker": {
          "color": "#636efa",
          "pattern": {
           "shape": ""
          }
         },
         "name": "tv",
         "orientation": "v",
         "showlegend": true,
         "textposition": "auto",
         "type": "bar",
         "x": {
          "bdata": "AQMECAkK",
          "dtype": "i1"
         },
         "xaxis": "x",
         "y": {
          "bdata": "OUEzSUZH",
          "dtype": "i1"
         },
         "yaxis": "y"
        },
        {
         "hovertemplate": "Product=phone<br>Months=%{x}<br>Max_Value=%{y}<extra></extra>",
         "legendgroup": "phone",
         "marker": {
          "color": "#EF553B",
          "pattern": {
           "shape": ""
          }
         },
         "name": "phone",
         "orientation": "v",
         "showlegend": true,
         "textposition": "auto",
         "type": "bar",
         "x": {
          "bdata": "AgUGBw==",
          "dtype": "i1"
         },
         "xaxis": "x",
         "y": {
          "bdata": "ND09Ow==",
          "dtype": "i1"
         },
         "yaxis": "y"
        },
        {
         "hovertemplate": "Product=solar<br>Months=%{x}<br>Max_Value=%{y}<extra></extra>",
         "legendgroup": "solar",
         "marker": {
          "color": "#00cc96",
          "pattern": {
           "shape": ""
          }
         },
         "name": "solar",
         "orientation": "v",
         "showlegend": true,
         "textposition": "auto",
         "type": "bar",
         "x": {
          "bdata": "Cww=",
          "dtype": "i1"
         },
         "xaxis": "x",
         "y": {
          "bdata": "PUQ=",
          "dtype": "i1"
         },
         "yaxis": "y"
        }
       ],
       "layout": {
        "barmode": "relative",
        "legend": {
         "title": {
          "text": "Product"
         },
         "tracegroupgap": 0
        },
        "template": {
         "data": {
          "bar": [
           {
            "error_x": {
             "color": "#2a3f5f"
            },
            "error_y": {
             "color": "#2a3f5f"
            },
            "marker": {
             "line": {
              "color": "#E5ECF6",
              "width": 0.5
             },
             "pattern": {
              "fillmode": "overlay",
              "size": 10,
              "solidity": 0.2
             }
            },
            "type": "bar"
           }
          ],
          "barpolar": [
           {
            "marker": {
             "line": {
              "color": "#E5ECF6",
              "width": 0.5
             },
             "pattern": {
              "fillmode": "overlay",
              "size": 10,
              "solidity": 0.2
             }
            },
            "type": "barpolar"
           }
          ],
          "carpet": [
           {
            "aaxis": {
             "endlinecolor": "#2a3f5f",
             "gridcolor": "white",
             "linecolor": "white",
             "minorgridcolor": "white",
             "startlinecolor": "#2a3f5f"
            },
            "baxis": {
             "endlinecolor": "#2a3f5f",
             "gridcolor": "white",
             "linecolor": "white",
             "minorgridcolor": "white",
             "startlinecolor": "#2a3f5f"
            },
            "type": "carpet"
           }
          ],
          "choropleth": [
           {
            "colorbar": {
             "outlinewidth": 0,
             "ticks": ""
            },
            "type": "choropleth"
           }
          ],
          "contour": [
           {
            "colorbar": {
             "outlinewidth": 0,
             "ticks": ""
            },
            "colorscale": [
             [
              0,
              "#0d0887"
             ],
             [
              0.1111111111111111,
              "#46039f"
             ],
             [
              0.2222222222222222,
              "#7201a8"
             ],
             [
              0.3333333333333333,
              "#9c179e"
             ],
             [
              0.4444444444444444,
              "#bd3786"
             ],
             [
              0.5555555555555556,
              "#d8576b"
             ],
             [
              0.6666666666666666,
              "#ed7953"
             ],
             [
              0.7777777777777778,
              "#fb9f3a"
             ],
             [
              0.8888888888888888,
              "#fdca26"
             ],
             [
              1,
              "#f0f921"
             ]
            ],
            "type": "contour"
           }
          ],
          "contourcarpet": [
           {
            "colorbar": {
             "outlinewidth": 0,
             "ticks": ""
            },
            "type": "contourcarpet"
           }
          ],
          "heatmap": [
           {
            "colorbar": {
             "outlinewidth": 0,
             "ticks": ""
            },
            "colorscale": [
             [
              0,
              "#0d0887"
             ],
             [
              0.1111111111111111,
              "#46039f"
             ],
             [
              0.2222222222222222,
              "#7201a8"
             ],
             [
              0.3333333333333333,
              "#9c179e"
             ],
             [
              0.4444444444444444,
              "#bd3786"
             ],
             [
              0.5555555555555556,
              "#d8576b"
             ],
             [
              0.6666666666666666,
              "#ed7953"
             ],
             [
              0.7777777777777778,
              "#fb9f3a"
             ],
             [
              0.8888888888888888,
              "#fdca26"
             ],
             [
              1,
              "#f0f921"
             ]
            ],
            "type": "heatmap"
           }
          ],
          "histogram": [
           {
            "marker": {
             "pattern": {
              "fillmode": "overlay",
              "size": 10,
              "solidity": 0.2
             }
            },
            "type": "histogram"
           }
          ],
          "histogram2d": [
           {
            "colorbar": {
             "outlinewidth": 0,
             "ticks": ""
            },
            "colorscale": [
             [
              0,
              "#0d0887"
             ],
             [
              0.1111111111111111,
              "#46039f"
             ],
             [
              0.2222222222222222,
              "#7201a8"
             ],
             [
              0.3333333333333333,
              "#9c179e"
             ],
             [
              0.4444444444444444,
              "#bd3786"
             ],
             [
              0.5555555555555556,
              "#d8576b"
             ],
             [
              0.6666666666666666,
              "#ed7953"
             ],
             [
              0.7777777777777778,
              "#fb9f3a"
             ],
             [
              0.8888888888888888,
              "#fdca26"
             ],
             [
              1,
              "#f0f921"
             ]
            ],
            "type": "histogram2d"
           }
          ],
          "histogram2dcontour": [
           {
            "colorbar": {
             "outlinewidth": 0,
             "ticks": ""
            },
            "colorscale": [
             [
              0,
              "#0d0887"
             ],
             [
              0.1111111111111111,
              "#46039f"
             ],
             [
              0.2222222222222222,
              "#7201a8"
             ],
             [
              0.3333333333333333,
              "#9c179e"
             ],
             [
              0.4444444444444444,
              "#bd3786"
             ],
             [
              0.5555555555555556,
              "#d8576b"
             ],
             [
              0.6666666666666666,
              "#ed7953"
             ],
             [
              0.7777777777777778,
              "#fb9f3a"
             ],
             [
              0.8888888888888888,
              "#fdca26"
             ],
             [
              1,
              "#f0f921"
             ]
            ],
            "type": "histogram2dcontour"
           }
          ],
          "mesh3d": [
           {
            "colorbar": {
             "outlinewidth": 0,
             "ticks": ""
            },
            "type": "mesh3d"
           }
          ],
          "parcoords": [
           {
            "line": {
             "colorbar": {
              "outlinewidth": 0,
              "ticks": ""
             }
            },
            "type": "parcoords"
           }
          ],
          "pie": [
           {
            "automargin": true,
            "type": "pie"
           }
          ],
          "scatter": [
           {
            "fillpattern": {
             "fillmode": "overlay",
             "size": 10,
             "solidity": 0.2
            },
            "type": "scatter"
           }
          ],
          "scatter3d": [
           {
            "line": {
             "colorbar": {
              "outlinewidth": 0,
              "ticks": ""
             }
            },
            "marker": {
             "colorbar": {
              "outlinewidth": 0,
              "ticks": ""
             }
            },
            "type": "scatter3d"
           }
          ],
          "scattercarpet": [
           {
            "marker": {
             "colorbar": {
              "outlinewidth": 0,
              "ticks": ""
             }
            },
            "type": "scattercarpet"
           }
          ],
          "scattergeo": [
           {
            "marker": {
             "colorbar": {
              "outlinewidth": 0,
              "ticks": ""
             }
            },
            "type": "scattergeo"
           }
          ],
          "scattergl": [
           {
            "marker": {
             "colorbar": {
              "outlinewidth": 0,
              "ticks": ""
             }
            },
            "type": "scattergl"
           }
          ],
          "scattermap": [
           {
            "marker": {
             "colorbar": {
              "outlinewidth": 0,
              "ticks": ""
             }
            },
            "type": "scattermap"
           }
          ],
          "scattermapbox": [
           {
            "marker": {
             "colorbar": {
              "outlinewidth": 0,
              "ticks": ""
             }
            },
            "type": "scattermapbox"
           }
          ],
          "scatterpolar": [
           {
            "marker": {
             "colorbar": {
              "outlinewidth": 0,
              "ticks": ""
             }
            },
            "type": "scatterpolar"
           }
          ],
          "scatterpolargl": [
           {
            "marker": {
             "colorbar": {
              "outlinewidth": 0,
              "ticks": ""
             }
            },
            "type": "scatterpolargl"
           }
          ],
          "scatterternary": [
           {
            "marker": {
             "colorbar": {
              "outlinewidth": 0,
              "ticks": ""
             }
            },
            "type": "scatterternary"
           }
          ],
          "surface": [
           {
            "colorbar": {
             "outlinewidth": 0,
             "ticks": ""
            },
            "colorscale": [
             [
              0,
              "#0d0887"
             ],
             [
              0.1111111111111111,
              "#46039f"
             ],
             [
              0.2222222222222222,
              "#7201a8"
             ],
             [
              0.3333333333333333,
              "#9c179e"
             ],
             [
              0.4444444444444444,
              "#bd3786"
             ],
             [
              0.5555555555555556,
              "#d8576b"
             ],
             [
              0.6666666666666666,
              "#ed7953"
             ],
             [
              0.7777777777777778,
              "#fb9f3a"
             ],
             [
              0.8888888888888888,
              "#fdca26"
             ],
             [
              1,
              "#f0f921"
             ]
            ],
            "type": "surface"
           }
          ],
          "table": [
           {
            "cells": {
             "fill": {
              "color": "#EBF0F8"
             },
             "line": {
              "color": "white"
             }
            },
            "header": {
             "fill": {
              "color": "#C8D4E3"
             },
             "line": {
              "color": "white"
             }
            },
            "type": "table"
           }
          ]
         },
         "layout": {
          "annotationdefaults": {
           "arrowcolor": "#2a3f5f",
           "arrowhead": 0,
           "arrowwidth": 1
          },
          "autotypenumbers": "strict",
          "coloraxis": {
           "colorbar": {
            "outlinewidth": 0,
            "ticks": ""
           }
          },
          "colorscale": {
           "diverging": [
            [
             0,
             "#8e0152"
            ],
            [
             0.1,
             "#c51b7d"
            ],
            [
             0.2,
             "#de77ae"
            ],
            [
             0.3,
             "#f1b6da"
            ],
            [
             0.4,
             "#fde0ef"
            ],
            [
             0.5,
             "#f7f7f7"
            ],
            [
             0.6,
             "#e6f5d0"
            ],
            [
             0.7,
             "#b8e186"
            ],
            [
             0.8,
             "#7fbc41"
            ],
            [
             0.9,
             "#4d9221"
            ],
            [
             1,
             "#276419"
            ]
           ],
           "sequential": [
            [
             0,
             "#0d0887"
            ],
            [
             0.1111111111111111,
             "#46039f"
            ],
            [
             0.2222222222222222,
             "#7201a8"
            ],
            [
             0.3333333333333333,
             "#9c179e"
            ],
            [
             0.4444444444444444,
             "#bd3786"
            ],
            [
             0.5555555555555556,
             "#d8576b"
            ],
            [
             0.6666666666666666,
             "#ed7953"
            ],
            [
             0.7777777777777778,
             "#fb9f3a"
            ],
            [
             0.8888888888888888,
             "#fdca26"
            ],
            [
             1,
             "#f0f921"
            ]
           ],
           "sequentialminus": [
            [
             0,
             "#0d0887"
            ],
            [
             0.1111111111111111,
             "#46039f"
            ],
            [
             0.2222222222222222,
             "#7201a8"
            ],
            [
             0.3333333333333333,
             "#9c179e"
            ],
            [
             0.4444444444444444,
             "#bd3786"
            ],
            [
             0.5555555555555556,
             "#d8576b"
            ],
            [
             0.6666666666666666,
             "#ed7953"
            ],
            [
             0.7777777777777778,
             "#fb9f3a"
            ],
            [
             0.8888888888888888,
             "#fdca26"
            ],
            [
             1,
             "#f0f921"
            ]
           ]
          },
          "colorway": [
           "#636efa",
           "#EF553B",
           "#00cc96",
           "#ab63fa",
           "#FFA15A",
           "#19d3f3",
           "#FF6692",
           "#B6E880",
           "#FF97FF",
           "#FECB52"
          ],
          "font": {
           "color": "#2a3f5f"
          },
          "geo": {
           "bgcolor": "white",
           "lakecolor": "white",
           "landcolor": "#E5ECF6",
           "showlakes": true,
           "showland": true,
           "subunitcolor": "white"
          },
          "hoverlabel": {
           "align": "left"
          },
          "hovermode": "closest",
          "mapbox": {
           "style": "light"
          },
          "paper_bgcolor": "white",
          "plot_bgcolor": "#E5ECF6",
          "polar": {
           "angularaxis": {
            "gridcolor": "white",
            "linecolor": "white",
            "ticks": ""
           },
           "bgcolor": "#E5ECF6",
           "radialaxis": {
            "gridcolor": "white",
            "linecolor": "white",
            "ticks": ""
           }
          },
          "scene": {
           "xaxis": {
            "backgroundcolor": "#E5ECF6",
            "gridcolor": "white",
            "gridwidth": 2,
            "linecolor": "white",
            "showbackground": true,
            "ticks": "",
            "zerolinecolor": "white"
           },
           "yaxis": {
            "backgroundcolor": "#E5ECF6",
            "gridcolor": "white",
            "gridwidth": 2,
            "linecolor": "white",
            "showbackground": true,
            "ticks": "",
            "zerolinecolor": "white"
           },
           "zaxis": {
            "backgroundcolor": "#E5ECF6",
            "gridcolor": "white",
            "gridwidth": 2,
            "linecolor": "white",
            "showbackground": true,
            "ticks": "",
            "zerolinecolor": "white"
           }
          },
          "shapedefaults": {
           "line": {
            "color": "#2a3f5f"
           }
          },
          "ternary": {
           "aaxis": {
            "gridcolor": "white",
            "linecolor": "white",
            "ticks": ""
           },
           "baxis": {
            "gridcolor": "white",
            "linecolor": "white",
            "ticks": ""
           },
           "bgcolor": "#E5ECF6",
           "caxis": {
            "gridcolor": "white",
            "linecolor": "white",
            "ticks": ""
           }
          },
          "title": {
           "x": 0.05
          },
          "xaxis": {
           "automargin": true,
           "gridcolor": "white",
           "linecolor": "white",
           "ticks": "",
           "title": {
            "standoff": 15
           },
           "zerolinecolor": "white",
           "zerolinewidth": 2
          },
          "yaxis": {
           "automargin": true,
           "gridcolor": "white",
           "linecolor": "white",
           "ticks": "",
           "title": {
            "standoff": 15
           },
           "zerolinecolor": "white",
           "zerolinewidth": 2
          }
         }
        },
        "title": {
         "text": "Best Product Per Monthly",
         "x": 0.5
        },
        "xaxis": {
         "anchor": "y",
         "domain": [
          0,
          1
         ],
         "title": {
          "text": "Month"
         }
        },
        "yaxis": {
         "anchor": "x",
         "domain": [
          0,
          1
         ],
         "title": {
          "text": "Count of Products"
         }
        }
       }
      }
     },
     "metadata": {},
     "output_type": "display_data"
    }
   ],
   "source": [
    "max_df\n",
    "\n",
    "fig=px.bar(max_df,x='Months',y='Max_Value',color='Product',title='Best Product per Month')\n",
    "fig.update_layout(\n",
    "    title=\"Best Product Per Monthly\",\n",
    "    xaxis_title='Month',\n",
    "    yaxis_title='Count of Products',\n",
    "    title_x=0.5\n",
    "\n",
    ")"
   ]
  },
  {
   "cell_type": "code",
   "execution_count": 29,
   "metadata": {},
   "outputs": [
    {
     "data": {
      "text/html": [
       "<div>\n",
       "<style scoped>\n",
       "    .dataframe tbody tr th:only-of-type {\n",
       "        vertical-align: middle;\n",
       "    }\n",
       "\n",
       "    .dataframe tbody tr th {\n",
       "        vertical-align: top;\n",
       "    }\n",
       "\n",
       "    .dataframe thead th {\n",
       "        text-align: right;\n",
       "    }\n",
       "</style>\n",
       "<table border=\"1\" class=\"dataframe\">\n",
       "  <thead>\n",
       "    <tr style=\"text-align: right;\">\n",
       "      <th></th>\n",
       "      <th>Months</th>\n",
       "      <th>Max_Value</th>\n",
       "      <th>Product</th>\n",
       "    </tr>\n",
       "  </thead>\n",
       "  <tbody>\n",
       "    <tr>\n",
       "      <th>0</th>\n",
       "      <td>1</td>\n",
       "      <td>57</td>\n",
       "      <td>tv</td>\n",
       "    </tr>\n",
       "    <tr>\n",
       "      <th>1</th>\n",
       "      <td>2</td>\n",
       "      <td>52</td>\n",
       "      <td>phone</td>\n",
       "    </tr>\n",
       "    <tr>\n",
       "      <th>2</th>\n",
       "      <td>3</td>\n",
       "      <td>65</td>\n",
       "      <td>tv</td>\n",
       "    </tr>\n",
       "    <tr>\n",
       "      <th>3</th>\n",
       "      <td>4</td>\n",
       "      <td>51</td>\n",
       "      <td>tv</td>\n",
       "    </tr>\n",
       "    <tr>\n",
       "      <th>4</th>\n",
       "      <td>5</td>\n",
       "      <td>61</td>\n",
       "      <td>phone</td>\n",
       "    </tr>\n",
       "    <tr>\n",
       "      <th>5</th>\n",
       "      <td>6</td>\n",
       "      <td>61</td>\n",
       "      <td>phone</td>\n",
       "    </tr>\n",
       "    <tr>\n",
       "      <th>6</th>\n",
       "      <td>7</td>\n",
       "      <td>59</td>\n",
       "      <td>phone</td>\n",
       "    </tr>\n",
       "    <tr>\n",
       "      <th>7</th>\n",
       "      <td>8</td>\n",
       "      <td>73</td>\n",
       "      <td>tv</td>\n",
       "    </tr>\n",
       "    <tr>\n",
       "      <th>8</th>\n",
       "      <td>9</td>\n",
       "      <td>70</td>\n",
       "      <td>tv</td>\n",
       "    </tr>\n",
       "    <tr>\n",
       "      <th>9</th>\n",
       "      <td>10</td>\n",
       "      <td>71</td>\n",
       "      <td>tv</td>\n",
       "    </tr>\n",
       "    <tr>\n",
       "      <th>10</th>\n",
       "      <td>11</td>\n",
       "      <td>61</td>\n",
       "      <td>solar</td>\n",
       "    </tr>\n",
       "    <tr>\n",
       "      <th>11</th>\n",
       "      <td>12</td>\n",
       "      <td>68</td>\n",
       "      <td>solar</td>\n",
       "    </tr>\n",
       "  </tbody>\n",
       "</table>\n",
       "</div>"
      ],
      "text/plain": [
       "    Months  Max_Value Product\n",
       "0        1         57      tv\n",
       "1        2         52   phone\n",
       "2        3         65      tv\n",
       "3        4         51      tv\n",
       "4        5         61   phone\n",
       "5        6         61   phone\n",
       "6        7         59   phone\n",
       "7        8         73      tv\n",
       "8        9         70      tv\n",
       "9       10         71      tv\n",
       "10      11         61   solar\n",
       "11      12         68   solar"
      ]
     },
     "execution_count": 29,
     "metadata": {},
     "output_type": "execute_result"
    }
   ],
   "source": [
    "max_df"
   ]
  },
  {
   "cell_type": "code",
   "execution_count": 30,
   "metadata": {},
   "outputs": [
    {
     "data": {
      "text/html": [
       "<div>\n",
       "<style scoped>\n",
       "    .dataframe tbody tr th:only-of-type {\n",
       "        vertical-align: middle;\n",
       "    }\n",
       "\n",
       "    .dataframe tbody tr th {\n",
       "        vertical-align: top;\n",
       "    }\n",
       "\n",
       "    .dataframe thead th {\n",
       "        text-align: right;\n",
       "    }\n",
       "</style>\n",
       "<table border=\"1\" class=\"dataframe\">\n",
       "  <thead>\n",
       "    <tr style=\"text-align: right;\">\n",
       "      <th></th>\n",
       "      <th>Product</th>\n",
       "      <th>1</th>\n",
       "      <th>2</th>\n",
       "      <th>3</th>\n",
       "      <th>4</th>\n",
       "      <th>5</th>\n",
       "      <th>6</th>\n",
       "      <th>7</th>\n",
       "      <th>8</th>\n",
       "      <th>9</th>\n",
       "      <th>10</th>\n",
       "      <th>11</th>\n",
       "      <th>12</th>\n",
       "    </tr>\n",
       "  </thead>\n",
       "  <tbody>\n",
       "    <tr>\n",
       "      <th>0</th>\n",
       "      <td>phone</td>\n",
       "      <td>54</td>\n",
       "      <td>52</td>\n",
       "      <td>58</td>\n",
       "      <td>49</td>\n",
       "      <td>61</td>\n",
       "      <td>61</td>\n",
       "      <td>59</td>\n",
       "      <td>50</td>\n",
       "      <td>59</td>\n",
       "      <td>49</td>\n",
       "      <td>55</td>\n",
       "      <td>53</td>\n",
       "    </tr>\n",
       "    <tr>\n",
       "      <th>1</th>\n",
       "      <td>solar</td>\n",
       "      <td>55</td>\n",
       "      <td>37</td>\n",
       "      <td>45</td>\n",
       "      <td>45</td>\n",
       "      <td>60</td>\n",
       "      <td>48</td>\n",
       "      <td>50</td>\n",
       "      <td>68</td>\n",
       "      <td>52</td>\n",
       "      <td>58</td>\n",
       "      <td>61</td>\n",
       "      <td>68</td>\n",
       "    </tr>\n",
       "    <tr>\n",
       "      <th>2</th>\n",
       "      <td>tv</td>\n",
       "      <td>57</td>\n",
       "      <td>48</td>\n",
       "      <td>65</td>\n",
       "      <td>51</td>\n",
       "      <td>55</td>\n",
       "      <td>49</td>\n",
       "      <td>46</td>\n",
       "      <td>73</td>\n",
       "      <td>70</td>\n",
       "      <td>71</td>\n",
       "      <td>47</td>\n",
       "      <td>61</td>\n",
       "    </tr>\n",
       "  </tbody>\n",
       "</table>\n",
       "</div>"
      ],
      "text/plain": [
       "  Product   1   2   3   4   5   6   7   8   9  10  11  12\n",
       "0   phone  54  52  58  49  61  61  59  50  59  49  55  53\n",
       "1   solar  55  37  45  45  60  48  50  68  52  58  61  68\n",
       "2      tv  57  48  65  51  55  49  46  73  70  71  47  61"
      ]
     },
     "execution_count": 30,
     "metadata": {},
     "output_type": "execute_result"
    }
   ],
   "source": [
    "sum_prod_pivot"
   ]
  },
  {
   "cell_type": "markdown",
   "metadata": {},
   "source": [
    "TV was our best product in the year, it was our highest performing product for 6 months "
   ]
  },
  {
   "cell_type": "markdown",
   "metadata": {},
   "source": []
  },
  {
   "cell_type": "code",
   "execution_count": 31,
   "metadata": {},
   "outputs": [
    {
     "data": {
      "text/html": [
       "<div>\n",
       "<style scoped>\n",
       "    .dataframe tbody tr th:only-of-type {\n",
       "        vertical-align: middle;\n",
       "    }\n",
       "\n",
       "    .dataframe tbody tr th {\n",
       "        vertical-align: top;\n",
       "    }\n",
       "\n",
       "    .dataframe thead th {\n",
       "        text-align: right;\n",
       "    }\n",
       "</style>\n",
       "<table border=\"1\" class=\"dataframe\">\n",
       "  <thead>\n",
       "    <tr style=\"text-align: right;\">\n",
       "      <th></th>\n",
       "      <th>AccountId</th>\n",
       "      <th>RegistrationDate</th>\n",
       "      <th>CustomerId</th>\n",
       "      <th>PaymentPlanId</th>\n",
       "      <th>FullName</th>\n",
       "      <th>Region</th>\n",
       "      <th>Month</th>\n",
       "      <th>Year</th>\n",
       "      <th>Product</th>\n",
       "      <th>Deposit</th>\n",
       "      <th>TotalValue</th>\n",
       "    </tr>\n",
       "  </thead>\n",
       "  <tbody>\n",
       "    <tr>\n",
       "      <th>866</th>\n",
       "      <td>6717</td>\n",
       "      <td>2020-06-07</td>\n",
       "      <td>1261</td>\n",
       "      <td>44</td>\n",
       "      <td>Victor Nyakwea</td>\n",
       "      <td>nairobi</td>\n",
       "      <td>6</td>\n",
       "      <td>2020</td>\n",
       "      <td>tv</td>\n",
       "      <td>1100</td>\n",
       "      <td>17600</td>\n",
       "    </tr>\n",
       "  </tbody>\n",
       "</table>\n",
       "</div>"
      ],
      "text/plain": [
       "     AccountId RegistrationDate  CustomerId  PaymentPlanId        FullName  \\\n",
       "866       6717       2020-06-07        1261             44  Victor Nyakwea   \n",
       "\n",
       "      Region  Month  Year Product  Deposit  TotalValue  \n",
       "866  nairobi      6  2020      tv     1100       17600  "
      ]
     },
     "execution_count": 31,
     "metadata": {},
     "output_type": "execute_result"
    }
   ],
   "source": [
    "df_Account_upd[df_Account_upd['AccountId']==6717]"
   ]
  },
  {
   "cell_type": "code",
   "execution_count": 32,
   "metadata": {},
   "outputs": [
    {
     "data": {
      "text/html": [
       "<div>\n",
       "<style scoped>\n",
       "    .dataframe tbody tr th:only-of-type {\n",
       "        vertical-align: middle;\n",
       "    }\n",
       "\n",
       "    .dataframe tbody tr th {\n",
       "        vertical-align: top;\n",
       "    }\n",
       "\n",
       "    .dataframe thead th {\n",
       "        text-align: right;\n",
       "    }\n",
       "</style>\n",
       "<table border=\"1\" class=\"dataframe\">\n",
       "  <thead>\n",
       "    <tr style=\"text-align: right;\">\n",
       "      <th></th>\n",
       "      <th>PaymentId</th>\n",
       "      <th>Amount</th>\n",
       "      <th>ReceivedWhen</th>\n",
       "      <th>AccountId</th>\n",
       "      <th>PaymentType</th>\n",
       "    </tr>\n",
       "  </thead>\n",
       "  <tbody>\n",
       "    <tr>\n",
       "      <th>0</th>\n",
       "      <td>1000</td>\n",
       "      <td>125.960784</td>\n",
       "      <td>2020-09-13</td>\n",
       "      <td>6717</td>\n",
       "      <td>DailyPayment</td>\n",
       "    </tr>\n",
       "    <tr>\n",
       "      <th>4863</th>\n",
       "      <td>10715</td>\n",
       "      <td>125.960784</td>\n",
       "      <td>2020-09-25</td>\n",
       "      <td>6717</td>\n",
       "      <td>DailyPayment</td>\n",
       "    </tr>\n",
       "    <tr>\n",
       "      <th>4931</th>\n",
       "      <td>10850</td>\n",
       "      <td>125.960784</td>\n",
       "      <td>2021-03-18</td>\n",
       "      <td>6717</td>\n",
       "      <td>DailyPayment</td>\n",
       "    </tr>\n",
       "    <tr>\n",
       "      <th>5642</th>\n",
       "      <td>12360</td>\n",
       "      <td>125.960784</td>\n",
       "      <td>2020-06-14</td>\n",
       "      <td>6717</td>\n",
       "      <td>DailyPayment</td>\n",
       "    </tr>\n",
       "    <tr>\n",
       "      <th>5701</th>\n",
       "      <td>12501</td>\n",
       "      <td>125.960784</td>\n",
       "      <td>2020-07-28</td>\n",
       "      <td>6717</td>\n",
       "      <td>DailyPayment</td>\n",
       "    </tr>\n",
       "    <tr>\n",
       "      <th>...</th>\n",
       "      <td>...</td>\n",
       "      <td>...</td>\n",
       "      <td>...</td>\n",
       "      <td>...</td>\n",
       "      <td>...</td>\n",
       "    </tr>\n",
       "    <tr>\n",
       "      <th>224284</th>\n",
       "      <td>449526</td>\n",
       "      <td>125.960784</td>\n",
       "      <td>2020-07-04</td>\n",
       "      <td>6717</td>\n",
       "      <td>DailyPayment</td>\n",
       "    </tr>\n",
       "    <tr>\n",
       "      <th>224334</th>\n",
       "      <td>449631</td>\n",
       "      <td>125.960784</td>\n",
       "      <td>2020-08-29</td>\n",
       "      <td>6717</td>\n",
       "      <td>DailyPayment</td>\n",
       "    </tr>\n",
       "    <tr>\n",
       "      <th>230786</th>\n",
       "      <td>462542</td>\n",
       "      <td>125.960784</td>\n",
       "      <td>2020-11-13</td>\n",
       "      <td>6717</td>\n",
       "      <td>DailyPayment</td>\n",
       "    </tr>\n",
       "    <tr>\n",
       "      <th>231123</th>\n",
       "      <td>463226</td>\n",
       "      <td>125.960784</td>\n",
       "      <td>2020-11-27</td>\n",
       "      <td>6717</td>\n",
       "      <td>DailyPayment</td>\n",
       "    </tr>\n",
       "    <tr>\n",
       "      <th>231569</th>\n",
       "      <td>464126</td>\n",
       "      <td>125.960784</td>\n",
       "      <td>2020-07-31</td>\n",
       "      <td>6717</td>\n",
       "      <td>DailyPayment</td>\n",
       "    </tr>\n",
       "  </tbody>\n",
       "</table>\n",
       "<p>100 rows × 5 columns</p>\n",
       "</div>"
      ],
      "text/plain": [
       "        PaymentId      Amount ReceivedWhen  AccountId   PaymentType\n",
       "0            1000  125.960784   2020-09-13       6717  DailyPayment\n",
       "4863        10715  125.960784   2020-09-25       6717  DailyPayment\n",
       "4931        10850  125.960784   2021-03-18       6717  DailyPayment\n",
       "5642        12360  125.960784   2020-06-14       6717  DailyPayment\n",
       "5701        12501  125.960784   2020-07-28       6717  DailyPayment\n",
       "...           ...         ...          ...        ...           ...\n",
       "224284     449526  125.960784   2020-07-04       6717  DailyPayment\n",
       "224334     449631  125.960784   2020-08-29       6717  DailyPayment\n",
       "230786     462542  125.960784   2020-11-13       6717  DailyPayment\n",
       "231123     463226  125.960784   2020-11-27       6717  DailyPayment\n",
       "231569     464126  125.960784   2020-07-31       6717  DailyPayment\n",
       "\n",
       "[100 rows x 5 columns]"
      ]
     },
     "execution_count": 32,
     "metadata": {},
     "output_type": "execute_result"
    }
   ],
   "source": [
    "df_Payment[df_Payment['AccountId']==6717]"
   ]
  },
  {
   "cell_type": "markdown",
   "metadata": {},
   "source": [
    "## Regional Break Down"
   ]
  },
  {
   "cell_type": "code",
   "execution_count": 33,
   "metadata": {},
   "outputs": [
    {
     "data": {
      "text/html": [
       "<div>\n",
       "<style scoped>\n",
       "    .dataframe tbody tr th:only-of-type {\n",
       "        vertical-align: middle;\n",
       "    }\n",
       "\n",
       "    .dataframe tbody tr th {\n",
       "        vertical-align: top;\n",
       "    }\n",
       "\n",
       "    .dataframe thead th {\n",
       "        text-align: right;\n",
       "    }\n",
       "</style>\n",
       "<table border=\"1\" class=\"dataframe\">\n",
       "  <thead>\n",
       "    <tr style=\"text-align: right;\">\n",
       "      <th></th>\n",
       "      <th>AccountId</th>\n",
       "      <th>RegistrationDate</th>\n",
       "      <th>CustomerId</th>\n",
       "      <th>PaymentPlanId</th>\n",
       "      <th>FullName</th>\n",
       "      <th>Region</th>\n",
       "      <th>Month</th>\n",
       "      <th>Year</th>\n",
       "      <th>Product</th>\n",
       "      <th>Deposit</th>\n",
       "      <th>TotalValue</th>\n",
       "    </tr>\n",
       "  </thead>\n",
       "  <tbody>\n",
       "    <tr>\n",
       "      <th>0</th>\n",
       "      <td>5000</td>\n",
       "      <td>2020-03-30</td>\n",
       "      <td>4720</td>\n",
       "      <td>63</td>\n",
       "      <td>Michael Mbori</td>\n",
       "      <td>nairobi</td>\n",
       "      <td>3</td>\n",
       "      <td>2020</td>\n",
       "      <td>phone</td>\n",
       "      <td>250</td>\n",
       "      <td>7750</td>\n",
       "    </tr>\n",
       "    <tr>\n",
       "      <th>1</th>\n",
       "      <td>5002</td>\n",
       "      <td>2020-06-06</td>\n",
       "      <td>2674</td>\n",
       "      <td>63</td>\n",
       "      <td>Titus Mbori</td>\n",
       "      <td>kisumu</td>\n",
       "      <td>6</td>\n",
       "      <td>2020</td>\n",
       "      <td>phone</td>\n",
       "      <td>250</td>\n",
       "      <td>7750</td>\n",
       "    </tr>\n",
       "    <tr>\n",
       "      <th>2</th>\n",
       "      <td>5003</td>\n",
       "      <td>2020-02-28</td>\n",
       "      <td>2495</td>\n",
       "      <td>69</td>\n",
       "      <td>Mercy Warimu</td>\n",
       "      <td>mombasa</td>\n",
       "      <td>2</td>\n",
       "      <td>2020</td>\n",
       "      <td>tv</td>\n",
       "      <td>1375</td>\n",
       "      <td>23375</td>\n",
       "    </tr>\n",
       "    <tr>\n",
       "      <th>3</th>\n",
       "      <td>5007</td>\n",
       "      <td>2020-02-20</td>\n",
       "      <td>1749</td>\n",
       "      <td>37</td>\n",
       "      <td>Frank Lwoyelo</td>\n",
       "      <td>mombasa</td>\n",
       "      <td>2</td>\n",
       "      <td>2020</td>\n",
       "      <td>solar</td>\n",
       "      <td>675</td>\n",
       "      <td>9675</td>\n",
       "    </tr>\n",
       "    <tr>\n",
       "      <th>4</th>\n",
       "      <td>5010</td>\n",
       "      <td>2020-09-03</td>\n",
       "      <td>2905</td>\n",
       "      <td>20</td>\n",
       "      <td>Titus Mbori</td>\n",
       "      <td>nairobi</td>\n",
       "      <td>9</td>\n",
       "      <td>2020</td>\n",
       "      <td>solar</td>\n",
       "      <td>1625</td>\n",
       "      <td>27625</td>\n",
       "    </tr>\n",
       "    <tr>\n",
       "      <th>...</th>\n",
       "      <td>...</td>\n",
       "      <td>...</td>\n",
       "      <td>...</td>\n",
       "      <td>...</td>\n",
       "      <td>...</td>\n",
       "      <td>...</td>\n",
       "      <td>...</td>\n",
       "      <td>...</td>\n",
       "      <td>...</td>\n",
       "      <td>...</td>\n",
       "      <td>...</td>\n",
       "    </tr>\n",
       "    <tr>\n",
       "      <th>1995</th>\n",
       "      <td>8991</td>\n",
       "      <td>2020-04-06</td>\n",
       "      <td>3149</td>\n",
       "      <td>46</td>\n",
       "      <td>Mercy Warimu</td>\n",
       "      <td>mombasa</td>\n",
       "      <td>4</td>\n",
       "      <td>2020</td>\n",
       "      <td>tv</td>\n",
       "      <td>1125</td>\n",
       "      <td>23625</td>\n",
       "    </tr>\n",
       "    <tr>\n",
       "      <th>1996</th>\n",
       "      <td>8993</td>\n",
       "      <td>2020-10-14</td>\n",
       "      <td>4106</td>\n",
       "      <td>44</td>\n",
       "      <td>Nancy Warimu</td>\n",
       "      <td>nairobi</td>\n",
       "      <td>10</td>\n",
       "      <td>2020</td>\n",
       "      <td>tv</td>\n",
       "      <td>1100</td>\n",
       "      <td>17600</td>\n",
       "    </tr>\n",
       "    <tr>\n",
       "      <th>1997</th>\n",
       "      <td>8994</td>\n",
       "      <td>2020-04-23</td>\n",
       "      <td>2127</td>\n",
       "      <td>51</td>\n",
       "      <td>Frank Lwoyelo</td>\n",
       "      <td>nairobi</td>\n",
       "      <td>4</td>\n",
       "      <td>2020</td>\n",
       "      <td>tv</td>\n",
       "      <td>975</td>\n",
       "      <td>13975</td>\n",
       "    </tr>\n",
       "    <tr>\n",
       "      <th>1998</th>\n",
       "      <td>8996</td>\n",
       "      <td>2020-06-26</td>\n",
       "      <td>3162</td>\n",
       "      <td>49</td>\n",
       "      <td>Dorcas Chocho</td>\n",
       "      <td>nairobi</td>\n",
       "      <td>6</td>\n",
       "      <td>2020</td>\n",
       "      <td>solar</td>\n",
       "      <td>900</td>\n",
       "      <td>18900</td>\n",
       "    </tr>\n",
       "    <tr>\n",
       "      <th>1999</th>\n",
       "      <td>8999</td>\n",
       "      <td>2020-12-18</td>\n",
       "      <td>4561</td>\n",
       "      <td>59</td>\n",
       "      <td>Anthony Muguku</td>\n",
       "      <td>mombasa</td>\n",
       "      <td>12</td>\n",
       "      <td>2020</td>\n",
       "      <td>phone</td>\n",
       "      <td>300</td>\n",
       "      <td>6300</td>\n",
       "    </tr>\n",
       "  </tbody>\n",
       "</table>\n",
       "<p>2000 rows × 11 columns</p>\n",
       "</div>"
      ],
      "text/plain": [
       "      AccountId RegistrationDate  CustomerId  PaymentPlanId        FullName  \\\n",
       "0          5000       2020-03-30        4720             63   Michael Mbori   \n",
       "1          5002       2020-06-06        2674             63     Titus Mbori   \n",
       "2          5003       2020-02-28        2495             69    Mercy Warimu   \n",
       "3          5007       2020-02-20        1749             37   Frank Lwoyelo   \n",
       "4          5010       2020-09-03        2905             20     Titus Mbori   \n",
       "...         ...              ...         ...            ...             ...   \n",
       "1995       8991       2020-04-06        3149             46    Mercy Warimu   \n",
       "1996       8993       2020-10-14        4106             44    Nancy Warimu   \n",
       "1997       8994       2020-04-23        2127             51   Frank Lwoyelo   \n",
       "1998       8996       2020-06-26        3162             49   Dorcas Chocho   \n",
       "1999       8999       2020-12-18        4561             59  Anthony Muguku   \n",
       "\n",
       "       Region  Month  Year Product  Deposit  TotalValue  \n",
       "0     nairobi      3  2020   phone      250        7750  \n",
       "1      kisumu      6  2020   phone      250        7750  \n",
       "2     mombasa      2  2020      tv     1375       23375  \n",
       "3     mombasa      2  2020   solar      675        9675  \n",
       "4     nairobi      9  2020   solar     1625       27625  \n",
       "...       ...    ...   ...     ...      ...         ...  \n",
       "1995  mombasa      4  2020      tv     1125       23625  \n",
       "1996  nairobi     10  2020      tv     1100       17600  \n",
       "1997  nairobi      4  2020      tv      975       13975  \n",
       "1998  nairobi      6  2020   solar      900       18900  \n",
       "1999  mombasa     12  2020   phone      300        6300  \n",
       "\n",
       "[2000 rows x 11 columns]"
      ]
     },
     "execution_count": 33,
     "metadata": {},
     "output_type": "execute_result"
    }
   ],
   "source": [
    "df_Account_upd"
   ]
  },
  {
   "cell_type": "code",
   "execution_count": 34,
   "metadata": {},
   "outputs": [
    {
     "data": {
      "text/html": [
       "<div>\n",
       "<style scoped>\n",
       "    .dataframe tbody tr th:only-of-type {\n",
       "        vertical-align: middle;\n",
       "    }\n",
       "\n",
       "    .dataframe tbody tr th {\n",
       "        vertical-align: top;\n",
       "    }\n",
       "\n",
       "    .dataframe thead th {\n",
       "        text-align: right;\n",
       "    }\n",
       "</style>\n",
       "<table border=\"1\" class=\"dataframe\">\n",
       "  <thead>\n",
       "    <tr style=\"text-align: right;\">\n",
       "      <th></th>\n",
       "      <th>Region</th>\n",
       "      <th>AccountId</th>\n",
       "    </tr>\n",
       "  </thead>\n",
       "  <tbody>\n",
       "    <tr>\n",
       "      <th>0</th>\n",
       "      <td>kisumu</td>\n",
       "      <td>667</td>\n",
       "    </tr>\n",
       "    <tr>\n",
       "      <th>1</th>\n",
       "      <td>mombasa</td>\n",
       "      <td>666</td>\n",
       "    </tr>\n",
       "    <tr>\n",
       "      <th>2</th>\n",
       "      <td>nairobi</td>\n",
       "      <td>667</td>\n",
       "    </tr>\n",
       "  </tbody>\n",
       "</table>\n",
       "</div>"
      ],
      "text/plain": [
       "    Region  AccountId\n",
       "0   kisumu        667\n",
       "1  mombasa        666\n",
       "2  nairobi        667"
      ]
     },
     "execution_count": 34,
     "metadata": {},
     "output_type": "execute_result"
    }
   ],
   "source": [
    "df_Account_upd.groupby(['Region']).agg({'AccountId':'count'}).reset_index()"
   ]
  },
  {
   "cell_type": "markdown",
   "metadata": {},
   "source": [
    "Customers accross region is well distributed across various regions"
   ]
  },
  {
   "cell_type": "markdown",
   "metadata": {},
   "source": []
  },
  {
   "cell_type": "code",
   "execution_count": 35,
   "metadata": {},
   "outputs": [
    {
     "data": {
      "application/vnd.plotly.v1+json": {
       "config": {
        "plotlyServerURL": "https://plot.ly"
       },
       "data": [
        {
         "hovertemplate": "Region=kisumu<br>Month=%{x}<br>AccountId=%{y}<extra></extra>",
         "legendgroup": "kisumu",
         "line": {
          "color": "#636efa",
          "dash": "solid"
         },
         "marker": {
          "symbol": "circle"
         },
         "mode": "lines",
         "name": "kisumu",
         "orientation": "v",
         "showlegend": true,
         "type": "scatter",
         "x": {
          "bdata": "AQAAAAIAAAADAAAABAAAAAUAAAAGAAAABwAAAAgAAAAJAAAACgAAAAsAAAAMAAAA",
          "dtype": "i4"
         },
         "xaxis": "x",
         "y": {
          "bdata": "OS5BMTUqNUUzNEg6",
          "dtype": "i1"
         },
         "yaxis": "y"
        },
        {
         "hovertemplate": "Region=mombasa<br>Month=%{x}<br>AccountId=%{y}<extra></extra>",
         "legendgroup": "mombasa",
         "line": {
          "color": "#EF553B",
          "dash": "solid"
         },
         "marker": {
          "symbol": "circle"
         },
         "mode": "lines",
         "name": "mombasa",
         "orientation": "v",
         "showlegend": true,
         "type": "scatter",
         "x": {
          "bdata": "AQAAAAIAAAADAAAABAAAAAUAAAAGAAAABwAAAAgAAAAJAAAACgAAAAsAAAAMAAAA",
          "dtype": "i4"
         },
         "xaxis": "x",
         "y": {
          "bdata": "NS80MTs7MDxGPDA9",
          "dtype": "i1"
         },
         "yaxis": "y"
        },
        {
         "hovertemplate": "Region=nairobi<br>Month=%{x}<br>AccountId=%{y}<extra></extra>",
         "legendgroup": "nairobi",
         "line": {
          "color": "#00cc96",
          "dash": "solid"
         },
         "marker": {
          "symbol": "circle"
         },
         "mode": "lines",
         "name": "nairobi",
         "orientation": "v",
         "showlegend": true,
         "type": "scatter",
         "x": {
          "bdata": "AQAAAAIAAAADAAAABAAAAAUAAAAGAAAABwAAAAgAAAAJAAAACgAAAAsAAAAMAAAA",
          "dtype": "i4"
         },
         "xaxis": "x",
         "y": {
          "bdata": "OCwzL0A5Nj48Qis/",
          "dtype": "i1"
         },
         "yaxis": "y"
        }
       ],
       "layout": {
        "legend": {
         "title": {
          "text": "Region"
         },
         "tracegroupgap": 0
        },
        "template": {
         "data": {
          "bar": [
           {
            "error_x": {
             "color": "#2a3f5f"
            },
            "error_y": {
             "color": "#2a3f5f"
            },
            "marker": {
             "line": {
              "color": "#E5ECF6",
              "width": 0.5
             },
             "pattern": {
              "fillmode": "overlay",
              "size": 10,
              "solidity": 0.2
             }
            },
            "type": "bar"
           }
          ],
          "barpolar": [
           {
            "marker": {
             "line": {
              "color": "#E5ECF6",
              "width": 0.5
             },
             "pattern": {
              "fillmode": "overlay",
              "size": 10,
              "solidity": 0.2
             }
            },
            "type": "barpolar"
           }
          ],
          "carpet": [
           {
            "aaxis": {
             "endlinecolor": "#2a3f5f",
             "gridcolor": "white",
             "linecolor": "white",
             "minorgridcolor": "white",
             "startlinecolor": "#2a3f5f"
            },
            "baxis": {
             "endlinecolor": "#2a3f5f",
             "gridcolor": "white",
             "linecolor": "white",
             "minorgridcolor": "white",
             "startlinecolor": "#2a3f5f"
            },
            "type": "carpet"
           }
          ],
          "choropleth": [
           {
            "colorbar": {
             "outlinewidth": 0,
             "ticks": ""
            },
            "type": "choropleth"
           }
          ],
          "contour": [
           {
            "colorbar": {
             "outlinewidth": 0,
             "ticks": ""
            },
            "colorscale": [
             [
              0,
              "#0d0887"
             ],
             [
              0.1111111111111111,
              "#46039f"
             ],
             [
              0.2222222222222222,
              "#7201a8"
             ],
             [
              0.3333333333333333,
              "#9c179e"
             ],
             [
              0.4444444444444444,
              "#bd3786"
             ],
             [
              0.5555555555555556,
              "#d8576b"
             ],
             [
              0.6666666666666666,
              "#ed7953"
             ],
             [
              0.7777777777777778,
              "#fb9f3a"
             ],
             [
              0.8888888888888888,
              "#fdca26"
             ],
             [
              1,
              "#f0f921"
             ]
            ],
            "type": "contour"
           }
          ],
          "contourcarpet": [
           {
            "colorbar": {
             "outlinewidth": 0,
             "ticks": ""
            },
            "type": "contourcarpet"
           }
          ],
          "heatmap": [
           {
            "colorbar": {
             "outlinewidth": 0,
             "ticks": ""
            },
            "colorscale": [
             [
              0,
              "#0d0887"
             ],
             [
              0.1111111111111111,
              "#46039f"
             ],
             [
              0.2222222222222222,
              "#7201a8"
             ],
             [
              0.3333333333333333,
              "#9c179e"
             ],
             [
              0.4444444444444444,
              "#bd3786"
             ],
             [
              0.5555555555555556,
              "#d8576b"
             ],
             [
              0.6666666666666666,
              "#ed7953"
             ],
             [
              0.7777777777777778,
              "#fb9f3a"
             ],
             [
              0.8888888888888888,
              "#fdca26"
             ],
             [
              1,
              "#f0f921"
             ]
            ],
            "type": "heatmap"
           }
          ],
          "histogram": [
           {
            "marker": {
             "pattern": {
              "fillmode": "overlay",
              "size": 10,
              "solidity": 0.2
             }
            },
            "type": "histogram"
           }
          ],
          "histogram2d": [
           {
            "colorbar": {
             "outlinewidth": 0,
             "ticks": ""
            },
            "colorscale": [
             [
              0,
              "#0d0887"
             ],
             [
              0.1111111111111111,
              "#46039f"
             ],
             [
              0.2222222222222222,
              "#7201a8"
             ],
             [
              0.3333333333333333,
              "#9c179e"
             ],
             [
              0.4444444444444444,
              "#bd3786"
             ],
             [
              0.5555555555555556,
              "#d8576b"
             ],
             [
              0.6666666666666666,
              "#ed7953"
             ],
             [
              0.7777777777777778,
              "#fb9f3a"
             ],
             [
              0.8888888888888888,
              "#fdca26"
             ],
             [
              1,
              "#f0f921"
             ]
            ],
            "type": "histogram2d"
           }
          ],
          "histogram2dcontour": [
           {
            "colorbar": {
             "outlinewidth": 0,
             "ticks": ""
            },
            "colorscale": [
             [
              0,
              "#0d0887"
             ],
             [
              0.1111111111111111,
              "#46039f"
             ],
             [
              0.2222222222222222,
              "#7201a8"
             ],
             [
              0.3333333333333333,
              "#9c179e"
             ],
             [
              0.4444444444444444,
              "#bd3786"
             ],
             [
              0.5555555555555556,
              "#d8576b"
             ],
             [
              0.6666666666666666,
              "#ed7953"
             ],
             [
              0.7777777777777778,
              "#fb9f3a"
             ],
             [
              0.8888888888888888,
              "#fdca26"
             ],
             [
              1,
              "#f0f921"
             ]
            ],
            "type": "histogram2dcontour"
           }
          ],
          "mesh3d": [
           {
            "colorbar": {
             "outlinewidth": 0,
             "ticks": ""
            },
            "type": "mesh3d"
           }
          ],
          "parcoords": [
           {
            "line": {
             "colorbar": {
              "outlinewidth": 0,
              "ticks": ""
             }
            },
            "type": "parcoords"
           }
          ],
          "pie": [
           {
            "automargin": true,
            "type": "pie"
           }
          ],
          "scatter": [
           {
            "fillpattern": {
             "fillmode": "overlay",
             "size": 10,
             "solidity": 0.2
            },
            "type": "scatter"
           }
          ],
          "scatter3d": [
           {
            "line": {
             "colorbar": {
              "outlinewidth": 0,
              "ticks": ""
             }
            },
            "marker": {
             "colorbar": {
              "outlinewidth": 0,
              "ticks": ""
             }
            },
            "type": "scatter3d"
           }
          ],
          "scattercarpet": [
           {
            "marker": {
             "colorbar": {
              "outlinewidth": 0,
              "ticks": ""
             }
            },
            "type": "scattercarpet"
           }
          ],
          "scattergeo": [
           {
            "marker": {
             "colorbar": {
              "outlinewidth": 0,
              "ticks": ""
             }
            },
            "type": "scattergeo"
           }
          ],
          "scattergl": [
           {
            "marker": {
             "colorbar": {
              "outlinewidth": 0,
              "ticks": ""
             }
            },
            "type": "scattergl"
           }
          ],
          "scattermap": [
           {
            "marker": {
             "colorbar": {
              "outlinewidth": 0,
              "ticks": ""
             }
            },
            "type": "scattermap"
           }
          ],
          "scattermapbox": [
           {
            "marker": {
             "colorbar": {
              "outlinewidth": 0,
              "ticks": ""
             }
            },
            "type": "scattermapbox"
           }
          ],
          "scatterpolar": [
           {
            "marker": {
             "colorbar": {
              "outlinewidth": 0,
              "ticks": ""
             }
            },
            "type": "scatterpolar"
           }
          ],
          "scatterpolargl": [
           {
            "marker": {
             "colorbar": {
              "outlinewidth": 0,
              "ticks": ""
             }
            },
            "type": "scatterpolargl"
           }
          ],
          "scatterternary": [
           {
            "marker": {
             "colorbar": {
              "outlinewidth": 0,
              "ticks": ""
             }
            },
            "type": "scatterternary"
           }
          ],
          "surface": [
           {
            "colorbar": {
             "outlinewidth": 0,
             "ticks": ""
            },
            "colorscale": [
             [
              0,
              "#0d0887"
             ],
             [
              0.1111111111111111,
              "#46039f"
             ],
             [
              0.2222222222222222,
              "#7201a8"
             ],
             [
              0.3333333333333333,
              "#9c179e"
             ],
             [
              0.4444444444444444,
              "#bd3786"
             ],
             [
              0.5555555555555556,
              "#d8576b"
             ],
             [
              0.6666666666666666,
              "#ed7953"
             ],
             [
              0.7777777777777778,
              "#fb9f3a"
             ],
             [
              0.8888888888888888,
              "#fdca26"
             ],
             [
              1,
              "#f0f921"
             ]
            ],
            "type": "surface"
           }
          ],
          "table": [
           {
            "cells": {
             "fill": {
              "color": "#EBF0F8"
             },
             "line": {
              "color": "white"
             }
            },
            "header": {
             "fill": {
              "color": "#C8D4E3"
             },
             "line": {
              "color": "white"
             }
            },
            "type": "table"
           }
          ]
         },
         "layout": {
          "annotationdefaults": {
           "arrowcolor": "#2a3f5f",
           "arrowhead": 0,
           "arrowwidth": 1
          },
          "autotypenumbers": "strict",
          "coloraxis": {
           "colorbar": {
            "outlinewidth": 0,
            "ticks": ""
           }
          },
          "colorscale": {
           "diverging": [
            [
             0,
             "#8e0152"
            ],
            [
             0.1,
             "#c51b7d"
            ],
            [
             0.2,
             "#de77ae"
            ],
            [
             0.3,
             "#f1b6da"
            ],
            [
             0.4,
             "#fde0ef"
            ],
            [
             0.5,
             "#f7f7f7"
            ],
            [
             0.6,
             "#e6f5d0"
            ],
            [
             0.7,
             "#b8e186"
            ],
            [
             0.8,
             "#7fbc41"
            ],
            [
             0.9,
             "#4d9221"
            ],
            [
             1,
             "#276419"
            ]
           ],
           "sequential": [
            [
             0,
             "#0d0887"
            ],
            [
             0.1111111111111111,
             "#46039f"
            ],
            [
             0.2222222222222222,
             "#7201a8"
            ],
            [
             0.3333333333333333,
             "#9c179e"
            ],
            [
             0.4444444444444444,
             "#bd3786"
            ],
            [
             0.5555555555555556,
             "#d8576b"
            ],
            [
             0.6666666666666666,
             "#ed7953"
            ],
            [
             0.7777777777777778,
             "#fb9f3a"
            ],
            [
             0.8888888888888888,
             "#fdca26"
            ],
            [
             1,
             "#f0f921"
            ]
           ],
           "sequentialminus": [
            [
             0,
             "#0d0887"
            ],
            [
             0.1111111111111111,
             "#46039f"
            ],
            [
             0.2222222222222222,
             "#7201a8"
            ],
            [
             0.3333333333333333,
             "#9c179e"
            ],
            [
             0.4444444444444444,
             "#bd3786"
            ],
            [
             0.5555555555555556,
             "#d8576b"
            ],
            [
             0.6666666666666666,
             "#ed7953"
            ],
            [
             0.7777777777777778,
             "#fb9f3a"
            ],
            [
             0.8888888888888888,
             "#fdca26"
            ],
            [
             1,
             "#f0f921"
            ]
           ]
          },
          "colorway": [
           "#636efa",
           "#EF553B",
           "#00cc96",
           "#ab63fa",
           "#FFA15A",
           "#19d3f3",
           "#FF6692",
           "#B6E880",
           "#FF97FF",
           "#FECB52"
          ],
          "font": {
           "color": "#2a3f5f"
          },
          "geo": {
           "bgcolor": "white",
           "lakecolor": "white",
           "landcolor": "#E5ECF6",
           "showlakes": true,
           "showland": true,
           "subunitcolor": "white"
          },
          "hoverlabel": {
           "align": "left"
          },
          "hovermode": "closest",
          "mapbox": {
           "style": "light"
          },
          "paper_bgcolor": "white",
          "plot_bgcolor": "#E5ECF6",
          "polar": {
           "angularaxis": {
            "gridcolor": "white",
            "linecolor": "white",
            "ticks": ""
           },
           "bgcolor": "#E5ECF6",
           "radialaxis": {
            "gridcolor": "white",
            "linecolor": "white",
            "ticks": ""
           }
          },
          "scene": {
           "xaxis": {
            "backgroundcolor": "#E5ECF6",
            "gridcolor": "white",
            "gridwidth": 2,
            "linecolor": "white",
            "showbackground": true,
            "ticks": "",
            "zerolinecolor": "white"
           },
           "yaxis": {
            "backgroundcolor": "#E5ECF6",
            "gridcolor": "white",
            "gridwidth": 2,
            "linecolor": "white",
            "showbackground": true,
            "ticks": "",
            "zerolinecolor": "white"
           },
           "zaxis": {
            "backgroundcolor": "#E5ECF6",
            "gridcolor": "white",
            "gridwidth": 2,
            "linecolor": "white",
            "showbackground": true,
            "ticks": "",
            "zerolinecolor": "white"
           }
          },
          "shapedefaults": {
           "line": {
            "color": "#2a3f5f"
           }
          },
          "ternary": {
           "aaxis": {
            "gridcolor": "white",
            "linecolor": "white",
            "ticks": ""
           },
           "baxis": {
            "gridcolor": "white",
            "linecolor": "white",
            "ticks": ""
           },
           "bgcolor": "#E5ECF6",
           "caxis": {
            "gridcolor": "white",
            "linecolor": "white",
            "ticks": ""
           }
          },
          "title": {
           "x": 0.05
          },
          "xaxis": {
           "automargin": true,
           "gridcolor": "white",
           "linecolor": "white",
           "ticks": "",
           "title": {
            "standoff": 15
           },
           "zerolinecolor": "white",
           "zerolinewidth": 2
          },
          "yaxis": {
           "automargin": true,
           "gridcolor": "white",
           "linecolor": "white",
           "ticks": "",
           "title": {
            "standoff": 15
           },
           "zerolinecolor": "white",
           "zerolinewidth": 2
          }
         }
        },
        "title": {
         "text": "Customer Regional per Month",
         "x": 0.5
        },
        "xaxis": {
         "anchor": "y",
         "domain": [
          0,
          1
         ],
         "title": {
          "text": "Month"
         }
        },
        "yaxis": {
         "anchor": "x",
         "domain": [
          0,
          1
         ],
         "title": {
          "text": "Count of Customers"
         }
        }
       }
      }
     },
     "metadata": {},
     "output_type": "display_data"
    }
   ],
   "source": [
    "Reg_summ=df_Account_upd.groupby(['Region','Month']).agg({'AccountId': 'count'}).reset_index()\n",
    "\n",
    "\n",
    "fig=px.line(Reg_summ,x='Month',y='AccountId',color='Region',title='Customer Regional per Month')\n",
    "fig.update_layout(\n",
    "    title=\"Customer Regional per Month\",\n",
    "    xaxis_title='Month',\n",
    "    yaxis_title='Count of Customers',\n",
    "    title_x=0.5\n",
    "\n",
    ")"
   ]
  },
  {
   "cell_type": "code",
   "execution_count": 36,
   "metadata": {},
   "outputs": [],
   "source": [
    "Reg_summ_prod=df_Account_upd.groupby(['Region','Month','Product']).agg({'AccountId': 'count'}).reset_index()\n",
    "\n",
    "\n",
    "Reg_summ_prod['Region_Product']=Reg_summ_prod['Region']+\"-\"+Reg_summ_prod['Product']"
   ]
  },
  {
   "cell_type": "code",
   "execution_count": 37,
   "metadata": {},
   "outputs": [
    {
     "data": {
      "application/vnd.plotly.v1+json": {
       "config": {
        "plotlyServerURL": "https://plot.ly"
       },
       "data": [
        {
         "hovertemplate": "Region_Product=kisumu-phone<br>Month=%{x}<br>AccountId=%{y}<extra></extra>",
         "legendgroup": "kisumu-phone",
         "line": {
          "color": "#636efa",
          "dash": "solid"
         },
         "marker": {
          "symbol": "circle"
         },
         "mode": "lines",
         "name": "kisumu-phone",
         "orientation": "v",
         "showlegend": true,
         "type": "scatter",
         "x": {
          "bdata": "AQAAAAIAAAADAAAABAAAAAUAAAAGAAAABwAAAAgAAAAJAAAACgAAAAsAAAAMAAAA",
          "dtype": "i4"
         },
         "xaxis": "x",
         "y": {
          "bdata": "DxMTDxMQEBASChsQ",
          "dtype": "i1"
         },
         "yaxis": "y"
        },
        {
         "hovertemplate": "Region_Product=kisumu-solar<br>Month=%{x}<br>AccountId=%{y}<extra></extra>",
         "legendgroup": "kisumu-solar",
         "line": {
          "color": "#EF553B",
          "dash": "solid"
         },
         "marker": {
          "symbol": "circle"
         },
         "mode": "lines",
         "name": "kisumu-solar",
         "orientation": "v",
         "showlegend": true,
         "type": "scatter",
         "x": {
          "bdata": "AQAAAAIAAAADAAAABAAAAAUAAAAGAAAABwAAAAgAAAAJAAAACgAAAAsAAAAMAAAA",
          "dtype": "i4"
         },
         "xaxis": "x",
         "y": {
          "bdata": "FA0XEBEOExsNExcX",
          "dtype": "i1"
         },
         "yaxis": "y"
        },
        {
         "hovertemplate": "Region_Product=kisumu-tv<br>Month=%{x}<br>AccountId=%{y}<extra></extra>",
         "legendgroup": "kisumu-tv",
         "line": {
          "color": "#00cc96",
          "dash": "solid"
         },
         "marker": {
          "symbol": "circle"
         },
         "mode": "lines",
         "name": "kisumu-tv",
         "orientation": "v",
         "showlegend": true,
         "type": "scatter",
         "x": {
          "bdata": "AQAAAAIAAAADAAAABAAAAAUAAAAGAAAABwAAAAgAAAAJAAAACgAAAAsAAAAMAAAA",
          "dtype": "i4"
         },
         "xaxis": "x",
         "y": {
          "bdata": "Fg4XEhEMEhoUFxYT",
          "dtype": "i1"
         },
         "yaxis": "y"
        },
        {
         "hovertemplate": "Region_Product=mombasa-phone<br>Month=%{x}<br>AccountId=%{y}<extra></extra>",
         "legendgroup": "mombasa-phone",
         "line": {
          "color": "#ab63fa",
          "dash": "solid"
         },
         "marker": {
          "symbol": "circle"
         },
         "mode": "lines",
         "name": "mombasa-phone",
         "orientation": "v",
         "showlegend": true,
         "type": "scatter",
         "x": {
          "bdata": "AQAAAAIAAAADAAAABAAAAAUAAAAGAAAABwAAAAgAAAAJAAAACgAAAAsAAAAMAAAA",
          "dtype": "i4"
         },
         "xaxis": "x",
         "y": {
          "bdata": "Fg8UERIWFBAWEQ8R",
          "dtype": "i1"
         },
         "yaxis": "y"
        },
        {
         "hovertemplate": "Region_Product=mombasa-solar<br>Month=%{x}<br>AccountId=%{y}<extra></extra>",
         "legendgroup": "mombasa-solar",
         "line": {
          "color": "#FFA15A",
          "dash": "solid"
         },
         "marker": {
          "symbol": "circle"
         },
         "mode": "lines",
         "name": "mombasa-solar",
         "orientation": "v",
         "showlegend": true,
         "type": "scatter",
         "x": {
          "bdata": "AQAAAAIAAAADAAAABAAAAAUAAAAGAAAABwAAAAgAAAAJAAAACgAAAAsAAAAMAAAA",
          "dtype": "i4"
         },
         "xaxis": "x",
         "y": {
          "bdata": "DQ0PDhERExUYDxcT",
          "dtype": "i1"
         },
         "yaxis": "y"
        },
        {
         "hovertemplate": "Region_Product=mombasa-tv<br>Month=%{x}<br>AccountId=%{y}<extra></extra>",
         "legendgroup": "mombasa-tv",
         "line": {
          "color": "#19d3f3",
          "dash": "solid"
         },
         "marker": {
          "symbol": "circle"
         },
         "mode": "lines",
         "name": "mombasa-tv",
         "orientation": "v",
         "showlegend": true,
         "type": "scatter",
         "x": {
          "bdata": "AQAAAAIAAAADAAAABAAAAAUAAAAGAAAABwAAAAgAAAAJAAAACgAAAAsAAAAMAAAA",
          "dtype": "i4"
         },
         "xaxis": "x",
         "y": {
          "bdata": "EhMREhgUCRcYHAoZ",
          "dtype": "i1"
         },
         "yaxis": "y"
        },
        {
         "hovertemplate": "Region_Product=nairobi-phone<br>Month=%{x}<br>AccountId=%{y}<extra></extra>",
         "legendgroup": "nairobi-phone",
         "line": {
          "color": "#FF6692",
          "dash": "solid"
         },
         "marker": {
          "symbol": "circle"
         },
         "mode": "lines",
         "name": "nairobi-phone",
         "orientation": "v",
         "showlegend": true,
         "type": "scatter",
         "x": {
          "bdata": "AQAAAAIAAAADAAAABAAAAAUAAAAGAAAABwAAAAgAAAAJAAAACgAAAAsAAAAMAAAA",
          "dtype": "i4"
         },
         "xaxis": "x",
         "y": {
          "bdata": "ERITERgXFxITFg0U",
          "dtype": "i1"
         },
         "yaxis": "y"
        },
        {
         "hovertemplate": "Region_Product=nairobi-solar<br>Month=%{x}<br>AccountId=%{y}<extra></extra>",
         "legendgroup": "nairobi-solar",
         "line": {
          "color": "#B6E880",
          "dash": "solid"
         },
         "marker": {
          "symbol": "circle"
         },
         "mode": "lines",
         "name": "nairobi-solar",
         "orientation": "v",
         "showlegend": true,
         "type": "scatter",
         "x": {
          "bdata": "AQAAAAIAAAADAAAABAAAAAUAAAAGAAAABwAAAAgAAAAJAAAACgAAAAsAAAAMAAAA",
          "dtype": "i4"
         },
         "xaxis": "x",
         "y": {
          "bdata": "FgsHDxoRDBQPGA8a",
          "dtype": "i1"
         },
         "yaxis": "y"
        },
        {
         "hovertemplate": "Region_Product=nairobi-tv<br>Month=%{x}<br>AccountId=%{y}<extra></extra>",
         "legendgroup": "nairobi-tv",
         "line": {
          "color": "#FF97FF",
          "dash": "solid"
         },
         "marker": {
          "symbol": "circle"
         },
         "mode": "lines",
         "name": "nairobi-tv",
         "orientation": "v",
         "showlegend": true,
         "type": "scatter",
         "x": {
          "bdata": "AQAAAAIAAAADAAAABAAAAAUAAAAGAAAABwAAAAgAAAAJAAAACgAAAAsAAAAMAAAA",
          "dtype": "i4"
         },
         "xaxis": "x",
         "y": {
          "bdata": "EQ8ZDw4RExgaFA8R",
          "dtype": "i1"
         },
         "yaxis": "y"
        }
       ],
       "layout": {
        "legend": {
         "title": {
          "text": "Region_Product"
         },
         "tracegroupgap": 0
        },
        "template": {
         "data": {
          "bar": [
           {
            "error_x": {
             "color": "#2a3f5f"
            },
            "error_y": {
             "color": "#2a3f5f"
            },
            "marker": {
             "line": {
              "color": "#E5ECF6",
              "width": 0.5
             },
             "pattern": {
              "fillmode": "overlay",
              "size": 10,
              "solidity": 0.2
             }
            },
            "type": "bar"
           }
          ],
          "barpolar": [
           {
            "marker": {
             "line": {
              "color": "#E5ECF6",
              "width": 0.5
             },
             "pattern": {
              "fillmode": "overlay",
              "size": 10,
              "solidity": 0.2
             }
            },
            "type": "barpolar"
           }
          ],
          "carpet": [
           {
            "aaxis": {
             "endlinecolor": "#2a3f5f",
             "gridcolor": "white",
             "linecolor": "white",
             "minorgridcolor": "white",
             "startlinecolor": "#2a3f5f"
            },
            "baxis": {
             "endlinecolor": "#2a3f5f",
             "gridcolor": "white",
             "linecolor": "white",
             "minorgridcolor": "white",
             "startlinecolor": "#2a3f5f"
            },
            "type": "carpet"
           }
          ],
          "choropleth": [
           {
            "colorbar": {
             "outlinewidth": 0,
             "ticks": ""
            },
            "type": "choropleth"
           }
          ],
          "contour": [
           {
            "colorbar": {
             "outlinewidth": 0,
             "ticks": ""
            },
            "colorscale": [
             [
              0,
              "#0d0887"
             ],
             [
              0.1111111111111111,
              "#46039f"
             ],
             [
              0.2222222222222222,
              "#7201a8"
             ],
             [
              0.3333333333333333,
              "#9c179e"
             ],
             [
              0.4444444444444444,
              "#bd3786"
             ],
             [
              0.5555555555555556,
              "#d8576b"
             ],
             [
              0.6666666666666666,
              "#ed7953"
             ],
             [
              0.7777777777777778,
              "#fb9f3a"
             ],
             [
              0.8888888888888888,
              "#fdca26"
             ],
             [
              1,
              "#f0f921"
             ]
            ],
            "type": "contour"
           }
          ],
          "contourcarpet": [
           {
            "colorbar": {
             "outlinewidth": 0,
             "ticks": ""
            },
            "type": "contourcarpet"
           }
          ],
          "heatmap": [
           {
            "colorbar": {
             "outlinewidth": 0,
             "ticks": ""
            },
            "colorscale": [
             [
              0,
              "#0d0887"
             ],
             [
              0.1111111111111111,
              "#46039f"
             ],
             [
              0.2222222222222222,
              "#7201a8"
             ],
             [
              0.3333333333333333,
              "#9c179e"
             ],
             [
              0.4444444444444444,
              "#bd3786"
             ],
             [
              0.5555555555555556,
              "#d8576b"
             ],
             [
              0.6666666666666666,
              "#ed7953"
             ],
             [
              0.7777777777777778,
              "#fb9f3a"
             ],
             [
              0.8888888888888888,
              "#fdca26"
             ],
             [
              1,
              "#f0f921"
             ]
            ],
            "type": "heatmap"
           }
          ],
          "histogram": [
           {
            "marker": {
             "pattern": {
              "fillmode": "overlay",
              "size": 10,
              "solidity": 0.2
             }
            },
            "type": "histogram"
           }
          ],
          "histogram2d": [
           {
            "colorbar": {
             "outlinewidth": 0,
             "ticks": ""
            },
            "colorscale": [
             [
              0,
              "#0d0887"
             ],
             [
              0.1111111111111111,
              "#46039f"
             ],
             [
              0.2222222222222222,
              "#7201a8"
             ],
             [
              0.3333333333333333,
              "#9c179e"
             ],
             [
              0.4444444444444444,
              "#bd3786"
             ],
             [
              0.5555555555555556,
              "#d8576b"
             ],
             [
              0.6666666666666666,
              "#ed7953"
             ],
             [
              0.7777777777777778,
              "#fb9f3a"
             ],
             [
              0.8888888888888888,
              "#fdca26"
             ],
             [
              1,
              "#f0f921"
             ]
            ],
            "type": "histogram2d"
           }
          ],
          "histogram2dcontour": [
           {
            "colorbar": {
             "outlinewidth": 0,
             "ticks": ""
            },
            "colorscale": [
             [
              0,
              "#0d0887"
             ],
             [
              0.1111111111111111,
              "#46039f"
             ],
             [
              0.2222222222222222,
              "#7201a8"
             ],
             [
              0.3333333333333333,
              "#9c179e"
             ],
             [
              0.4444444444444444,
              "#bd3786"
             ],
             [
              0.5555555555555556,
              "#d8576b"
             ],
             [
              0.6666666666666666,
              "#ed7953"
             ],
             [
              0.7777777777777778,
              "#fb9f3a"
             ],
             [
              0.8888888888888888,
              "#fdca26"
             ],
             [
              1,
              "#f0f921"
             ]
            ],
            "type": "histogram2dcontour"
           }
          ],
          "mesh3d": [
           {
            "colorbar": {
             "outlinewidth": 0,
             "ticks": ""
            },
            "type": "mesh3d"
           }
          ],
          "parcoords": [
           {
            "line": {
             "colorbar": {
              "outlinewidth": 0,
              "ticks": ""
             }
            },
            "type": "parcoords"
           }
          ],
          "pie": [
           {
            "automargin": true,
            "type": "pie"
           }
          ],
          "scatter": [
           {
            "fillpattern": {
             "fillmode": "overlay",
             "size": 10,
             "solidity": 0.2
            },
            "type": "scatter"
           }
          ],
          "scatter3d": [
           {
            "line": {
             "colorbar": {
              "outlinewidth": 0,
              "ticks": ""
             }
            },
            "marker": {
             "colorbar": {
              "outlinewidth": 0,
              "ticks": ""
             }
            },
            "type": "scatter3d"
           }
          ],
          "scattercarpet": [
           {
            "marker": {
             "colorbar": {
              "outlinewidth": 0,
              "ticks": ""
             }
            },
            "type": "scattercarpet"
           }
          ],
          "scattergeo": [
           {
            "marker": {
             "colorbar": {
              "outlinewidth": 0,
              "ticks": ""
             }
            },
            "type": "scattergeo"
           }
          ],
          "scattergl": [
           {
            "marker": {
             "colorbar": {
              "outlinewidth": 0,
              "ticks": ""
             }
            },
            "type": "scattergl"
           }
          ],
          "scattermap": [
           {
            "marker": {
             "colorbar": {
              "outlinewidth": 0,
              "ticks": ""
             }
            },
            "type": "scattermap"
           }
          ],
          "scattermapbox": [
           {
            "marker": {
             "colorbar": {
              "outlinewidth": 0,
              "ticks": ""
             }
            },
            "type": "scattermapbox"
           }
          ],
          "scatterpolar": [
           {
            "marker": {
             "colorbar": {
              "outlinewidth": 0,
              "ticks": ""
             }
            },
            "type": "scatterpolar"
           }
          ],
          "scatterpolargl": [
           {
            "marker": {
             "colorbar": {
              "outlinewidth": 0,
              "ticks": ""
             }
            },
            "type": "scatterpolargl"
           }
          ],
          "scatterternary": [
           {
            "marker": {
             "colorbar": {
              "outlinewidth": 0,
              "ticks": ""
             }
            },
            "type": "scatterternary"
           }
          ],
          "surface": [
           {
            "colorbar": {
             "outlinewidth": 0,
             "ticks": ""
            },
            "colorscale": [
             [
              0,
              "#0d0887"
             ],
             [
              0.1111111111111111,
              "#46039f"
             ],
             [
              0.2222222222222222,
              "#7201a8"
             ],
             [
              0.3333333333333333,
              "#9c179e"
             ],
             [
              0.4444444444444444,
              "#bd3786"
             ],
             [
              0.5555555555555556,
              "#d8576b"
             ],
             [
              0.6666666666666666,
              "#ed7953"
             ],
             [
              0.7777777777777778,
              "#fb9f3a"
             ],
             [
              0.8888888888888888,
              "#fdca26"
             ],
             [
              1,
              "#f0f921"
             ]
            ],
            "type": "surface"
           }
          ],
          "table": [
           {
            "cells": {
             "fill": {
              "color": "#EBF0F8"
             },
             "line": {
              "color": "white"
             }
            },
            "header": {
             "fill": {
              "color": "#C8D4E3"
             },
             "line": {
              "color": "white"
             }
            },
            "type": "table"
           }
          ]
         },
         "layout": {
          "annotationdefaults": {
           "arrowcolor": "#2a3f5f",
           "arrowhead": 0,
           "arrowwidth": 1
          },
          "autotypenumbers": "strict",
          "coloraxis": {
           "colorbar": {
            "outlinewidth": 0,
            "ticks": ""
           }
          },
          "colorscale": {
           "diverging": [
            [
             0,
             "#8e0152"
            ],
            [
             0.1,
             "#c51b7d"
            ],
            [
             0.2,
             "#de77ae"
            ],
            [
             0.3,
             "#f1b6da"
            ],
            [
             0.4,
             "#fde0ef"
            ],
            [
             0.5,
             "#f7f7f7"
            ],
            [
             0.6,
             "#e6f5d0"
            ],
            [
             0.7,
             "#b8e186"
            ],
            [
             0.8,
             "#7fbc41"
            ],
            [
             0.9,
             "#4d9221"
            ],
            [
             1,
             "#276419"
            ]
           ],
           "sequential": [
            [
             0,
             "#0d0887"
            ],
            [
             0.1111111111111111,
             "#46039f"
            ],
            [
             0.2222222222222222,
             "#7201a8"
            ],
            [
             0.3333333333333333,
             "#9c179e"
            ],
            [
             0.4444444444444444,
             "#bd3786"
            ],
            [
             0.5555555555555556,
             "#d8576b"
            ],
            [
             0.6666666666666666,
             "#ed7953"
            ],
            [
             0.7777777777777778,
             "#fb9f3a"
            ],
            [
             0.8888888888888888,
             "#fdca26"
            ],
            [
             1,
             "#f0f921"
            ]
           ],
           "sequentialminus": [
            [
             0,
             "#0d0887"
            ],
            [
             0.1111111111111111,
             "#46039f"
            ],
            [
             0.2222222222222222,
             "#7201a8"
            ],
            [
             0.3333333333333333,
             "#9c179e"
            ],
            [
             0.4444444444444444,
             "#bd3786"
            ],
            [
             0.5555555555555556,
             "#d8576b"
            ],
            [
             0.6666666666666666,
             "#ed7953"
            ],
            [
             0.7777777777777778,
             "#fb9f3a"
            ],
            [
             0.8888888888888888,
             "#fdca26"
            ],
            [
             1,
             "#f0f921"
            ]
           ]
          },
          "colorway": [
           "#636efa",
           "#EF553B",
           "#00cc96",
           "#ab63fa",
           "#FFA15A",
           "#19d3f3",
           "#FF6692",
           "#B6E880",
           "#FF97FF",
           "#FECB52"
          ],
          "font": {
           "color": "#2a3f5f"
          },
          "geo": {
           "bgcolor": "white",
           "lakecolor": "white",
           "landcolor": "#E5ECF6",
           "showlakes": true,
           "showland": true,
           "subunitcolor": "white"
          },
          "hoverlabel": {
           "align": "left"
          },
          "hovermode": "closest",
          "mapbox": {
           "style": "light"
          },
          "paper_bgcolor": "white",
          "plot_bgcolor": "#E5ECF6",
          "polar": {
           "angularaxis": {
            "gridcolor": "white",
            "linecolor": "white",
            "ticks": ""
           },
           "bgcolor": "#E5ECF6",
           "radialaxis": {
            "gridcolor": "white",
            "linecolor": "white",
            "ticks": ""
           }
          },
          "scene": {
           "xaxis": {
            "backgroundcolor": "#E5ECF6",
            "gridcolor": "white",
            "gridwidth": 2,
            "linecolor": "white",
            "showbackground": true,
            "ticks": "",
            "zerolinecolor": "white"
           },
           "yaxis": {
            "backgroundcolor": "#E5ECF6",
            "gridcolor": "white",
            "gridwidth": 2,
            "linecolor": "white",
            "showbackground": true,
            "ticks": "",
            "zerolinecolor": "white"
           },
           "zaxis": {
            "backgroundcolor": "#E5ECF6",
            "gridcolor": "white",
            "gridwidth": 2,
            "linecolor": "white",
            "showbackground": true,
            "ticks": "",
            "zerolinecolor": "white"
           }
          },
          "shapedefaults": {
           "line": {
            "color": "#2a3f5f"
           }
          },
          "ternary": {
           "aaxis": {
            "gridcolor": "white",
            "linecolor": "white",
            "ticks": ""
           },
           "baxis": {
            "gridcolor": "white",
            "linecolor": "white",
            "ticks": ""
           },
           "bgcolor": "#E5ECF6",
           "caxis": {
            "gridcolor": "white",
            "linecolor": "white",
            "ticks": ""
           }
          },
          "title": {
           "x": 0.05
          },
          "xaxis": {
           "automargin": true,
           "gridcolor": "white",
           "linecolor": "white",
           "ticks": "",
           "title": {
            "standoff": 15
           },
           "zerolinecolor": "white",
           "zerolinewidth": 2
          },
          "yaxis": {
           "automargin": true,
           "gridcolor": "white",
           "linecolor": "white",
           "ticks": "",
           "title": {
            "standoff": 15
           },
           "zerolinecolor": "white",
           "zerolinewidth": 2
          }
         }
        },
        "title": {
         "text": "Regional Product Trend",
         "x": 0.5
        },
        "xaxis": {
         "anchor": "y",
         "domain": [
          0,
          1
         ],
         "title": {
          "text": "Month"
         }
        },
        "yaxis": {
         "anchor": "x",
         "domain": [
          0,
          1
         ],
         "title": {
          "text": "Count of Products Purchased"
         }
        }
       }
      }
     },
     "metadata": {},
     "output_type": "display_data"
    }
   ],
   "source": [
    "\n",
    "\n",
    "\n",
    "fig=px.line(Reg_summ_prod,x='Month',y='AccountId',color='Region_Product',title='Customer Regional per Month')\n",
    "fig.update_layout(\n",
    "    title=\"Regional Product Trend\",\n",
    "    xaxis_title='Month',\n",
    "    yaxis_title='Count of Products Purchased',\n",
    "    title_x=0.5\n",
    "\n",
    ")"
   ]
  },
  {
   "cell_type": "code",
   "execution_count": null,
   "metadata": {},
   "outputs": [],
   "source": []
  },
  {
   "cell_type": "code",
   "execution_count": 38,
   "metadata": {},
   "outputs": [
    {
     "data": {
      "text/html": [
       "<div>\n",
       "<style scoped>\n",
       "    .dataframe tbody tr th:only-of-type {\n",
       "        vertical-align: middle;\n",
       "    }\n",
       "\n",
       "    .dataframe tbody tr th {\n",
       "        vertical-align: top;\n",
       "    }\n",
       "\n",
       "    .dataframe thead th {\n",
       "        text-align: right;\n",
       "    }\n",
       "</style>\n",
       "<table border=\"1\" class=\"dataframe\">\n",
       "  <thead>\n",
       "    <tr style=\"text-align: right;\">\n",
       "      <th></th>\n",
       "      <th>AccountId</th>\n",
       "      <th>RegistrationDate</th>\n",
       "      <th>CustomerId</th>\n",
       "      <th>PaymentPlanId</th>\n",
       "      <th>FullName</th>\n",
       "      <th>Region</th>\n",
       "      <th>Month</th>\n",
       "      <th>Year</th>\n",
       "      <th>Product</th>\n",
       "      <th>Deposit</th>\n",
       "      <th>TotalValue</th>\n",
       "    </tr>\n",
       "  </thead>\n",
       "  <tbody>\n",
       "    <tr>\n",
       "      <th>0</th>\n",
       "      <td>5000</td>\n",
       "      <td>2020-03-30</td>\n",
       "      <td>4720</td>\n",
       "      <td>63</td>\n",
       "      <td>Michael Mbori</td>\n",
       "      <td>nairobi</td>\n",
       "      <td>3</td>\n",
       "      <td>2020</td>\n",
       "      <td>phone</td>\n",
       "      <td>250</td>\n",
       "      <td>7750</td>\n",
       "    </tr>\n",
       "    <tr>\n",
       "      <th>1</th>\n",
       "      <td>5002</td>\n",
       "      <td>2020-06-06</td>\n",
       "      <td>2674</td>\n",
       "      <td>63</td>\n",
       "      <td>Titus Mbori</td>\n",
       "      <td>kisumu</td>\n",
       "      <td>6</td>\n",
       "      <td>2020</td>\n",
       "      <td>phone</td>\n",
       "      <td>250</td>\n",
       "      <td>7750</td>\n",
       "    </tr>\n",
       "    <tr>\n",
       "      <th>2</th>\n",
       "      <td>5003</td>\n",
       "      <td>2020-02-28</td>\n",
       "      <td>2495</td>\n",
       "      <td>69</td>\n",
       "      <td>Mercy Warimu</td>\n",
       "      <td>mombasa</td>\n",
       "      <td>2</td>\n",
       "      <td>2020</td>\n",
       "      <td>tv</td>\n",
       "      <td>1375</td>\n",
       "      <td>23375</td>\n",
       "    </tr>\n",
       "    <tr>\n",
       "      <th>3</th>\n",
       "      <td>5007</td>\n",
       "      <td>2020-02-20</td>\n",
       "      <td>1749</td>\n",
       "      <td>37</td>\n",
       "      <td>Frank Lwoyelo</td>\n",
       "      <td>mombasa</td>\n",
       "      <td>2</td>\n",
       "      <td>2020</td>\n",
       "      <td>solar</td>\n",
       "      <td>675</td>\n",
       "      <td>9675</td>\n",
       "    </tr>\n",
       "    <tr>\n",
       "      <th>4</th>\n",
       "      <td>5010</td>\n",
       "      <td>2020-09-03</td>\n",
       "      <td>2905</td>\n",
       "      <td>20</td>\n",
       "      <td>Titus Mbori</td>\n",
       "      <td>nairobi</td>\n",
       "      <td>9</td>\n",
       "      <td>2020</td>\n",
       "      <td>solar</td>\n",
       "      <td>1625</td>\n",
       "      <td>27625</td>\n",
       "    </tr>\n",
       "  </tbody>\n",
       "</table>\n",
       "</div>"
      ],
      "text/plain": [
       "   AccountId RegistrationDate  CustomerId  PaymentPlanId       FullName  \\\n",
       "0       5000       2020-03-30        4720             63  Michael Mbori   \n",
       "1       5002       2020-06-06        2674             63    Titus Mbori   \n",
       "2       5003       2020-02-28        2495             69   Mercy Warimu   \n",
       "3       5007       2020-02-20        1749             37  Frank Lwoyelo   \n",
       "4       5010       2020-09-03        2905             20    Titus Mbori   \n",
       "\n",
       "    Region  Month  Year Product  Deposit  TotalValue  \n",
       "0  nairobi      3  2020   phone      250        7750  \n",
       "1   kisumu      6  2020   phone      250        7750  \n",
       "2  mombasa      2  2020      tv     1375       23375  \n",
       "3  mombasa      2  2020   solar      675        9675  \n",
       "4  nairobi      9  2020   solar     1625       27625  "
      ]
     },
     "execution_count": 38,
     "metadata": {},
     "output_type": "execute_result"
    }
   ],
   "source": [
    "df_Account_upd.head()"
   ]
  },
  {
   "cell_type": "code",
   "execution_count": null,
   "metadata": {},
   "outputs": [],
   "source": []
  },
  {
   "cell_type": "markdown",
   "metadata": {},
   "source": [
    "## Payment Analysis"
   ]
  },
  {
   "cell_type": "markdown",
   "metadata": {},
   "source": [
    "##### 1. which region pays more of their loan\n",
    "##### 2. on a monthly basis which region pays more of its loan\n",
    "##### 3. Payment trend per product\n",
    "##### 4. Month on Month trend per product (payment)\n",
    "##### 5. Join account table with payment for next cohort analysis"
   ]
  },
  {
   "cell_type": "code",
   "execution_count": 39,
   "metadata": {},
   "outputs": [
    {
     "name": "stdout",
     "output_type": "stream",
     "text": [
      "<class 'pandas.core.frame.DataFrame'>\n",
      "RangeIndex: 234553 entries, 0 to 234552\n",
      "Data columns (total 5 columns):\n",
      " #   Column        Non-Null Count   Dtype  \n",
      "---  ------        --------------   -----  \n",
      " 0   PaymentId     234553 non-null  int64  \n",
      " 1   Amount        234553 non-null  float64\n",
      " 2   ReceivedWhen  234553 non-null  object \n",
      " 3   AccountId     234553 non-null  int64  \n",
      " 4   PaymentType   234553 non-null  object \n",
      "dtypes: float64(1), int64(2), object(2)\n",
      "memory usage: 8.9+ MB\n"
     ]
    },
    {
     "data": {
      "text/html": [
       "<div>\n",
       "<style scoped>\n",
       "    .dataframe tbody tr th:only-of-type {\n",
       "        vertical-align: middle;\n",
       "    }\n",
       "\n",
       "    .dataframe tbody tr th {\n",
       "        vertical-align: top;\n",
       "    }\n",
       "\n",
       "    .dataframe thead th {\n",
       "        text-align: right;\n",
       "    }\n",
       "</style>\n",
       "<table border=\"1\" class=\"dataframe\">\n",
       "  <thead>\n",
       "    <tr style=\"text-align: right;\">\n",
       "      <th></th>\n",
       "      <th>count</th>\n",
       "      <th>mean</th>\n",
       "      <th>std</th>\n",
       "      <th>min</th>\n",
       "      <th>25%</th>\n",
       "      <th>50%</th>\n",
       "      <th>75%</th>\n",
       "      <th>max</th>\n",
       "    </tr>\n",
       "  </thead>\n",
       "  <tbody>\n",
       "    <tr>\n",
       "      <th>PaymentId</th>\n",
       "      <td>234553.0</td>\n",
       "      <td>235761.953094</td>\n",
       "      <td>135361.990308</td>\n",
       "      <td>1000.000000</td>\n",
       "      <td>118553.000000</td>\n",
       "      <td>235667.0</td>\n",
       "      <td>352901.000000</td>\n",
       "      <td>470104.000000</td>\n",
       "    </tr>\n",
       "    <tr>\n",
       "      <th>Amount</th>\n",
       "      <td>234553.0</td>\n",
       "      <td>100.588750</td>\n",
       "      <td>174.219636</td>\n",
       "      <td>23.289141</td>\n",
       "      <td>56.847335</td>\n",
       "      <td>81.9</td>\n",
       "      <td>116.216284</td>\n",
       "      <td>4702.646684</td>\n",
       "    </tr>\n",
       "    <tr>\n",
       "      <th>AccountId</th>\n",
       "      <td>234553.0</td>\n",
       "      <td>6954.737113</td>\n",
       "      <td>1163.332016</td>\n",
       "      <td>5000.000000</td>\n",
       "      <td>5949.000000</td>\n",
       "      <td>6925.0</td>\n",
       "      <td>7952.000000</td>\n",
       "      <td>8999.000000</td>\n",
       "    </tr>\n",
       "  </tbody>\n",
       "</table>\n",
       "</div>"
      ],
      "text/plain": [
       "              count           mean            std          min            25%  \\\n",
       "PaymentId  234553.0  235761.953094  135361.990308  1000.000000  118553.000000   \n",
       "Amount     234553.0     100.588750     174.219636    23.289141      56.847335   \n",
       "AccountId  234553.0    6954.737113    1163.332016  5000.000000    5949.000000   \n",
       "\n",
       "                50%            75%            max  \n",
       "PaymentId  235667.0  352901.000000  470104.000000  \n",
       "Amount         81.9     116.216284    4702.646684  \n",
       "AccountId    6925.0    7952.000000    8999.000000  "
      ]
     },
     "execution_count": 39,
     "metadata": {},
     "output_type": "execute_result"
    }
   ],
   "source": [
    "## Ans to question 1\n",
    "## check if there are null values and check the data type of the table\n",
    "\n",
    "df_Payment.info()\n",
    "df_Payment.describe().T\n"
   ]
  },
  {
   "cell_type": "code",
   "execution_count": 40,
   "metadata": {},
   "outputs": [
    {
     "name": "stdout",
     "output_type": "stream",
     "text": [
      "<class 'pandas.core.frame.DataFrame'>\n",
      "RangeIndex: 234553 entries, 0 to 234552\n",
      "Data columns (total 5 columns):\n",
      " #   Column        Non-Null Count   Dtype         \n",
      "---  ------        --------------   -----         \n",
      " 0   PaymentId     234553 non-null  int64         \n",
      " 1   Amount        234553 non-null  float64       \n",
      " 2   ReceivedWhen  234553 non-null  datetime64[ns]\n",
      " 3   AccountId     234553 non-null  int64         \n",
      " 4   PaymentType   234553 non-null  object        \n",
      "dtypes: datetime64[ns](1), float64(1), int64(2), object(1)\n",
      "memory usage: 8.9+ MB\n"
     ]
    }
   ],
   "source": [
    "#convert Recveived when to datetime\n",
    "\n",
    "df_Payment['ReceivedWhen']=pd.to_datetime(df_Payment['ReceivedWhen'],format='%Y-%m-%d')\n",
    "df_Payment.info()"
   ]
  },
  {
   "cell_type": "code",
   "execution_count": 41,
   "metadata": {},
   "outputs": [],
   "source": [
    "##add month of payment\n",
    "##day of payment\n",
    "\n",
    "df_Payment['Payment_Month']=df_Payment['ReceivedWhen'].dt.month"
   ]
  },
  {
   "cell_type": "code",
   "execution_count": 42,
   "metadata": {},
   "outputs": [],
   "source": [
    "df_Payment['Weekday']=df_Payment['ReceivedWhen'].dt.day_name().str[:3]"
   ]
  },
  {
   "cell_type": "code",
   "execution_count": 43,
   "metadata": {},
   "outputs": [],
   "source": [
    "df_Payment['Year']=df_Payment['ReceivedWhen'].dt.year"
   ]
  },
  {
   "cell_type": "code",
   "execution_count": 44,
   "metadata": {},
   "outputs": [],
   "source": [
    "df_Payment=df_Payment.merge(df_Account_upd[['AccountId','Region']],how='left',on='AccountId')"
   ]
  },
  {
   "cell_type": "code",
   "execution_count": 45,
   "metadata": {},
   "outputs": [
    {
     "data": {
      "text/html": [
       "<div>\n",
       "<style scoped>\n",
       "    .dataframe tbody tr th:only-of-type {\n",
       "        vertical-align: middle;\n",
       "    }\n",
       "\n",
       "    .dataframe tbody tr th {\n",
       "        vertical-align: top;\n",
       "    }\n",
       "\n",
       "    .dataframe thead th {\n",
       "        text-align: right;\n",
       "    }\n",
       "</style>\n",
       "<table border=\"1\" class=\"dataframe\">\n",
       "  <thead>\n",
       "    <tr style=\"text-align: right;\">\n",
       "      <th></th>\n",
       "      <th>Amount</th>\n",
       "    </tr>\n",
       "    <tr>\n",
       "      <th>Region</th>\n",
       "      <th></th>\n",
       "    </tr>\n",
       "  </thead>\n",
       "  <tbody>\n",
       "    <tr>\n",
       "      <th>kisumu</th>\n",
       "      <td>7.941605e+06</td>\n",
       "    </tr>\n",
       "    <tr>\n",
       "      <th>mombasa</th>\n",
       "      <td>7.876173e+06</td>\n",
       "    </tr>\n",
       "    <tr>\n",
       "      <th>nairobi</th>\n",
       "      <td>7.775615e+06</td>\n",
       "    </tr>\n",
       "  </tbody>\n",
       "</table>\n",
       "</div>"
      ],
      "text/plain": [
       "               Amount\n",
       "Region               \n",
       "kisumu   7.941605e+06\n",
       "mombasa  7.876173e+06\n",
       "nairobi  7.775615e+06"
      ]
     },
     "execution_count": 45,
     "metadata": {},
     "output_type": "execute_result"
    }
   ],
   "source": [
    "df_Payment.groupby(['Region']).agg({'Amount':'sum'}).sort_values(by='Amount',ascending=False)"
   ]
  },
  {
   "cell_type": "markdown",
   "metadata": {},
   "source": [
    "## Q1. Customers from Kisimu are paying more than any Region"
   ]
  },
  {
   "cell_type": "markdown",
   "metadata": {},
   "source": []
  },
  {
   "cell_type": "code",
   "execution_count": 46,
   "metadata": {},
   "outputs": [
    {
     "data": {
      "text/html": [
       "<div>\n",
       "<style scoped>\n",
       "    .dataframe tbody tr th:only-of-type {\n",
       "        vertical-align: middle;\n",
       "    }\n",
       "\n",
       "    .dataframe tbody tr th {\n",
       "        vertical-align: top;\n",
       "    }\n",
       "\n",
       "    .dataframe thead th {\n",
       "        text-align: right;\n",
       "    }\n",
       "</style>\n",
       "<table border=\"1\" class=\"dataframe\">\n",
       "  <thead>\n",
       "    <tr style=\"text-align: right;\">\n",
       "      <th></th>\n",
       "      <th>PaymentId</th>\n",
       "      <th>Amount</th>\n",
       "      <th>ReceivedWhen</th>\n",
       "      <th>AccountId</th>\n",
       "      <th>PaymentType</th>\n",
       "      <th>Payment_Month</th>\n",
       "      <th>Weekday</th>\n",
       "      <th>Year</th>\n",
       "      <th>Region</th>\n",
       "    </tr>\n",
       "  </thead>\n",
       "  <tbody>\n",
       "    <tr>\n",
       "      <th>0</th>\n",
       "      <td>1000</td>\n",
       "      <td>125.960784</td>\n",
       "      <td>2020-09-13</td>\n",
       "      <td>6717</td>\n",
       "      <td>DailyPayment</td>\n",
       "      <td>9</td>\n",
       "      <td>Sun</td>\n",
       "      <td>2020</td>\n",
       "      <td>nairobi</td>\n",
       "    </tr>\n",
       "    <tr>\n",
       "      <th>1</th>\n",
       "      <td>1001</td>\n",
       "      <td>87.661685</td>\n",
       "      <td>2020-02-01</td>\n",
       "      <td>8804</td>\n",
       "      <td>DailyPayment</td>\n",
       "      <td>2</td>\n",
       "      <td>Sat</td>\n",
       "      <td>2020</td>\n",
       "      <td>nairobi</td>\n",
       "    </tr>\n",
       "    <tr>\n",
       "      <th>2</th>\n",
       "      <td>1009</td>\n",
       "      <td>61.505239</td>\n",
       "      <td>2021-01-15</td>\n",
       "      <td>5735</td>\n",
       "      <td>DailyPayment</td>\n",
       "      <td>1</td>\n",
       "      <td>Fri</td>\n",
       "      <td>2021</td>\n",
       "      <td>nairobi</td>\n",
       "    </tr>\n",
       "    <tr>\n",
       "      <th>3</th>\n",
       "      <td>1013</td>\n",
       "      <td>131.917558</td>\n",
       "      <td>2021-07-12</td>\n",
       "      <td>6837</td>\n",
       "      <td>DailyPayment</td>\n",
       "      <td>7</td>\n",
       "      <td>Mon</td>\n",
       "      <td>2021</td>\n",
       "      <td>kisumu</td>\n",
       "    </tr>\n",
       "    <tr>\n",
       "      <th>4</th>\n",
       "      <td>1017</td>\n",
       "      <td>100.770597</td>\n",
       "      <td>2020-09-24</td>\n",
       "      <td>5457</td>\n",
       "      <td>DailyPayment</td>\n",
       "      <td>9</td>\n",
       "      <td>Thu</td>\n",
       "      <td>2020</td>\n",
       "      <td>mombasa</td>\n",
       "    </tr>\n",
       "  </tbody>\n",
       "</table>\n",
       "</div>"
      ],
      "text/plain": [
       "   PaymentId      Amount ReceivedWhen  AccountId   PaymentType  Payment_Month  \\\n",
       "0       1000  125.960784   2020-09-13       6717  DailyPayment              9   \n",
       "1       1001   87.661685   2020-02-01       8804  DailyPayment              2   \n",
       "2       1009   61.505239   2021-01-15       5735  DailyPayment              1   \n",
       "3       1013  131.917558   2021-07-12       6837  DailyPayment              7   \n",
       "4       1017  100.770597   2020-09-24       5457  DailyPayment              9   \n",
       "\n",
       "  Weekday  Year   Region  \n",
       "0     Sun  2020  nairobi  \n",
       "1     Sat  2020  nairobi  \n",
       "2     Fri  2021  nairobi  \n",
       "3     Mon  2021   kisumu  \n",
       "4     Thu  2020  mombasa  "
      ]
     },
     "execution_count": 46,
     "metadata": {},
     "output_type": "execute_result"
    }
   ],
   "source": [
    "df_Payment.head()"
   ]
  },
  {
   "cell_type": "code",
   "execution_count": 47,
   "metadata": {},
   "outputs": [
    {
     "data": {
      "application/vnd.plotly.v1+json": {
       "config": {
        "plotlyServerURL": "https://plot.ly"
       },
       "data": [
        {
         "hovertemplate": "Region=kisumu<br>Payment_Month=%{x}<br>Amount=%{y}<extra></extra>",
         "legendgroup": "kisumu",
         "marker": {
          "color": "#636efa",
          "pattern": {
           "shape": ""
          }
         },
         "name": "kisumu",
         "orientation": "v",
         "showlegend": true,
         "textposition": "auto",
         "type": "bar",
         "x": {
          "bdata": "DAAAAAEAAAALAAAACAAAAAoAAAAHAAAACQAAAAMAAAAFAAAABgAAAAIAAAAEAAAA",
          "dtype": "i4"
         },
         "xaxis": "x",
         "y": {
          "bdata": "034xFnA7KEHPd8QEfLwmQVUhbIVwIiZBNTj7T5TbJUH0shESrF8lQUk6i3o0oyNBKcJLl3GHI0FdqtYzTS4jQYe/MtcjRSJB8Q0FhMLcIUGdhGjgodQhQT6KYvKxtiFB",
          "dtype": "f8"
         },
         "yaxis": "y"
        },
        {
         "hovertemplate": "Region=mombasa<br>Payment_Month=%{x}<br>Amount=%{y}<extra></extra>",
         "legendgroup": "mombasa",
         "marker": {
          "color": "#EF553B",
          "pattern": {
           "shape": ""
          }
         },
         "name": "mombasa",
         "orientation": "v",
         "showlegend": true,
         "textposition": "auto",
         "type": "bar",
         "x": {
          "bdata": "DAAAAAoAAAALAAAACAAAAAEAAAAJAAAABgAAAAcAAAADAAAABQAAAAIAAAAEAAAA",
          "dtype": "i4"
         },
         "xaxis": "x",
         "y": {
          "bdata": "YGg5TMdbJ0HJnhzOJ40mQcNrAGzn+yVBJmMtBc0zJUHZrwsqnhslQdRXdz0MyCRBs39SS0FOI0EJGz+z/PwiQcXeyqlvjCJBBnKRqPQhIkGHzuzLQXUhQSWL1Zdo8SBB",
          "dtype": "f8"
         },
         "yaxis": "y"
        },
        {
         "hovertemplate": "Region=nairobi<br>Payment_Month=%{x}<br>Amount=%{y}<extra></extra>",
         "legendgroup": "nairobi",
         "marker": {
          "color": "#00cc96",
          "pattern": {
           "shape": ""
          }
         },
         "name": "nairobi",
         "orientation": "v",
         "showlegend": true,
         "textposition": "auto",
         "type": "bar",
         "x": {
          "bdata": "DAAAAAoAAAALAAAAAQAAAAgAAAAJAAAABwAAAAMAAAAGAAAABQAAAAIAAAAEAAAA",
          "dtype": "i4"
         },
         "xaxis": "x",
         "y": {
          "bdata": "llfqYF/sJkG38TADjpEmQU9d6H+PmyVB92eNkfLRJEELmQ81dq8kQaiALTdFMyRBWKXojQLXI0EgObHxYYgiQb9hs/IFiCJBAqRPtmytIUEU7S2lZJUhQehgQYeWUiBB",
          "dtype": "f8"
         },
         "yaxis": "y"
        }
       ],
       "layout": {
        "barmode": "stack",
        "legend": {
         "title": {
          "text": "Region"
         },
         "tracegroupgap": 0
        },
        "template": {
         "data": {
          "bar": [
           {
            "error_x": {
             "color": "#2a3f5f"
            },
            "error_y": {
             "color": "#2a3f5f"
            },
            "marker": {
             "line": {
              "color": "#E5ECF6",
              "width": 0.5
             },
             "pattern": {
              "fillmode": "overlay",
              "size": 10,
              "solidity": 0.2
             }
            },
            "type": "bar"
           }
          ],
          "barpolar": [
           {
            "marker": {
             "line": {
              "color": "#E5ECF6",
              "width": 0.5
             },
             "pattern": {
              "fillmode": "overlay",
              "size": 10,
              "solidity": 0.2
             }
            },
            "type": "barpolar"
           }
          ],
          "carpet": [
           {
            "aaxis": {
             "endlinecolor": "#2a3f5f",
             "gridcolor": "white",
             "linecolor": "white",
             "minorgridcolor": "white",
             "startlinecolor": "#2a3f5f"
            },
            "baxis": {
             "endlinecolor": "#2a3f5f",
             "gridcolor": "white",
             "linecolor": "white",
             "minorgridcolor": "white",
             "startlinecolor": "#2a3f5f"
            },
            "type": "carpet"
           }
          ],
          "choropleth": [
           {
            "colorbar": {
             "outlinewidth": 0,
             "ticks": ""
            },
            "type": "choropleth"
           }
          ],
          "contour": [
           {
            "colorbar": {
             "outlinewidth": 0,
             "ticks": ""
            },
            "colorscale": [
             [
              0,
              "#0d0887"
             ],
             [
              0.1111111111111111,
              "#46039f"
             ],
             [
              0.2222222222222222,
              "#7201a8"
             ],
             [
              0.3333333333333333,
              "#9c179e"
             ],
             [
              0.4444444444444444,
              "#bd3786"
             ],
             [
              0.5555555555555556,
              "#d8576b"
             ],
             [
              0.6666666666666666,
              "#ed7953"
             ],
             [
              0.7777777777777778,
              "#fb9f3a"
             ],
             [
              0.8888888888888888,
              "#fdca26"
             ],
             [
              1,
              "#f0f921"
             ]
            ],
            "type": "contour"
           }
          ],
          "contourcarpet": [
           {
            "colorbar": {
             "outlinewidth": 0,
             "ticks": ""
            },
            "type": "contourcarpet"
           }
          ],
          "heatmap": [
           {
            "colorbar": {
             "outlinewidth": 0,
             "ticks": ""
            },
            "colorscale": [
             [
              0,
              "#0d0887"
             ],
             [
              0.1111111111111111,
              "#46039f"
             ],
             [
              0.2222222222222222,
              "#7201a8"
             ],
             [
              0.3333333333333333,
              "#9c179e"
             ],
             [
              0.4444444444444444,
              "#bd3786"
             ],
             [
              0.5555555555555556,
              "#d8576b"
             ],
             [
              0.6666666666666666,
              "#ed7953"
             ],
             [
              0.7777777777777778,
              "#fb9f3a"
             ],
             [
              0.8888888888888888,
              "#fdca26"
             ],
             [
              1,
              "#f0f921"
             ]
            ],
            "type": "heatmap"
           }
          ],
          "histogram": [
           {
            "marker": {
             "pattern": {
              "fillmode": "overlay",
              "size": 10,
              "solidity": 0.2
             }
            },
            "type": "histogram"
           }
          ],
          "histogram2d": [
           {
            "colorbar": {
             "outlinewidth": 0,
             "ticks": ""
            },
            "colorscale": [
             [
              0,
              "#0d0887"
             ],
             [
              0.1111111111111111,
              "#46039f"
             ],
             [
              0.2222222222222222,
              "#7201a8"
             ],
             [
              0.3333333333333333,
              "#9c179e"
             ],
             [
              0.4444444444444444,
              "#bd3786"
             ],
             [
              0.5555555555555556,
              "#d8576b"
             ],
             [
              0.6666666666666666,
              "#ed7953"
             ],
             [
              0.7777777777777778,
              "#fb9f3a"
             ],
             [
              0.8888888888888888,
              "#fdca26"
             ],
             [
              1,
              "#f0f921"
             ]
            ],
            "type": "histogram2d"
           }
          ],
          "histogram2dcontour": [
           {
            "colorbar": {
             "outlinewidth": 0,
             "ticks": ""
            },
            "colorscale": [
             [
              0,
              "#0d0887"
             ],
             [
              0.1111111111111111,
              "#46039f"
             ],
             [
              0.2222222222222222,
              "#7201a8"
             ],
             [
              0.3333333333333333,
              "#9c179e"
             ],
             [
              0.4444444444444444,
              "#bd3786"
             ],
             [
              0.5555555555555556,
              "#d8576b"
             ],
             [
              0.6666666666666666,
              "#ed7953"
             ],
             [
              0.7777777777777778,
              "#fb9f3a"
             ],
             [
              0.8888888888888888,
              "#fdca26"
             ],
             [
              1,
              "#f0f921"
             ]
            ],
            "type": "histogram2dcontour"
           }
          ],
          "mesh3d": [
           {
            "colorbar": {
             "outlinewidth": 0,
             "ticks": ""
            },
            "type": "mesh3d"
           }
          ],
          "parcoords": [
           {
            "line": {
             "colorbar": {
              "outlinewidth": 0,
              "ticks": ""
             }
            },
            "type": "parcoords"
           }
          ],
          "pie": [
           {
            "automargin": true,
            "type": "pie"
           }
          ],
          "scatter": [
           {
            "fillpattern": {
             "fillmode": "overlay",
             "size": 10,
             "solidity": 0.2
            },
            "type": "scatter"
           }
          ],
          "scatter3d": [
           {
            "line": {
             "colorbar": {
              "outlinewidth": 0,
              "ticks": ""
             }
            },
            "marker": {
             "colorbar": {
              "outlinewidth": 0,
              "ticks": ""
             }
            },
            "type": "scatter3d"
           }
          ],
          "scattercarpet": [
           {
            "marker": {
             "colorbar": {
              "outlinewidth": 0,
              "ticks": ""
             }
            },
            "type": "scattercarpet"
           }
          ],
          "scattergeo": [
           {
            "marker": {
             "colorbar": {
              "outlinewidth": 0,
              "ticks": ""
             }
            },
            "type": "scattergeo"
           }
          ],
          "scattergl": [
           {
            "marker": {
             "colorbar": {
              "outlinewidth": 0,
              "ticks": ""
             }
            },
            "type": "scattergl"
           }
          ],
          "scattermap": [
           {
            "marker": {
             "colorbar": {
              "outlinewidth": 0,
              "ticks": ""
             }
            },
            "type": "scattermap"
           }
          ],
          "scattermapbox": [
           {
            "marker": {
             "colorbar": {
              "outlinewidth": 0,
              "ticks": ""
             }
            },
            "type": "scattermapbox"
           }
          ],
          "scatterpolar": [
           {
            "marker": {
             "colorbar": {
              "outlinewidth": 0,
              "ticks": ""
             }
            },
            "type": "scatterpolar"
           }
          ],
          "scatterpolargl": [
           {
            "marker": {
             "colorbar": {
              "outlinewidth": 0,
              "ticks": ""
             }
            },
            "type": "scatterpolargl"
           }
          ],
          "scatterternary": [
           {
            "marker": {
             "colorbar": {
              "outlinewidth": 0,
              "ticks": ""
             }
            },
            "type": "scatterternary"
           }
          ],
          "surface": [
           {
            "colorbar": {
             "outlinewidth": 0,
             "ticks": ""
            },
            "colorscale": [
             [
              0,
              "#0d0887"
             ],
             [
              0.1111111111111111,
              "#46039f"
             ],
             [
              0.2222222222222222,
              "#7201a8"
             ],
             [
              0.3333333333333333,
              "#9c179e"
             ],
             [
              0.4444444444444444,
              "#bd3786"
             ],
             [
              0.5555555555555556,
              "#d8576b"
             ],
             [
              0.6666666666666666,
              "#ed7953"
             ],
             [
              0.7777777777777778,
              "#fb9f3a"
             ],
             [
              0.8888888888888888,
              "#fdca26"
             ],
             [
              1,
              "#f0f921"
             ]
            ],
            "type": "surface"
           }
          ],
          "table": [
           {
            "cells": {
             "fill": {
              "color": "#EBF0F8"
             },
             "line": {
              "color": "white"
             }
            },
            "header": {
             "fill": {
              "color": "#C8D4E3"
             },
             "line": {
              "color": "white"
             }
            },
            "type": "table"
           }
          ]
         },
         "layout": {
          "annotationdefaults": {
           "arrowcolor": "#2a3f5f",
           "arrowhead": 0,
           "arrowwidth": 1
          },
          "autotypenumbers": "strict",
          "coloraxis": {
           "colorbar": {
            "outlinewidth": 0,
            "ticks": ""
           }
          },
          "colorscale": {
           "diverging": [
            [
             0,
             "#8e0152"
            ],
            [
             0.1,
             "#c51b7d"
            ],
            [
             0.2,
             "#de77ae"
            ],
            [
             0.3,
             "#f1b6da"
            ],
            [
             0.4,
             "#fde0ef"
            ],
            [
             0.5,
             "#f7f7f7"
            ],
            [
             0.6,
             "#e6f5d0"
            ],
            [
             0.7,
             "#b8e186"
            ],
            [
             0.8,
             "#7fbc41"
            ],
            [
             0.9,
             "#4d9221"
            ],
            [
             1,
             "#276419"
            ]
           ],
           "sequential": [
            [
             0,
             "#0d0887"
            ],
            [
             0.1111111111111111,
             "#46039f"
            ],
            [
             0.2222222222222222,
             "#7201a8"
            ],
            [
             0.3333333333333333,
             "#9c179e"
            ],
            [
             0.4444444444444444,
             "#bd3786"
            ],
            [
             0.5555555555555556,
             "#d8576b"
            ],
            [
             0.6666666666666666,
             "#ed7953"
            ],
            [
             0.7777777777777778,
             "#fb9f3a"
            ],
            [
             0.8888888888888888,
             "#fdca26"
            ],
            [
             1,
             "#f0f921"
            ]
           ],
           "sequentialminus": [
            [
             0,
             "#0d0887"
            ],
            [
             0.1111111111111111,
             "#46039f"
            ],
            [
             0.2222222222222222,
             "#7201a8"
            ],
            [
             0.3333333333333333,
             "#9c179e"
            ],
            [
             0.4444444444444444,
             "#bd3786"
            ],
            [
             0.5555555555555556,
             "#d8576b"
            ],
            [
             0.6666666666666666,
             "#ed7953"
            ],
            [
             0.7777777777777778,
             "#fb9f3a"
            ],
            [
             0.8888888888888888,
             "#fdca26"
            ],
            [
             1,
             "#f0f921"
            ]
           ]
          },
          "colorway": [
           "#636efa",
           "#EF553B",
           "#00cc96",
           "#ab63fa",
           "#FFA15A",
           "#19d3f3",
           "#FF6692",
           "#B6E880",
           "#FF97FF",
           "#FECB52"
          ],
          "font": {
           "color": "#2a3f5f"
          },
          "geo": {
           "bgcolor": "white",
           "lakecolor": "white",
           "landcolor": "#E5ECF6",
           "showlakes": true,
           "showland": true,
           "subunitcolor": "white"
          },
          "hoverlabel": {
           "align": "left"
          },
          "hovermode": "closest",
          "mapbox": {
           "style": "light"
          },
          "paper_bgcolor": "white",
          "plot_bgcolor": "#E5ECF6",
          "polar": {
           "angularaxis": {
            "gridcolor": "white",
            "linecolor": "white",
            "ticks": ""
           },
           "bgcolor": "#E5ECF6",
           "radialaxis": {
            "gridcolor": "white",
            "linecolor": "white",
            "ticks": ""
           }
          },
          "scene": {
           "xaxis": {
            "backgroundcolor": "#E5ECF6",
            "gridcolor": "white",
            "gridwidth": 2,
            "linecolor": "white",
            "showbackground": true,
            "ticks": "",
            "zerolinecolor": "white"
           },
           "yaxis": {
            "backgroundcolor": "#E5ECF6",
            "gridcolor": "white",
            "gridwidth": 2,
            "linecolor": "white",
            "showbackground": true,
            "ticks": "",
            "zerolinecolor": "white"
           },
           "zaxis": {
            "backgroundcolor": "#E5ECF6",
            "gridcolor": "white",
            "gridwidth": 2,
            "linecolor": "white",
            "showbackground": true,
            "ticks": "",
            "zerolinecolor": "white"
           }
          },
          "shapedefaults": {
           "line": {
            "color": "#2a3f5f"
           }
          },
          "ternary": {
           "aaxis": {
            "gridcolor": "white",
            "linecolor": "white",
            "ticks": ""
           },
           "baxis": {
            "gridcolor": "white",
            "linecolor": "white",
            "ticks": ""
           },
           "bgcolor": "#E5ECF6",
           "caxis": {
            "gridcolor": "white",
            "linecolor": "white",
            "ticks": ""
           }
          },
          "title": {
           "x": 0.05
          },
          "xaxis": {
           "automargin": true,
           "gridcolor": "white",
           "linecolor": "white",
           "ticks": "",
           "title": {
            "standoff": 15
           },
           "zerolinecolor": "white",
           "zerolinewidth": 2
          },
          "yaxis": {
           "automargin": true,
           "gridcolor": "white",
           "linecolor": "white",
           "ticks": "",
           "title": {
            "standoff": 15
           },
           "zerolinecolor": "white",
           "zerolinewidth": 2
          }
         }
        },
        "title": {
         "text": "Monthly Payment per Region",
         "x": 0.5
        },
        "xaxis": {
         "anchor": "y",
         "domain": [
          0,
          1
         ],
         "title": {
          "text": "Month"
         }
        },
        "yaxis": {
         "anchor": "x",
         "domain": [
          0,
          1
         ],
         "title": {
          "text": "Total Amount"
         }
        }
       }
      }
     },
     "metadata": {},
     "output_type": "display_data"
    }
   ],
   "source": [
    "MoM_Payment_Region=df_Payment.groupby(['Region','Payment_Month']).agg({'Amount':'sum'}).sort_values(by='Amount',ascending=False).reset_index()\n",
    "\n",
    "fig=px.bar(MoM_Payment_Region,x='Payment_Month',y='Amount',color='Region',barmode='stack',title='Monthly Payment per Region')\n",
    "fig.update_layout(\n",
    "    title=\"Monthly Payment per Region\",\n",
    "    xaxis_title='Month',\n",
    "    yaxis_title='Total Amount',\n",
    "    title_x=0.5\n",
    "\n",
    ")"
   ]
  },
  {
   "cell_type": "code",
   "execution_count": 48,
   "metadata": {},
   "outputs": [
    {
     "data": {
      "application/vnd.plotly.v1+json": {
       "config": {
        "plotlyServerURL": "https://plot.ly"
       },
       "data": [
        {
         "hovertemplate": "Regions=kisumu<br>Month=%{x}<br>Highest_Month_Pay=%{y}<extra></extra>",
         "legendgroup": "kisumu",
         "marker": {
          "color": "#636efa",
          "pattern": {
           "shape": ""
          }
         },
         "name": "kisumu",
         "orientation": "v",
         "showlegend": true,
         "textposition": "auto",
         "type": "bar",
         "x": {
          "bdata": "AQIDBAUICww=",
          "dtype": "i1"
         },
         "xaxis": "x",
         "y": {
          "bdata": "z3fEBHy8JkGdhGjgodQhQV2q1jNNLiNBPopi8rG2IUGHvzLXI0UiQTU4+0+U2yVBVSFshXAiJkHTfjEWcDsoQQ==",
          "dtype": "f8"
         },
         "yaxis": "y"
        },
        {
         "hovertemplate": "Regions=mombasa<br>Month=%{x}<br>Highest_Month_Pay=%{y}<extra></extra>",
         "legendgroup": "mombasa",
         "marker": {
          "color": "#EF553B",
          "pattern": {
           "shape": ""
          }
         },
         "name": "mombasa",
         "orientation": "v",
         "showlegend": true,
         "textposition": "auto",
         "type": "bar",
         "x": {
          "bdata": "Bgk=",
          "dtype": "i1"
         },
         "xaxis": "x",
         "y": {
          "bdata": "s39SS0FOI0HUV3c9DMgkQQ==",
          "dtype": "f8"
         },
         "yaxis": "y"
        },
        {
         "hovertemplate": "Regions=nairobi<br>Month=%{x}<br>Highest_Month_Pay=%{y}<extra></extra>",
         "legendgroup": "nairobi",
         "marker": {
          "color": "#00cc96",
          "pattern": {
           "shape": ""
          }
         },
         "name": "nairobi",
         "orientation": "v",
         "showlegend": true,
         "textposition": "auto",
         "type": "bar",
         "x": {
          "bdata": "Bwo=",
          "dtype": "i1"
         },
         "xaxis": "x",
         "y": {
          "bdata": "WKXojQLXI0G38TADjpEmQQ==",
          "dtype": "f8"
         },
         "yaxis": "y"
        }
       ],
       "layout": {
        "barmode": "relative",
        "legend": {
         "title": {
          "text": "Regions"
         },
         "tracegroupgap": 0
        },
        "margin": {
         "t": 60
        },
        "template": {
         "data": {
          "bar": [
           {
            "error_x": {
             "color": "#2a3f5f"
            },
            "error_y": {
             "color": "#2a3f5f"
            },
            "marker": {
             "line": {
              "color": "#E5ECF6",
              "width": 0.5
             },
             "pattern": {
              "fillmode": "overlay",
              "size": 10,
              "solidity": 0.2
             }
            },
            "type": "bar"
           }
          ],
          "barpolar": [
           {
            "marker": {
             "line": {
              "color": "#E5ECF6",
              "width": 0.5
             },
             "pattern": {
              "fillmode": "overlay",
              "size": 10,
              "solidity": 0.2
             }
            },
            "type": "barpolar"
           }
          ],
          "carpet": [
           {
            "aaxis": {
             "endlinecolor": "#2a3f5f",
             "gridcolor": "white",
             "linecolor": "white",
             "minorgridcolor": "white",
             "startlinecolor": "#2a3f5f"
            },
            "baxis": {
             "endlinecolor": "#2a3f5f",
             "gridcolor": "white",
             "linecolor": "white",
             "minorgridcolor": "white",
             "startlinecolor": "#2a3f5f"
            },
            "type": "carpet"
           }
          ],
          "choropleth": [
           {
            "colorbar": {
             "outlinewidth": 0,
             "ticks": ""
            },
            "type": "choropleth"
           }
          ],
          "contour": [
           {
            "colorbar": {
             "outlinewidth": 0,
             "ticks": ""
            },
            "colorscale": [
             [
              0,
              "#0d0887"
             ],
             [
              0.1111111111111111,
              "#46039f"
             ],
             [
              0.2222222222222222,
              "#7201a8"
             ],
             [
              0.3333333333333333,
              "#9c179e"
             ],
             [
              0.4444444444444444,
              "#bd3786"
             ],
             [
              0.5555555555555556,
              "#d8576b"
             ],
             [
              0.6666666666666666,
              "#ed7953"
             ],
             [
              0.7777777777777778,
              "#fb9f3a"
             ],
             [
              0.8888888888888888,
              "#fdca26"
             ],
             [
              1,
              "#f0f921"
             ]
            ],
            "type": "contour"
           }
          ],
          "contourcarpet": [
           {
            "colorbar": {
             "outlinewidth": 0,
             "ticks": ""
            },
            "type": "contourcarpet"
           }
          ],
          "heatmap": [
           {
            "colorbar": {
             "outlinewidth": 0,
             "ticks": ""
            },
            "colorscale": [
             [
              0,
              "#0d0887"
             ],
             [
              0.1111111111111111,
              "#46039f"
             ],
             [
              0.2222222222222222,
              "#7201a8"
             ],
             [
              0.3333333333333333,
              "#9c179e"
             ],
             [
              0.4444444444444444,
              "#bd3786"
             ],
             [
              0.5555555555555556,
              "#d8576b"
             ],
             [
              0.6666666666666666,
              "#ed7953"
             ],
             [
              0.7777777777777778,
              "#fb9f3a"
             ],
             [
              0.8888888888888888,
              "#fdca26"
             ],
             [
              1,
              "#f0f921"
             ]
            ],
            "type": "heatmap"
           }
          ],
          "histogram": [
           {
            "marker": {
             "pattern": {
              "fillmode": "overlay",
              "size": 10,
              "solidity": 0.2
             }
            },
            "type": "histogram"
           }
          ],
          "histogram2d": [
           {
            "colorbar": {
             "outlinewidth": 0,
             "ticks": ""
            },
            "colorscale": [
             [
              0,
              "#0d0887"
             ],
             [
              0.1111111111111111,
              "#46039f"
             ],
             [
              0.2222222222222222,
              "#7201a8"
             ],
             [
              0.3333333333333333,
              "#9c179e"
             ],
             [
              0.4444444444444444,
              "#bd3786"
             ],
             [
              0.5555555555555556,
              "#d8576b"
             ],
             [
              0.6666666666666666,
              "#ed7953"
             ],
             [
              0.7777777777777778,
              "#fb9f3a"
             ],
             [
              0.8888888888888888,
              "#fdca26"
             ],
             [
              1,
              "#f0f921"
             ]
            ],
            "type": "histogram2d"
           }
          ],
          "histogram2dcontour": [
           {
            "colorbar": {
             "outlinewidth": 0,
             "ticks": ""
            },
            "colorscale": [
             [
              0,
              "#0d0887"
             ],
             [
              0.1111111111111111,
              "#46039f"
             ],
             [
              0.2222222222222222,
              "#7201a8"
             ],
             [
              0.3333333333333333,
              "#9c179e"
             ],
             [
              0.4444444444444444,
              "#bd3786"
             ],
             [
              0.5555555555555556,
              "#d8576b"
             ],
             [
              0.6666666666666666,
              "#ed7953"
             ],
             [
              0.7777777777777778,
              "#fb9f3a"
             ],
             [
              0.8888888888888888,
              "#fdca26"
             ],
             [
              1,
              "#f0f921"
             ]
            ],
            "type": "histogram2dcontour"
           }
          ],
          "mesh3d": [
           {
            "colorbar": {
             "outlinewidth": 0,
             "ticks": ""
            },
            "type": "mesh3d"
           }
          ],
          "parcoords": [
           {
            "line": {
             "colorbar": {
              "outlinewidth": 0,
              "ticks": ""
             }
            },
            "type": "parcoords"
           }
          ],
          "pie": [
           {
            "automargin": true,
            "type": "pie"
           }
          ],
          "scatter": [
           {
            "fillpattern": {
             "fillmode": "overlay",
             "size": 10,
             "solidity": 0.2
            },
            "type": "scatter"
           }
          ],
          "scatter3d": [
           {
            "line": {
             "colorbar": {
              "outlinewidth": 0,
              "ticks": ""
             }
            },
            "marker": {
             "colorbar": {
              "outlinewidth": 0,
              "ticks": ""
             }
            },
            "type": "scatter3d"
           }
          ],
          "scattercarpet": [
           {
            "marker": {
             "colorbar": {
              "outlinewidth": 0,
              "ticks": ""
             }
            },
            "type": "scattercarpet"
           }
          ],
          "scattergeo": [
           {
            "marker": {
             "colorbar": {
              "outlinewidth": 0,
              "ticks": ""
             }
            },
            "type": "scattergeo"
           }
          ],
          "scattergl": [
           {
            "marker": {
             "colorbar": {
              "outlinewidth": 0,
              "ticks": ""
             }
            },
            "type": "scattergl"
           }
          ],
          "scattermap": [
           {
            "marker": {
             "colorbar": {
              "outlinewidth": 0,
              "ticks": ""
             }
            },
            "type": "scattermap"
           }
          ],
          "scattermapbox": [
           {
            "marker": {
             "colorbar": {
              "outlinewidth": 0,
              "ticks": ""
             }
            },
            "type": "scattermapbox"
           }
          ],
          "scatterpolar": [
           {
            "marker": {
             "colorbar": {
              "outlinewidth": 0,
              "ticks": ""
             }
            },
            "type": "scatterpolar"
           }
          ],
          "scatterpolargl": [
           {
            "marker": {
             "colorbar": {
              "outlinewidth": 0,
              "ticks": ""
             }
            },
            "type": "scatterpolargl"
           }
          ],
          "scatterternary": [
           {
            "marker": {
             "colorbar": {
              "outlinewidth": 0,
              "ticks": ""
             }
            },
            "type": "scatterternary"
           }
          ],
          "surface": [
           {
            "colorbar": {
             "outlinewidth": 0,
             "ticks": ""
            },
            "colorscale": [
             [
              0,
              "#0d0887"
             ],
             [
              0.1111111111111111,
              "#46039f"
             ],
             [
              0.2222222222222222,
              "#7201a8"
             ],
             [
              0.3333333333333333,
              "#9c179e"
             ],
             [
              0.4444444444444444,
              "#bd3786"
             ],
             [
              0.5555555555555556,
              "#d8576b"
             ],
             [
              0.6666666666666666,
              "#ed7953"
             ],
             [
              0.7777777777777778,
              "#fb9f3a"
             ],
             [
              0.8888888888888888,
              "#fdca26"
             ],
             [
              1,
              "#f0f921"
             ]
            ],
            "type": "surface"
           }
          ],
          "table": [
           {
            "cells": {
             "fill": {
              "color": "#EBF0F8"
             },
             "line": {
              "color": "white"
             }
            },
            "header": {
             "fill": {
              "color": "#C8D4E3"
             },
             "line": {
              "color": "white"
             }
            },
            "type": "table"
           }
          ]
         },
         "layout": {
          "annotationdefaults": {
           "arrowcolor": "#2a3f5f",
           "arrowhead": 0,
           "arrowwidth": 1
          },
          "autotypenumbers": "strict",
          "coloraxis": {
           "colorbar": {
            "outlinewidth": 0,
            "ticks": ""
           }
          },
          "colorscale": {
           "diverging": [
            [
             0,
             "#8e0152"
            ],
            [
             0.1,
             "#c51b7d"
            ],
            [
             0.2,
             "#de77ae"
            ],
            [
             0.3,
             "#f1b6da"
            ],
            [
             0.4,
             "#fde0ef"
            ],
            [
             0.5,
             "#f7f7f7"
            ],
            [
             0.6,
             "#e6f5d0"
            ],
            [
             0.7,
             "#b8e186"
            ],
            [
             0.8,
             "#7fbc41"
            ],
            [
             0.9,
             "#4d9221"
            ],
            [
             1,
             "#276419"
            ]
           ],
           "sequential": [
            [
             0,
             "#0d0887"
            ],
            [
             0.1111111111111111,
             "#46039f"
            ],
            [
             0.2222222222222222,
             "#7201a8"
            ],
            [
             0.3333333333333333,
             "#9c179e"
            ],
            [
             0.4444444444444444,
             "#bd3786"
            ],
            [
             0.5555555555555556,
             "#d8576b"
            ],
            [
             0.6666666666666666,
             "#ed7953"
            ],
            [
             0.7777777777777778,
             "#fb9f3a"
            ],
            [
             0.8888888888888888,
             "#fdca26"
            ],
            [
             1,
             "#f0f921"
            ]
           ],
           "sequentialminus": [
            [
             0,
             "#0d0887"
            ],
            [
             0.1111111111111111,
             "#46039f"
            ],
            [
             0.2222222222222222,
             "#7201a8"
            ],
            [
             0.3333333333333333,
             "#9c179e"
            ],
            [
             0.4444444444444444,
             "#bd3786"
            ],
            [
             0.5555555555555556,
             "#d8576b"
            ],
            [
             0.6666666666666666,
             "#ed7953"
            ],
            [
             0.7777777777777778,
             "#fb9f3a"
            ],
            [
             0.8888888888888888,
             "#fdca26"
            ],
            [
             1,
             "#f0f921"
            ]
           ]
          },
          "colorway": [
           "#636efa",
           "#EF553B",
           "#00cc96",
           "#ab63fa",
           "#FFA15A",
           "#19d3f3",
           "#FF6692",
           "#B6E880",
           "#FF97FF",
           "#FECB52"
          ],
          "font": {
           "color": "#2a3f5f"
          },
          "geo": {
           "bgcolor": "white",
           "lakecolor": "white",
           "landcolor": "#E5ECF6",
           "showlakes": true,
           "showland": true,
           "subunitcolor": "white"
          },
          "hoverlabel": {
           "align": "left"
          },
          "hovermode": "closest",
          "mapbox": {
           "style": "light"
          },
          "paper_bgcolor": "white",
          "plot_bgcolor": "#E5ECF6",
          "polar": {
           "angularaxis": {
            "gridcolor": "white",
            "linecolor": "white",
            "ticks": ""
           },
           "bgcolor": "#E5ECF6",
           "radialaxis": {
            "gridcolor": "white",
            "linecolor": "white",
            "ticks": ""
           }
          },
          "scene": {
           "xaxis": {
            "backgroundcolor": "#E5ECF6",
            "gridcolor": "white",
            "gridwidth": 2,
            "linecolor": "white",
            "showbackground": true,
            "ticks": "",
            "zerolinecolor": "white"
           },
           "yaxis": {
            "backgroundcolor": "#E5ECF6",
            "gridcolor": "white",
            "gridwidth": 2,
            "linecolor": "white",
            "showbackground": true,
            "ticks": "",
            "zerolinecolor": "white"
           },
           "zaxis": {
            "backgroundcolor": "#E5ECF6",
            "gridcolor": "white",
            "gridwidth": 2,
            "linecolor": "white",
            "showbackground": true,
            "ticks": "",
            "zerolinecolor": "white"
           }
          },
          "shapedefaults": {
           "line": {
            "color": "#2a3f5f"
           }
          },
          "ternary": {
           "aaxis": {
            "gridcolor": "white",
            "linecolor": "white",
            "ticks": ""
           },
           "baxis": {
            "gridcolor": "white",
            "linecolor": "white",
            "ticks": ""
           },
           "bgcolor": "#E5ECF6",
           "caxis": {
            "gridcolor": "white",
            "linecolor": "white",
            "ticks": ""
           }
          },
          "title": {
           "x": 0.05
          },
          "xaxis": {
           "automargin": true,
           "gridcolor": "white",
           "linecolor": "white",
           "ticks": "",
           "title": {
            "standoff": 15
           },
           "zerolinecolor": "white",
           "zerolinewidth": 2
          },
          "yaxis": {
           "automargin": true,
           "gridcolor": "white",
           "linecolor": "white",
           "ticks": "",
           "title": {
            "standoff": 15
           },
           "zerolinecolor": "white",
           "zerolinewidth": 2
          }
         }
        },
        "xaxis": {
         "anchor": "y",
         "domain": [
          0,
          1
         ],
         "title": {
          "text": "Month"
         }
        },
        "yaxis": {
         "anchor": "x",
         "domain": [
          0,
          1
         ],
         "title": {
          "text": "Highest_Month_Pay"
         }
        }
       }
      }
     },
     "metadata": {},
     "output_type": "display_data"
    }
   ],
   "source": [
    "region_pay_piv=MoM_Payment_Region.pivot_table(index='Region',columns='Payment_Month',values='Amount')\n",
    "region_pay_piv.columns.name=None\n",
    "region_pay_piv=region_pay_piv.reset_index()\n",
    "#um_prod_pivot.iloc[:,1:].max((axis=0)\n",
    "max_values=region_pay_piv.iloc[:,1:].max(axis=0)\n",
    "\n",
    "#apply(lambda x:sum_prod_pivot.loc[x,'Product'])\n",
    "max_regs=region_pay_piv.iloc[:,1:].idxmax(axis=0).apply(lambda x: region_pay_piv.loc[x,'Region'])\n",
    "\n",
    "\n",
    "max_details=DataFrame({'Highest_Month_Pay':max_values,'Regions':max_regs})\n",
    "max_details=max_details.reset_index().rename(columns={'index':'Month'})\n",
    "\n",
    "px.bar(max_details,x='Month',y='Highest_Month_Pay',color='Regions')\n"
   ]
  },
  {
   "cell_type": "markdown",
   "metadata": {},
   "source": [
    "## Q2 Kisimu Region had the best customers paying on monthly basis, as they toped payment 8 out of 12 months"
   ]
  },
  {
   "cell_type": "code",
   "execution_count": null,
   "metadata": {},
   "outputs": [],
   "source": []
  },
  {
   "cell_type": "code",
   "execution_count": 49,
   "metadata": {},
   "outputs": [
    {
     "data": {
      "text/html": [
       "<div>\n",
       "<style scoped>\n",
       "    .dataframe tbody tr th:only-of-type {\n",
       "        vertical-align: middle;\n",
       "    }\n",
       "\n",
       "    .dataframe tbody tr th {\n",
       "        vertical-align: top;\n",
       "    }\n",
       "\n",
       "    .dataframe thead th {\n",
       "        text-align: right;\n",
       "    }\n",
       "</style>\n",
       "<table border=\"1\" class=\"dataframe\">\n",
       "  <thead>\n",
       "    <tr style=\"text-align: right;\">\n",
       "      <th></th>\n",
       "      <th>PaymentPlanId</th>\n",
       "      <th>Product</th>\n",
       "      <th>DailyValue</th>\n",
       "      <th>LoanTerm</th>\n",
       "      <th>Deposit</th>\n",
       "      <th>TotalValue</th>\n",
       "    </tr>\n",
       "  </thead>\n",
       "  <tbody>\n",
       "    <tr>\n",
       "      <th>0</th>\n",
       "      <td>10</td>\n",
       "      <td>tv</td>\n",
       "      <td>75</td>\n",
       "      <td>200</td>\n",
       "      <td>1125</td>\n",
       "      <td>16125</td>\n",
       "    </tr>\n",
       "    <tr>\n",
       "      <th>1</th>\n",
       "      <td>11</td>\n",
       "      <td>phone</td>\n",
       "      <td>35</td>\n",
       "      <td>150</td>\n",
       "      <td>175</td>\n",
       "      <td>5425</td>\n",
       "    </tr>\n",
       "    <tr>\n",
       "      <th>2</th>\n",
       "      <td>12</td>\n",
       "      <td>phone</td>\n",
       "      <td>25</td>\n",
       "      <td>300</td>\n",
       "      <td>500</td>\n",
       "      <td>8000</td>\n",
       "    </tr>\n",
       "    <tr>\n",
       "      <th>3</th>\n",
       "      <td>13</td>\n",
       "      <td>solar</td>\n",
       "      <td>45</td>\n",
       "      <td>200</td>\n",
       "      <td>1125</td>\n",
       "      <td>10125</td>\n",
       "    </tr>\n",
       "    <tr>\n",
       "      <th>4</th>\n",
       "      <td>15</td>\n",
       "      <td>solar</td>\n",
       "      <td>50</td>\n",
       "      <td>200</td>\n",
       "      <td>1250</td>\n",
       "      <td>11250</td>\n",
       "    </tr>\n",
       "  </tbody>\n",
       "</table>\n",
       "</div>"
      ],
      "text/plain": [
       "   PaymentPlanId Product  DailyValue  LoanTerm  Deposit  TotalValue\n",
       "0             10      tv          75       200     1125       16125\n",
       "1             11   phone          35       150      175        5425\n",
       "2             12   phone          25       300      500        8000\n",
       "3             13   solar          45       200     1125       10125\n",
       "4             15   solar          50       200     1250       11250"
      ]
     },
     "execution_count": 49,
     "metadata": {},
     "output_type": "execute_result"
    }
   ],
   "source": [
    "df_PaymentPlan.head()"
   ]
  },
  {
   "cell_type": "code",
   "execution_count": 50,
   "metadata": {},
   "outputs": [
    {
     "data": {
      "text/html": [
       "<div>\n",
       "<style scoped>\n",
       "    .dataframe tbody tr th:only-of-type {\n",
       "        vertical-align: middle;\n",
       "    }\n",
       "\n",
       "    .dataframe tbody tr th {\n",
       "        vertical-align: top;\n",
       "    }\n",
       "\n",
       "    .dataframe thead th {\n",
       "        text-align: right;\n",
       "    }\n",
       "</style>\n",
       "<table border=\"1\" class=\"dataframe\">\n",
       "  <thead>\n",
       "    <tr style=\"text-align: right;\">\n",
       "      <th></th>\n",
       "      <th>PaymentId</th>\n",
       "      <th>Amount</th>\n",
       "      <th>ReceivedWhen</th>\n",
       "      <th>AccountId</th>\n",
       "      <th>PaymentType</th>\n",
       "      <th>Payment_Month</th>\n",
       "      <th>Weekday</th>\n",
       "      <th>Year</th>\n",
       "      <th>Region</th>\n",
       "    </tr>\n",
       "  </thead>\n",
       "  <tbody>\n",
       "    <tr>\n",
       "      <th>0</th>\n",
       "      <td>1000</td>\n",
       "      <td>125.960784</td>\n",
       "      <td>2020-09-13</td>\n",
       "      <td>6717</td>\n",
       "      <td>DailyPayment</td>\n",
       "      <td>9</td>\n",
       "      <td>Sun</td>\n",
       "      <td>2020</td>\n",
       "      <td>nairobi</td>\n",
       "    </tr>\n",
       "    <tr>\n",
       "      <th>1</th>\n",
       "      <td>1001</td>\n",
       "      <td>87.661685</td>\n",
       "      <td>2020-02-01</td>\n",
       "      <td>8804</td>\n",
       "      <td>DailyPayment</td>\n",
       "      <td>2</td>\n",
       "      <td>Sat</td>\n",
       "      <td>2020</td>\n",
       "      <td>nairobi</td>\n",
       "    </tr>\n",
       "    <tr>\n",
       "      <th>2</th>\n",
       "      <td>1009</td>\n",
       "      <td>61.505239</td>\n",
       "      <td>2021-01-15</td>\n",
       "      <td>5735</td>\n",
       "      <td>DailyPayment</td>\n",
       "      <td>1</td>\n",
       "      <td>Fri</td>\n",
       "      <td>2021</td>\n",
       "      <td>nairobi</td>\n",
       "    </tr>\n",
       "    <tr>\n",
       "      <th>3</th>\n",
       "      <td>1013</td>\n",
       "      <td>131.917558</td>\n",
       "      <td>2021-07-12</td>\n",
       "      <td>6837</td>\n",
       "      <td>DailyPayment</td>\n",
       "      <td>7</td>\n",
       "      <td>Mon</td>\n",
       "      <td>2021</td>\n",
       "      <td>kisumu</td>\n",
       "    </tr>\n",
       "    <tr>\n",
       "      <th>4</th>\n",
       "      <td>1017</td>\n",
       "      <td>100.770597</td>\n",
       "      <td>2020-09-24</td>\n",
       "      <td>5457</td>\n",
       "      <td>DailyPayment</td>\n",
       "      <td>9</td>\n",
       "      <td>Thu</td>\n",
       "      <td>2020</td>\n",
       "      <td>mombasa</td>\n",
       "    </tr>\n",
       "  </tbody>\n",
       "</table>\n",
       "</div>"
      ],
      "text/plain": [
       "   PaymentId      Amount ReceivedWhen  AccountId   PaymentType  Payment_Month  \\\n",
       "0       1000  125.960784   2020-09-13       6717  DailyPayment              9   \n",
       "1       1001   87.661685   2020-02-01       8804  DailyPayment              2   \n",
       "2       1009   61.505239   2021-01-15       5735  DailyPayment              1   \n",
       "3       1013  131.917558   2021-07-12       6837  DailyPayment              7   \n",
       "4       1017  100.770597   2020-09-24       5457  DailyPayment              9   \n",
       "\n",
       "  Weekday  Year   Region  \n",
       "0     Sun  2020  nairobi  \n",
       "1     Sat  2020  nairobi  \n",
       "2     Fri  2021  nairobi  \n",
       "3     Mon  2021   kisumu  \n",
       "4     Thu  2020  mombasa  "
      ]
     },
     "execution_count": 50,
     "metadata": {},
     "output_type": "execute_result"
    }
   ],
   "source": [
    "df_Payment.head()"
   ]
  },
  {
   "cell_type": "code",
   "execution_count": 51,
   "metadata": {},
   "outputs": [
    {
     "data": {
      "text/html": [
       "<div>\n",
       "<style scoped>\n",
       "    .dataframe tbody tr th:only-of-type {\n",
       "        vertical-align: middle;\n",
       "    }\n",
       "\n",
       "    .dataframe tbody tr th {\n",
       "        vertical-align: top;\n",
       "    }\n",
       "\n",
       "    .dataframe thead th {\n",
       "        text-align: right;\n",
       "    }\n",
       "</style>\n",
       "<table border=\"1\" class=\"dataframe\">\n",
       "  <thead>\n",
       "    <tr style=\"text-align: right;\">\n",
       "      <th></th>\n",
       "      <th>AccountId</th>\n",
       "      <th>RegistrationDate</th>\n",
       "      <th>CustomerId</th>\n",
       "      <th>PaymentPlanId</th>\n",
       "      <th>FullName</th>\n",
       "      <th>Region</th>\n",
       "      <th>Month</th>\n",
       "      <th>Year</th>\n",
       "      <th>Product</th>\n",
       "      <th>Deposit</th>\n",
       "      <th>TotalValue</th>\n",
       "    </tr>\n",
       "  </thead>\n",
       "  <tbody>\n",
       "    <tr>\n",
       "      <th>0</th>\n",
       "      <td>5000</td>\n",
       "      <td>2020-03-30</td>\n",
       "      <td>4720</td>\n",
       "      <td>63</td>\n",
       "      <td>Michael Mbori</td>\n",
       "      <td>nairobi</td>\n",
       "      <td>3</td>\n",
       "      <td>2020</td>\n",
       "      <td>phone</td>\n",
       "      <td>250</td>\n",
       "      <td>7750</td>\n",
       "    </tr>\n",
       "    <tr>\n",
       "      <th>1</th>\n",
       "      <td>5002</td>\n",
       "      <td>2020-06-06</td>\n",
       "      <td>2674</td>\n",
       "      <td>63</td>\n",
       "      <td>Titus Mbori</td>\n",
       "      <td>kisumu</td>\n",
       "      <td>6</td>\n",
       "      <td>2020</td>\n",
       "      <td>phone</td>\n",
       "      <td>250</td>\n",
       "      <td>7750</td>\n",
       "    </tr>\n",
       "    <tr>\n",
       "      <th>2</th>\n",
       "      <td>5003</td>\n",
       "      <td>2020-02-28</td>\n",
       "      <td>2495</td>\n",
       "      <td>69</td>\n",
       "      <td>Mercy Warimu</td>\n",
       "      <td>mombasa</td>\n",
       "      <td>2</td>\n",
       "      <td>2020</td>\n",
       "      <td>tv</td>\n",
       "      <td>1375</td>\n",
       "      <td>23375</td>\n",
       "    </tr>\n",
       "    <tr>\n",
       "      <th>3</th>\n",
       "      <td>5007</td>\n",
       "      <td>2020-02-20</td>\n",
       "      <td>1749</td>\n",
       "      <td>37</td>\n",
       "      <td>Frank Lwoyelo</td>\n",
       "      <td>mombasa</td>\n",
       "      <td>2</td>\n",
       "      <td>2020</td>\n",
       "      <td>solar</td>\n",
       "      <td>675</td>\n",
       "      <td>9675</td>\n",
       "    </tr>\n",
       "    <tr>\n",
       "      <th>4</th>\n",
       "      <td>5010</td>\n",
       "      <td>2020-09-03</td>\n",
       "      <td>2905</td>\n",
       "      <td>20</td>\n",
       "      <td>Titus Mbori</td>\n",
       "      <td>nairobi</td>\n",
       "      <td>9</td>\n",
       "      <td>2020</td>\n",
       "      <td>solar</td>\n",
       "      <td>1625</td>\n",
       "      <td>27625</td>\n",
       "    </tr>\n",
       "  </tbody>\n",
       "</table>\n",
       "</div>"
      ],
      "text/plain": [
       "   AccountId RegistrationDate  CustomerId  PaymentPlanId       FullName  \\\n",
       "0       5000       2020-03-30        4720             63  Michael Mbori   \n",
       "1       5002       2020-06-06        2674             63    Titus Mbori   \n",
       "2       5003       2020-02-28        2495             69   Mercy Warimu   \n",
       "3       5007       2020-02-20        1749             37  Frank Lwoyelo   \n",
       "4       5010       2020-09-03        2905             20    Titus Mbori   \n",
       "\n",
       "    Region  Month  Year Product  Deposit  TotalValue  \n",
       "0  nairobi      3  2020   phone      250        7750  \n",
       "1   kisumu      6  2020   phone      250        7750  \n",
       "2  mombasa      2  2020      tv     1375       23375  \n",
       "3  mombasa      2  2020   solar      675        9675  \n",
       "4  nairobi      9  2020   solar     1625       27625  "
      ]
     },
     "execution_count": 51,
     "metadata": {},
     "output_type": "execute_result"
    }
   ],
   "source": [
    "\n",
    "df_Payment.head()\n",
    "#df_PaymentPlan.head()\n",
    "df_Account_upd.head()\n",
    "\n"
   ]
  },
  {
   "cell_type": "code",
   "execution_count": 52,
   "metadata": {},
   "outputs": [],
   "source": [
    "df_Payment=df_Payment.merge(df_Account_upd[['AccountId','Product']],how='left',on='AccountId')"
   ]
  },
  {
   "cell_type": "code",
   "execution_count": 53,
   "metadata": {},
   "outputs": [
    {
     "data": {
      "text/html": [
       "<div>\n",
       "<style scoped>\n",
       "    .dataframe tbody tr th:only-of-type {\n",
       "        vertical-align: middle;\n",
       "    }\n",
       "\n",
       "    .dataframe tbody tr th {\n",
       "        vertical-align: top;\n",
       "    }\n",
       "\n",
       "    .dataframe thead th {\n",
       "        text-align: right;\n",
       "    }\n",
       "</style>\n",
       "<table border=\"1\" class=\"dataframe\">\n",
       "  <thead>\n",
       "    <tr style=\"text-align: right;\">\n",
       "      <th></th>\n",
       "      <th>PaymentId</th>\n",
       "      <th>Amount</th>\n",
       "      <th>ReceivedWhen</th>\n",
       "      <th>AccountId</th>\n",
       "      <th>PaymentType</th>\n",
       "      <th>Payment_Month</th>\n",
       "      <th>Weekday</th>\n",
       "      <th>Year</th>\n",
       "      <th>Region</th>\n",
       "      <th>Product</th>\n",
       "    </tr>\n",
       "  </thead>\n",
       "  <tbody>\n",
       "    <tr>\n",
       "      <th>0</th>\n",
       "      <td>1000</td>\n",
       "      <td>125.960784</td>\n",
       "      <td>2020-09-13</td>\n",
       "      <td>6717</td>\n",
       "      <td>DailyPayment</td>\n",
       "      <td>9</td>\n",
       "      <td>Sun</td>\n",
       "      <td>2020</td>\n",
       "      <td>nairobi</td>\n",
       "      <td>tv</td>\n",
       "    </tr>\n",
       "    <tr>\n",
       "      <th>1</th>\n",
       "      <td>1001</td>\n",
       "      <td>87.661685</td>\n",
       "      <td>2020-02-01</td>\n",
       "      <td>8804</td>\n",
       "      <td>DailyPayment</td>\n",
       "      <td>2</td>\n",
       "      <td>Sat</td>\n",
       "      <td>2020</td>\n",
       "      <td>nairobi</td>\n",
       "      <td>tv</td>\n",
       "    </tr>\n",
       "    <tr>\n",
       "      <th>2</th>\n",
       "      <td>1009</td>\n",
       "      <td>61.505239</td>\n",
       "      <td>2021-01-15</td>\n",
       "      <td>5735</td>\n",
       "      <td>DailyPayment</td>\n",
       "      <td>1</td>\n",
       "      <td>Fri</td>\n",
       "      <td>2021</td>\n",
       "      <td>nairobi</td>\n",
       "      <td>phone</td>\n",
       "    </tr>\n",
       "    <tr>\n",
       "      <th>3</th>\n",
       "      <td>1013</td>\n",
       "      <td>131.917558</td>\n",
       "      <td>2021-07-12</td>\n",
       "      <td>6837</td>\n",
       "      <td>DailyPayment</td>\n",
       "      <td>7</td>\n",
       "      <td>Mon</td>\n",
       "      <td>2021</td>\n",
       "      <td>kisumu</td>\n",
       "      <td>solar</td>\n",
       "    </tr>\n",
       "    <tr>\n",
       "      <th>4</th>\n",
       "      <td>1017</td>\n",
       "      <td>100.770597</td>\n",
       "      <td>2020-09-24</td>\n",
       "      <td>5457</td>\n",
       "      <td>DailyPayment</td>\n",
       "      <td>9</td>\n",
       "      <td>Thu</td>\n",
       "      <td>2020</td>\n",
       "      <td>mombasa</td>\n",
       "      <td>solar</td>\n",
       "    </tr>\n",
       "  </tbody>\n",
       "</table>\n",
       "</div>"
      ],
      "text/plain": [
       "   PaymentId      Amount ReceivedWhen  AccountId   PaymentType  Payment_Month  \\\n",
       "0       1000  125.960784   2020-09-13       6717  DailyPayment              9   \n",
       "1       1001   87.661685   2020-02-01       8804  DailyPayment              2   \n",
       "2       1009   61.505239   2021-01-15       5735  DailyPayment              1   \n",
       "3       1013  131.917558   2021-07-12       6837  DailyPayment              7   \n",
       "4       1017  100.770597   2020-09-24       5457  DailyPayment              9   \n",
       "\n",
       "  Weekday  Year   Region Product  \n",
       "0     Sun  2020  nairobi      tv  \n",
       "1     Sat  2020  nairobi      tv  \n",
       "2     Fri  2021  nairobi   phone  \n",
       "3     Mon  2021   kisumu   solar  \n",
       "4     Thu  2020  mombasa   solar  "
      ]
     },
     "execution_count": 53,
     "metadata": {},
     "output_type": "execute_result"
    }
   ],
   "source": [
    "df_Payment.head()"
   ]
  },
  {
   "cell_type": "code",
   "execution_count": 54,
   "metadata": {},
   "outputs": [
    {
     "data": {
      "text/html": [
       "<div>\n",
       "<style scoped>\n",
       "    .dataframe tbody tr th:only-of-type {\n",
       "        vertical-align: middle;\n",
       "    }\n",
       "\n",
       "    .dataframe tbody tr th {\n",
       "        vertical-align: top;\n",
       "    }\n",
       "\n",
       "    .dataframe thead th {\n",
       "        text-align: right;\n",
       "    }\n",
       "</style>\n",
       "<table border=\"1\" class=\"dataframe\">\n",
       "  <thead>\n",
       "    <tr style=\"text-align: right;\">\n",
       "      <th></th>\n",
       "      <th>Product</th>\n",
       "      <th>Region</th>\n",
       "      <th>Amount</th>\n",
       "    </tr>\n",
       "  </thead>\n",
       "  <tbody>\n",
       "    <tr>\n",
       "      <th>7</th>\n",
       "      <td>tv</td>\n",
       "      <td>mombasa</td>\n",
       "      <td>4.207409e+06</td>\n",
       "    </tr>\n",
       "    <tr>\n",
       "      <th>8</th>\n",
       "      <td>tv</td>\n",
       "      <td>nairobi</td>\n",
       "      <td>4.175518e+06</td>\n",
       "    </tr>\n",
       "    <tr>\n",
       "      <th>6</th>\n",
       "      <td>tv</td>\n",
       "      <td>kisumu</td>\n",
       "      <td>4.157756e+06</td>\n",
       "    </tr>\n",
       "    <tr>\n",
       "      <th>3</th>\n",
       "      <td>solar</td>\n",
       "      <td>kisumu</td>\n",
       "      <td>2.752470e+06</td>\n",
       "    </tr>\n",
       "    <tr>\n",
       "      <th>4</th>\n",
       "      <td>solar</td>\n",
       "      <td>mombasa</td>\n",
       "      <td>2.618553e+06</td>\n",
       "    </tr>\n",
       "    <tr>\n",
       "      <th>5</th>\n",
       "      <td>solar</td>\n",
       "      <td>nairobi</td>\n",
       "      <td>2.450595e+06</td>\n",
       "    </tr>\n",
       "    <tr>\n",
       "      <th>2</th>\n",
       "      <td>phone</td>\n",
       "      <td>nairobi</td>\n",
       "      <td>1.149502e+06</td>\n",
       "    </tr>\n",
       "    <tr>\n",
       "      <th>1</th>\n",
       "      <td>phone</td>\n",
       "      <td>mombasa</td>\n",
       "      <td>1.050212e+06</td>\n",
       "    </tr>\n",
       "    <tr>\n",
       "      <th>0</th>\n",
       "      <td>phone</td>\n",
       "      <td>kisumu</td>\n",
       "      <td>1.031380e+06</td>\n",
       "    </tr>\n",
       "  </tbody>\n",
       "</table>\n",
       "</div>"
      ],
      "text/plain": [
       "  Product   Region        Amount\n",
       "7      tv  mombasa  4.207409e+06\n",
       "8      tv  nairobi  4.175518e+06\n",
       "6      tv   kisumu  4.157756e+06\n",
       "3   solar   kisumu  2.752470e+06\n",
       "4   solar  mombasa  2.618553e+06\n",
       "5   solar  nairobi  2.450595e+06\n",
       "2   phone  nairobi  1.149502e+06\n",
       "1   phone  mombasa  1.050212e+06\n",
       "0   phone   kisumu  1.031380e+06"
      ]
     },
     "execution_count": 54,
     "metadata": {},
     "output_type": "execute_result"
    }
   ],
   "source": [
    "df_Payment.groupby(['Product','Region']).agg({'Amount':'sum'}).reset_index().sort_values(by='Amount',ascending=False)"
   ]
  },
  {
   "cell_type": "code",
   "execution_count": 55,
   "metadata": {},
   "outputs": [
    {
     "data": {
      "text/html": [
       "<div>\n",
       "<style scoped>\n",
       "    .dataframe tbody tr th:only-of-type {\n",
       "        vertical-align: middle;\n",
       "    }\n",
       "\n",
       "    .dataframe tbody tr th {\n",
       "        vertical-align: top;\n",
       "    }\n",
       "\n",
       "    .dataframe thead th {\n",
       "        text-align: right;\n",
       "    }\n",
       "</style>\n",
       "<table border=\"1\" class=\"dataframe\">\n",
       "  <thead>\n",
       "    <tr style=\"text-align: right;\">\n",
       "      <th></th>\n",
       "      <th>CustomerId</th>\n",
       "      <th>PaymentPlanId</th>\n",
       "    </tr>\n",
       "  </thead>\n",
       "  <tbody>\n",
       "  </tbody>\n",
       "</table>\n",
       "</div>"
      ],
      "text/plain": [
       "Empty DataFrame\n",
       "Columns: [CustomerId, PaymentPlanId]\n",
       "Index: []"
      ]
     },
     "execution_count": 55,
     "metadata": {},
     "output_type": "execute_result"
    }
   ],
   "source": [
    "eg=df_Account_upd.groupby(['CustomerId']).agg({'PaymentPlanId':'count'}).reset_index()\n",
    "eg[eg['PaymentPlanId']>1]"
   ]
  },
  {
   "cell_type": "markdown",
   "metadata": {},
   "source": [
    "## Q3. TV being our best selling product has the customers paying month on month more than any product"
   ]
  },
  {
   "cell_type": "code",
   "execution_count": null,
   "metadata": {},
   "outputs": [],
   "source": []
  },
  {
   "cell_type": "code",
   "execution_count": 56,
   "metadata": {},
   "outputs": [],
   "source": [
    "try_eg=df_Payment.groupby(['AccountId']).agg({'ReceivedWhen':'max'}).reset_index()\n",
    "\n",
    "try_eg_ex=df_Account_upd.merge(try_eg,on='AccountId',how='left')\n",
    "\n",
    "try_eg_ex['Last_pay_duration']=(\n",
    "    (try_eg_ex['ReceivedWhen'].dt.year - try_eg_ex['RegistrationDate'].dt.year) * 12 +\n",
    "    (try_eg_ex['ReceivedWhen'].dt.month - try_eg_ex['RegistrationDate'].dt.month)\n",
    ")"
   ]
  },
  {
   "cell_type": "code",
   "execution_count": 57,
   "metadata": {},
   "outputs": [
    {
     "data": {
      "text/plain": [
       "AccountId                           8996\n",
       "RegistrationDate     2020-06-26 00:00:00\n",
       "CustomerId                          3162\n",
       "PaymentPlanId                         49\n",
       "FullName                   Dorcas Chocho\n",
       "Region                           nairobi\n",
       "Month                                  6\n",
       "Year                                2020\n",
       "Product                            solar\n",
       "Deposit                              900\n",
       "TotalValue                         18900\n",
       "ReceivedWhen         2021-07-25 00:00:00\n",
       "Last_pay_duration                     13\n",
       "Name: 1998, dtype: object"
      ]
     },
     "execution_count": 57,
     "metadata": {},
     "output_type": "execute_result"
    }
   ],
   "source": [
    "try_eg_ex.iloc[1998]"
   ]
  },
  {
   "cell_type": "code",
   "execution_count": 58,
   "metadata": {},
   "outputs": [
    {
     "data": {
      "text/html": [
       "<div>\n",
       "<style scoped>\n",
       "    .dataframe tbody tr th:only-of-type {\n",
       "        vertical-align: middle;\n",
       "    }\n",
       "\n",
       "    .dataframe tbody tr th {\n",
       "        vertical-align: top;\n",
       "    }\n",
       "\n",
       "    .dataframe thead th {\n",
       "        text-align: right;\n",
       "    }\n",
       "</style>\n",
       "<table border=\"1\" class=\"dataframe\">\n",
       "  <thead>\n",
       "    <tr style=\"text-align: right;\">\n",
       "      <th></th>\n",
       "      <th>AccountId</th>\n",
       "      <th>RegistrationDate</th>\n",
       "      <th>CustomerId</th>\n",
       "      <th>PaymentPlanId</th>\n",
       "      <th>FullName</th>\n",
       "      <th>Region</th>\n",
       "      <th>Month</th>\n",
       "      <th>Year</th>\n",
       "      <th>Product</th>\n",
       "      <th>Deposit</th>\n",
       "      <th>TotalValue</th>\n",
       "    </tr>\n",
       "  </thead>\n",
       "  <tbody>\n",
       "    <tr>\n",
       "      <th>1998</th>\n",
       "      <td>8996</td>\n",
       "      <td>2020-06-26</td>\n",
       "      <td>3162</td>\n",
       "      <td>49</td>\n",
       "      <td>Dorcas Chocho</td>\n",
       "      <td>nairobi</td>\n",
       "      <td>6</td>\n",
       "      <td>2020</td>\n",
       "      <td>solar</td>\n",
       "      <td>900</td>\n",
       "      <td>18900</td>\n",
       "    </tr>\n",
       "  </tbody>\n",
       "</table>\n",
       "</div>"
      ],
      "text/plain": [
       "      AccountId RegistrationDate  CustomerId  PaymentPlanId       FullName  \\\n",
       "1998       8996       2020-06-26        3162             49  Dorcas Chocho   \n",
       "\n",
       "       Region  Month  Year Product  Deposit  TotalValue  \n",
       "1998  nairobi      6  2020   solar      900       18900  "
      ]
     },
     "execution_count": 58,
     "metadata": {},
     "output_type": "execute_result"
    }
   ],
   "source": [
    "df_Account_upd[df_Account_upd['AccountId']==8996]"
   ]
  },
  {
   "cell_type": "code",
   "execution_count": 59,
   "metadata": {},
   "outputs": [
    {
     "data": {
      "text/plain": [
       "135207   2021-08-24\n",
       "171898   2021-08-24\n",
       "220868   2021-08-24\n",
       "78864    2021-08-24\n",
       "7136     2021-08-24\n",
       "            ...    \n",
       "133241   2020-01-02\n",
       "73928    2020-01-02\n",
       "186317   2020-01-01\n",
       "127309   2020-01-01\n",
       "53903    2020-01-01\n",
       "Name: ReceivedWhen, Length: 234553, dtype: datetime64[ns]"
      ]
     },
     "execution_count": 59,
     "metadata": {},
     "output_type": "execute_result"
    }
   ],
   "source": [
    "df_Payment['ReceivedWhen'].sort_values(ascending=False)"
   ]
  },
  {
   "cell_type": "code",
   "execution_count": 60,
   "metadata": {},
   "outputs": [
    {
     "data": {
      "text/html": [
       "<div>\n",
       "<style scoped>\n",
       "    .dataframe tbody tr th:only-of-type {\n",
       "        vertical-align: middle;\n",
       "    }\n",
       "\n",
       "    .dataframe tbody tr th {\n",
       "        vertical-align: top;\n",
       "    }\n",
       "\n",
       "    .dataframe thead th {\n",
       "        text-align: right;\n",
       "    }\n",
       "</style>\n",
       "<table border=\"1\" class=\"dataframe\">\n",
       "  <thead>\n",
       "    <tr style=\"text-align: right;\">\n",
       "      <th></th>\n",
       "      <th>PaymentId</th>\n",
       "      <th>Amount</th>\n",
       "      <th>ReceivedWhen</th>\n",
       "      <th>AccountId</th>\n",
       "      <th>PaymentType</th>\n",
       "      <th>Payment_Month</th>\n",
       "      <th>Weekday</th>\n",
       "      <th>Year</th>\n",
       "      <th>Region</th>\n",
       "      <th>Product</th>\n",
       "    </tr>\n",
       "  </thead>\n",
       "  <tbody>\n",
       "    <tr>\n",
       "      <th>5779</th>\n",
       "      <td>12636</td>\n",
       "      <td>87.076613</td>\n",
       "      <td>2021-04-15</td>\n",
       "      <td>8996</td>\n",
       "      <td>DailyPayment</td>\n",
       "      <td>4</td>\n",
       "      <td>Thu</td>\n",
       "      <td>2021</td>\n",
       "      <td>nairobi</td>\n",
       "      <td>solar</td>\n",
       "    </tr>\n",
       "    <tr>\n",
       "      <th>7484</th>\n",
       "      <td>16076</td>\n",
       "      <td>87.076613</td>\n",
       "      <td>2021-02-02</td>\n",
       "      <td>8996</td>\n",
       "      <td>DailyPayment</td>\n",
       "      <td>2</td>\n",
       "      <td>Tue</td>\n",
       "      <td>2021</td>\n",
       "      <td>nairobi</td>\n",
       "      <td>solar</td>\n",
       "    </tr>\n",
       "    <tr>\n",
       "      <th>9546</th>\n",
       "      <td>20263</td>\n",
       "      <td>87.076613</td>\n",
       "      <td>2021-03-03</td>\n",
       "      <td>8996</td>\n",
       "      <td>DailyPayment</td>\n",
       "      <td>3</td>\n",
       "      <td>Wed</td>\n",
       "      <td>2021</td>\n",
       "      <td>nairobi</td>\n",
       "      <td>solar</td>\n",
       "    </tr>\n",
       "    <tr>\n",
       "      <th>13166</th>\n",
       "      <td>27600</td>\n",
       "      <td>87.076613</td>\n",
       "      <td>2021-03-20</td>\n",
       "      <td>8996</td>\n",
       "      <td>DailyPayment</td>\n",
       "      <td>3</td>\n",
       "      <td>Sat</td>\n",
       "      <td>2021</td>\n",
       "      <td>nairobi</td>\n",
       "      <td>solar</td>\n",
       "    </tr>\n",
       "    <tr>\n",
       "      <th>22532</th>\n",
       "      <td>46450</td>\n",
       "      <td>87.076613</td>\n",
       "      <td>2021-01-17</td>\n",
       "      <td>8996</td>\n",
       "      <td>DailyPayment</td>\n",
       "      <td>1</td>\n",
       "      <td>Sun</td>\n",
       "      <td>2021</td>\n",
       "      <td>nairobi</td>\n",
       "      <td>solar</td>\n",
       "    </tr>\n",
       "  </tbody>\n",
       "</table>\n",
       "</div>"
      ],
      "text/plain": [
       "       PaymentId     Amount ReceivedWhen  AccountId   PaymentType  \\\n",
       "5779       12636  87.076613   2021-04-15       8996  DailyPayment   \n",
       "7484       16076  87.076613   2021-02-02       8996  DailyPayment   \n",
       "9546       20263  87.076613   2021-03-03       8996  DailyPayment   \n",
       "13166      27600  87.076613   2021-03-20       8996  DailyPayment   \n",
       "22532      46450  87.076613   2021-01-17       8996  DailyPayment   \n",
       "\n",
       "       Payment_Month Weekday  Year   Region Product  \n",
       "5779               4     Thu  2021  nairobi   solar  \n",
       "7484               2     Tue  2021  nairobi   solar  \n",
       "9546               3     Wed  2021  nairobi   solar  \n",
       "13166              3     Sat  2021  nairobi   solar  \n",
       "22532              1     Sun  2021  nairobi   solar  "
      ]
     },
     "execution_count": 60,
     "metadata": {},
     "output_type": "execute_result"
    }
   ],
   "source": [
    "df_Payment[(df_Payment['AccountId']==8996) & (df_Payment['Year']==2021)].head()"
   ]
  },
  {
   "cell_type": "code",
   "execution_count": 61,
   "metadata": {},
   "outputs": [],
   "source": [
    "df_Payment['Actual_Payment_Period']=df_Payment['ReceivedWhen'].dt.strftime('%b-%y')"
   ]
  },
  {
   "cell_type": "code",
   "execution_count": 62,
   "metadata": {},
   "outputs": [],
   "source": [
    "mom_indi_pay=df_Payment.groupby(['Actual_Payment_Period','AccountId']).agg({'Amount':'sum'}).reset_index()\n"
   ]
  },
  {
   "cell_type": "code",
   "execution_count": 63,
   "metadata": {},
   "outputs": [],
   "source": [
    "eg_pwe=df_Payment[df_Payment['AccountId']==8996]"
   ]
  },
  {
   "cell_type": "code",
   "execution_count": 64,
   "metadata": {},
   "outputs": [
    {
     "data": {
      "text/plain": [
       "np.float64(2089.8387096774195)"
      ]
     },
     "execution_count": 64,
     "metadata": {},
     "output_type": "execute_result"
    }
   ],
   "source": [
    "eg_pwe[eg_pwe['Actual_Payment_Period']=='Jun-20']['Amount'].sum()"
   ]
  },
  {
   "cell_type": "code",
   "execution_count": 65,
   "metadata": {},
   "outputs": [],
   "source": [
    "mom_indi_pay_duo=mom_indi_pay.merge(df_Account_upd[['AccountId','Month','Year','TotalValue']],on='AccountId',how='left')"
   ]
  },
  {
   "cell_type": "code",
   "execution_count": 66,
   "metadata": {},
   "outputs": [],
   "source": [
    "mom_indi_pay_duo=mom_indi_pay_duo.rename(columns={'Month':'Reg_Month','Year':'Reg_Year'})"
   ]
  },
  {
   "cell_type": "code",
   "execution_count": 67,
   "metadata": {},
   "outputs": [],
   "source": [
    "mom_indi_pay_duo['Percent_Paid']=mom_indi_pay_duo['Amount']/mom_indi_pay_duo['TotalValue']"
   ]
  },
  {
   "cell_type": "code",
   "execution_count": null,
   "metadata": {},
   "outputs": [
    {
     "name": "stdout",
     "output_type": "stream",
     "text": [
      "<class 'pandas.core.frame.DataFrame'>\n",
      "RangeIndex: 18364 entries, 0 to 18363\n",
      "Data columns (total 7 columns):\n",
      " #   Column                 Non-Null Count  Dtype  \n",
      "---  ------                 --------------  -----  \n",
      " 0   Actual_Payment_Period  18364 non-null  object \n",
      " 1   AccountId              18364 non-null  int64  \n",
      " 2   Amount                 18364 non-null  float64\n",
      " 3   Reg_Month              18364 non-null  int32  \n",
      " 4   Reg_Year               18364 non-null  int32  \n",
      " 5   TotalValue             18364 non-null  int64  \n",
      " 6   Percent_Paid           18364 non-null  float64\n",
      "dtypes: float64(2), int32(2), int64(2), object(1)\n",
      "memory usage: 860.9+ KB\n"
     ]
    }
   ],
   "source": [
    "mom_indi_pay_duo.info()"
   ]
  },
  {
   "cell_type": "code",
   "execution_count": 139,
   "metadata": {},
   "outputs": [],
   "source": [
    "months=list(mom_indi_pay_duo['Actual_Payment_Period'].unique())\n",
    "\n",
    "month_order = ['Jan', 'Feb', 'Mar', 'Apr', 'May', 'Jun', 'Jul', 'Aug', 'Sep', 'Oct', 'Nov', 'Dec']\n",
    "\n",
    "mom_indi_pay_duo['Year']=mom_indi_pay_duo['Actual_Payment_Period'].str[-2:]\n",
    "mom_indi_pay_duo['Month']=mom_indi_pay_duo['Actual_Payment_Period'].str[:3]\n",
    "\n",
    "\n",
    "mom_indi_pay_duo['Month']=pd.Categorical(mom_indi_pay_duo['Month'],categories=month_order,ordered=True)\n",
    "\n",
    "mom_indi_pay_duo=mom_indi_pay_duo.sort_values(['Year','Month'],ascending=True).reset_index(drop=True)"
   ]
  },
  {
   "cell_type": "code",
   "execution_count": 148,
   "metadata": {},
   "outputs": [
    {
     "data": {
      "text/html": [
       "<div>\n",
       "<style scoped>\n",
       "    .dataframe tbody tr th:only-of-type {\n",
       "        vertical-align: middle;\n",
       "    }\n",
       "\n",
       "    .dataframe tbody tr th {\n",
       "        vertical-align: top;\n",
       "    }\n",
       "\n",
       "    .dataframe thead th {\n",
       "        text-align: right;\n",
       "    }\n",
       "</style>\n",
       "<table border=\"1\" class=\"dataframe\">\n",
       "  <thead>\n",
       "    <tr style=\"text-align: right;\">\n",
       "      <th></th>\n",
       "      <th>Actual_Payment_Period</th>\n",
       "      <th>AccountId</th>\n",
       "      <th>Amount</th>\n",
       "      <th>Reg_Month</th>\n",
       "      <th>Reg_Year</th>\n",
       "      <th>TotalValue</th>\n",
       "      <th>Percent_Paid</th>\n",
       "      <th>Year</th>\n",
       "      <th>Month</th>\n",
       "      <th>Cum_Sum</th>\n",
       "    </tr>\n",
       "  </thead>\n",
       "  <tbody>\n",
       "    <tr>\n",
       "      <th>0</th>\n",
       "      <td>Jan-20</td>\n",
       "      <td>5077</td>\n",
       "      <td>2324.175000</td>\n",
       "      <td>1</td>\n",
       "      <td>2020</td>\n",
       "      <td>27300</td>\n",
       "      <td>0.085135</td>\n",
       "      <td>20</td>\n",
       "      <td>Jan</td>\n",
       "      <td>0.085135</td>\n",
       "    </tr>\n",
       "    <tr>\n",
       "      <th>1</th>\n",
       "      <td>Jan-20</td>\n",
       "      <td>5099</td>\n",
       "      <td>1860.635593</td>\n",
       "      <td>1</td>\n",
       "      <td>2020</td>\n",
       "      <td>18900</td>\n",
       "      <td>0.098446</td>\n",
       "      <td>20</td>\n",
       "      <td>Jan</td>\n",
       "      <td>0.183581</td>\n",
       "    </tr>\n",
       "    <tr>\n",
       "      <th>2</th>\n",
       "      <td>Jan-20</td>\n",
       "      <td>5112</td>\n",
       "      <td>282.294444</td>\n",
       "      <td>1</td>\n",
       "      <td>2020</td>\n",
       "      <td>10675</td>\n",
       "      <td>0.026444</td>\n",
       "      <td>20</td>\n",
       "      <td>Jan</td>\n",
       "      <td>0.210025</td>\n",
       "    </tr>\n",
       "    <tr>\n",
       "      <th>3</th>\n",
       "      <td>Jan-20</td>\n",
       "      <td>5121</td>\n",
       "      <td>2112.388393</td>\n",
       "      <td>1</td>\n",
       "      <td>2020</td>\n",
       "      <td>10125</td>\n",
       "      <td>0.208631</td>\n",
       "      <td>20</td>\n",
       "      <td>Jan</td>\n",
       "      <td>0.418656</td>\n",
       "    </tr>\n",
       "    <tr>\n",
       "      <th>4</th>\n",
       "      <td>Jan-20</td>\n",
       "      <td>5134</td>\n",
       "      <td>2892.957589</td>\n",
       "      <td>1</td>\n",
       "      <td>2020</td>\n",
       "      <td>31125</td>\n",
       "      <td>0.092946</td>\n",
       "      <td>20</td>\n",
       "      <td>Jan</td>\n",
       "      <td>0.511603</td>\n",
       "    </tr>\n",
       "    <tr>\n",
       "      <th>...</th>\n",
       "      <td>...</td>\n",
       "      <td>...</td>\n",
       "      <td>...</td>\n",
       "      <td>...</td>\n",
       "      <td>...</td>\n",
       "      <td>...</td>\n",
       "      <td>...</td>\n",
       "      <td>...</td>\n",
       "      <td>...</td>\n",
       "      <td>...</td>\n",
       "    </tr>\n",
       "    <tr>\n",
       "      <th>18359</th>\n",
       "      <td>Aug-21</td>\n",
       "      <td>8959</td>\n",
       "      <td>114.852941</td>\n",
       "      <td>10</td>\n",
       "      <td>2020</td>\n",
       "      <td>17600</td>\n",
       "      <td>0.006526</td>\n",
       "      <td>21</td>\n",
       "      <td>Aug</td>\n",
       "      <td>1547.408456</td>\n",
       "    </tr>\n",
       "    <tr>\n",
       "      <th>18360</th>\n",
       "      <td>Aug-21</td>\n",
       "      <td>8964</td>\n",
       "      <td>428.735220</td>\n",
       "      <td>11</td>\n",
       "      <td>2020</td>\n",
       "      <td>23625</td>\n",
       "      <td>0.018148</td>\n",
       "      <td>21</td>\n",
       "      <td>Aug</td>\n",
       "      <td>1547.426604</td>\n",
       "    </tr>\n",
       "    <tr>\n",
       "      <th>18361</th>\n",
       "      <td>Aug-21</td>\n",
       "      <td>8976</td>\n",
       "      <td>457.173567</td>\n",
       "      <td>9</td>\n",
       "      <td>2020</td>\n",
       "      <td>27300</td>\n",
       "      <td>0.016746</td>\n",
       "      <td>21</td>\n",
       "      <td>Aug</td>\n",
       "      <td>1547.443350</td>\n",
       "    </tr>\n",
       "    <tr>\n",
       "      <th>18362</th>\n",
       "      <td>Aug-21</td>\n",
       "      <td>8981</td>\n",
       "      <td>45.612536</td>\n",
       "      <td>10</td>\n",
       "      <td>2020</td>\n",
       "      <td>8000</td>\n",
       "      <td>0.005702</td>\n",
       "      <td>21</td>\n",
       "      <td>Aug</td>\n",
       "      <td>1547.449051</td>\n",
       "    </tr>\n",
       "    <tr>\n",
       "      <th>18363</th>\n",
       "      <td>Aug-21</td>\n",
       "      <td>8993</td>\n",
       "      <td>308.289474</td>\n",
       "      <td>10</td>\n",
       "      <td>2020</td>\n",
       "      <td>17600</td>\n",
       "      <td>0.017516</td>\n",
       "      <td>21</td>\n",
       "      <td>Aug</td>\n",
       "      <td>1547.466568</td>\n",
       "    </tr>\n",
       "  </tbody>\n",
       "</table>\n",
       "<p>18364 rows × 10 columns</p>\n",
       "</div>"
      ],
      "text/plain": [
       "      Actual_Payment_Period  AccountId       Amount  Reg_Month  Reg_Year  \\\n",
       "0                    Jan-20       5077  2324.175000          1      2020   \n",
       "1                    Jan-20       5099  1860.635593          1      2020   \n",
       "2                    Jan-20       5112   282.294444          1      2020   \n",
       "3                    Jan-20       5121  2112.388393          1      2020   \n",
       "4                    Jan-20       5134  2892.957589          1      2020   \n",
       "...                     ...        ...          ...        ...       ...   \n",
       "18359                Aug-21       8959   114.852941         10      2020   \n",
       "18360                Aug-21       8964   428.735220         11      2020   \n",
       "18361                Aug-21       8976   457.173567          9      2020   \n",
       "18362                Aug-21       8981    45.612536         10      2020   \n",
       "18363                Aug-21       8993   308.289474         10      2020   \n",
       "\n",
       "       TotalValue  Percent_Paid Year Month      Cum_Sum  \n",
       "0           27300      0.085135   20   Jan     0.085135  \n",
       "1           18900      0.098446   20   Jan     0.183581  \n",
       "2           10675      0.026444   20   Jan     0.210025  \n",
       "3           10125      0.208631   20   Jan     0.418656  \n",
       "4           31125      0.092946   20   Jan     0.511603  \n",
       "...           ...           ...  ...   ...          ...  \n",
       "18359       17600      0.006526   21   Aug  1547.408456  \n",
       "18360       23625      0.018148   21   Aug  1547.426604  \n",
       "18361       27300      0.016746   21   Aug  1547.443350  \n",
       "18362        8000      0.005702   21   Aug  1547.449051  \n",
       "18363       17600      0.017516   21   Aug  1547.466568  \n",
       "\n",
       "[18364 rows x 10 columns]"
      ]
     },
     "execution_count": 148,
     "metadata": {},
     "output_type": "execute_result"
    }
   ],
   "source": [
    "mom_indi_pay_duo"
   ]
  },
  {
   "cell_type": "code",
   "execution_count": 152,
   "metadata": {},
   "outputs": [],
   "source": [
    "mom_indi_pay_duo['Cum_Sum']=mom_indi_pay_duo.groupby(['Reg_Month']).agg({'Percent_Paid':'cumsum'}).rename(columns={'Percent_Paid':'cumsum'})"
   ]
  },
  {
   "cell_type": "code",
   "execution_count": 163,
   "metadata": {},
   "outputs": [],
   "source": [
    "mom_indi_pay_duo=mom_indi_pay_duo.merge(df_Account_upd[['AccountId','Region','Product']],how='left',on='AccountId')"
   ]
  },
  {
   "cell_type": "code",
   "execution_count": 164,
   "metadata": {},
   "outputs": [
    {
     "data": {
      "text/html": [
       "<div>\n",
       "<style scoped>\n",
       "    .dataframe tbody tr th:only-of-type {\n",
       "        vertical-align: middle;\n",
       "    }\n",
       "\n",
       "    .dataframe tbody tr th {\n",
       "        vertical-align: top;\n",
       "    }\n",
       "\n",
       "    .dataframe thead th {\n",
       "        text-align: right;\n",
       "    }\n",
       "</style>\n",
       "<table border=\"1\" class=\"dataframe\">\n",
       "  <thead>\n",
       "    <tr style=\"text-align: right;\">\n",
       "      <th></th>\n",
       "      <th>Actual_Payment_Period</th>\n",
       "      <th>AccountId</th>\n",
       "      <th>Amount</th>\n",
       "      <th>Reg_Month</th>\n",
       "      <th>Reg_Year</th>\n",
       "      <th>TotalValue</th>\n",
       "      <th>Percent_Paid</th>\n",
       "      <th>Year</th>\n",
       "      <th>Month</th>\n",
       "      <th>Cum_Sum</th>\n",
       "      <th>Region</th>\n",
       "      <th>Product</th>\n",
       "    </tr>\n",
       "  </thead>\n",
       "  <tbody>\n",
       "    <tr>\n",
       "      <th>0</th>\n",
       "      <td>Jan-20</td>\n",
       "      <td>5077</td>\n",
       "      <td>2324.175000</td>\n",
       "      <td>1</td>\n",
       "      <td>2020</td>\n",
       "      <td>27300</td>\n",
       "      <td>0.085135</td>\n",
       "      <td>20</td>\n",
       "      <td>Jan</td>\n",
       "      <td>0.085135</td>\n",
       "      <td>nairobi</td>\n",
       "      <td>tv</td>\n",
       "    </tr>\n",
       "    <tr>\n",
       "      <th>1</th>\n",
       "      <td>Jan-20</td>\n",
       "      <td>5099</td>\n",
       "      <td>1860.635593</td>\n",
       "      <td>1</td>\n",
       "      <td>2020</td>\n",
       "      <td>18900</td>\n",
       "      <td>0.098446</td>\n",
       "      <td>20</td>\n",
       "      <td>Jan</td>\n",
       "      <td>0.183581</td>\n",
       "      <td>kisumu</td>\n",
       "      <td>solar</td>\n",
       "    </tr>\n",
       "    <tr>\n",
       "      <th>2</th>\n",
       "      <td>Jan-20</td>\n",
       "      <td>5112</td>\n",
       "      <td>282.294444</td>\n",
       "      <td>1</td>\n",
       "      <td>2020</td>\n",
       "      <td>10675</td>\n",
       "      <td>0.026444</td>\n",
       "      <td>20</td>\n",
       "      <td>Jan</td>\n",
       "      <td>0.210025</td>\n",
       "      <td>mombasa</td>\n",
       "      <td>phone</td>\n",
       "    </tr>\n",
       "    <tr>\n",
       "      <th>3</th>\n",
       "      <td>Jan-20</td>\n",
       "      <td>5121</td>\n",
       "      <td>2112.388393</td>\n",
       "      <td>1</td>\n",
       "      <td>2020</td>\n",
       "      <td>10125</td>\n",
       "      <td>0.208631</td>\n",
       "      <td>20</td>\n",
       "      <td>Jan</td>\n",
       "      <td>0.418656</td>\n",
       "      <td>nairobi</td>\n",
       "      <td>solar</td>\n",
       "    </tr>\n",
       "    <tr>\n",
       "      <th>4</th>\n",
       "      <td>Jan-20</td>\n",
       "      <td>5134</td>\n",
       "      <td>2892.957589</td>\n",
       "      <td>1</td>\n",
       "      <td>2020</td>\n",
       "      <td>31125</td>\n",
       "      <td>0.092946</td>\n",
       "      <td>20</td>\n",
       "      <td>Jan</td>\n",
       "      <td>0.511603</td>\n",
       "      <td>nairobi</td>\n",
       "      <td>tv</td>\n",
       "    </tr>\n",
       "    <tr>\n",
       "      <th>...</th>\n",
       "      <td>...</td>\n",
       "      <td>...</td>\n",
       "      <td>...</td>\n",
       "      <td>...</td>\n",
       "      <td>...</td>\n",
       "      <td>...</td>\n",
       "      <td>...</td>\n",
       "      <td>...</td>\n",
       "      <td>...</td>\n",
       "      <td>...</td>\n",
       "      <td>...</td>\n",
       "      <td>...</td>\n",
       "    </tr>\n",
       "    <tr>\n",
       "      <th>18359</th>\n",
       "      <td>Aug-21</td>\n",
       "      <td>8959</td>\n",
       "      <td>114.852941</td>\n",
       "      <td>10</td>\n",
       "      <td>2020</td>\n",
       "      <td>17600</td>\n",
       "      <td>0.006526</td>\n",
       "      <td>21</td>\n",
       "      <td>Aug</td>\n",
       "      <td>154.862869</td>\n",
       "      <td>kisumu</td>\n",
       "      <td>tv</td>\n",
       "    </tr>\n",
       "    <tr>\n",
       "      <th>18360</th>\n",
       "      <td>Aug-21</td>\n",
       "      <td>8964</td>\n",
       "      <td>428.735220</td>\n",
       "      <td>11</td>\n",
       "      <td>2020</td>\n",
       "      <td>23625</td>\n",
       "      <td>0.018148</td>\n",
       "      <td>21</td>\n",
       "      <td>Aug</td>\n",
       "      <td>141.736927</td>\n",
       "      <td>kisumu</td>\n",
       "      <td>tv</td>\n",
       "    </tr>\n",
       "    <tr>\n",
       "      <th>18361</th>\n",
       "      <td>Aug-21</td>\n",
       "      <td>8976</td>\n",
       "      <td>457.173567</td>\n",
       "      <td>9</td>\n",
       "      <td>2020</td>\n",
       "      <td>27300</td>\n",
       "      <td>0.016746</td>\n",
       "      <td>21</td>\n",
       "      <td>Aug</td>\n",
       "      <td>157.218924</td>\n",
       "      <td>nairobi</td>\n",
       "      <td>tv</td>\n",
       "    </tr>\n",
       "    <tr>\n",
       "      <th>18362</th>\n",
       "      <td>Aug-21</td>\n",
       "      <td>8981</td>\n",
       "      <td>45.612536</td>\n",
       "      <td>10</td>\n",
       "      <td>2020</td>\n",
       "      <td>8000</td>\n",
       "      <td>0.005702</td>\n",
       "      <td>21</td>\n",
       "      <td>Aug</td>\n",
       "      <td>154.868571</td>\n",
       "      <td>kisumu</td>\n",
       "      <td>phone</td>\n",
       "    </tr>\n",
       "    <tr>\n",
       "      <th>18363</th>\n",
       "      <td>Aug-21</td>\n",
       "      <td>8993</td>\n",
       "      <td>308.289474</td>\n",
       "      <td>10</td>\n",
       "      <td>2020</td>\n",
       "      <td>17600</td>\n",
       "      <td>0.017516</td>\n",
       "      <td>21</td>\n",
       "      <td>Aug</td>\n",
       "      <td>154.886087</td>\n",
       "      <td>nairobi</td>\n",
       "      <td>tv</td>\n",
       "    </tr>\n",
       "  </tbody>\n",
       "</table>\n",
       "<p>18364 rows × 12 columns</p>\n",
       "</div>"
      ],
      "text/plain": [
       "      Actual_Payment_Period  AccountId       Amount  Reg_Month  Reg_Year  \\\n",
       "0                    Jan-20       5077  2324.175000          1      2020   \n",
       "1                    Jan-20       5099  1860.635593          1      2020   \n",
       "2                    Jan-20       5112   282.294444          1      2020   \n",
       "3                    Jan-20       5121  2112.388393          1      2020   \n",
       "4                    Jan-20       5134  2892.957589          1      2020   \n",
       "...                     ...        ...          ...        ...       ...   \n",
       "18359                Aug-21       8959   114.852941         10      2020   \n",
       "18360                Aug-21       8964   428.735220         11      2020   \n",
       "18361                Aug-21       8976   457.173567          9      2020   \n",
       "18362                Aug-21       8981    45.612536         10      2020   \n",
       "18363                Aug-21       8993   308.289474         10      2020   \n",
       "\n",
       "       TotalValue  Percent_Paid Year Month     Cum_Sum   Region Product  \n",
       "0           27300      0.085135   20   Jan    0.085135  nairobi      tv  \n",
       "1           18900      0.098446   20   Jan    0.183581   kisumu   solar  \n",
       "2           10675      0.026444   20   Jan    0.210025  mombasa   phone  \n",
       "3           10125      0.208631   20   Jan    0.418656  nairobi   solar  \n",
       "4           31125      0.092946   20   Jan    0.511603  nairobi      tv  \n",
       "...           ...           ...  ...   ...         ...      ...     ...  \n",
       "18359       17600      0.006526   21   Aug  154.862869   kisumu      tv  \n",
       "18360       23625      0.018148   21   Aug  141.736927   kisumu      tv  \n",
       "18361       27300      0.016746   21   Aug  157.218924  nairobi      tv  \n",
       "18362        8000      0.005702   21   Aug  154.868571   kisumu   phone  \n",
       "18363       17600      0.017516   21   Aug  154.886087  nairobi      tv  \n",
       "\n",
       "[18364 rows x 12 columns]"
      ]
     },
     "execution_count": 164,
     "metadata": {},
     "output_type": "execute_result"
    }
   ],
   "source": [
    "mom_indi_pay_duo"
   ]
  },
  {
   "cell_type": "code",
   "execution_count": 71,
   "metadata": {},
   "outputs": [],
   "source": [
    "###eg_mom_indi['Cum_Sum']=eg_mom_indi['Cum_Sum']*100"
   ]
  },
  {
   "cell_type": "code",
   "execution_count": 137,
   "metadata": {},
   "outputs": [
    {
     "data": {
      "text/plain": [
       "0         0.085135\n",
       "1         0.183581\n",
       "2         0.210025\n",
       "3         0.418656\n",
       "4         0.511603\n",
       "           ...    \n",
       "13738    97.112383\n",
       "13796    97.115216\n",
       "13836    97.127806\n",
       "13908    97.134778\n",
       "13909    97.150833\n",
       "Name: Percent_Paid, Length: 1609, dtype: float64"
      ]
     },
     "execution_count": 137,
     "metadata": {},
     "output_type": "execute_result"
    }
   ],
   "source": [
    "mom_indi_pay_duo[mom_indi_pay_duo['Reg_Month']==1]['Percent_Paid'].cumsum()"
   ]
  },
  {
   "cell_type": "code",
   "execution_count": 73,
   "metadata": {},
   "outputs": [
    {
     "data": {
      "text/html": [
       "<div>\n",
       "<style scoped>\n",
       "    .dataframe tbody tr th:only-of-type {\n",
       "        vertical-align: middle;\n",
       "    }\n",
       "\n",
       "    .dataframe tbody tr th {\n",
       "        vertical-align: top;\n",
       "    }\n",
       "\n",
       "    .dataframe thead th {\n",
       "        text-align: right;\n",
       "    }\n",
       "</style>\n",
       "<table border=\"1\" class=\"dataframe\">\n",
       "  <thead>\n",
       "    <tr style=\"text-align: right;\">\n",
       "      <th></th>\n",
       "      <th>AccountId</th>\n",
       "      <th>RegistrationDate</th>\n",
       "      <th>CustomerId</th>\n",
       "      <th>PaymentPlanId</th>\n",
       "      <th>FullName</th>\n",
       "      <th>Region</th>\n",
       "      <th>Month</th>\n",
       "      <th>Year</th>\n",
       "      <th>Product</th>\n",
       "      <th>Deposit</th>\n",
       "      <th>TotalValue</th>\n",
       "    </tr>\n",
       "  </thead>\n",
       "  <tbody>\n",
       "    <tr>\n",
       "      <th>382</th>\n",
       "      <td>5735</td>\n",
       "      <td>2020-12-15</td>\n",
       "      <td>2717</td>\n",
       "      <td>52</td>\n",
       "      <td>Anthony Muguku</td>\n",
       "      <td>nairobi</td>\n",
       "      <td>12</td>\n",
       "      <td>2020</td>\n",
       "      <td>phone</td>\n",
       "      <td>125</td>\n",
       "      <td>3875</td>\n",
       "    </tr>\n",
       "  </tbody>\n",
       "</table>\n",
       "</div>"
      ],
      "text/plain": [
       "     AccountId RegistrationDate  CustomerId  PaymentPlanId        FullName  \\\n",
       "382       5735       2020-12-15        2717             52  Anthony Muguku   \n",
       "\n",
       "      Region  Month  Year Product  Deposit  TotalValue  \n",
       "382  nairobi     12  2020   phone      125        3875  "
      ]
     },
     "execution_count": 73,
     "metadata": {},
     "output_type": "execute_result"
    }
   ],
   "source": [
    "df_Account_upd[df_Account_upd['AccountId']==5735]"
   ]
  },
  {
   "cell_type": "code",
   "execution_count": 165,
   "metadata": {},
   "outputs": [
    {
     "data": {
      "application/vnd.plotly.v1+json": {
       "config": {
        "plotlyServerURL": "https://plot.ly"
       },
       "data": [
        {
         "hovertemplate": "Actual_Payment_Period=Jan-20<br>Reg_Month=%{x}<br>Cum_Sum=%{y}<extra></extra>",
         "legendgroup": "Jan-20",
         "marker": {
          "color": "#636efa",
          "symbol": "circle"
         },
         "mode": "markers",
         "name": "Jan-20",
         "showlegend": true,
         "type": "scattergl",
         "x": {
          "bdata": "AQAAAAEAAAABAAAAAQAAAAEAAAABAAAAAQAAAAEAAAABAAAAAQAAAAEAAAABAAAAAQAAAAEAAAABAAAAAQAAAAEAAAABAAAAAQAAAAEAAAABAAAAAQAAAAEAAAABAAAAAQAAAAEAAAABAAAAAQAAAAEAAAABAAAAAQAAAAEAAAABAAAAAQAAAAEAAAABAAAAAQAAAAEAAAABAAAAAQAAAAEAAAABAAAAAQAAAAEAAAABAAAAAQAAAAEAAAABAAAAAQAAAAEAAAABAAAAAQAAAAEAAAABAAAAAQAAAAEAAAABAAAAAQAAAAEAAAABAAAAAQAAAAEAAAABAAAAAQAAAAEAAAABAAAAAQAAAAEAAAABAAAAAQAAAAEAAAABAAAAAQAAAAEAAAABAAAAAQAAAAEAAAABAAAAAQAAAAEAAAABAAAAAQAAAAEAAAABAAAAAQAAAAEAAAABAAAAAQAAAAEAAAABAAAAAQAAAAEAAAABAAAAAQAAAAEAAAABAAAAAQAAAAEAAAABAAAAAQAAAAEAAAABAAAAAQAAAAEAAAABAAAAAQAAAAEAAAABAAAAAQAAAAEAAAABAAAAAQAAAAEAAAABAAAAAQAAAAEAAAABAAAAAQAAAAEAAAABAAAAAQAAAAEAAAABAAAAAQAAAAEAAAABAAAAAQAAAAEAAAABAAAAAQAAAAEAAAABAAAAAQAAAAEAAAABAAAAAQAAAAEAAAABAAAAAQAAAAEAAAABAAAAAQAAAAEAAAABAAAAAQAAAAEAAAABAAAAAQAAAAEAAAABAAAAAQAAAAEAAAABAAAAAQAAAAEAAAABAAAAAQAAAAEAAAABAAAAAQAAAAEAAAABAAAAAQAAAAEAAAABAAAAAQAAAA==",
          "dtype": "i4"
         },
         "xaxis": "x",
         "y": {
          "bdata": "RJ/V1GHLtT9RzVKRlH/HP28sWaUc4so/2ssG9kPL2j8dN+PEDF/gPz1LHxrtqeM/pulvJQU96D+rpZkqwWbqP8+og8SL3O0/I837beWp8T/zJMqPFFrzP2OQ58xMRPU/dFrQOqbv+D+8BPcrTAn7P5nINAgQR/0/4c2gzHkkAEDTxMaZJ/gAQFltbtjESgFAFgjnLvlAA0B+7TXDUwMEQLS9n8bwOQVA0YQR47crBkDxDUbZIRoHQK4rmGi59wdASJh51OUrCUDCjyqY6d4JQOtXDarY8gpA39laybDnC0CeSpUqrVANQDYh+IiB7g1A/HWDA1AZD0DvGwi477YPQB+uKEhcRBBAIj/uVAPPEEA8SOY72ZMRQOGZU/UjDhJAr/WuDyztEkAM+AfTlCwTQLOnNeGq4BNAw6P28KahFEARKsVNbIEVQJMNhb0nZxZA8IIrxvTcFkBMEu67HSkXQC9LfJ9WtxdAWf4gT+JmGEAVIlCNHtsYQCiHX2bbZhlAsne2I//wGUAnOq/1NbsaQJPbYLLZSRtAMYTg1W1bHEBe0auoIogcQIlPts1F4hxAQIksaakZHUCOVpU0SbodQGRaGmbcgR5AVyqzjN8NH0BD6OQb22sfQKMBXixA9x9AOjGzHOMrIEB6xUf6xV4gQA4EMY4EyCBAtRnqSHtEIUA5UEI26mshQCeSQx9q3CFAHpuJqIA4IkABQSVtoYAiQDEKiGk38CJAvjJ1d/UgI0BV8lhy4EYjQCPHaYFgdyNA9WO0McLHI0Cj0CscT/gjQBcm/ADiQiRAAvKwvy5uJEDIhBDsJ7QkQH+JO5lyAiVA/ntjGGUqJUAXskDec2clQAhkpErfyyVAxqvjtvAQJkAnZz1VNUcmQCMyT+QrYSZATC8AV5+fJkDwnkFRtgMnQPb58VYRJCdAAv7b8sJWJ0Ausy4eeMknQIrFykwEMShA0vZDBbe1KEDbiMaB6NUoQAOEQjSoRSlAnR3czUFwKUCdF4oYzIUpQBZ3K6hW6ilAg+f6038UKkB4MZrIyTsqQFsiiqd2YypAoKGxUlyxKkBTsVC0s/EqQG6dvUYDPitApKIb0y56K0DLD+75m6wrQNwHiPcR1CtA21B4zioLLEAs0AmWO40sQPIbQR99vSxAIPEachrrLEDTIrfK50stQPjjB93zcC1AsnF/WCO5LUCrVxo0bfItQG2PPgZNJS5A2q3tOq5eLkDfPHTl/4kuQBQ54m9R0y5A4gawPR9BL0DRI9t+9IovQGu9dBjO0y9AXlLbgacXMEA6WoAL8kwwQGy/GNfwXjBAxmE+MZOEMECBj4NyKqgwQJImE5OfvjBA3l2c1P/zMEA8lEEQYzgxQLoJlHVvYzFAkseb4fWfMUD9QP/lCM0xQPdToyEx5jFAkGpjgmcUMkCqyxwqeUoyQBMm0RX9YDJAm382OPCdMkCccZ0Vq7IyQBeGS12MzTJAriZboUXlMkApOwnpJiAzQFSvpVUcQzNAzv/zhORPM0DBatbeNXMzQK/nFRSUiTNAj2f56kivM0CupbyZSdAzQOHY78x85DNAbHUie0X+M0CLV8zXvQU0QILQPWfVJDRA2RZZOMNONEAGqNZrwl00QPOkp/UPkTRAdV94p+GxNECP/VnBf8s0QGMElC7g6TRAjwZVUfAVNUCf0eJ3gTg1QDFJg/W9VzVAfAhHQ8JuNUAwo/1iHow1QM1hirrFuzVAUjiVibThNUAh+HqeSfM1QLXwlMPHBzZAK6fpKhM9NkA=",
          "dtype": "f8"
         },
         "yaxis": "y"
        },
        {
         "hovertemplate": "Actual_Payment_Period=Feb-20<br>Reg_Month=%{x}<br>Cum_Sum=%{y}<extra></extra>",
         "legendgroup": "Feb-20",
         "marker": {
          "color": "#EF553B",
          "symbol": "circle"
         },
         "mode": "markers",
         "name": "Feb-20",
         "showlegend": true,
         "type": "scattergl",
         "x": {
          "bdata": "AgAAAAIAAAACAAAAAgAAAAIAAAACAAAAAQAAAAIAAAACAAAAAQAAAAIAAAABAAAAAgAAAAEAAAABAAAAAgAAAAEAAAABAAAAAgAAAAIAAAACAAAAAgAAAAEAAAABAAAAAQAAAAEAAAACAAAAAQAAAAIAAAACAAAAAgAAAAIAAAACAAAAAQAAAAIAAAACAAAAAgAAAAIAAAABAAAAAgAAAAEAAAABAAAAAQAAAAIAAAACAAAAAQAAAAEAAAABAAAAAQAAAAEAAAABAAAAAgAAAAEAAAABAAAAAgAAAAEAAAACAAAAAQAAAAEAAAABAAAAAgAAAAEAAAABAAAAAQAAAAEAAAACAAAAAQAAAAEAAAABAAAAAQAAAAEAAAABAAAAAQAAAAEAAAABAAAAAQAAAAEAAAACAAAAAgAAAAEAAAACAAAAAgAAAAEAAAACAAAAAgAAAAIAAAABAAAAAgAAAAEAAAABAAAAAgAAAAEAAAACAAAAAgAAAAIAAAABAAAAAQAAAAEAAAACAAAAAQAAAAIAAAABAAAAAQAAAAEAAAABAAAAAQAAAAIAAAABAAAAAgAAAAIAAAABAAAAAgAAAAIAAAABAAAAAgAAAAEAAAABAAAAAgAAAAEAAAABAAAAAQAAAAEAAAACAAAAAgAAAAEAAAABAAAAAgAAAAIAAAACAAAAAQAAAAEAAAACAAAAAgAAAAIAAAABAAAAAgAAAAIAAAABAAAAAgAAAAEAAAACAAAAAQAAAAIAAAACAAAAAQAAAAEAAAABAAAAAgAAAAIAAAABAAAAAQAAAAEAAAACAAAAAQAAAAIAAAABAAAAAQAAAAIAAAABAAAAAgAAAAIAAAACAAAAAQAAAAEAAAABAAAAAQAAAAIAAAACAAAAAQAAAAEAAAABAAAAAgAAAAEAAAACAAAAAgAAAAEAAAACAAAAAQAAAAIAAAABAAAAAQAAAAEAAAACAAAAAQAAAAEAAAABAAAAAQAAAAEAAAACAAAAAQAAAAEAAAACAAAAAgAAAAEAAAABAAAAAQAAAAEAAAABAAAAAgAAAAEAAAACAAAAAQAAAAEAAAACAAAAAQAAAAEAAAACAAAAAQAAAAEAAAABAAAAAgAAAAIAAAACAAAAAQAAAAIAAAABAAAAAgAAAAIAAAACAAAAAgAAAAIAAAACAAAAAgAAAAEAAAACAAAAAQAAAAEAAAABAAAAAgAAAAEAAAACAAAAAQAAAAEAAAABAAAAAgAAAAIAAAABAAAAAgAAAAEAAAABAAAAAgAAAAIAAAACAAAAAQAAAAIAAAABAAAAAQAAAAEAAAABAAAAAQAAAAEAAAABAAAAAgAAAAEAAAACAAAAAQAAAAEAAAABAAAAAgAAAAIAAAACAAAAAQAAAAIAAAACAAAAAgAAAAEAAAABAAAAAgAAAAEAAAABAAAAAgAAAAEAAAACAAAAAgAAAAIAAAABAAAAAgAAAAEAAAACAAAAAgAAAAEAAAABAAAAAgAAAAEAAAABAAAAAQAAAAEAAAABAAAAAQAAAAEAAAABAAAAAgAAAAIAAAACAAAAAQAAAAIAAAACAAAAAgAAAAIAAAACAAAAAQAAAAEAAAABAAAA",
          "dtype": "i4"
         },
         "xaxis": "x",
         "y": {
          "bdata": "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",
          "dtype": "f8"
         },
         "yaxis": "y"
        },
        {
         "hovertemplate": "Actual_Payment_Period=Mar-20<br>Reg_Month=%{x}<br>Cum_Sum=%{y}<extra></extra>",
         "legendgroup": "Mar-20",
         "marker": {
          "color": "#00cc96",
          "symbol": "circle"
         },
         "mode": "markers",
         "name": "Mar-20",
         "showlegend": true,
         "type": "scattergl",
         "x": {
          "bdata": "AwAAAAIAAAACAAAAAgAAAAMAAAADAAAAAgAAAAIAAAACAAAAAQAAAAIAAAACAAAAAQAAAAIAAAABAAAAAgAAAAMAAAABAAAAAQAAAAIAAAADAAAAAQAAAAEAAAADAAAAAwAAAAIAAAADAAAAAwAAAAIAAAACAAAAAgAAAAEAAAADAAAAAwAAAAEAAAADAAAAAQAAAAEAAAADAAAAAgAAAAMAAAADAAAAAQAAAAIAAAADAAAAAgAAAAIAAAADAAAAAgAAAAMAAAACAAAAAwAAAAEAAAADAAAAAwAAAAIAAAACAAAAAwAAAAIAAAACAAAAAQAAAAIAAAABAAAAAwAAAAMAAAABAAAAAQAAAAIAAAADAAAAAgAAAAEAAAABAAAAAQAAAAMAAAABAAAAAwAAAAEAAAABAAAAAgAAAAEAAAABAAAAAwAAAAIAAAABAAAAAgAAAAMAAAADAAAAAQAAAAMAAAABAAAAAQAAAAIAAAABAAAAAwAAAAEAAAABAAAAAQAAAAIAAAABAAAAAwAAAAEAAAABAAAAAQAAAAEAAAABAAAAAwAAAAEAAAABAAAAAQAAAAMAAAABAAAAAQAAAAIAAAACAAAAAQAAAAIAAAACAAAAAQAAAAIAAAADAAAAAgAAAAMAAAADAAAAAgAAAAEAAAACAAAAAQAAAAEAAAADAAAAAwAAAAMAAAACAAAAAQAAAAIAAAACAAAAAgAAAAEAAAABAAAAAwAAAAEAAAACAAAAAwAAAAMAAAABAAAAAwAAAAMAAAACAAAAAQAAAAMAAAABAAAAAwAAAAEAAAADAAAAAQAAAAEAAAACAAAAAQAAAAIAAAACAAAAAQAAAAIAAAADAAAAAgAAAAEAAAACAAAAAQAAAAEAAAACAAAAAwAAAAMAAAABAAAAAQAAAAEAAAABAAAAAwAAAAIAAAADAAAAAwAAAAMAAAADAAAAAwAAAAMAAAACAAAAAwAAAAMAAAADAAAAAQAAAAEAAAADAAAAAwAAAAMAAAACAAAAAwAAAAMAAAACAAAAAgAAAAEAAAADAAAAAQAAAAMAAAACAAAAAwAAAAIAAAACAAAAAQAAAAIAAAACAAAAAQAAAAIAAAABAAAAAwAAAAMAAAACAAAAAQAAAAMAAAACAAAAAgAAAAEAAAADAAAAAwAAAAMAAAABAAAAAQAAAAMAAAACAAAAAgAAAAEAAAADAAAAAwAAAAMAAAABAAAAAQAAAAMAAAACAAAAAQAAAAIAAAADAAAAAQAAAAEAAAACAAAAAQAAAAMAAAACAAAAAgAAAAIAAAADAAAAAQAAAAEAAAABAAAAAwAAAAEAAAACAAAAAgAAAAEAAAABAAAAAQAAAAMAAAADAAAAAgAAAAEAAAADAAAAAgAAAAIAAAABAAAAAwAAAAIAAAADAAAAAQAAAAIAAAABAAAAAwAAAAMAAAADAAAAAwAAAAEAAAADAAAAAwAAAAEAAAACAAAAAwAAAAEAAAADAAAAAwAAAAEAAAADAAAAAwAAAAEAAAABAAAAAwAAAAEAAAADAAAAAwAAAAIAAAADAAAAAwAAAAMAAAABAAAAAQAAAAIAAAACAAAAAQAAAAMAAAADAAAAAwAAAAEAAAABAAAAAQAAAAEAAAADAAAAAgAAAAMAAAABAAAAAgAAAAMAAAABAAAAAQAAAAMAAAACAAAAAQAAAAMAAAADAAAAAQAAAAIAAAADAAAAAQAAAAEAAAADAAAAAQAAAAMAAAACAAAAAgAAAAIAAAADAAAAAQAAAAMAAAACAAAAAQAAAAIAAAACAAAAAgAAAAIAAAACAAAAAgAAAAIAAAADAAAAAwAAAAEAAAACAAAAAQAAAAEAAAADAAAAAQAAAAIAAAABAAAAAwAAAAIAAAABAAAAAQAAAAEAAAADAAAAAgAAAAMAAAACAAAAAQAAAAMAAAADAAAAAgAAAAMAAAADAAAAAwAAAAEAAAADAAAAAwAAAAMAAAABAAAAAgAAAAIAAAADAAAAAwAAAAIAAAABAAAAAgAAAAEAAAADAAAAAQAAAAEAAAABAAAAAQAAAAEAAAABAAAAAwAAAAMAAAACAAAAAwAAAAMAAAADAAAAAQAAAAMAAAADAAAAAgAAAAEAAAABAAAAAQAAAAIAAAADAAAAAgAAAAIAAAABAAAAAgAAAAIAAAADAAAAAwAAAAIAAAADAAAAAQAAAAMAAAABAAAAAgAAAAEAAAABAAAAAwAAAAIAAAADAAAAAQAAAAMAAAACAAAAAgAAAAIAAAABAAAAAgAAAAEAAAADAAAAAgAAAAIAAAABAAAAAwAAAAMAAAABAAAAAwAAAAIAAAADAAAAAQAAAAMAAAABAAAAAQAAAAMAAAABAAAAAQAAAAEAAAADAAAAAQAAAAEAAAADAAAAAgAAAAIAAAADAAAAAgAAAAMAAAABAAAAAgAAAAIAAAACAAAAAwAAAAMAAAADAAAAAgAAAAIAAAABAAAAAwAAAAEAAAABAAAA",
          "dtype": "i4"
         },
         "xaxis": "x",
         "y": {
          "bdata": "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",
          "dtype": "f8"
         },
         "yaxis": "y"
        },
        {
         "hovertemplate": "Actual_Payment_Period=Apr-20<br>Reg_Month=%{x}<br>Cum_Sum=%{y}<extra></extra>",
         "legendgroup": "Apr-20",
         "marker": {
          "color": "#ab63fa",
          "symbol": "circle"
         },
         "mode": "markers",
         "name": "Apr-20",
         "showlegend": true,
         "type": "scattergl",
         "x": {
          "bdata": "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",
          "dtype": "i4"
         },
         "xaxis": "x",
         "y": {
          "bdata": "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",
          "dtype": "f8"
         },
         "yaxis": "y"
        },
        {
         "hovertemplate": "Actual_Payment_Period=May-20<br>Reg_Month=%{x}<br>Cum_Sum=%{y}<extra></extra>",
         "legendgroup": "May-20",
         "marker": {
          "color": "#FFA15A",
          "symbol": "circle"
         },
         "mode": "markers",
         "name": "May-20",
         "showlegend": true,
         "type": "scattergl",
         "x": {
          "bdata": "AwAAAAIAAAACAAAAAgAAAAMAAAADAAAABAAAAAIAAAACAAAABQAAAAQAAAAEAAAAAgAAAAUAAAAFAAAABQAAAAEAAAAEAAAABQAAAAIAAAACAAAAAQAAAAIAAAABAAAAAgAAAAMAAAAFAAAAAQAAAAQAAAABAAAAAgAAAAMAAAABAAAAAQAAAAMAAAADAAAAAgAAAAMAAAAEAAAABAAAAAQAAAADAAAABAAAAAIAAAACAAAABQAAAAUAAAACAAAABAAAAAEAAAADAAAABQAAAAQAAAADAAAABAAAAAUAAAAFAAAAAQAAAAUAAAADAAAABQAAAAQAAAAEAAAAAQAAAAQAAAAEAAAAAQAAAAQAAAADAAAABAAAAAIAAAADAAAABQAAAAMAAAAFAAAAAQAAAAIAAAADAAAAAgAAAAIAAAADAAAAAgAAAAMAAAAFAAAABQAAAAIAAAAFAAAABAAAAAQAAAAFAAAAAwAAAAEAAAADAAAAAwAAAAQAAAAEAAAAAgAAAAQAAAAFAAAABQAAAAUAAAAFAAAAAgAAAAQAAAAFAAAABQAAAAMAAAACAAAABQAAAAUAAAAEAAAAAgAAAAEAAAAFAAAABQAAAAIAAAAEAAAAAQAAAAMAAAADAAAAAQAAAAUAAAABAAAABAAAAAIAAAADAAAABAAAAAUAAAACAAAABQAAAAUAAAAEAAAAAQAAAAUAAAABAAAAAQAAAAMAAAAFAAAABQAAAAEAAAADAAAAAQAAAAEAAAACAAAABAAAAAEAAAAEAAAAAQAAAAMAAAACAAAABQAAAAUAAAAEAAAABQAAAAUAAAABAAAAAgAAAAMAAAAFAAAAAwAAAAEAAAADAAAABAAAAAEAAAAFAAAAAQAAAAIAAAAFAAAABAAAAAEAAAADAAAABQAAAAEAAAABAAAAAQAAAAQAAAAEAAAAAgAAAAEAAAAFAAAABAAAAAMAAAAFAAAAAQAAAAEAAAABAAAAAQAAAAUAAAABAAAAAwAAAAEAAAABAAAABAAAAAEAAAADAAAAAQAAAAUAAAAEAAAABAAAAAEAAAAFAAAAAgAAAAIAAAAEAAAABQAAAAUAAAABAAAABAAAAAIAAAACAAAABQAAAAEAAAAEAAAAAgAAAAQAAAADAAAABQAAAAIAAAADAAAAAwAAAAIAAAABAAAAAgAAAAEAAAABAAAABQAAAAUAAAAFAAAAAwAAAAUAAAADAAAAAwAAAAUAAAAEAAAABAAAAAIAAAABAAAABQAAAAUAAAACAAAAAgAAAAUAAAACAAAAAQAAAAUAAAAFAAAABAAAAAUAAAAFAAAABAAAAAEAAAAEAAAAAwAAAAEAAAAFAAAAAgAAAAMAAAADAAAAAQAAAAMAAAADAAAABQAAAAIAAAAFAAAAAQAAAAQAAAADAAAAAQAAAAMAAAABAAAAAwAAAAEAAAABAAAABQAAAAUAAAAEAAAAAgAAAAQAAAAEAAAABAAAAAEAAAACAAAAAgAAAAQAAAABAAAAAgAAAAMAAAAFAAAAAgAAAAEAAAACAAAAAQAAAAUAAAAFAAAABAAAAAEAAAACAAAABQAAAAUAAAADAAAAAwAAAAEAAAAFAAAAAQAAAAEAAAABAAAABAAAAAMAAAACAAAAAwAAAAMAAAADAAAAAwAAAAQAAAADAAAAAwAAAAIAAAADAAAAAwAAAAQAAAADAAAABQAAAAUAAAABAAAAAQAAAAMAAAADAAAAAwAAAAIAAAAEAAAAAwAAAAUAAAAEAAAABQAAAAMAAAAEAAAABAAAAAUAAAAEAAAABQAAAAQAAAACAAAABQAAAAIAAAAEAAAABQAAAAEAAAAEAAAAAwAAAAEAAAAFAAAAAwAAAAIAAAADAAAAAgAAAAQAAAAFAAAABAAAAAIAAAAEAAAAAQAAAAUAAAAEAAAAAgAAAAUAAAACAAAAAQAAAAIAAAAFAAAABQAAAAEAAAADAAAAAwAAAAIAAAABAAAAAwAAAAIAAAACAAAAAQAAAAUAAAAEAAAABQAAAAQAAAAFAAAAAwAAAAMAAAAEAAAABAAAAAQAAAADAAAABQAAAAQAAAAEAAAABAAAAAEAAAAFAAAABAAAAAQAAAABAAAABAAAAAUAAAADAAAABAAAAAIAAAACAAAAAQAAAAMAAAADAAAABQAAAAMAAAAFAAAABAAAAAEAAAABAAAABAAAAAQAAAADAAAABQAAAAIAAAABAAAAAgAAAAMAAAABAAAABQAAAAEAAAACAAAAAQAAAAUAAAAEAAAAAwAAAAIAAAAFAAAABAAAAAIAAAACAAAAAwAAAAEAAAABAAAABQAAAAUAAAAEAAAAAQAAAAMAAAABAAAABAAAAAIAAAAEAAAAAgAAAAUAAAABAAAAAQAAAAUAAAABAAAABAAAAAMAAAADAAAAAgAAAAEAAAADAAAABAAAAAIAAAAFAAAAAgAAAAEAAAADAAAAAgAAAAQAAAADAAAAAQAAAAQAAAACAAAAAQAAAAMAAAADAAAAAwAAAAMAAAAFAAAABQAAAAUAAAABAAAABQAAAAMAAAAFAAAAAwAAAAQAAAABAAAAAgAAAAMAAAAEAAAAAQAAAAMAAAADAAAAAQAAAAMAAAAFAAAAAwAAAAUAAAABAAAAAQAAAAMAAAABAAAABQAAAAMAAAADAAAAAgAAAAMAAAADAAAABQAAAAMAAAAEAAAABQAAAAEAAAAFAAAAAQAAAAIAAAACAAAAAQAAAAQAAAADAAAAAwAAAAQAAAADAAAABAAAAAQAAAAEAAAABAAAAAUAAAAEAAAAAQAAAAUAAAAFAAAAAQAAAAEAAAAFAAAAAQAAAAQAAAAEAAAAAwAAAAIAAAAFAAAABAAAAAUAAAADAAAAAQAAAAIAAAADAAAABQAAAAEAAAABAAAABQAAAAMAAAAEAAAABAAAAAIAAAABAAAAAwAAAAMAAAABAAAAAgAAAAMAAAABAAAAAQAAAAUAAAAEAAAAAwAAAAEAAAADAAAAAgAAAAUAAAACAAAABQAAAAIAAAADAAAAAQAAAAMAAAACAAAAAQAAAAQAAAAFAAAAAgAAAAIAAAACAAAABQAAAAIAAAAEAAAAAgAAAAIAAAAFAAAABAAAAAIAAAAFAAAABQAAAAMAAAAFAAAAAwAAAAQAAAABAAAAAgAAAAUAAAABAAAABAAAAAEAAAADAAAAAQAAAAIAAAABAAAAAwAAAAQAAAAFAAAAAgAAAAEAAAABAAAAAQAAAAQAAAAEAAAAAwAAAAUAAAACAAAAAwAAAAIAAAAEAAAAAQAAAAMAAAADAAAAAgAAAAQAAAADAAAABQAAAAMAAAAFAAAAAwAAAAUAAAABAAAABQAAAAMAAAADAAAAAwAAAAEAAAACAAAAAgAAAAMAAAADAAAABAAAAAIAAAABAAAAAgAAAAEAAAADAAAABQAAAAEAAAABAAAABAAAAAEAAAABAAAAAQAAAAUAAAAFAAAABQAAAAUAAAABAAAAAwAAAAQAAAADAAAAAgAAAAUAAAAFAAAABQAAAAMAAAAEAAAAAwAAAAUAAAADAAAAAQAAAAUAAAAFAAAABQAAAAMAAAADAAAAAgAAAAEAAAAEAAAAAQAAAAEAAAACAAAAAwAAAAIAAAACAAAAAQAAAAIAAAACAAAABAAAAAMAAAAEAAAAAwAAAAUAAAACAAAAAwAAAAEAAAADAAAAAQAAAAUAAAAEAAAAAgAAAAUAAAABAAAAAQAAAAQAAAADAAAAAgAAAAMAAAABAAAAAwAAAAQAAAACAAAABQAAAAQAAAAEAAAABAAAAAIAAAAEAAAABQAAAAQAAAACAAAAAQAAAAIAAAABAAAAAwAAAAIAAAACAAAAAQAAAAMAAAADAAAAAQAAAAUAAAADAAAAAgAAAAMAAAABAAAABQAAAAUAAAAFAAAAAwAAAAEAAAABAAAABAAAAAMAAAAFAAAAAQAAAAQAAAABAAAAAQAAAAUAAAADAAAAAQAAAAEAAAADAAAAAgAAAAIAAAADAAAABQAAAAQAAAAFAAAABQAAAAUAAAAFAAAABQAAAAIAAAAFAAAAAwAAAAEAAAACAAAAAgAAAAIAAAAEAAAABQAAAAUAAAADAAAAAwAAAAQAAAADAAAABAAAAAIAAAAEAAAAAgAAAAEAAAAFAAAABQAAAAMAAAABAAAAAQAAAAQAAAAEAAAA",
          "dtype": "i4"
         },
         "xaxis": "x",
         "y": {
          "bdata": "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",
          "dtype": "f8"
         },
         "yaxis": "y"
        },
        {
         "hovertemplate": "Actual_Payment_Period=Jun-20<br>Reg_Month=%{x}<br>Cum_Sum=%{y}<extra></extra>",
         "legendgroup": "Jun-20",
         "marker": {
          "color": "#19d3f3",
          "symbol": "circle"
         },
         "mode": "markers",
         "name": "Jun-20",
         "showlegend": true,
         "type": "scattergl",
         "x": {
          "bdata": "AwAAAAYAAAACAAAAAgAAAAIAAAADAAAAAwAAAAQAAAACAAAAAgAAAAUAAAAEAAAABgAAAAQAAAACAAAABQAAAAUAAAAFAAAAAQAAAAQAAAAFAAAAAgAAAAIAAAABAAAAAgAAAAEAAAACAAAAAwAAAAUAAAAGAAAAAQAAAAQAAAAGAAAAAQAAAAIAAAAGAAAAAwAAAAEAAAABAAAAAwAAAAMAAAACAAAAAwAAAAQAAAAGAAAABAAAAAQAAAADAAAABAAAAAYAAAACAAAAAgAAAAYAAAAFAAAABQAAAAIAAAAEAAAABgAAAAEAAAADAAAABQAAAAQAAAADAAAABAAAAAUAAAAFAAAAAQAAAAUAAAAGAAAAAwAAAAYAAAAFAAAABAAAAAQAAAABAAAABAAAAAQAAAABAAAABAAAAAMAAAAEAAAAAgAAAAMAAAAFAAAABgAAAAMAAAAGAAAABgAAAAYAAAAFAAAAAQAAAAYAAAACAAAAAwAAAAYAAAACAAAAAgAAAAMAAAACAAAAAwAAAAYAAAAFAAAABgAAAAUAAAACAAAABQAAAAQAAAAEAAAABQAAAAMAAAABAAAAAwAAAAMAAAAEAAAABAAAAAIAAAAEAAAABgAAAAUAAAAGAAAABQAAAAUAAAAFAAAAAgAAAAQAAAAFAAAABQAAAAMAAAAGAAAAAgAAAAUAAAAGAAAABQAAAAQAAAACAAAABgAAAAEAAAAFAAAABgAAAAUAAAACAAAABAAAAAEAAAADAAAAAwAAAAEAAAAGAAAABQAAAAYAAAABAAAABAAAAAIAAAADAAAABgAAAAYAAAAGAAAABgAAAAQAAAAFAAAAAgAAAAUAAAAFAAAABAAAAAYAAAAGAAAAAQAAAAUAAAABAAAAAQAAAAMAAAAFAAAABgAAAAUAAAABAAAAAwAAAAEAAAABAAAAAgAAAAQAAAABAAAABAAAAAEAAAADAAAAAgAAAAUAAAAGAAAABQAAAAYAAAAEAAAABQAAAAUAAAABAAAABgAAAAYAAAACAAAABgAAAAMAAAAFAAAABgAAAAMAAAABAAAAAwAAAAQAAAABAAAABQAAAAEAAAACAAAABQAAAAQAAAABAAAAAwAAAAUAAAABAAAAAQAAAAYAAAABAAAABAAAAAQAAAAGAAAAAgAAAAYAAAABAAAABgAAAAUAAAAEAAAAAwAAAAUAAAABAAAAAQAAAAEAAAABAAAABQAAAAYAAAABAAAABgAAAAMAAAABAAAABgAAAAEAAAAGAAAABAAAAAEAAAADAAAAAQAAAAUAAAAEAAAABAAAAAYAAAAGAAAAAQAAAAUAAAACAAAAAgAAAAQAAAAFAAAABQAAAAEAAAAEAAAAAgAAAAYAAAACAAAABQAAAAEAAAAEAAAAAgAAAAQAAAADAAAABQAAAAIAAAADAAAAAwAAAAIAAAABAAAAAgAAAAEAAAABAAAABQAAAAYAAAAGAAAABQAAAAUAAAADAAAABQAAAAMAAAADAAAABQAAAAQAAAAGAAAABAAAAAIAAAABAAAABQAAAAUAAAACAAAAAgAAAAUAAAAGAAAAAgAAAAEAAAAFAAAABQAAAAQAAAAFAAAABQAAAAQAAAABAAAABAAAAAMAAAABAAAABQAAAAIAAAADAAAAAwAAAAEAAAADAAAAAwAAAAUAAAACAAAABQAAAAEAAAAEAAAABgAAAAMAAAABAAAABgAAAAMAAAABAAAABgAAAAMAAAABAAAABgAAAAEAAAAFAAAABgAAAAUAAAAGAAAABAAAAAIAAAAEAAAABAAAAAQAAAABAAAAAgAAAAYAAAACAAAABAAAAAYAAAABAAAABgAAAAIAAAADAAAABQAAAAIAAAABAAAAAgAAAAEAAAAFAAAABQAAAAQAAAABAAAAAgAAAAUAAAAFAAAAAwAAAAMAAAABAAAABQAAAAEAAAABAAAABAAAAAYAAAADAAAAAgAAAAMAAAADAAAAAwAAAAYAAAADAAAABgAAAAQAAAAGAAAAAwAAAAMAAAACAAAAAwAAAAMAAAAEAAAAAwAAAAUAAAAFAAAAAQAAAAEAAAAGAAAAAwAAAAMAAAADAAAAAgAAAAQAAAADAAAABQAAAAQAAAAFAAAAAwAAAAQAAAAEAAAABQAAAAQAAAAFAAAABgAAAAQAAAACAAAABQAAAAIAAAAEAAAABQAAAAYAAAABAAAABAAAAAMAAAABAAAABQAAAAMAAAACAAAAAwAAAAYAAAACAAAABAAAAAUAAAAEAAAAAgAAAAQAAAAGAAAAAQAAAAUAAAAEAAAAAgAAAAUAAAACAAAAAQAAAAIAAAAFAAAABQAAAAEAAAADAAAAAwAAAAIAAAABAAAAAwAAAAYAAAACAAAAAgAAAAEAAAAGAAAABgAAAAUAAAAEAAAABQAAAAQAAAAFAAAAAwAAAAYAAAADAAAABAAAAAYAAAAGAAAABAAAAAYAAAAEAAAAAwAAAAYAAAAFAAAABAAAAAQAAAAEAAAAAQAAAAUAAAAGAAAABAAAAAQAAAAGAAAAAQAAAAQAAAAFAAAABgAAAAYAAAADAAAABAAAAAIAAAACAAAAAQAAAAMAAAADAAAABgAAAAUAAAADAAAABQAAAAQAAAABAAAAAQAAAAQAAAAEAAAAAwAAAAUAAAACAAAAAQAAAAIAAAADAAAAAQAAAAUAAAABAAAAAgAAAAYAAAAFAAAABAAAAAYAAAADAAAAAgAAAAYAAAAFAAAABAAAAAYAAAAGAAAAAgAAAAYAAAACAAAAAwAAAAEAAAAGAAAABgAAAAYAAAAGAAAAAQAAAAUAAAAFAAAABAAAAAEAAAADAAAAAQAAAAQAAAAGAAAAAgAAAAQAAAACAAAABQAAAAEAAAABAAAABQAAAAEAAAAEAAAAAwAAAAMAAAACAAAAAQAAAAMAAAAEAAAABgAAAAIAAAAFAAAAAgAAAAEAAAADAAAAAgAAAAQAAAAGAAAAAwAAAAEAAAAEAAAAAgAAAAYAAAABAAAAAwAAAAMAAAADAAAAAwAAAAYAAAAFAAAABQAAAAUAAAABAAAABQAAAAMAAAAGAAAABQAAAAMAAAAEAAAAAQAAAAIAAAADAAAABAAAAAEAAAADAAAAAwAAAAEAAAADAAAABQAAAAMAAAAFAAAABgAAAAEAAAABAAAABgAAAAMAAAAGAAAAAQAAAAUAAAAGAAAAAwAAAAYAAAADAAAAAgAAAAMAAAADAAAABQAAAAMAAAAEAAAABQAAAAEAAAAGAAAABQAAAAEAAAACAAAABgAAAAIAAAABAAAABAAAAAMAAAADAAAABAAAAAYAAAADAAAABgAAAAQAAAAEAAAABAAAAAYAAAAEAAAABQAAAAQAAAABAAAABQAAAAUAAAAGAAAAAQAAAAYAAAABAAAABQAAAAYAAAABAAAABgAAAAQAAAAEAAAAAwAAAAIAAAAFAAAABAAAAAUAAAADAAAAAQAAAAIAAAADAAAABQAAAAEAAAABAAAABQAAAAMAAAAEAAAABAAAAAIAAAABAAAAAwAAAAMAAAABAAAAAgAAAAMAAAAGAAAAAQAAAAEAAAAFAAAABAAAAAMAAAABAAAAAwAAAAIAAAAFAAAAAgAAAAYAAAAFAAAAAgAAAAMAAAABAAAAAwAAAAIAAAABAAAABgAAAAYAAAAEAAAABgAAAAUAAAACAAAAAgAAAAIAAAAFAAAAAgAAAAQAAAAGAAAAAgAAAAIAAAAFAAAABAAAAAIAAAAFAAAABQAAAAMAAAAFAAAAAwAAAAQAAAABAAAAAgAAAAUAAAABAAAABAAAAAYAAAABAAAAAwAAAAEAAAACAAAAAQAAAAYAAAAGAAAAAwAAAAQAAAAFAAAAAgAAAAEAAAABAAAAAQAAAAQAAAAEAAAABgAAAAMAAAAGAAAABQAAAAIAAAADAAAAAgAAAAYAAAAGAAAABAAAAAEAAAADAAAAAwAAAAIAAAAEAAAAAwAAAAUAAAADAAAABQAAAAMAAAAFAAAAAQAAAAUAAAADAAAAAwAAAAMAAAAGAAAAAQAAAAIAAAACAAAABgAAAAMAAAADAAAABAAAAAIAAAABAAAAAgAAAAEAAAADAAAABgAAAAUAAAABAAAAAQAAAAYAAAAEAAAAAQAAAAEAAAAGAAAAAQAAAAUAAAAFAAAABQAAAAUAAAAGAAAAAwAAAAQAAAAGAAAAAwAAAAIAAAAFAAAABQAAAAUAAAADAAAABAAAAAMAAAAFAAAAAwAAAAEAAAAFAAAABgAAAAUAAAAFAAAAAwAAAAMAAAACAAAAAQAAAAYAAAAEAAAAAQAAAAEAAAACAAAAAwAAAAYAAAAGAAAAAgAAAAIAAAABAAAAAgAAAAIAAAAEAAAABgAAAAMAAAAEAAAAAwAAAAUAAAACAAAAAwAAAAMAAAAGAAAABgAAAAEAAAAGAAAABQAAAAQAAAACAAAABgAAAAUAAAABAAAAAQAAAAQAAAADAAAAAgAAAAMAAAABAAAAAwAAAAQAAAACAAAABQAAAAQAAAAEAAAABgAAAAQAAAACAAAABAAAAAUAAAAEAAAAAgAAAAEAAAACAAAAAQAAAAMAAAACAAAAAgAAAAEAAAADAAAABgAAAAYAAAADAAAAAQAAAAUAAAADAAAAAgAAAAMAAAABAAAABQAAAAUAAAAFAAAAAwAAAAEAAAABAAAABAAAAAMAAAAFAAAAAQAAAAYAAAAEAAAAAQAAAAEAAAAFAAAABgAAAAYAAAADAAAAAQAAAAEAAAADAAAAAgAAAAIAAAADAAAABQAAAAQAAAAFAAAABQAAAAUAAAAFAAAABQAAAAIAAAAFAAAAAwAAAAEAAAACAAAAAgAAAAIAAAAEAAAABQAAAAYAAAAGAAAABQAAAAYAAAADAAAAAwAAAAQAAAAGAAAAAwAAAAYAAAAEAAAAAgAAAAQAAAACAAAAAQAAAAUAAAAFAAAABgAAAAMAAAABAAAAAQAAAAQAAAAEAAAABgAAAA==",
          "dtype": "i4"
         },
         "xaxis": "x",
         "y": {
          "bdata": "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",
          "dtype": "f8"
         },
         "yaxis": "y"
        },
        {
         "hovertemplate": "Actual_Payment_Period=Jul-20<br>Reg_Month=%{x}<br>Cum_Sum=%{y}<extra></extra>",
         "legendgroup": "Jul-20",
         "marker": {
          "color": "#FF6692",
          "symbol": "circle"
         },
         "mode": "markers",
         "name": "Jul-20",
         "showlegend": true,
         "type": "scattergl",
         "x": {
          "bdata": "AwAAAAYAAAACAAAAAgAAAAIAAAAHAAAABwAAAAcAAAADAAAAAwAAAAQAAAACAAAAAgAAAAUAAAAEAAAABgAAAAQAAAACAAAABwAAAAUAAAAHAAAABQAAAAUAAAABAAAABAAAAAUAAAACAAAAAgAAAAEAAAACAAAABwAAAAEAAAAHAAAAAgAAAAMAAAAFAAAABgAAAAEAAAAEAAAABgAAAAEAAAAHAAAAAgAAAAYAAAADAAAABwAAAAEAAAABAAAAAwAAAAMAAAACAAAAAwAAAAQAAAAGAAAABAAAAAQAAAADAAAABAAAAAYAAAAHAAAAAgAAAAcAAAACAAAABgAAAAUAAAAFAAAAAgAAAAQAAAAGAAAAAQAAAAMAAAAFAAAABAAAAAMAAAAHAAAABAAAAAUAAAAFAAAAAQAAAAUAAAAHAAAABgAAAAMAAAAGAAAABwAAAAUAAAAEAAAABAAAAAEAAAAEAAAABAAAAAcAAAABAAAABwAAAAQAAAADAAAABAAAAAIAAAADAAAABQAAAAcAAAAHAAAABgAAAAMAAAAGAAAABwAAAAYAAAAHAAAABgAAAAUAAAABAAAABgAAAAIAAAADAAAABgAAAAIAAAACAAAAAwAAAAIAAAADAAAABgAAAAcAAAAFAAAABgAAAAUAAAACAAAABQAAAAQAAAAEAAAABQAAAAMAAAAHAAAAAQAAAAMAAAADAAAABAAAAAQAAAACAAAABAAAAAYAAAAHAAAABQAAAAYAAAAHAAAABQAAAAUAAAAFAAAAAgAAAAQAAAAHAAAABQAAAAcAAAAFAAAAAwAAAAYAAAAHAAAAAgAAAAcAAAAFAAAABgAAAAUAAAAEAAAAAgAAAAYAAAABAAAABQAAAAcAAAAGAAAABwAAAAUAAAACAAAABAAAAAEAAAADAAAAAwAAAAEAAAAGAAAABQAAAAYAAAABAAAABAAAAAIAAAADAAAABgAAAAYAAAAGAAAABgAAAAQAAAAFAAAAAgAAAAUAAAAFAAAABAAAAAYAAAAHAAAABgAAAAEAAAAFAAAABwAAAAEAAAABAAAAAwAAAAUAAAAGAAAABQAAAAEAAAADAAAABwAAAAEAAAAHAAAAAQAAAAQAAAAHAAAAAQAAAAQAAAABAAAAAwAAAAIAAAAHAAAABQAAAAcAAAAGAAAABQAAAAYAAAAHAAAABAAAAAUAAAAFAAAAAQAAAAYAAAAGAAAAAgAAAAYAAAADAAAABQAAAAYAAAADAAAAAQAAAAMAAAAEAAAAAQAAAAUAAAABAAAAAgAAAAUAAAAEAAAAAQAAAAcAAAADAAAABQAAAAEAAAAHAAAAAQAAAAYAAAABAAAABAAAAAQAAAAGAAAAAgAAAAYAAAABAAAABgAAAAUAAAAEAAAABwAAAAcAAAADAAAABQAAAAEAAAABAAAAAQAAAAEAAAAFAAAABgAAAAEAAAAHAAAABgAAAAMAAAABAAAABgAAAAEAAAAGAAAABAAAAAEAAAADAAAAAQAAAAUAAAAEAAAABAAAAAYAAAAGAAAABQAAAAIAAAACAAAABAAAAAUAAAAFAAAABwAAAAEAAAAEAAAAAgAAAAYAAAAHAAAAAgAAAAUAAAABAAAABAAAAAIAAAAEAAAAAwAAAAUAAAACAAAAAwAAAAMAAAAHAAAAAgAAAAEAAAAHAAAAAgAAAAcAAAABAAAAAQAAAAUAAAAGAAAABgAAAAUAAAAFAAAAAwAAAAUAAAADAAAABwAAAAcAAAADAAAABQAAAAQAAAAGAAAABAAAAAIAAAAFAAAABQAAAAIAAAACAAAABQAAAAYAAAACAAAAAQAAAAcAAAAFAAAABQAAAAQAAAAHAAAABQAAAAUAAAAEAAAAAQAAAAQAAAADAAAAAQAAAAUAAAACAAAAAwAAAAMAAAABAAAAAwAAAAMAAAAHAAAABQAAAAIAAAAHAAAABwAAAAUAAAAEAAAABwAAAAYAAAADAAAAAQAAAAYAAAADAAAAAQAAAAYAAAADAAAAAQAAAAcAAAAGAAAAAQAAAAUAAAAGAAAABQAAAAYAAAAHAAAABAAAAAIAAAAEAAAABAAAAAQAAAABAAAAAgAAAAcAAAAGAAAAAgAAAAQAAAAGAAAAAQAAAAYAAAADAAAABQAAAAIAAAABAAAAAgAAAAEAAAAFAAAABwAAAAUAAAAEAAAAAQAAAAIAAAAFAAAABwAAAAUAAAAHAAAAAwAAAAMAAAABAAAABQAAAAEAAAABAAAABAAAAAcAAAAHAAAABgAAAAMAAAAHAAAAAgAAAAMAAAAHAAAABwAAAAMAAAADAAAABgAAAAMAAAAGAAAABwAAAAQAAAAGAAAAAwAAAAMAAAACAAAAAwAAAAMAAAAEAAAAAwAAAAUAAAAFAAAABwAAAAEAAAABAAAABgAAAAMAAAAHAAAABwAAAAcAAAADAAAAAwAAAAIAAAAEAAAAAwAAAAcAAAAFAAAABAAAAAUAAAADAAAABAAAAAQAAAAFAAAABAAAAAUAAAAHAAAABgAAAAQAAAACAAAABQAAAAIAAAAEAAAABQAAAAYAAAABAAAABAAAAAMAAAABAAAABQAAAAMAAAACAAAAAwAAAAYAAAACAAAABwAAAAQAAAAFAAAABwAAAAQAAAACAAAABwAAAAQAAAAGAAAAAQAAAAUAAAAEAAAABwAAAAcAAAACAAAABQAAAAIAAAABAAAAAgAAAAUAAAAFAAAABwAAAAEAAAADAAAAAwAAAAcAAAACAAAAAQAAAAMAAAAGAAAAAgAAAAIAAAABAAAABwAAAAYAAAAGAAAABQAAAAQAAAAFAAAABAAAAAUAAAADAAAABgAAAAMAAAAEAAAABgAAAAYAAAAEAAAABwAAAAYAAAAEAAAABwAAAAcAAAADAAAABgAAAAUAAAAEAAAABAAAAAQAAAAHAAAAAQAAAAcAAAAFAAAABgAAAAcAAAAEAAAABAAAAAYAAAABAAAABwAAAAQAAAAFAAAABgAAAAYAAAADAAAABAAAAAIAAAABAAAAAwAAAAMAAAAGAAAABQAAAAMAAAAFAAAABAAAAAEAAAABAAAABAAAAAQAAAADAAAABwAAAAUAAAAHAAAAAgAAAAEAAAAHAAAAAgAAAAMAAAABAAAABQAAAAEAAAACAAAABwAAAAYAAAAFAAAABAAAAAYAAAADAAAAAgAAAAYAAAAFAAAABAAAAAYAAAAGAAAAAgAAAAcAAAAGAAAAAgAAAAMAAAAHAAAABgAAAAYAAAAGAAAABgAAAAEAAAAFAAAABQAAAAQAAAAHAAAABwAAAAEAAAADAAAAAQAAAAQAAAAGAAAAAgAAAAQAAAACAAAABQAAAAcAAAAHAAAAAQAAAAUAAAAHAAAAAQAAAAQAAAADAAAAAwAAAAIAAAABAAAAAwAAAAQAAAAHAAAABwAAAAYAAAACAAAABQAAAAcAAAADAAAAAgAAAAQAAAAHAAAABgAAAAMAAAAEAAAAAgAAAAYAAAABAAAAAwAAAAMAAAADAAAAAwAAAAYAAAAFAAAABwAAAAUAAAAHAAAABQAAAAEAAAAFAAAAAwAAAAYAAAAHAAAABQAAAAMAAAAHAAAABAAAAAEAAAACAAAAAwAAAAcAAAAEAAAAAwAAAAMAAAABAAAAAwAAAAUAAAADAAAABwAAAAUAAAAGAAAAAQAAAAEAAAAGAAAAAwAAAAYAAAAHAAAABwAAAAEAAAAFAAAABgAAAAMAAAAGAAAAAwAAAAcAAAACAAAAAwAAAAMAAAAFAAAAAwAAAAQAAAAFAAAAAQAAAAYAAAAFAAAAAQAAAAIAAAAGAAAAAgAAAAEAAAAEAAAAAwAAAAMAAAAEAAAABwAAAAYAAAADAAAABgAAAAQAAAAEAAAABAAAAAYAAAAHAAAABAAAAAUAAAAEAAAAAQAAAAUAAAAHAAAABQAAAAcAAAAGAAAAAQAAAAYAAAABAAAABQAAAAYAAAAGAAAABwAAAAQAAAAEAAAAAwAAAAIAAAAFAAAABwAAAAcAAAAEAAAABQAAAAMAAAABAAAAAgAAAAMAAAAFAAAAAQAAAAEAAAAFAAAAAwAAAAQAAAAHAAAABAAAAAIAAAAHAAAAAQAAAAMAAAADAAAAAQAAAAIAAAADAAAABgAAAAEAAAAFAAAABAAAAAMAAAAHAAAAAQAAAAMAAAAFAAAAAgAAAAYAAAAHAAAABQAAAAcAAAACAAAAAwAAAAEAAAADAAAABwAAAAIAAAABAAAABgAAAAYAAAAEAAAABwAAAAYAAAAFAAAAAgAAAAIAAAACAAAABwAAAAUAAAACAAAABAAAAAYAAAACAAAABQAAAAQAAAACAAAABQAAAAUAAAADAAAABQAAAAcAAAADAAAABAAAAAEAAAACAAAABQAAAAEAAAAHAAAABAAAAAYAAAABAAAAAwAAAAEAAAACAAAAAQAAAAYAAAAGAAAAAwAAAAQAAAAFAAAAAgAAAAEAAAABAAAABAAAAAQAAAAHAAAABgAAAAMAAAAGAAAABQAAAAIAAAADAAAAAgAAAAYAAAAGAAAABAAAAAcAAAABAAAAAwAAAAMAAAACAAAABAAAAAMAAAAFAAAAAwAAAAUAAAADAAAABwAAAAUAAAABAAAABQAAAAMAAAAHAAAAAwAAAAMAAAAGAAAABwAAAAEAAAACAAAABgAAAAMAAAADAAAABAAAAAIAAAABAAAAAgAAAAEAAAADAAAABgAAAAUAAAABAAAABgAAAAQAAAABAAAAAQAAAAcAAAAGAAAAAQAAAAUAAAAFAAAABQAAAAUAAAAGAAAAAwAAAAQAAAAGAAAAAwAAAAIAAAAFAAAABQAAAAcAAAAFAAAAAwAAAAQAAAADAAAABQAAAAMAAAABAAAABQAAAAYAAAAFAAAABQAAAAMAAAADAAAAAgAAAAcAAAABAAAABwAAAAYAAAAEAAAAAQAAAAEAAAACAAAAAwAAAAYAAAAGAAAAAgAAAAIAAAABAAAAAgAAAAIAAAAEAAAABgAAAAMAAAAEAAAAAwAAAAUAAAACAAAAAwAAAAMAAAAGAAAABgAAAAEAAAAGAAAABQAAAAQAAAACAAAABwAAAAYAAAAFAAAAAQAAAAEAAAAEAAAAAwAAAAIAAAADAAAABwAAAAcAAAABAAAAAwAAAAQAAAAFAAAABAAAAAQAAAAGAAAABAAAAAIAAAAEAAAABQAAAAQAAAACAAAAAQAAAAIAAAAHAAAAAQAAAAMAAAACAAAAAgAAAAEAAAADAAAABgAAAAYAAAADAAAAAQAAAAUAAAADAAAAAgAAAAMAAAAHAAAABwAAAAcAAAAHAAAAAQAAAAUAAAAHAAAABQAAAAUAAAADAAAABwAAAAEAAAABAAAABwAAAAQAAAADAAAABQAAAAYAAAAEAAAAAQAAAAcAAAABAAAABQAAAAYAAAAGAAAAAwAAAAEAAAABAAAAAwAAAAIAAAACAAAABwAAAAMAAAAFAAAABAAAAAUAAAAFAAAABQAAAAUAAAAHAAAABQAAAAIAAAAFAAAAAwAAAAcAAAABAAAAAgAAAAIAAAAHAAAAAgAAAAQAAAAFAAAABgAAAAYAAAAFAAAABgAAAAMAAAADAAAABAAAAAYAAAADAAAABgAAAAQAAAAEAAAAAgAAAAEAAAAFAAAABQAAAAYAAAADAAAAAQAAAAEAAAAEAAAABAAAAAYAAAA=",
          "dtype": "i4"
         },
         "xaxis": "x",
         "y": {
          "bdata": "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",
          "dtype": "f8"
         },
         "yaxis": "y"
        },
        {
         "hovertemplate": "Actual_Payment_Period=Aug-20<br>Reg_Month=%{x}<br>Cum_Sum=%{y}<extra></extra>",
         "legendgroup": "Aug-20",
         "marker": {
          "color": "#B6E880",
          "symbol": "circle"
         },
         "mode": "markers",
         "name": "Aug-20",
         "showlegend": true,
         "type": "scattergl",
         "x": {
          "bdata": "AwAAAAYAAAACAAAAAgAAAAIAAAAHAAAABwAAAAgAAAAHAAAAAwAAAAgAAAAIAAAAAwAAAAQAAAACAAAAAgAAAAUAAAAEAAAABgAAAAQAAAAIAAAAAgAAAAcAAAAFAAAABwAAAAUAAAAFAAAAAQAAAAgAAAAEAAAABQAAAAgAAAACAAAAAgAAAAEAAAACAAAABwAAAAgAAAAIAAAAAQAAAAcAAAACAAAAAwAAAAUAAAAGAAAABAAAAAgAAAAGAAAAAQAAAAgAAAAHAAAAAgAAAAYAAAADAAAABwAAAAgAAAABAAAAAQAAAAMAAAADAAAACAAAAAIAAAAIAAAAAwAAAAQAAAAIAAAABgAAAAQAAAAEAAAAAwAAAAQAAAAGAAAABwAAAAIAAAAHAAAAAgAAAAgAAAAGAAAACAAAAAUAAAAFAAAAAgAAAAQAAAAGAAAAAQAAAAUAAAAIAAAABAAAAAMAAAAIAAAABwAAAAQAAAAFAAAABQAAAAEAAAAFAAAABwAAAAYAAAADAAAABgAAAAgAAAAIAAAACAAAAAgAAAAHAAAABQAAAAQAAAAEAAAAAQAAAAgAAAAEAAAABAAAAAcAAAABAAAACAAAAAcAAAAEAAAAAwAAAAgAAAAEAAAACAAAAAIAAAADAAAACAAAAAUAAAAHAAAABwAAAAYAAAADAAAABgAAAAcAAAAGAAAABwAAAAYAAAAFAAAAAQAAAAYAAAACAAAAAwAAAAgAAAAGAAAAAgAAAAIAAAAIAAAAAwAAAAIAAAAGAAAABwAAAAUAAAAGAAAABQAAAAgAAAACAAAABQAAAAgAAAAEAAAABAAAAAUAAAADAAAABwAAAAMAAAADAAAABAAAAAQAAAAIAAAACAAAAAIAAAAEAAAABgAAAAcAAAAFAAAABgAAAAcAAAAFAAAABQAAAAUAAAACAAAABAAAAAcAAAAFAAAABwAAAAUAAAADAAAABgAAAAcAAAACAAAABwAAAAUAAAAGAAAABQAAAAQAAAACAAAABgAAAAEAAAAFAAAABwAAAAYAAAAHAAAABQAAAAIAAAAEAAAAAQAAAAMAAAAIAAAAAwAAAAgAAAAGAAAABQAAAAYAAAABAAAABAAAAAIAAAAIAAAAAwAAAAYAAAAIAAAABgAAAAYAAAAGAAAABAAAAAUAAAACAAAABQAAAAUAAAAEAAAABgAAAAcAAAAGAAAAAQAAAAUAAAAHAAAAAQAAAAMAAAAFAAAACAAAAAYAAAAFAAAAAwAAAAcAAAAHAAAABAAAAAcAAAABAAAABAAAAAEAAAADAAAAAgAAAAcAAAAFAAAABwAAAAYAAAAFAAAABgAAAAgAAAAHAAAACAAAAAQAAAAFAAAABQAAAAEAAAAGAAAACAAAAAYAAAACAAAABgAAAAMAAAAFAAAABgAAAAgAAAADAAAAAQAAAAMAAAAEAAAAAQAAAAUAAAAIAAAAAgAAAAUAAAAEAAAAAQAAAAcAAAADAAAABQAAAAEAAAAHAAAAAQAAAAYAAAABAAAABAAAAAgAAAAEAAAABgAAAAIAAAAGAAAACAAAAAEAAAAGAAAACAAAAAUAAAAEAAAABwAAAAcAAAADAAAACAAAAAUAAAABAAAAAQAAAAUAAAAGAAAABwAAAAYAAAAIAAAAAwAAAAYAAAAGAAAABAAAAAMAAAABAAAABQAAAAQAAAAIAAAABAAAAAYAAAAIAAAABgAAAAgAAAAFAAAAAgAAAAgAAAACAAAABAAAAAUAAAAFAAAABwAAAAEAAAAEAAAAAgAAAAYAAAAHAAAAAgAAAAUAAAAEAAAAAgAAAAQAAAADAAAACAAAAAUAAAAIAAAAAgAAAAMAAAAIAAAACAAAAAgAAAAHAAAAAgAAAAEAAAAHAAAABwAAAAgAAAABAAAAAQAAAAUAAAAGAAAABgAAAAUAAAAFAAAAAwAAAAUAAAADAAAABwAAAAcAAAADAAAABQAAAAQAAAAGAAAABAAAAAgAAAACAAAABQAAAAUAAAACAAAAAgAAAAgAAAAFAAAACAAAAAYAAAAIAAAAAgAAAAEAAAAHAAAABQAAAAgAAAAFAAAABAAAAAgAAAAHAAAABQAAAAUAAAAEAAAACAAAAAgAAAAEAAAAAwAAAAEAAAAFAAAAAgAAAAgAAAADAAAAAwAAAAEAAAADAAAAAwAAAAcAAAAFAAAABwAAAAcAAAAFAAAABAAAAAcAAAAGAAAAAwAAAAYAAAADAAAAAQAAAAYAAAADAAAAAQAAAAcAAAAGAAAAAQAAAAUAAAAGAAAABQAAAAYAAAAHAAAACAAAAAgAAAAEAAAAAgAAAAQAAAAIAAAABAAAAAQAAAABAAAAAgAAAAcAAAAGAAAAAgAAAAQAAAAGAAAAAQAAAAYAAAADAAAABQAAAAIAAAABAAAAAgAAAAgAAAAFAAAACAAAAAcAAAAFAAAACAAAAAQAAAACAAAACAAAAAUAAAAHAAAACAAAAAUAAAAIAAAABwAAAAMAAAADAAAACAAAAAEAAAAIAAAABQAAAAgAAAABAAAABAAAAAcAAAAHAAAABgAAAAMAAAAIAAAACAAAAAcAAAACAAAAAwAAAAcAAAAHAAAAAwAAAAMAAAAGAAAAAwAAAAYAAAAHAAAABAAAAAYAAAADAAAAAwAAAAIAAAADAAAACAAAAAQAAAAIAAAAAwAAAAUAAAAFAAAABwAAAAEAAAAIAAAABgAAAAMAAAAIAAAABwAAAAcAAAAHAAAAAwAAAAMAAAACAAAABAAAAAcAAAAFAAAABAAAAAUAAAAIAAAAAwAAAAQAAAAEAAAABQAAAAQAAAAFAAAABwAAAAYAAAAEAAAAAgAAAAUAAAACAAAABAAAAAUAAAAGAAAAAQAAAAQAAAADAAAAAQAAAAUAAAADAAAAAgAAAAMAAAAGAAAACAAAAAIAAAAHAAAACAAAAAQAAAAFAAAABwAAAAQAAAACAAAACAAAAAcAAAAEAAAABgAAAAEAAAAIAAAABQAAAAQAAAAIAAAACAAAAAcAAAAHAAAAAgAAAAUAAAACAAAAAQAAAAgAAAACAAAABQAAAAUAAAAHAAAAAQAAAAMAAAADAAAACAAAAAgAAAAIAAAABwAAAAIAAAABAAAAAwAAAAgAAAAIAAAABgAAAAIAAAACAAAAAQAAAAcAAAAGAAAABgAAAAUAAAAEAAAABQAAAAQAAAAIAAAABQAAAAMAAAAGAAAAAwAAAAgAAAAEAAAABgAAAAgAAAAGAAAABAAAAAgAAAAHAAAABgAAAAQAAAAHAAAACAAAAAcAAAAIAAAAAwAAAAYAAAAFAAAABAAAAAgAAAAEAAAABAAAAAcAAAAHAAAABQAAAAYAAAAHAAAABAAAAAQAAAAGAAAABwAAAAQAAAAFAAAABgAAAAYAAAAIAAAAAwAAAAQAAAACAAAAAQAAAAMAAAADAAAABgAAAAgAAAAFAAAAAwAAAAUAAAAEAAAAAQAAAAgAAAAEAAAABAAAAAMAAAAHAAAABQAAAAcAAAACAAAAAQAAAAcAAAACAAAAAwAAAAEAAAAFAAAAAQAAAAgAAAAHAAAABgAAAAUAAAAEAAAABgAAAAMAAAACAAAACAAAAAYAAAAFAAAABAAAAAYAAAAGAAAAAgAAAAcAAAAGAAAAAgAAAAgAAAADAAAABwAAAAYAAAAGAAAABgAAAAYAAAABAAAABQAAAAUAAAAEAAAACAAAAAcAAAAIAAAACAAAAAcAAAADAAAABAAAAAYAAAACAAAABAAAAAIAAAAFAAAABwAAAAgAAAAHAAAAAQAAAAUAAAAHAAAABAAAAAMAAAADAAAAAgAAAAEAAAADAAAABAAAAAcAAAAHAAAABgAAAAIAAAAFAAAACAAAAAcAAAADAAAAAgAAAAQAAAAHAAAABgAAAAMAAAAEAAAACAAAAAYAAAABAAAAAwAAAAMAAAADAAAAAwAAAAYAAAAFAAAABwAAAAUAAAAHAAAABQAAAAgAAAABAAAABQAAAAMAAAAIAAAABgAAAAcAAAAFAAAACAAAAAMAAAAHAAAABAAAAAgAAAABAAAAAgAAAAMAAAAHAAAABAAAAAgAAAADAAAAAwAAAAEAAAADAAAABQAAAAMAAAAIAAAABwAAAAUAAAAGAAAAAQAAAAEAAAAGAAAAAwAAAAYAAAAHAAAABwAAAAEAAAAFAAAABgAAAAMAAAAGAAAABwAAAAMAAAADAAAABQAAAAgAAAADAAAABAAAAAUAAAABAAAABgAAAAUAAAAIAAAAAQAAAAIAAAAIAAAABgAAAAgAAAAIAAAAAgAAAAQAAAADAAAACAAAAAMAAAAEAAAABwAAAAgAAAAGAAAAAwAAAAYAAAAEAAAACAAAAAgAAAAEAAAABAAAAAYAAAAHAAAACAAAAAQAAAAFAAAABAAAAAEAAAAFAAAACAAAAAcAAAAFAAAABwAAAAYAAAABAAAABgAAAAUAAAAGAAAABgAAAAgAAAAHAAAABAAAAAQAAAADAAAAAgAAAAUAAAAHAAAABwAAAAQAAAAFAAAAAwAAAAEAAAAIAAAAAwAAAAUAAAABAAAACAAAAAEAAAAFAAAAAwAAAAQAAAAHAAAABAAAAAIAAAAHAAAAAQAAAAgAAAADAAAAAQAAAAIAAAADAAAACAAAAAYAAAABAAAABQAAAAgAAAAIAAAABAAAAAMAAAAHAAAAAQAAAAgAAAAIAAAABQAAAAYAAAAHAAAABQAAAAcAAAACAAAAAwAAAAgAAAABAAAAAwAAAAcAAAACAAAACAAAAAYAAAAGAAAABAAAAAcAAAAGAAAABQAAAAIAAAAHAAAABQAAAAgAAAAIAAAAAgAAAAQAAAAGAAAACAAAAAUAAAAEAAAAAgAAAAgAAAAFAAAABQAAAAgAAAADAAAACAAAAAUAAAAHAAAACAAAAAMAAAAEAAAAAgAAAAgAAAAFAAAAAQAAAAcAAAAEAAAABgAAAAEAAAADAAAAAQAAAAgAAAACAAAAAQAAAAYAAAAGAAAAAwAAAAQAAAAFAAAAAgAAAAgAAAABAAAABAAAAAgAAAAEAAAABwAAAAgAAAAGAAAAAwAAAAgAAAAGAAAABQAAAAIAAAADAAAACAAAAAIAAAAGAAAABgAAAAQAAAAHAAAAAwAAAAMAAAACAAAABAAAAAMAAAAIAAAABQAAAAMAAAAFAAAAAwAAAAcAAAAFAAAABQAAAAgAAAAHAAAAAwAAAAMAAAAGAAAACAAAAAcAAAABAAAACAAAAAYAAAADAAAAAwAAAAQAAAACAAAAAwAAAAYAAAAFAAAABgAAAAQAAAABAAAAAQAAAAcAAAAIAAAACAAAAAYAAAABAAAABQAAAAUAAAAFAAAABQAAAAYAAAADAAAACAAAAAQAAAAGAAAAAwAAAAIAAAAFAAAABQAAAAcAAAAFAAAAAwAAAAQAAAADAAAABQAAAAMAAAABAAAABQAAAAYAAAAFAAAABQAAAAMAAAADAAAABwAAAAgAAAABAAAABwAAAAYAAAAEAAAAAQAAAAEAAAACAAAAAwAAAAYAAAAIAAAABgAAAAgAAAAIAAAAAgAAAAgAAAAIAAAAAgAAAAgAAAABAAAAAgAAAAgAAAAEAAAABgAAAAgAAAADAAAACAAAAAQAAAADAAAACAAAAAUAAAACAAAAAwAAAAMAAAAGAAAACAAAAAYAAAABAAAABgAAAAUAAAAEAAAAAgAAAAcAAAAGAAAABQAAAAgAAAABAAAAAQAAAAQAAAADAAAAAgAAAAMAAAAIAAAABwAAAAcAAAABAAAAAwAAAAQAAAAFAAAABAAAAAQAAAAIAAAABgAAAAQAAAACAAAACAAAAAQAAAAFAAAABAAAAAIAAAAIAAAAAgAAAAcAAAABAAAAAwAAAAMAAAAGAAAABgAAAAMAAAABAAAABQAAAAMAAAACAAAAAwAAAAcAAAAHAAAABwAAAAcAAAAIAAAAAQAAAAUAAAAHAAAABQAAAAUAAAADAAAABwAAAAEAAAAIAAAAAQAAAAcAAAAEAAAAAwAAAAUAAAAGAAAABAAAAAEAAAAHAAAAAQAAAAUAAAAIAAAABgAAAAYAAAADAAAAAQAAAAEAAAADAAAAAgAAAAIAAAAHAAAACAAAAAgAAAADAAAABQAAAAQAAAAFAAAABQAAAAUAAAAFAAAABwAAAAUAAAAIAAAAAgAAAAUAAAADAAAABwAAAAgAAAABAAAAAgAAAAIAAAAHAAAAAgAAAAQAAAAFAAAABgAAAAYAAAAFAAAABgAAAAMAAAADAAAABAAAAAYAAAAGAAAABAAAAAQAAAACAAAAAQAAAAUAAAAFAAAABgAAAAMAAAAIAAAAAQAAAAQAAAAEAAAABgAAAA==",
          "dtype": "i4"
         },
         "xaxis": "x",
         "y": {
          "bdata": "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",
          "dtype": "f8"
         },
         "yaxis": "y"
        },
        {
         "hovertemplate": "Actual_Payment_Period=Sep-20<br>Reg_Month=%{x}<br>Cum_Sum=%{y}<extra></extra>",
         "legendgroup": "Sep-20",
         "marker": {
          "color": "#FF97FF",
          "symbol": "circle"
         },
         "mode": "markers",
         "name": "Sep-20",
         "showlegend": true,
         "type": "scattergl",
         "x": {
          "bdata": "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",
          "dtype": "i4"
         },
         "xaxis": "x",
         "y": {
          "bdata": "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",
          "dtype": "f8"
         },
         "yaxis": "y"
        },
        {
         "hovertemplate": "Actual_Payment_Period=Oct-20<br>Reg_Month=%{x}<br>Cum_Sum=%{y}<extra></extra>",
         "legendgroup": "Oct-20",
         "marker": {
          "color": "#FECB52",
          "symbol": "circle"
         },
         "mode": "markers",
         "name": "Oct-20",
         "showlegend": true,
         "type": "scattergl",
         "x": {
          "bdata": "AwAAAAYAAAACAAAACQAAAAoAAAAHAAAABwAAAAgAAAAHAAAACAAAAAgAAAAJAAAACgAAAAoAAAAEAAAAAgAAAAIAAAAFAAAABAAAAAYAAAAEAAAACQAAAAgAAAACAAAABwAAAAUAAAAHAAAACgAAAAUAAAAKAAAAAQAAAAkAAAAIAAAACQAAAAQAAAAFAAAACQAAAAkAAAAJAAAACQAAAAgAAAACAAAAAQAAAAcAAAAKAAAACAAAAAgAAAABAAAABwAAAAIAAAADAAAABQAAAAoAAAAGAAAACAAAAAYAAAABAAAACAAAAAoAAAAHAAAAAgAAAAYAAAADAAAABwAAAAgAAAABAAAAAQAAAAoAAAAJAAAACgAAAAMAAAAJAAAAAwAAAAgAAAACAAAACAAAAAMAAAAEAAAACgAAAAgAAAAGAAAABAAAAAQAAAAGAAAACQAAAAcAAAAKAAAABwAAAAIAAAAIAAAABgAAAAoAAAAIAAAABQAAAAIAAAAJAAAABAAAAAoAAAAGAAAAAQAAAAUAAAAIAAAABAAAAAgAAAAHAAAABAAAAAUAAAAKAAAABQAAAAkAAAAKAAAAAQAAAAUAAAAHAAAACQAAAAYAAAADAAAABgAAAAgAAAAIAAAACAAAAAgAAAAHAAAACQAAAAUAAAAEAAAABAAAAAgAAAAEAAAABwAAAAEAAAAIAAAABwAAAAQAAAADAAAACAAAAAkAAAAJAAAACQAAAAkAAAAIAAAAAwAAAAkAAAAIAAAABQAAAAoAAAAHAAAABwAAAAkAAAAGAAAAAwAAAAYAAAAHAAAACgAAAAkAAAAGAAAABwAAAAoAAAAGAAAABQAAAAEAAAAGAAAAAgAAAAMAAAAKAAAACAAAAAYAAAACAAAACgAAAAgAAAADAAAACQAAAAkAAAAGAAAABwAAAAUAAAAGAAAABQAAAAgAAAAFAAAACAAAAAQAAAAEAAAABQAAAAcAAAADAAAAAwAAAAQAAAAKAAAABAAAAAgAAAAIAAAAAgAAAAQAAAAGAAAACQAAAAcAAAAFAAAACgAAAAYAAAAKAAAABwAAAAUAAAAFAAAAAgAAAAQAAAAHAAAABQAAAAcAAAAFAAAAAwAAAAYAAAAKAAAACQAAAAoAAAAHAAAACQAAAAcAAAAKAAAACQAAAAoAAAAFAAAABgAAAAUAAAAEAAAAAgAAAAYAAAABAAAACQAAAAUAAAAHAAAABgAAAAcAAAAFAAAAAgAAAAQAAAAKAAAACAAAAAMAAAAIAAAABgAAAAUAAAAGAAAACgAAAAQAAAAJAAAACAAAAAMAAAAGAAAACAAAAAYAAAAGAAAABgAAAAUAAAAJAAAACQAAAAUAAAAFAAAABAAAAAYAAAAHAAAACQAAAAYAAAABAAAACgAAAAUAAAAHAAAAAwAAAAUAAAAIAAAABgAAAAUAAAAJAAAACQAAAAkAAAADAAAACgAAAAcAAAAHAAAABwAAAAQAAAAKAAAAAQAAAAkAAAACAAAABwAAAAUAAAAHAAAABgAAAAUAAAAGAAAACAAAAAkAAAAHAAAACAAAAAQAAAAKAAAABQAAAAkAAAAFAAAAAQAAAAYAAAAIAAAABgAAAAIAAAAGAAAACQAAAAUAAAAJAAAABgAAAAgAAAADAAAAAQAAAAMAAAABAAAABQAAAAoAAAAKAAAACAAAAAIAAAAFAAAACQAAAAQAAAABAAAABwAAAAMAAAAJAAAABQAAAAcAAAABAAAACQAAAAoAAAAGAAAAAQAAAAoAAAAKAAAABAAAAAgAAAAEAAAABgAAAAIAAAAGAAAACAAAAAEAAAAGAAAACAAAAAoAAAAJAAAABQAAAAQAAAAHAAAABwAAAAkAAAADAAAACAAAAAEAAAABAAAABQAAAAYAAAAJAAAABwAAAAYAAAAIAAAABgAAAAYAAAAEAAAACQAAAAoAAAADAAAAAQAAAAUAAAAEAAAACAAAAAQAAAAKAAAABgAAAAgAAAAGAAAACAAAAAUAAAAIAAAAAgAAAAQAAAAFAAAABQAAAAcAAAABAAAABAAAAAIAAAAGAAAABwAAAAIAAAAFAAAABAAAAAQAAAADAAAACQAAAAgAAAAFAAAACAAAAAMAAAAIAAAACAAAAAkAAAAIAAAABwAAAAEAAAAHAAAABwAAAAoAAAAJAAAACAAAAAEAAAAJAAAAAQAAAAUAAAAJAAAABgAAAAkAAAAGAAAACQAAAAUAAAAFAAAACgAAAAUAAAADAAAABwAAAAcAAAADAAAABQAAAAQAAAAJAAAABgAAAAQAAAAJAAAACAAAAAUAAAAFAAAAAgAAAAoAAAAIAAAABQAAAAkAAAAIAAAABgAAAAgAAAAKAAAAAgAAAAEAAAAHAAAABQAAAAgAAAAFAAAABAAAAAkAAAAIAAAABwAAAAUAAAAFAAAABAAAAAgAAAAIAAAACQAAAAQAAAAFAAAAAgAAAAgAAAAJAAAAAQAAAAMAAAADAAAABwAAAAUAAAAHAAAACgAAAAcAAAAFAAAABAAAAAcAAAAGAAAAAwAAAAkAAAAGAAAACQAAAAMAAAABAAAABgAAAAoAAAAHAAAABgAAAAEAAAAFAAAACQAAAAYAAAAFAAAABgAAAAcAAAAKAAAACAAAAAkAAAAIAAAABAAAAAIAAAAIAAAABAAAAAQAAAABAAAAAgAAAAcAAAAKAAAACgAAAAYAAAACAAAABAAAAAYAAAAJAAAACgAAAAYAAAADAAAACgAAAAUAAAAIAAAACgAAAAUAAAAIAAAABwAAAAoAAAAFAAAACAAAAAQAAAAIAAAABQAAAAoAAAAHAAAACAAAAAUAAAAIAAAABwAAAAkAAAAJAAAAAwAAAAkAAAAJAAAACAAAAAEAAAAIAAAACgAAAAUAAAAIAAAACQAAAAEAAAAKAAAABAAAAAcAAAAHAAAABgAAAAMAAAAIAAAACAAAAAcAAAAJAAAACgAAAAIAAAADAAAABwAAAAcAAAAJAAAAAwAAAAoAAAAKAAAACQAAAAMAAAAGAAAAAwAAAAYAAAAHAAAABAAAAAYAAAADAAAAAwAAAAIAAAAKAAAAAwAAAAgAAAAEAAAACAAAAAUAAAAFAAAABwAAAAEAAAAIAAAABgAAAAgAAAAHAAAABwAAAAcAAAADAAAAAwAAAAkAAAACAAAABAAAAAkAAAAHAAAABQAAAAQAAAAFAAAACQAAAAgAAAAJAAAACQAAAAMAAAAEAAAACgAAAAUAAAAEAAAABQAAAAcAAAAJAAAABgAAAAQAAAACAAAACQAAAAoAAAAJAAAABQAAAAIAAAAEAAAABQAAAAYAAAABAAAABAAAAAEAAAAKAAAABQAAAAMAAAAKAAAACQAAAAYAAAAIAAAABwAAAAgAAAAEAAAABQAAAAcAAAAEAAAACAAAAAcAAAAEAAAABgAAAAoAAAAIAAAABQAAAAQAAAAIAAAACAAAAAcAAAAKAAAABwAAAAIAAAAFAAAACQAAAAgAAAAKAAAABQAAAAUAAAAHAAAAAQAAAAkAAAADAAAACQAAAAgAAAAJAAAACAAAAAkAAAAKAAAACAAAAAcAAAABAAAACAAAAAgAAAAGAAAACgAAAAoAAAAJAAAAAgAAAAkAAAABAAAABwAAAAoAAAAGAAAABgAAAAUAAAAEAAAACgAAAAUAAAAJAAAABAAAAAgAAAAFAAAAAwAAAAoAAAAGAAAAAwAAAAgAAAAEAAAABgAAAAgAAAAKAAAABgAAAAQAAAAIAAAABwAAAAYAAAAEAAAACgAAAAkAAAAHAAAACAAAAAoAAAAHAAAACAAAAAMAAAAJAAAABgAAAAUAAAAEAAAACAAAAAoAAAAKAAAABAAAAAQAAAAHAAAABwAAAAUAAAAJAAAABgAAAAcAAAAJAAAACQAAAAoAAAAGAAAACgAAAAkAAAAKAAAABwAAAAQAAAAFAAAABgAAAAYAAAAIAAAACQAAAAoAAAAEAAAAAgAAAAEAAAADAAAAAwAAAAYAAAAIAAAABQAAAAMAAAAFAAAABAAAAAgAAAAKAAAACgAAAAQAAAAJAAAAAwAAAAcAAAAKAAAABQAAAAcAAAACAAAAAQAAAAcAAAACAAAACQAAAAEAAAAFAAAACgAAAAkAAAAJAAAAAQAAAAgAAAAJAAAABwAAAAYAAAAFAAAABAAAAAYAAAAJAAAAAwAAAAgAAAAGAAAABQAAAAQAAAAGAAAABgAAAAIAAAAKAAAABwAAAAoAAAAJAAAABgAAAAIAAAAIAAAAAwAAAAcAAAAGAAAABgAAAAkAAAAGAAAABgAAAAEAAAAFAAAABQAAAAQAAAAIAAAABwAAAAgAAAAJAAAACgAAAAgAAAAJAAAABwAAAAoAAAAKAAAACQAAAAQAAAAGAAAACQAAAAUAAAAHAAAACAAAAAkAAAAHAAAACQAAAAEAAAAFAAAACgAAAAcAAAAEAAAAAwAAAAkAAAACAAAACgAAAAEAAAADAAAABAAAAAcAAAAHAAAABgAAAAIAAAAFAAAACgAAAAoAAAAIAAAABwAAAAMAAAAJAAAACQAAAAQAAAAHAAAABgAAAAQAAAAKAAAACAAAAAYAAAABAAAAAwAAAAoAAAADAAAAAwAAAAYAAAAFAAAACQAAAAcAAAAKAAAABwAAAAUAAAAIAAAABQAAAAMAAAAIAAAABgAAAAcAAAAFAAAACAAAAAcAAAAEAAAACAAAAAEAAAACAAAACgAAAAkAAAADAAAABwAAAAQAAAAIAAAACQAAAAMAAAAJAAAAAwAAAAEAAAADAAAABQAAAAgAAAAJAAAABwAAAAUAAAAGAAAAAQAAAAEAAAAGAAAAAwAAAAYAAAAHAAAABwAAAAUAAAAGAAAABgAAAAoAAAAKAAAACgAAAAcAAAAKAAAACQAAAAMAAAADAAAABQAAAAgAAAAJAAAAAwAAAAQAAAAKAAAACQAAAAUAAAABAAAABgAAAAUAAAAIAAAAAQAAAAIAAAAIAAAABgAAAAgAAAAIAAAACgAAAAkAAAAEAAAACAAAAAcAAAAIAAAABgAAAAYAAAAEAAAACAAAAAgAAAAJAAAABAAAAAQAAAAGAAAABwAAAAgAAAAJAAAABAAAAAUAAAAEAAAACgAAAAkAAAAJAAAAAQAAAAUAAAAIAAAABwAAAAUAAAAHAAAABgAAAAEAAAAGAAAABQAAAAYAAAAGAAAACgAAAAgAAAAKAAAABwAAAAQAAAAFAAAABwAAAAcAAAAEAAAABQAAAAoAAAABAAAACQAAAAgAAAAKAAAAAwAAAAUAAAAKAAAAAQAAAAgAAAAFAAAAAwAAAAkAAAAEAAAABwAAAAoAAAAJAAAABwAAAAEAAAAIAAAAAwAAAAEAAAACAAAACgAAAAgAAAAGAAAACgAAAAoAAAAKAAAABQAAAAoAAAAIAAAACAAAAAQAAAADAAAABwAAAAEAAAAIAAAACgAAAAkAAAAKAAAACAAAAAUAAAAGAAAABwAAAAUAAAAHAAAAAgAAAAgAAAAJAAAABwAAAAIAAAAIAAAACQAAAAYAAAAGAAAABAAAAAcAAAAJAAAABgAAAAoAAAAFAAAACgAAAAcAAAAFAAAACgAAAAgAAAAIAAAACgAAAAYAAAAIAAAABQAAAAQAAAACAAAACAAAAAUAAAAJAAAABQAAAAgAAAAKAAAAAwAAAAgAAAAJAAAABQAAAAcAAAAIAAAACgAAAAIAAAAIAAAABQAAAAEAAAAKAAAABwAAAAQAAAAGAAAAAQAAAAoAAAADAAAACAAAAAEAAAAGAAAABgAAAAMAAAAKAAAABAAAAAUAAAACAAAACAAAAAQAAAAIAAAABwAAAAoAAAAIAAAABgAAAAgAAAAKAAAABgAAAAkAAAAFAAAAAgAAAAkAAAAIAAAAAgAAAAkAAAAGAAAACgAAAAYAAAAHAAAACQAAAAMAAAAJAAAAAwAAAAkAAAAEAAAAAwAAAAgAAAAFAAAAAwAAAAUAAAAHAAAABQAAAAoAAAAKAAAABQAAAAgAAAAHAAAAAwAAAAMAAAAGAAAACgAAAAgAAAAKAAAABwAAAAoAAAABAAAACgAAAAoAAAAIAAAACgAAAAYAAAADAAAAAwAAAAQAAAAJAAAACQAAAAYAAAAKAAAACQAAAAUAAAAJAAAABgAAAAQAAAABAAAACQAAAAcAAAAIAAAACAAAAAYAAAABAAAABQAAAAUAAAAFAAAABQAAAAkAAAAGAAAACgAAAAkAAAAIAAAABgAAAAUAAAAKAAAABwAAAAUAAAAJAAAABAAAAAUAAAAJAAAAAwAAAAUAAAAGAAAABQAAAAUAAAAHAAAACAAAAAEAAAAKAAAABwAAAAYAAAAEAAAAAQAAAAEAAAAJAAAACgAAAAMAAAAGAAAACAAAAAYAAAAIAAAACAAAAAIAAAAIAAAACAAAAAgAAAAJAAAAAQAAAAoAAAAKAAAACAAAAAQAAAAGAAAACQAAAAkAAAAIAAAAAwAAAAgAAAAJAAAACgAAAAQAAAAKAAAACAAAAAkAAAAKAAAABQAAAAoAAAADAAAAAwAAAAYAAAAIAAAABgAAAAoAAAAGAAAABQAAAAkAAAACAAAACQAAAAoAAAAHAAAACgAAAAYAAAAFAAAACQAAAAgAAAABAAAAAQAAAAQAAAADAAAAAgAAAAMAAAAIAAAACQAAAAoAAAAKAAAABwAAAAcAAAAKAAAAAQAAAAMAAAAEAAAACQAAAAoAAAAFAAAABAAAAAQAAAAIAAAABgAAAAQAAAAIAAAACQAAAAQAAAAFAAAABAAAAAIAAAAKAAAACAAAAAIAAAAHAAAACQAAAAEAAAAKAAAACQAAAAMAAAAGAAAABgAAAAMAAAAFAAAAAwAAAAMAAAAHAAAABwAAAAoAAAAHAAAABwAAAAgAAAABAAAABQAAAAcAAAAFAAAACQAAAAUAAAAJAAAAAwAAAAcAAAAKAAAACgAAAAEAAAAKAAAACAAAAAoAAAAKAAAACQAAAAcAAAAEAAAAAwAAAAUAAAAJAAAACQAAAAYAAAAEAAAACgAAAAoAAAABAAAABwAAAAEAAAAFAAAACAAAAAYAAAAGAAAAAwAAAAkAAAABAAAAAQAAAAIAAAACAAAABwAAAAkAAAAIAAAACAAAAAQAAAAFAAAABQAAAAUAAAAFAAAABwAAAAoAAAAFAAAACAAAAAoAAAAFAAAACgAAAAkAAAAKAAAAAwAAAAcAAAAIAAAACQAAAAEAAAACAAAACQAAAAcAAAACAAAABAAAAAUAAAAGAAAABgAAAAkAAAAFAAAABgAAAAQAAAAGAAAACgAAAAYAAAAEAAAACgAAAAQAAAACAAAACQAAAAUAAAAFAAAABgAAAAkAAAAKAAAACgAAAAgAAAABAAAACQAAAAQAAAAKAAAABAAAAAYAAAA=",
          "dtype": "i4"
         },
         "xaxis": "x",
         "y": {
          "bdata": "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",
          "dtype": "f8"
         },
         "yaxis": "y"
        },
        {
         "hovertemplate": "Actual_Payment_Period=Nov-20<br>Reg_Month=%{x}<br>Cum_Sum=%{y}<extra></extra>",
         "legendgroup": "Nov-20",
         "marker": {
          "color": "#636efa",
          "symbol": "circle"
         },
         "mode": "markers",
         "name": "Nov-20",
         "showlegend": true,
         "type": "scattergl",
         "x": {
          "bdata": "AwAAAAYAAAACAAAACQAAAAoAAAAHAAAABwAAAAgAAAAHAAAACAAAAAgAAAALAAAACQAAAAoAAAAKAAAABAAAAAIAAAACAAAABQAAAAQAAAAGAAAABAAAAAkAAAAIAAAACwAAAAIAAAAHAAAABQAAAAcAAAAKAAAABQAAAAoAAAABAAAACQAAAAgAAAAJAAAABAAAAAUAAAAJAAAACQAAAAkAAAAJAAAACAAAAAIAAAABAAAABwAAAAoAAAAIAAAACAAAAAEAAAAHAAAAAgAAAAMAAAAKAAAABgAAAAgAAAAGAAAAAQAAAAgAAAAKAAAABwAAAAIAAAAGAAAACwAAAAcAAAAIAAAACwAAAAEAAAABAAAACgAAAAkAAAALAAAACgAAAAMAAAAJAAAACAAAAAIAAAAIAAAAAwAAAAsAAAAKAAAACAAAAAYAAAALAAAABAAAAAQAAAAJAAAACwAAAAsAAAAHAAAACgAAAAcAAAACAAAACAAAAAYAAAAKAAAACwAAAAgAAAAFAAAAAgAAAAkAAAAEAAAACgAAAAYAAAABAAAACwAAAAUAAAALAAAACAAAAAQAAAAIAAAABwAAAAQAAAAFAAAACgAAAAUAAAAJAAAACgAAAAEAAAALAAAABQAAAAcAAAAJAAAAAwAAAAYAAAAIAAAACAAAAAgAAAAIAAAABwAAAAkAAAAFAAAABAAAAAgAAAALAAAACwAAAAcAAAABAAAACAAAAAsAAAAHAAAABAAAAAMAAAALAAAACAAAAAsAAAAJAAAACQAAAAkAAAAJAAAACAAAAAsAAAADAAAACQAAAAsAAAAIAAAABQAAAAoAAAAHAAAABwAAAAkAAAAGAAAACwAAAAMAAAAGAAAACwAAAAcAAAAKAAAACQAAAAYAAAAHAAAACgAAAAYAAAAFAAAAAQAAAAsAAAAGAAAAAgAAAAsAAAAKAAAACAAAAAsAAAALAAAAAgAAAAoAAAAIAAAAAwAAAAkAAAAJAAAABgAAAAcAAAAFAAAACwAAAAsAAAAGAAAACwAAAAsAAAAIAAAABQAAAAgAAAAEAAAACwAAAAUAAAAHAAAAAwAAAAMAAAAKAAAABAAAAAgAAAAIAAAAAgAAAAQAAAAGAAAACQAAAAcAAAAFAAAACwAAAAoAAAAGAAAACgAAAAcAAAAFAAAABQAAAAIAAAAHAAAABQAAAAsAAAAHAAAABQAAAAMAAAAGAAAACgAAAAkAAAAKAAAABwAAAAkAAAAHAAAACgAAAAkAAAAKAAAABQAAAAYAAAAFAAAAAgAAAAYAAAABAAAACQAAAAUAAAAHAAAABgAAAAcAAAALAAAABQAAAAIAAAAEAAAACwAAAAoAAAALAAAACAAAAAMAAAAIAAAABgAAAAUAAAAGAAAACgAAAAQAAAAJAAAACwAAAAgAAAADAAAABgAAAAgAAAALAAAABgAAAAsAAAAGAAAABQAAAAkAAAAJAAAABQAAAAUAAAAEAAAABgAAAAcAAAAJAAAABgAAAAEAAAAKAAAABQAAAAcAAAADAAAABQAAAAgAAAAGAAAABQAAAAkAAAAJAAAACQAAAAoAAAAHAAAACwAAAAcAAAAHAAAABAAAAAoAAAAJAAAACwAAAAsAAAACAAAABwAAAAUAAAAHAAAABgAAAAUAAAAGAAAACAAAAAkAAAALAAAACwAAAAcAAAALAAAACAAAAAQAAAAKAAAABQAAAAkAAAAFAAAAAQAAAAYAAAAIAAAABgAAAAIAAAAJAAAABQAAAAkAAAAGAAAACAAAAAMAAAALAAAAAQAAAAMAAAALAAAABQAAAAoAAAAKAAAACAAAAAIAAAAFAAAACQAAAAQAAAALAAAAAQAAAAcAAAADAAAACQAAAAUAAAAHAAAAAQAAAAkAAAAKAAAABgAAAAEAAAAKAAAACgAAAAQAAAAIAAAABgAAAAIAAAAGAAAACAAAAAEAAAAGAAAACAAAAAoAAAAJAAAABQAAAAcAAAAJAAAACwAAAAMAAAAIAAAAAQAAAAsAAAABAAAABQAAAAYAAAAJAAAABwAAAAYAAAAIAAAACwAAAAYAAAAGAAAABAAAAAkAAAAKAAAACwAAAAMAAAABAAAABQAAAAsAAAAEAAAACAAAAAsAAAAKAAAABgAAAAgAAAAGAAAACAAAAAsAAAAFAAAACAAAAAIAAAAEAAAABQAAAAUAAAAHAAAAAQAAAAQAAAALAAAAAgAAAAYAAAAHAAAAAgAAAAsAAAAEAAAABAAAAAMAAAAJAAAACAAAAAUAAAAIAAAAAwAAAAgAAAAIAAAACQAAAAgAAAAHAAAAAQAAAAsAAAAHAAAABwAAAAoAAAAJAAAACAAAAAEAAAAJAAAAAQAAAAUAAAAJAAAABgAAAAkAAAAGAAAACQAAAAUAAAAFAAAACwAAAAoAAAAFAAAACwAAAAMAAAAHAAAABwAAAAMAAAAFAAAACwAAAAsAAAAEAAAACQAAAAYAAAAJAAAACAAAAAIAAAAKAAAACAAAAAUAAAAJAAAACwAAAAgAAAALAAAABgAAAAsAAAALAAAACAAAAAoAAAACAAAAAQAAAAcAAAAFAAAACAAAAAUAAAAEAAAACQAAAAgAAAAHAAAABQAAAAQAAAAIAAAACAAAAAkAAAAEAAAACwAAAAUAAAACAAAACAAAAAkAAAABAAAAAwAAAAMAAAAHAAAABQAAAAsAAAAHAAAACgAAAAcAAAAFAAAABwAAAAMAAAAJAAAABgAAAAkAAAAGAAAACgAAAAEAAAAHAAAABgAAAAEAAAAFAAAACQAAAAYAAAAFAAAABgAAAAcAAAAKAAAACAAAAAkAAAALAAAACAAAAAIAAAALAAAACAAAAAQAAAAEAAAAAQAAAAIAAAAHAAAACgAAAAoAAAACAAAABAAAAAYAAAAJAAAACgAAAAYAAAADAAAACgAAAAUAAAALAAAACAAAAAoAAAAFAAAACAAAAAcAAAAKAAAABQAAAAgAAAAIAAAACgAAAAcAAAAIAAAABQAAAAgAAAAHAAAACQAAAAsAAAAJAAAACQAAAAkAAAAIAAAAAQAAAAgAAAAKAAAABQAAAAgAAAAJAAAAAQAAAAoAAAAEAAAABwAAAAcAAAAGAAAAAwAAAAgAAAAIAAAABwAAAAkAAAAKAAAAAgAAAAMAAAAHAAAABwAAAAkAAAADAAAACgAAAAoAAAAJAAAAAwAAAAYAAAADAAAABgAAAAcAAAAEAAAABgAAAAIAAAAKAAAAAwAAAAgAAAAEAAAACAAAAAUAAAAFAAAABwAAAAEAAAAIAAAABgAAAAgAAAAHAAAABwAAAAcAAAADAAAAAwAAAAkAAAACAAAABAAAAAkAAAAHAAAABQAAAAQAAAAJAAAACAAAAAkAAAAJAAAACwAAAAMAAAAEAAAACwAAAAoAAAAFAAAABAAAAAUAAAAHAAAACQAAAAYAAAAEAAAACwAAAAIAAAAJAAAACgAAAAkAAAAFAAAAAgAAAAQAAAAFAAAABgAAAAEAAAABAAAACgAAAAUAAAADAAAACgAAAAkAAAAGAAAACAAAAAcAAAALAAAACAAAAAQAAAAFAAAABwAAAAgAAAAHAAAABAAAAAYAAAAKAAAACAAAAAUAAAAEAAAACAAAAAgAAAALAAAABwAAAAoAAAAHAAAAAgAAAAUAAAAJAAAACAAAAAoAAAAFAAAABQAAAAcAAAABAAAACQAAAAkAAAAIAAAACQAAAAgAAAAJAAAACgAAAAgAAAAHAAAAAQAAAAsAAAALAAAACAAAAAgAAAAGAAAACgAAAAoAAAAJAAAAAgAAAAkAAAABAAAABwAAAAoAAAAGAAAABgAAAAUAAAAEAAAACgAAAAUAAAAJAAAABAAAAAgAAAAFAAAACwAAAAoAAAAGAAAACAAAAAQAAAAGAAAACAAAAAsAAAAKAAAABgAAAAQAAAAIAAAABwAAAAYAAAAKAAAACQAAAAcAAAAIAAAACgAAAAcAAAAIAAAACwAAAAsAAAADAAAACQAAAAYAAAAFAAAABAAAAAgAAAAKAAAACgAAAAQAAAAHAAAACwAAAAcAAAAFAAAACQAAAAsAAAAHAAAACwAAAAkAAAAJAAAACgAAAAYAAAAKAAAACQAAAAoAAAAHAAAABAAAAAUAAAAGAAAABgAAAAgAAAAJAAAACgAAAAQAAAACAAAAAQAAAAMAAAAGAAAACAAAAAMAAAAFAAAABAAAAAsAAAAIAAAACgAAAAsAAAAKAAAABAAAAAkAAAADAAAABwAAAAoAAAAFAAAACwAAAAcAAAACAAAAAQAAAAcAAAACAAAACwAAAAkAAAABAAAABQAAAAoAAAAJAAAACQAAAAsAAAALAAAAAQAAAAsAAAAIAAAACQAAAAcAAAAGAAAABQAAAAQAAAAGAAAACQAAAAMAAAALAAAACAAAAAYAAAAFAAAABgAAAAYAAAACAAAACwAAAAoAAAAHAAAACgAAAAsAAAAJAAAABgAAAAIAAAAIAAAAAwAAAAcAAAAGAAAABgAAAAsAAAAJAAAABgAAAAEAAAAFAAAABAAAAAgAAAAHAAAACAAAAAkAAAAKAAAACAAAAAkAAAAHAAAACgAAAAsAAAAKAAAACQAAAAQAAAALAAAABgAAAAkAAAALAAAABQAAAAcAAAAIAAAACQAAAAcAAAAJAAAAAQAAAAUAAAAKAAAABwAAAAsAAAAEAAAACwAAAAMAAAAJAAAAAgAAAAoAAAABAAAAAwAAAAQAAAAHAAAABwAAAAYAAAACAAAABQAAAAoAAAAKAAAACAAAAAsAAAALAAAABwAAAAMAAAAJAAAACQAAAAQAAAAHAAAACwAAAAYAAAAKAAAACAAAAAsAAAAGAAAAAQAAAAoAAAADAAAAAwAAAAYAAAAFAAAACQAAAAcAAAALAAAACwAAAAoAAAAHAAAACwAAAAUAAAAIAAAACwAAAAUAAAADAAAACAAAAAYAAAAHAAAABQAAAAgAAAAHAAAABAAAAAsAAAAIAAAAAQAAAAIAAAAKAAAACQAAAAMAAAAHAAAABAAAAAsAAAAIAAAACQAAAAMAAAAJAAAAAwAAAAsAAAALAAAAAQAAAAMAAAAFAAAACAAAAAsAAAAJAAAABwAAAAUAAAAGAAAAAQAAAAEAAAAGAAAAAwAAAAYAAAAHAAAABwAAAAYAAAAGAAAACgAAAAoAAAAKAAAABwAAAAoAAAAJAAAAAwAAAAMAAAALAAAABQAAAAgAAAAJAAAAAwAAAAQAAAAKAAAACQAAAAUAAAABAAAABgAAAAUAAAAIAAAAAQAAAAsAAAACAAAACAAAAAYAAAAIAAAACwAAAAgAAAAKAAAACQAAAAQAAAAIAAAABwAAAAgAAAAGAAAABgAAAAQAAAAIAAAACAAAAAkAAAAEAAAABgAAAAcAAAAIAAAACQAAAAQAAAAFAAAACgAAAAkAAAAJAAAAAQAAAAUAAAAIAAAABwAAAAUAAAAHAAAABgAAAAEAAAAGAAAABgAAAAsAAAAGAAAACgAAAAgAAAAKAAAABwAAAAUAAAAHAAAABwAAAAQAAAAFAAAACgAAAAkAAAAIAAAACgAAAAMAAAAKAAAAAQAAAAsAAAAIAAAABQAAAAMAAAAJAAAABAAAAAcAAAAKAAAACwAAAAkAAAAHAAAAAQAAAAgAAAADAAAAAQAAAAIAAAAKAAAACwAAAAgAAAALAAAABgAAAAoAAAAKAAAACgAAAAUAAAAKAAAACAAAAAgAAAAEAAAAAwAAAAcAAAABAAAACAAAAAoAAAAJAAAACgAAAAgAAAAFAAAACwAAAAYAAAAHAAAACwAAAAUAAAAHAAAAAgAAAAgAAAALAAAACQAAAAcAAAACAAAACwAAAAgAAAAJAAAABgAAAAYAAAAEAAAABwAAAAkAAAAGAAAACgAAAAUAAAAKAAAABwAAAAoAAAAIAAAACAAAAAoAAAAGAAAACAAAAAUAAAACAAAACAAAAAUAAAAJAAAACAAAAAsAAAAKAAAACwAAAAMAAAAIAAAACQAAAAUAAAAHAAAACAAAAAoAAAACAAAACwAAAAgAAAAFAAAAAQAAAAoAAAAHAAAACgAAAAMAAAAIAAAACwAAAAYAAAAGAAAAAwAAAAoAAAAFAAAAAgAAAAgAAAAEAAAACAAAAAcAAAAKAAAACAAAAAYAAAAIAAAACwAAAAoAAAAGAAAACQAAAAUAAAACAAAACQAAAAgAAAACAAAACQAAAAYAAAAKAAAABgAAAAcAAAALAAAACQAAAAMAAAAJAAAAAwAAAAkAAAALAAAABAAAAAMAAAAIAAAACwAAAAMAAAAFAAAABwAAAAsAAAAFAAAACgAAAAoAAAAFAAAACAAAAAcAAAADAAAABgAAAAoAAAAIAAAACgAAAAsAAAAHAAAACgAAAAEAAAAKAAAACgAAAAgAAAAKAAAACwAAAAYAAAADAAAACQAAAAsAAAAJAAAABgAAAAoAAAAJAAAABQAAAAkAAAAGAAAABAAAAAsAAAABAAAACQAAAAcAAAAIAAAACAAAAAYAAAABAAAABQAAAAUAAAAFAAAABQAAAAkAAAAGAAAACgAAAAkAAAAIAAAACwAAAAYAAAAFAAAACgAAAAsAAAAHAAAABQAAAAkAAAAEAAAABQAAAAkAAAADAAAABQAAAAYAAAAFAAAABQAAAAcAAAAIAAAACgAAAAcAAAAGAAAABAAAAAEAAAABAAAACQAAAAoAAAADAAAABgAAAAgAAAAGAAAACAAAAAgAAAACAAAACAAAAAgAAAAIAAAACQAAAAEAAAALAAAACgAAAAoAAAAIAAAABAAAAAYAAAAJAAAACQAAAAgAAAAIAAAACQAAAAoAAAAEAAAACgAAAAgAAAAJAAAACgAAAAUAAAALAAAACwAAAAoAAAADAAAAAwAAAAYAAAAIAAAABgAAAAoAAAAGAAAACQAAAAsAAAACAAAACQAAAAoAAAAHAAAACgAAAAYAAAAFAAAACQAAAAgAAAABAAAAAQAAAAQAAAADAAAAAgAAAAMAAAAIAAAACQAAAAoAAAALAAAACgAAAAcAAAAKAAAAAQAAAAMAAAAEAAAACQAAAAoAAAAFAAAACAAAAAYAAAAEAAAACwAAAAgAAAAJAAAABQAAAAQAAAACAAAACgAAAAgAAAACAAAABwAAAAkAAAABAAAACwAAAAoAAAAJAAAAAwAAAAYAAAAGAAAAAwAAAAUAAAADAAAAAwAAAAcAAAAHAAAACgAAAAsAAAAHAAAABwAAAAgAAAABAAAABQAAAAcAAAAFAAAACQAAAAUAAAAJAAAAAwAAAAcAAAAKAAAACgAAAAsAAAALAAAAAQAAAAoAAAAIAAAACwAAAAoAAAAKAAAACQAAAAcAAAAEAAAAAwAAAAUAAAAJAAAACQAAAAYAAAAEAAAACgAAAAoAAAABAAAABwAAAAEAAAAFAAAACAAAAAYAAAADAAAACQAAAAEAAAALAAAAAgAAAAIAAAALAAAACwAAAAcAAAALAAAACQAAAAgAAAAIAAAABAAAAAUAAAAFAAAABQAAAAUAAAAHAAAACgAAAAsAAAALAAAACAAAAAsAAAAKAAAACgAAAAkAAAAKAAAABwAAAAgAAAAJAAAAAgAAAAkAAAAHAAAAAgAAAAQAAAAFAAAABgAAAAsAAAAGAAAACQAAAAUAAAAGAAAABAAAAAYAAAAKAAAABgAAAAQAAAAKAAAABAAAAAIAAAALAAAACwAAAAkAAAAFAAAABQAAAAYAAAAJAAAACgAAAAoAAAAIAAAAAQAAAAkAAAAEAAAACgAAAAQAAAAGAAAA",
          "dtype": "i4"
         },
         "xaxis": "x",
         "y": {
          "bdata": "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",
          "dtype": "f8"
         },
         "yaxis": "y"
        },
        {
         "hovertemplate": "Actual_Payment_Period=Dec-20<br>Reg_Month=%{x}<br>Cum_Sum=%{y}<extra></extra>",
         "legendgroup": "Dec-20",
         "marker": {
          "color": "#EF553B",
          "symbol": "circle"
         },
         "mode": "markers",
         "name": "Dec-20",
         "showlegend": true,
         "type": "scattergl",
         "x": {
          "bdata": "AwAAAAYAAAACAAAACQAAAAoAAAAHAAAABwAAAAgAAAAHAAAACAAAAAgAAAALAAAACQAAAAoAAAAKAAAADAAAAAQAAAACAAAAAgAAAAUAAAAEAAAABgAAAAQAAAAJAAAACAAAAAsAAAACAAAABwAAAAUAAAAMAAAABwAAAAoAAAAFAAAACgAAAAEAAAAJAAAACAAAAAkAAAAEAAAABQAAAAkAAAAJAAAACQAAAAkAAAAIAAAAAgAAAAEAAAAHAAAADAAAAAoAAAAIAAAACAAAAAcAAAACAAAAAwAAAAoAAAAGAAAACAAAAAYAAAABAAAACAAAAAwAAAAKAAAABwAAAAIAAAAGAAAACwAAAAcAAAAIAAAACwAAAAEAAAAKAAAACQAAAAwAAAALAAAADAAAAAoAAAADAAAACQAAAAgAAAACAAAACAAAAAMAAAALAAAACgAAAAwAAAAIAAAABgAAAAsAAAAMAAAABAAAAAQAAAAJAAAACwAAAAsAAAAHAAAACgAAAAcAAAACAAAACAAAAAYAAAAKAAAACwAAAAgAAAACAAAACQAAAAQAAAAKAAAABgAAAAEAAAALAAAADAAAAAUAAAALAAAACAAAAAQAAAAMAAAACAAAAAcAAAAMAAAACgAAAAwAAAAMAAAACQAAAAoAAAALAAAABQAAAAcAAAAJAAAADAAAAAMAAAAIAAAADAAAAAgAAAAIAAAACAAAAAcAAAAJAAAABQAAAAwAAAAEAAAACAAAAAsAAAAMAAAACwAAAAcAAAAIAAAACwAAAAcAAAAEAAAAAwAAAAsAAAAIAAAACwAAAAkAAAAJAAAACQAAAAkAAAAIAAAACwAAAAwAAAADAAAACQAAAAsAAAAIAAAADAAAAAoAAAAHAAAABwAAAAkAAAAGAAAACwAAAAMAAAAMAAAABgAAAAsAAAAHAAAACgAAAAwAAAAMAAAACQAAAAYAAAAHAAAACgAAAAYAAAAMAAAABQAAAAEAAAALAAAABgAAAAIAAAALAAAACgAAAAgAAAALAAAADAAAAAsAAAACAAAACgAAAAgAAAADAAAACQAAAAkAAAAGAAAABwAAAAsAAAALAAAABgAAAAwAAAAMAAAACwAAAAsAAAAIAAAADAAAAAgAAAAEAAAACwAAAAcAAAAMAAAAAwAAAAMAAAAKAAAABAAAAAgAAAAIAAAABAAAAAYAAAAJAAAABwAAAAsAAAAKAAAABgAAAAoAAAAHAAAABQAAAAUAAAACAAAADAAAAAsAAAAHAAAABQAAAAMAAAAGAAAACgAAAAkAAAAKAAAABwAAAAkAAAAHAAAADAAAAAoAAAAJAAAACgAAAAUAAAAGAAAADAAAAAUAAAACAAAABgAAAAEAAAAMAAAACQAAAAUAAAAHAAAABgAAAAcAAAALAAAAAgAAAAwAAAALAAAACgAAAAsAAAAIAAAAAwAAAAgAAAAGAAAABQAAAAYAAAAKAAAABAAAAAkAAAALAAAACAAAAAMAAAAMAAAABgAAAAgAAAALAAAADAAAAAYAAAALAAAABgAAAAUAAAAJAAAACQAAAAUAAAAEAAAABgAAAAcAAAAMAAAACQAAAAwAAAAGAAAACgAAAAwAAAAHAAAAAwAAAAUAAAAMAAAACAAAAAYAAAAFAAAACQAAAAkAAAAJAAAACgAAAAcAAAALAAAABwAAAAwAAAAHAAAABAAAAAoAAAAMAAAACQAAAAsAAAALAAAAAgAAAAcAAAAFAAAABwAAAAYAAAAGAAAACAAAAAkAAAALAAAADAAAAAsAAAAHAAAACwAAAAgAAAAEAAAACgAAAAUAAAAJAAAACAAAAAYAAAACAAAACQAAAAkAAAAGAAAACAAAAAMAAAALAAAAAQAAAAMAAAAMAAAACwAAAAUAAAAKAAAADAAAAAoAAAAIAAAAAgAAAAwAAAAFAAAACQAAAAQAAAALAAAAAQAAAAcAAAADAAAACQAAAAUAAAAMAAAABwAAAAkAAAAKAAAABgAAAAoAAAAKAAAABAAAAAgAAAACAAAABgAAAAgAAAAGAAAACAAAAAoAAAAJAAAABQAAAAwAAAAHAAAABwAAAAkAAAALAAAAAwAAAAgAAAALAAAAAQAAAAUAAAAGAAAACQAAAAcAAAAGAAAACAAAAAsAAAAGAAAADAAAAAkAAAAKAAAACwAAAAMAAAALAAAABAAAAAgAAAALAAAACgAAAAYAAAAIAAAACAAAAAsAAAAFAAAADAAAAAgAAAAMAAAAAgAAAAUAAAAEAAAADAAAAAsAAAACAAAABgAAAAcAAAACAAAACwAAAAQAAAAEAAAAAwAAAAkAAAAMAAAACAAAAAUAAAAIAAAAAwAAAAgAAAAIAAAACQAAAAgAAAAMAAAABwAAAAEAAAALAAAABwAAAAcAAAAKAAAACQAAAAgAAAAJAAAAAQAAAAwAAAAFAAAACQAAAAYAAAAJAAAADAAAAAYAAAAJAAAABQAAAAUAAAALAAAACgAAAAsAAAADAAAABwAAAAcAAAADAAAABQAAAAsAAAALAAAABAAAAAkAAAAGAAAACQAAAAgAAAACAAAACgAAAAgAAAAFAAAACQAAAAsAAAAIAAAACwAAAAsAAAALAAAACAAAAAwAAAAKAAAAAgAAAAEAAAAHAAAADAAAAAgAAAAFAAAACQAAAAgAAAAHAAAABQAAAAQAAAAIAAAACAAAAAkAAAAEAAAACwAAAAUAAAACAAAACAAAAAkAAAADAAAAAwAAAAcAAAAFAAAACwAAAAcAAAAMAAAACgAAAAcAAAAHAAAAAwAAAAkAAAAGAAAACQAAAAYAAAAKAAAADAAAAAcAAAAGAAAADAAAAAEAAAAFAAAACQAAAAYAAAAFAAAABgAAAAwAAAAHAAAACgAAAAgAAAAJAAAACwAAAAgAAAACAAAACwAAAAgAAAAMAAAAAQAAAAwAAAACAAAACgAAAAoAAAACAAAABAAAAAYAAAAJAAAACgAAAAYAAAADAAAACgAAAAsAAAAMAAAACAAAAAoAAAAFAAAACAAAAAwAAAAHAAAACgAAAAUAAAAIAAAADAAAAAgAAAAKAAAABwAAAAgAAAAIAAAABwAAAAwAAAAJAAAACwAAAAwAAAAJAAAACQAAAAkAAAAIAAAAAQAAAAgAAAAKAAAADAAAAAwAAAAIAAAADAAAAAkAAAABAAAACgAAAAwAAAAEAAAABwAAAAcAAAAGAAAAAwAAAAgAAAAIAAAABwAAAAkAAAAKAAAAAgAAAAMAAAAHAAAABwAAAAkAAAADAAAACgAAAAoAAAAJAAAAAwAAAAYAAAADAAAABgAAAAcAAAAEAAAABgAAAAIAAAAKAAAAAwAAAAgAAAAEAAAACAAAAAUAAAAFAAAADAAAAAcAAAABAAAACAAAAAYAAAAIAAAABwAAAAcAAAAMAAAAAwAAAAMAAAAJAAAADAAAAAwAAAACAAAADAAAAAQAAAAJAAAABwAAAAQAAAAMAAAACQAAAAgAAAAJAAAACQAAAAsAAAADAAAADAAAAAQAAAALAAAACgAAAAUAAAAFAAAABwAAAAkAAAAGAAAADAAAAAsAAAACAAAADAAAAAkAAAAKAAAACQAAAAIAAAAFAAAABgAAAAEAAAAKAAAABQAAAAMAAAAKAAAACQAAAAYAAAAMAAAACAAAAAwAAAAHAAAADAAAAAsAAAAIAAAABAAAAAUAAAAHAAAACAAAAAcAAAAEAAAABgAAAAoAAAAIAAAADAAAAAQAAAAIAAAACAAAAAsAAAAHAAAACgAAAAcAAAACAAAACQAAAAgAAAAMAAAACgAAAAwAAAAMAAAABwAAAAEAAAAJAAAACQAAAAwAAAAIAAAACQAAAAgAAAAJAAAACgAAAAgAAAAHAAAACwAAAAsAAAAIAAAACAAAAAoAAAAKAAAACQAAAAkAAAABAAAABwAAAAoAAAAGAAAABgAAAAUAAAAEAAAACgAAAAUAAAAJAAAABAAAAAgAAAALAAAACgAAAAgAAAAEAAAABgAAAAgAAAALAAAACgAAAAYAAAAEAAAADAAAAAgAAAAHAAAABgAAAAoAAAAJAAAABwAAAAgAAAAKAAAABwAAAAgAAAALAAAACwAAAAMAAAAJAAAABgAAAAUAAAAEAAAACAAAAAoAAAAKAAAABwAAAAsAAAAHAAAADAAAAAUAAAAJAAAACwAAAAcAAAALAAAACQAAAAkAAAAKAAAABgAAAAoAAAAJAAAADAAAAAoAAAAHAAAABQAAAAYAAAAGAAAACAAAAAkAAAAMAAAACgAAAAQAAAACAAAAAQAAAAMAAAAGAAAACAAAAAMAAAAFAAAADAAAAAsAAAAIAAAACgAAAAsAAAAKAAAABAAAAAkAAAAMAAAAAwAAAAoAAAAFAAAACwAAAAcAAAAMAAAADAAAAAwAAAACAAAAAQAAAAcAAAACAAAACwAAAAkAAAAKAAAACQAAAAkAAAALAAAACwAAAAEAAAALAAAACAAAAAkAAAAMAAAADAAAAAcAAAAMAAAABgAAAAUAAAAEAAAABgAAAAkAAAADAAAADAAAAAsAAAAMAAAACAAAAAYAAAAGAAAABgAAAAIAAAAMAAAACwAAAAoAAAAHAAAACgAAAAsAAAAJAAAABgAAAAIAAAAIAAAAAwAAAAcAAAAMAAAABgAAAAYAAAALAAAACQAAAAYAAAAMAAAABQAAAAQAAAAIAAAABwAAAAwAAAAIAAAACQAAAAwAAAAKAAAACAAAAAkAAAAMAAAADAAAAAoAAAALAAAACgAAAAkAAAAEAAAACwAAAAYAAAAJAAAADAAAAAsAAAAFAAAABwAAAAgAAAAJAAAABwAAAAkAAAABAAAACgAAAAcAAAALAAAABAAAAAwAAAALAAAAAwAAAAkAAAACAAAACgAAAAMAAAAHAAAABwAAAAIAAAAFAAAACgAAAAoAAAAIAAAACwAAAAsAAAAHAAAAAwAAAAkAAAAJAAAABAAAAAcAAAALAAAABgAAAAoAAAAMAAAACAAAAAsAAAAGAAAACgAAAAMAAAADAAAABgAAAAUAAAAJAAAABwAAAAsAAAAMAAAACwAAAAoAAAAHAAAACwAAAAUAAAAIAAAACwAAAAUAAAADAAAACAAAAAcAAAAFAAAACAAAAAcAAAALAAAACAAAAAEAAAAKAAAACQAAAAMAAAAHAAAACwAAAAkAAAADAAAACQAAAAMAAAALAAAACwAAAAwAAAADAAAABQAAAAgAAAALAAAACQAAAAcAAAAFAAAABgAAAAEAAAAGAAAAAwAAAAYAAAAHAAAABwAAAAYAAAAGAAAACgAAAAoAAAAKAAAADAAAAAcAAAAKAAAACQAAAAMAAAADAAAACwAAAAUAAAAIAAAACQAAAAMAAAAEAAAACgAAAAkAAAAFAAAAAQAAAAwAAAAGAAAABQAAAAgAAAABAAAACwAAAAgAAAAMAAAABgAAAAgAAAALAAAACAAAAAoAAAAJAAAABAAAAAgAAAAMAAAADAAAAAcAAAAIAAAABgAAAAwAAAAGAAAABAAAAAgAAAAIAAAACQAAAAwAAAAEAAAABgAAAAcAAAAIAAAACQAAAAQAAAAFAAAACgAAAAkAAAAMAAAACQAAAAEAAAAIAAAABwAAAAUAAAAHAAAABgAAAAEAAAAGAAAABgAAAAsAAAAGAAAACgAAAAgAAAAKAAAABwAAAAwAAAAFAAAABwAAAAcAAAAKAAAACQAAAAgAAAAKAAAAAwAAAAoAAAABAAAACwAAAAgAAAAMAAAABQAAAAMAAAAJAAAABAAAAAwAAAAHAAAACgAAAAsAAAAMAAAADAAAAAkAAAAHAAAAAQAAAAgAAAADAAAAAQAAAAIAAAAKAAAACwAAAAgAAAALAAAADAAAAAYAAAAKAAAACgAAAAoAAAAFAAAACgAAAAgAAAAIAAAAAwAAAAcAAAAIAAAACgAAAAkAAAAKAAAACAAAAAUAAAALAAAABwAAAAwAAAALAAAABQAAAAwAAAAHAAAADAAAAAIAAAAIAAAACwAAAAkAAAAHAAAADAAAAAsAAAAMAAAACAAAAAkAAAAGAAAABgAAAAQAAAAHAAAACQAAAAYAAAAKAAAABQAAAAoAAAAMAAAABwAAAAoAAAAIAAAADAAAAAgAAAAKAAAABgAAAAgAAAACAAAACAAAAAUAAAAJAAAACAAAAAsAAAAKAAAACwAAAAMAAAAIAAAACQAAAAUAAAAHAAAACAAAAAoAAAAMAAAACwAAAAwAAAAIAAAABQAAAAEAAAAKAAAABwAAAAoAAAADAAAACAAAAAsAAAAGAAAABgAAAAMAAAAKAAAADAAAAAIAAAAIAAAABAAAAAgAAAAHAAAACgAAAAgAAAAGAAAACAAAAAsAAAAKAAAABgAAAAkAAAAFAAAADAAAAAwAAAACAAAACQAAAAgAAAACAAAACQAAAAYAAAAKAAAABgAAAAcAAAALAAAACQAAAAMAAAAJAAAAAwAAAAkAAAALAAAABAAAAAMAAAAMAAAACAAAAAsAAAADAAAABwAAAAsAAAAFAAAACgAAAAoAAAAFAAAACAAAAAMAAAAKAAAADAAAAAgAAAAKAAAACwAAAAcAAAAKAAAAAQAAAAoAAAAKAAAACAAAAAoAAAALAAAABgAAAAMAAAAMAAAACQAAAAsAAAAJAAAABgAAAAoAAAAMAAAACQAAAAUAAAAJAAAABgAAAAQAAAALAAAACQAAAAcAAAAIAAAACAAAAAYAAAAFAAAABQAAAAUAAAAMAAAADAAAAAkAAAAGAAAACgAAAAkAAAAIAAAACwAAAAYAAAAFAAAACgAAAAsAAAAHAAAABQAAAAkAAAAEAAAADAAAAAUAAAAJAAAAAwAAAAYAAAAFAAAADAAAAAcAAAAIAAAADAAAAAoAAAAHAAAABgAAAAQAAAABAAAACQAAAAoAAAADAAAABgAAAAwAAAAIAAAABgAAAAwAAAAIAAAADAAAAAgAAAACAAAACAAAAAgAAAAIAAAACQAAAAEAAAALAAAACgAAAAoAAAAMAAAACAAAAAQAAAAGAAAACQAAAAkAAAAIAAAACAAAAAkAAAAKAAAABAAAAAoAAAAIAAAACQAAAAoAAAAFAAAACwAAAAsAAAAKAAAAAwAAAAwAAAAMAAAAAwAAAAYAAAAIAAAABgAAAAoAAAAGAAAACQAAAAsAAAAMAAAAAgAAAAkAAAAKAAAACgAAAAwAAAAGAAAABQAAAAkAAAAMAAAACAAAAAEAAAADAAAAAgAAAAMAAAAIAAAACQAAAAoAAAALAAAACgAAAAcAAAAHAAAACgAAAAMAAAAEAAAADAAAAAkAAAAKAAAACAAAAAYAAAAEAAAACwAAAAgAAAAJAAAABQAAAAQAAAACAAAACgAAAAgAAAACAAAABwAAAAwAAAAJAAAACwAAAAoAAAAJAAAADAAAAAMAAAAGAAAAAwAAAAUAAAADAAAAAwAAAAcAAAAHAAAACgAAAAsAAAAHAAAABwAAAAgAAAAHAAAACQAAAAwAAAAJAAAAAwAAAAwAAAAHAAAADAAAAAoAAAAKAAAACwAAAAsAAAAMAAAACgAAAAgAAAAMAAAACwAAAAwAAAAKAAAACgAAAAwAAAAJAAAABwAAAAwAAAAEAAAAAwAAAAkAAAAJAAAADAAAAAYAAAAEAAAACgAAAAoAAAABAAAABwAAAAEAAAAIAAAABgAAAAMAAAAJAAAAAQAAAAsAAAAMAAAAAgAAAAIAAAALAAAACwAAAAcAAAALAAAACQAAAAgAAAAIAAAABQAAAAUAAAAMAAAABwAAAAwAAAAKAAAACwAAAAsAAAAIAAAACwAAAAoAAAAKAAAACQAAAAwAAAAKAAAABwAAAAgAAAAJAAAADAAAAAkAAAAHAAAAAgAAAAwAAAAFAAAACwAAAAYAAAAJAAAABgAAAAQAAAAGAAAADAAAAAoAAAAGAAAABAAAAAoAAAAMAAAABAAAAAIAAAALAAAACwAAAAkAAAAFAAAABgAAAAwAAAAJAAAACgAAAAoAAAAMAAAACAAAAAkAAAAEAAAACgAAAAYAAAAMAAAA",
          "dtype": "i4"
         },
         "xaxis": "x",
         "y": {
          "bdata": "A/1jXhUcWUAdAxuwZkhdQIgAhUmNDVRAYNQYHxzVV0Ab+zmzP7lRQJPua/Dr7FtAp1+wasPvW0AiVRsH3MZdQGwNAUfO9FtAU42JKo/MXUBpmDcxxdBdQB9/pIABD0NAfoqmuJfcV0BuuiFKeMRRQNTP/WoTzFFAO3T+pchW0D/SESvw9udVQGO/g0ZuEFRAZUOtA0gSVEBUtqKiTK1aQEHdhQ0K6lVAh0SXidpKXUA+pgJKAO1VQEa+Sunu4VdAARchyUPWXUCetjh5iBtDQAU/Z6NDFFRADduuQ0r5W0ASmXneP69aQBrIolHpx9w/q9h8KST9W0CGIMt/rtRRQFkIRTldsFpAWs/1NNjbUUCFFhZGQdVXQN4dMWcv51dA+fek2IHaXUBg2VkwzOxXQO6hiOdl71VA4W2RXvCxWkC7iV+LfPFXQACFVPNk91dAeKvgqe/9V0CvtcwYaQJYQIki7zgL4V1A9r/cYZEWVEAFfgGKW9ZXQLzDqPyE/ltAp/1qQo6N6D+ZuIlzaeNRQAMgdnsy5V1ADNIbwu7pXUCCVJUUgwRcQATpUWhnF1RAnmJkEW8eWUCUPJYIh+pRQNIklS2tTF1AyYfCL7zvXUDYtevf7VBdQLr/T6WD11dA/oQTA8z0XUBDhEJS4y/xP03R4cEb9lFAkacs8KIIXEAx0CHbZRhUQOIuSYSAUl1AiA+2xO8zQ0CozGY1ggtcQMbkOarc+V1As02akgNDQ0AgHxnXU9hXQH5ANEFb/FFA/fH3MnIJWEDVI/KkJ7PzP6dj0ux/VUNAHlbMHiBm+T/ggmj9GgpSQFQKmGqHH1lAXsKV4KoOWEDzJouNEP9dQBuvQyyrGFRAP5p+y70DXkCsPcm5MiFZQFjmnXhDcENAOVpydowQUkDnwEWCJHn7PxH15q9oB15AlU5G6X9WXUB0XfemYYhDQDYXEZ5Hkf4/Okv0P0nxVUDJDuZ4ZfRVQOiZkb/OFFhA+kpYPmCmQ0AH/B8nyMNDQPSr/jmLDVxAxkhsJp0bUkD8AJD2YQ9cQE+UABjWGVRAzmMOnjkLXkAb7Icjf1hdQAMTrHm+JVJA2hjc18LtQ0CxSEWv2A5eQMv1Mm0GG1RAwQidYrcZWEDam8t/G/ZVQBGkgTkbLVJAeZHTBhBaXUBIkBz/xNlXQF8NKSCSAkRAx4TOYQN1AEBHUR6M87RaQLyGadIgHkRAZAwalc8SXkA46OP7wvhVQC6CPZz2zQFAAXFRKlQXXkAQ5KWuKRNcQD9C1ipUrgNAKH1QMW84UkAw0NHlTxoHQCHtUoj9wAhAAiFIHzwjWEDd1FU9ykBSQN0jIevyL0RAfmX79jq3WkCseLzkVxZcQPoU0ENMKVhACtmPruzOCkAcIyzXjiJZQE6grENQGV5ABu0Ne7sODkBxnuIlsBxeQKWRqacnIF5AM29tih4lXkDzPJ+5JRtcQHfOm83rLVhAOIkiuzW6WkAyrljdZ1AQQPc2UWJr+1VAQxip7xwqXkAzUt+mhzxEQHLrdpQDDhFAaFF583pQREBnjfz6WR5cQPd14sqyLV5AfivtgtxfREDjD0PoGSNcQMC/BSLn/VVAeeIQEiwlWUDtH0wcXHJEQFG4oVgoMF5Aj3mBP/aHREAzxTrwSDNYQIf4FONwPVhABWUv7SFFWEA5w2Dt40lYQCC+1Ed9NF5Aotv+pBCYREA13YRHl2QRQAvmMPmEJllADBJ9jypSWECUyFjFKKxEQODqwkyOOF5A15FYEkDgEUB4qY1DaUdSQITnnCx4JFxAndxx2wwnXEC0gT0pJlhYQAjhMmIsXF1AGrSqfXfEREA+TQ7ITihZQCUaayJgmBJAHn6ibtdeXUARq6F0butEQNKdPnB2K1xABkTBQfhPUkCcTV3+rOwTQO/zCE2OiBRAwQDZi/pfWEBKB2l1NWJdQPPX6e/sLVxAEY+djo9XUkDh4ojZnWVdQDsSPD+l4RRAGCgjqT++WkAn8ZCr8tpXQOGEFo4gBUVAkB+pMoVoXUCvPcmd1htUQCCo+kQhFEVAq8UbArheUkA7rb7Hnz1eQF6EW6gRJUVAGbgNXhwKFUAuATiuZzZFQC4xJxo3HVRAlILhkoZqUkC2VuhQYkJeQKhF6tyxKVlAg9vdy4ZmWEDYJziRK25YQC85f9uya11AKz7BsaYuXEDK6N8CF05FQDTL4MIZW0VAjx2WbJ9uXUAFZTOvaHMVQEgl0hm7IxZAXEFD6o91RUBb+uioH4tFQJ0srQQFR15AIsS/81kRF0AtfFKoBExeQCxEHr7EAFZAwKOPa4OlRUDqwPxM2S9cQGuGF6OCzxhAvc6bTrQrWUB+QkN+3i5ZQCUtj+aLdVJAGO/sT10CVkCBg7MPnE5eQAn7GWXgUV5ADWEV9z8FVkDyRo/IjnJdQJ/U2JBpd1hAuqRee9Y0XECeLMNJDL1FQNSqVLUgfVJAnxWA28N1XUCSalkVjoRSQHs/hEF+OVxAAtaj8q2+WkCZ0ga83cBaQCuKLSyYHlRAd70lThjoGUCF0JnWeNdFQJQsvCY4PVxAZxxOdr/DWkB/tqSgXTFZQMJOU5wMel1Ay91LnoqPUkDnrgGe2H5YQDxlexCgmFJACNPHFcY+XEB38j8vq4RYQAddAUiDQ1xAGKABRaNiGkCf6EiPh6FSQCq+buqXj1hAFmDABv+qUkDJeBQTZsZaQJ1BjT1Le11AKmLJZ3a7G0AnpM/RLMdaQN42QRGiIFRAXv+481J+XUDSM766ydtXQA8t03nbyRxAiBCjU4WXWEC2ZsX6iMpaQIGvIdg0RVxACN8sP++AXUBwpMM46kpcQLMYelOJ5UVAtH3FnwciVEBPy/lhtB4eQA3vvVtM/UVAIMGdqfmxUkB+y9YgdA5GQKZqUsLPV15AmSRELJIyWUBVc6d+vVpeQG95+j8jhF1AZSRtQ+DLWkCb+WPPo4ZdQGjKbsb0tlJAe2bR26YHVkA5ZdMc0ZtYQDBzM71jI0ZAVqLvSP1iXkBtJwpRoDRZQLx9up+R1h5A2oEdWLaJXUDRDkKD9GheQPMKFk3IMkZAmag+dz+ZH0CSlJuDl41dQIrqLi2YSkZAQyqLucGRXUDOuc4Pwc1aQKuQQ/fUoVhADAD7hByoWED2GU9jAdFaQBL6DgupCVZA7rdPmGCUXUCdnYnLSU1cQD+Qba7bGiBABIr7MQquWEAhX4ecePwgQNTnp8ARl11A3rgmA8m7UkAvg+Rel2whQIyMeLo4VFxABtY1GjE2WUC8A0tCutNaQO2B+97e/iFAELmzZH9uXkCP4u869JldQGiMqgx81lpAXvJNJQy2WEB36YMYFLxYQLwRk6c3w1hAqSXuzKbDUkBcTHm3RFhcQJAR6WRFWkZAVd6q2z9eXEDfkZ55QGgiQLOFClsnYlxAqNMxA8ALVkCjN0uoc8tSQKpZlL3vrSJAdu2VuLrIWEACH+0/+ndGQJk/sk2SjEZAeypgepAjVEAmb6zYb2ZcQCLGfkWF2FpA9z99qUBnXEC86YvFC59dQMTc0MIno11AmNhFINJzXkB+EmRe8tJYQFUHLgpanEZAC0QHuXNKI0AF4QHW+rFGQFepedZ2aFxAGsafwufMRkA0MFnvXHZeQE0jLKgPDlZA1h0ObiTSUkCekwTqrtpaQK0UtBC12VhAiy9hrvB6XkDuif5N4KZdQIjzstg+JVRAuWOW2nXfWEDMR7aZPOhYQAfvSbosql1AZPikDU19XkAhpyFCoDZZQIoDqpmL6UZAvF0deEHdV0BImVL6LDhZQFGEW723pyNAfYl9o276RkAh2SI1otxaQMxI+83T4FJAbUvN2f5bJEAtj5SVgOpSQGUmfscNgV5AWv/suHclVEBsHze4g7wkQJhMeAtA31pAlcpekDDrWEB5cZw6xBBWQLSToPZODEdAGM0bhNrdV0CT5LQRsmtcQKvtjq8mOVlA1UIy6wnwWEAr0olCNuJaQEUguLSC8yRAPMwogZdvXED0M0QK+/VYQDLN5IKr8lJAPUnt74atXUBJOaaZl/tSQG09swv+AlNArnQ/w0kSVkAXebVkWoReQI951qa0JlRAyiMg1OSvXUBGTj6GSodeQCcpqZfQsl1AYu/KZOGMXkDjb7rbnA1TQEeXdY7I/FhAxWsj3E/kWkCD/HvyXnclQFXroqvHdFxAxvQC59R2XECDh6wwHwJZQDgfriSFLkdAiNr9NrM6WUAXHwxg9JBeQLVn5+t0TkdANIatn5PfV0BcrVVjT+ZaQAhfNHgGtl1AEmrnugoHWUA+Ybk8H3lcQOmB2j8Cul1AQVpYvWKYXkCyGDAF7WhHQENv+Ga8vF1Ak9zBGYL3JUAIH4xbag1ZQOugv6URFFNAgEZHQTCCR0D36GP2DjxZQFGQF3ngmEdAB3DGeHkTVkCBVHgrzpxeQGDjrlRAwkdAdiES3KIcU0DKnR83XsBdQP5/4LOvnV5A/KW9PLyhXkBfXkRL8NlHQL1b0FVH6VpAu7vgALrIJkBmnplRX6ZeQLzSJp6PZCdAOPyOp2coVEAUoBoPN+paQLXPQ+2XFVZAdDwin+HjJ0Aiw+6rROxHQGFYHmpdKVRAq9OqF5TDXUArR/QN031cQHqNGtjnKlRA+TwW2kH7R0AAs2bOBhhWQE3AoPYzGlZADdnapC49WUBo0PtCFBRZQHIDIbdqQShAUBGV1WurXkCYsap0aO1aQH/I1J28sF5APSivZEA/WUCjvvI4KrJeQBOJ9T5yt15AuCBMk2QcWUCFvycDCrxeQBF1zJaatShA88jEfzCAXEC4vKNsduBXQDM89o9rEkhAPhPMyLGEXED85tHcwIZcQHq+SKwMKFNArZDQxd4kWUAPK8Xjm8BeQBRwVVQYKllA9EPYdcrhV0A4zLmA5wspQBZt/riG71pA/Q5VX7kxWUDYFO2zC8ddQKWPXwc6OFlA7hX83GjLKUDdQYbU8cldQDN2QXBYPllAteTLT9vvWkCnLvaY4/FaQFUjNUvsKkhAbEpua2UyU0CbFjJPmEJIQBLj1rF9QVlActHDyVuIXEA3qn4xwI1cQNXY/w2NRFlAx+Nc/dbzWkBvB+p4XlNIQJmI5zt5akhADeCQ/i8cVkA4abNajkRZQI5I4oX4zV1Ad111WpJKWUBOx/iIb8JeQKGLGQZeLFRADDT36Cw5U0C1LV/v1cZeQLaLI0kO9VpA8QAuetFPWUA1LMWGZIFIQIalQo0ay15APCDxly+ZSEAE3tfagbFIQNBRjjQ7yEhA+04G3rHRXkD/Jg3ueSIqQD3qmNzYQ1NA+4T5bLQtVEBNyCTVRuNXQE4AvgTSkFxACcUGJGnXKkD31UAom9VeQGl5wvv791pA1wpl0plVWUDyepAiQNpeQGFZlCPNlFxAuWfD4Ar8WkArSzc+EB9WQL5xpv4Z315AuCx4PBnlXkDudibpBV9ZQJ8IG6mMIVZAhSFxBYPcSEBL20kzrPxaQMSBh2OJLlRA2z62bp3qXkDqtMRsWmRZQCUU2nmeRVlATVsZO39GWUDHfDuCgZhcQBr4mlUT/1pAfWHxjhrsSEDyZAfMsZlcQNg/l2QAjytArVbGGRJOU0CZl2v29J9cQIZAsb5Uo1xAzFt4jRlIWUC6sVDIv2lZQMMHdlIYz11Asp2V+SptWUCNhn+lFtJdQPyRBSWOVVNAjZxPEHDxK0BbebH2AqZcQMcrYdQR1l1AtfVXtdPKLECoxArKMeRXQGcvB/uAAVtAu9kEnAB2WUAeo3wvqtpdQKYYmzlqBVtAGV5kevPbXUBcO9hOe6ctQLv5e1vtqVxAjD55CpBeU0Ck6I6R8vBeQL2+0vS2e1lAcnCRUPb4SEDdBp71/fdeQKw7ck+OMFRALIxhADsNSUABHO2Xa/teQAi5mymzEy5AylGIZM3kV0Bt560Kp70uQNRatv47MlRAtvCsVmRkU0CKFXS8rmlTQIulxnS2MlRADmD45LAjVkC8XPLKOd9dQN0IfgzlgVlANBnanltzU0CBZEmY8uJdQKUB68zlSllAA5Bk7zt6U0DS/4t1OTJJQJfiQDMgDC9Atjlg2xAAX0Be6d6sXoRTQAQQITv4B1tAw5z02CMGX0ABGkUEvoYvQA3AdNH4rVxAMC+5I/SMU0ANyU77uwlbQKpLee+zC19AEYRHpeTmL0Ar4bx6IBNfQBg0ORYUklNAV19pGxixXED7yXev4BhfQAEd/J3HG19AEayScsy1XECdMx9ZUSYwQF4wzxnqh1lA6u2ibgNGSUBRW5Nid0YwQPltQudajllAi5ofJ46TWUBek3mTIJtZQF5BJdZlH19AEFTBA3LmV0CF+z4cpSRfQCMsveivmVNAz9HtWpiFMEBD2XgnnqMwQLNUCrLzKV9A/pQ041kHMUBUhs+yb6BZQHSPoFP/5ldAvuB6nkygU0DzrS14RkMxQDqlhWH9JVZAsZQ4p9W6XEBSY4LbbrtcQN9lu0es5V1A9BCHDK9MWUAyv8Ymhy5fQJrofP1GNF9AwepsUhe+XEALIr7P8aZZQIbZGZgaqlNAtAFWN6wzVEAsW87xQE1ZQLQE997KwVxAfHu1fuXCXEAvdvoXNKxZQMbl26PvT1lAgfu888axU0DlD9DxdLlTQM2ierNosVlASuKyXtVRWUDX2seh7+ddQHUZFlxuU1lAkebHc1fsXUCRhGEAQsZcQLANwHqiKFZACNnU4X7vXUAJGxnawjVUQDIk75SpwVNA8jFfv7ZVWUDMhrA+zzhfQKZ65aR/K1ZAr6QaBgU+X0Az+z27BwxbQMt7m5mGDFtA74FS+wxrMUBMzYbuvchcQBzFbY9N6FdAaihe70VCX0CSVQTycfNdQAl4rivGSF9AjwpbMvvMXECLkRCiU9BcQFmbbrU/yzFA7A2w1dVXWUDWrr6/1llZQBBC+wqstllAyaGBiU4EMkBeBT4/3yAyQAEbN03sN1RAsbcKD1VIMkBFSNGRfy5WQB7CShQ5vFlAJkMREbTTXEA/pMdDEjFWQCBbLtlYjzJA90R47DvDWUDi7xriG01fQFlvHk9myVlA0pLsx4nNWUCFMctTFVpJQKJLZyUNXFlAstudN6brMkCSUKGM5zJWQAR/qDT+bElAC7k/oXHJU0ARX5qoSQ9bQIr972rOEltAvnW+HjfYXEAq6t0Fu9RZQDTEP/pG9V1Ay322IZsMM0BL6FlgsYpJQHLSmvwqOFRArGa/xHk+M0BoSLrpgNpZQASIzZBO0lNAEUwSZPTgWUD8PIn6ZjhUQDZcHrtTFVtAmHt5cOL4XUDgQZLFGelXQJb7U+Pv2FNAUQ+VTs0XW0AKrHROgl5ZQAQf31bI31NAMhcG2Y7nWUBHna7ohfldQG8Sy+yWYzNA7lSZHmpQX0C6kHzRroAzQEssuyjA2VxA64Lx2ESmM0D1MLhLoZ5JQAZKGnB5VF9Aey8iv1g0VkAFhHQdDBtbQAv/s4Is3FxADXnG7h9ZX0B/9p8WyN9cQFKggX/YN1ZA/NPKojX8XUCak4UyVOVTQBx0nAkEXF9At0++pRHjM0A/H3h05DpWQGUcz3sIYl9AZvuLFoFlX0DEjMQ0XrxJQKfqvayX4lxA9NSBB+7rU0CSY2yiauZcQBw5b3A1OVRAJTn2DIrvWUCnN1I78GtfQCQ4AhfcKTRAEClS+STzU0AIlNpM3mQ0QDHSonCjkjRALbbdmEzqXECcg79EUelXQBB3CrZo9VlAW9Vjs8r7WUBjGBo6dbY0QP0chc3mcF9Aa/9gFa3/WUBySDZN+nRfQAC4UHcyBlpAQXqe90L8U0CtoqRL93lfQIxuzWlq7lxAQPR9pu7RSUAXrxAEv+JJQAJJX0tIf19AS7eTKiGDX0BVK2TPmQFUQLXhUgppClRAHPaw+dYMWkCXCl9B+BFaQFEOCfDp6VdAdnOCIDzwXEBK2RP7bxNUQHvr/Kx7AF5AmWuRE6ADXkAOMRmq8xtbQBcuRCroPVZA0mGcg/gbVEDy2ni7dR5bQPaCs+Q5GlpA89hsyYg/VkAiFx9cyYZfQF1tWxZK9klALeiMJlQkVECq6QVgIopfQAGjd/p+QVZA6fF+dDcGXkAECc4JPI1fQIyxSlk+CUpAgFhxgX8pVEAwjnC70wdeQEk6xi88RFZApaxORTAONUCeJlvc/41fQGnnXwq+8lxARpo7rckKXkClc/A/tDRUQB93+kfPHVpADAaB477zXEBZECr+T5NfQOtPyXv5PVRACxec7Sj3XEALxEo5W5dfQOZ/6j47I0pA7moBFPM2SkBlWmxHhF9ZQMzixwKmIVpApxZRoicRXkBdxfISbyFbQEb5eg12R1ZAkjD1E/KZX0B00Ox9h0ZUQPm7PjYmUVRAYMylmtb8XECtsJ0eYExKQE53ISKbAV1AYnUMz4J6NUAidNieGyRbQCiVUqqVJ1pAHCczMGJbSkBegUNeKAZdQAguY62GeEpAtb74jTgtWkBde67wtjNaQAPDqGmJWlRANgdaMZgTXkBB2u03j2JUQHc2J+4qOVpAst7lOAnSNUAKjTDT6mdUQOGByWWzC11AvunDcQMnW0BB3v2h1RVeQMfRk5ynGF5AqZy2Kr6eX0AS9NXHFj9aQE/zUh/jOzZA6MXYghZuVED1k2eyOUpWQHnUl0nrOlRApE14GjzrV0BCTCodr2BZQCuPFUbhHF5AKv3HMtSjX0Cf+OjGcGJZQOGd8LPOKVtALItNdvF+NkC+jm5j55NKQFz9T8UJqV9A6/ez2oZ1VECTdUx/r6xKQHlrjxkyf1RAKMea5SxMVkBufK3B40RaQO2huTcIqzZAsacLuJtkWUC7iGNbT4hUQOe8FtzSLFtAXrxdeyvFSkDGD9uxpw9dQGN6FIF85DZA5My7jCotN0DIw6zj3Hc3QF0k7g7CPFRAHCcNCcnsV0D3lybQURJdQBq/ZmX2PlRA07yDYGngSkCF3a22IktaQEeo0P7LjlRAIPibT9lPWkDgATgQ41daQD/jgqpXBEtAnqcYK/0WS0BZ4zppse1XQMLk7/AjNUtASO/QzLusX0C7+cTyrF9aQMTsZ3VkxTdAr17eWGHrN0B8g3iIMBZdQBZPeLcUIThAuCaEWGQgXkBpM5kR8S5bQLneP4pjTlZAxhElfgYjXkD0bT3Zv2VaQB7vFXVwZllAIh48qFFtOEBSx01vV1BLQNjXApa0vzhA0a3su+CuX0CrUXxzjCVeQE69F6U6Jl5Ar+Rb1WUpXkAJpGXYPkBUQOsc3ZEDKDlAvllXhjxiS0BbaA4AKJdUQA6FME/0Gl1AHLzwkuycVEBkiA7GBH9LQP4VvuNnblpAIIRVe74qXkDWMsBcO0JUQCtw6Dbys19AEHs7NMloWUC9vqfNoBxdQHDrPRfSWDlAUJX7BxEtXkBqCh02HjFeQIfB+UEGnUtAqK5FWs1yWkC8zfzc9jNeQMB41YXk0TlA1tNsGCsxW0DW+1yngFFWQDr+u0Z6ul9Ao6ZioaQhXUAB6AecLQ86QPkJYDxWwF9A7z6XEJJ5WkCpcuxRLC46QAW0h4inpFRAziioKdjEX0BRd8yn9n1aQOzWU91VcjpASwNNo2i8OkBOV2L7PLNUQKMFqoYhuEtAzIvWN0q7VEAoK5jR74RaQEBLjsURVFZAHBRfoaXGS0DXACh0RTZeQE/omQTIilpA1BqUImXeOkC6N6KXj+BLQATogfhBM1tAeFTRBPEkXUB5EFY7JslfQNPpbQDhjlpAYsqcxCYpXUAEbFrZG5haQGG3RkJl71dA8aWOfYrCVECurQ6k7ypdQNLfRxae/EtAF+/+AhxVVkDzpdEpk0c7QO7H/JfsF0xAkCmRauVpWUDRWMB8JJ5aQByRpKKZRFRArlSbwlfKVECs/0/MEmtZQJvYsqCULV1Aqr3tzBQyXUBjr+h7gkZUQGAGSHHPNVtACl9acGHQVEC1/kP53tlUQNQ0/IYFzV9A+v+GKBstTED/qAnfqD9MQFMuAHJGOF1A1IvpCE1sWUBIwzn3JqVaQKU1CqnuqlpAzkn1ao5WVkDI3TqWFzpdQIgQTwKqVkxA7/XRDnc5XkDbFjTWZOFUQHvrm+pmkTtAieZ+3xbTX0AzCY5itGhMQKMxqGN0PF5Aa5v867nqVEBLZaaWQG9ZQJgaT37tcVlAfj8DK0E/XkDGXhAj1zhbQKj00qyXsVpAArGfITM9XUAQw4RSM3xMQNAvdvgrwztAGCWAimyOTEC1LzAULPRUQAwJ73FKP11As3bg5zCeTEB3Abhz7ztbQKDjBHjo119ACbMKH/GzTEAVyCSVbj5bQB6qemrjc1lAYX2c9K/bX0DagM49+T9dQCZ9VNTyPltAWDovl4zeX0BILnJFQEVdQF5OzoUPyExARiR8rdLjX0Dp/eYx6fBXQNe01Bi3+lRAjFdYE5O3WkB3SooCj3VZQGfna+OwSV1ArlZirALlTED2l/iwBrtaQCojGQjnd1lACBygj1e/WkDRu3EEWnlZQJI94kDG+ExAW32yLhgSTUC2JAv9Wt47QH1HTF54ellATY3ETZ1BW0B6QD62UelfQJM3mu5aIk1AaZtf5dfIWkC5tlPCe0tdQPOk+EgKQ1tAn5f+5rdCXkA8YInc9fFXQAcyzOfrRV5ArHy4kpN8WUDK38Ap90heQGFYmzaoT11A8Ue2LdNUXUC02uueoUpeQKjOw/g8TV5AYo0PZFoEVUDhKHI4Sw1VQElI3tIvFVVAUlzXdh4DPEAQucZZ91hdQAcwIE2tHFVAWWkLbz/OWkC5W0GVJn9ZQCg1JMgBgVlAjIMwrr9DTUAu0Ce3aEVbQMeXWoBs8F9Av7alNh7TWkDDxd3dpoJZQI+BpJEsWFZAcEwqb9ckVUAsEFGaoNpaQJlz0zStRltAVy/HSqnzV0DhS9InMGA8QPer1/uTTl5A8vspzw5JW0AVycR4SPRfQAj0Ixzl9VdAFGX5QVddTUCxBufpivlfQBRWd0L4gTxABd3dfT5TXkBa8xdfBP1fQGGvyGrecU1AciSbgGcBYECJ31uIajJVQMmIUjN04VpAcVVBMaVaVkB2DZzMUQNgQDfhjzFQ5zxA2i3mTcgoPUDMu71SxVxdQKpqGvJ5BWBAdOUggDdVXkAL5ycYG0Q9QNtTyyhRWV5AsFn5i5FbVkD+GPoQfgdgQO1gk8RQCWBALfwr+ZXnWkAZg1u6z3s9QCcjf1J+XVZAVLTCWHZaXkArUERpjV9dQBtCEYLZC2BA4PIuRKjsWkDtxM0xql5WQK/2mi48S1tAJlKTc/g5VUBtgY6d7O9aQJn83kMgsz1AOtMgFhz2WkCTYAsYj/dXQMG72KsTDmBAJOOHDydgXUDm6HMtgk5bQOJnfiIBZF1AWPG7SAVcXkAk7R7hx/hXQLjEdAOJXV5AruNhZnhfXkDHFS/RxJVNQBUBefCCY15ABTIP7kVDVUB7Hfd/ShFgQGwMFkXbS1VAdMqQ3OBkXUB8E4UAcg0+QLJ4PZOrUVtAnIqAdldqXUAyy2sMmG1dQH1o0tTpUlVAifMDEyn9WkC8oU1rQBNgQMZAxeZPWlVAYj0WwRGEWUBFldlFtGJVQDlWBSc++VdAUXXFu3C5TUCQbaRxPxZgQNB6Q3kibj5Amu7EZnNUW0CMl61jh4VZQMdfmvCfBFtAjXE72ixiVkAzRHMPH8U+QAB8aXVQcF1ATYr0FBtqVUCv7B6MBNJNQMx4LfA0+j5AaMnut4AgP0DU+GFyCgpbQCTRQNavcl1AN5PO63j6V0CYCajl7hdgQFjayeWghllA/omrKY77V0Cnlebzm0dUQL5Qi5boclVA5ErZ1RDmTUCcudKdqhpgQDxeqGBXAU5A8IIBOxZXP0ARq2rDkGVeQOgdF9Z5elVATExkIlGAVUCX8DlIOYhVQBVswEMnV1tAX4Lpl2WOVUA6NTiF2htgQJozHuXYHWBA98FDhIiIWUDa2Q+e7XddQB1ahmf/H2BAmJneahaVVUD77jjAShJbQPfmGpYwnlVAKIn7Ew4jYEDWN0YjjllbQJGz/bUsJU5AqdFjgZN5XUD3eAKKhoY/QGXEo/pyOE5Aa4lfuN9eW0B+nEXU4NQ/QJEP92nRfF1AR2UOnan/P0AtY9nwEUlUQHquJ3qBJWBA+O9cjZ5RTkDOywoUdRdbQP1RR2CQfV1AbDMQdlssQEA5LQRsxGlOQKUMBJlbUUBAiPPeVJMmYEBla8P2kh1bQG1Af24vZl5AFh+kbploXkDVtqVJm2RWQC4X/VzggF1AtjZiMawjW0Bhi18zUGxeQEImQLwhplVAR4TTEMpgW0ArUYjYv69VQOr0IRF3ckBAK6izw7CEXUAKR82LZLdVQLATtQgfKWBAlsjJhIKQQEBPkWlUgytgQLJav7y9vVVAt4JuvHpvXkBtHS25Ry5gQFlyIcfLSVRAZkJ53mUwYEBMl9CudmNbQCG06eUBKltAqNm3gKwxYEA9tisNz4ZOQByEkuHTw1VATrMBl1GbTkCTGVdTE4tZQCAV8nhZNGBAIsG55g4yW0DC6hdWP2ZbQFCdmK+ZiF1AG15haug2YEB33E1miM5VQLQUYgFPnEBA5CkqfI6vTkCG1tafyrFAQGCTWGkGOWBARpa7YWlpW0BREGUWrvxXQDpj9b1S1VVAIzfTujmMXUCAzg8MKNxVQP5Khj2ijFlAdWTlsQo8YECSCBUqbcpOQMsYJXu7cl5AYwJWb+FzXkCFg7pQuI5ZQJjIFTtZ41VAUAZtnC3fQEAu6wru/EpUQMKTQMsGQGBAHOne1QtmVkCHTzGNIEJgQPQVL+w7jl1A6sIJxWTpVUDs0ozmxURgQLJMeD1kdl5Ac0fHIqpHYEA5h+RX3vROQEXgHAH98FVAKcFG2qB3XkDh/sFKnjdbQKj70npbbFtA7F2Aa7jtQEB8UKMHk/tAQO+j2/ygTFRAMl0FxCs9W0C8FyQ9O0pgQDweWPNHTlRA2HD0aT9EW0ACvq+PkHleQGi6Acc4AFZAPStQY5d7XkAYp/UqCZBdQAldDsJNGE9A6RR/rm9LW0ASB9u9hJBZQONeMlTdUVtAY1pdFWWSWUCr0E4br1pbQOHJvBZuL09A9/RF3MxnVkA+7J9E2pJZQF4j8h33DUFAUZd6lRFMYEBvrfWkUUhPQIb9DCCWlVlAHcrb266RXUC9H7Ql91lPQINSTf8rb1tAQQ0rxKoGVkBGPlC6kw1WQAvySlDIcFtAUhOQw5BOYEBf8T3z65dZQKIkjSlPF1ZAVxIw3IUvQUBH/SQmKVFgQA0SqBzFIFZAeeMeGghpT0Dio2OrX5VdQB9JwLP8KVZAb2PmrY3+V0C2TX1SIjNWQD9JlTFzPFZAOaMU/kNTYEDSeZ7Eo0VWQBJM8AtOh09A/foYvQB+XkASatCPBZlZQKZe3GuEQkFAY4bdOctjW0CeT7JtyqJPQNRy3ujBa1tA6XEe2ot/XkA6Njp440tWQCJYoIvPU0FAACZPq61xW0CSh7WocXNbQPTG5w+NeFtACQ2nVSuCXkAzfqax72lWQG7PN05bvk9AJVX84TF9W0AQ6YqlupldQIHSwTXHVWBAPY598QJXYEDzyWYwLYVeQLUssQP3dFtAo/ynTal4W0AnuYVQe3tbQKpmSzJjikFASv3rGS+WQUASlTIRuYJbQOs24xxGiF5A9e9kY7JUVkBRxNzWe4dbQMQ9m5SIWWBABU6RZGPMT0AVxD3JKYpeQJN6nLz8fVtAeYxpp91eVkBPZ0vKD+NPQCJpuoLgnV1ApvjHnbR+W0D8ucO/zo5bQDv4pCMdbVZA/QYW0JmsQUB3rpW2S39bQH0pIg0LkltAD4twjmmaWUCxvQrMiY1eQM0RywyvgFtA6ig+RHHcQUAf878X2p9dQCc/fpEjXGBAYbY3/8ITQkDEVEAnZ2ZWQJWCqxPIo11AK2rjZ1iQXkDEBZ5uIG9WQB9pQV6D/1dAckAKjWeVW0AODanc/m9WQAGZbTR2nFlAuxZXTVqRXkCSj6x7VkdCQI5dHbZHX2BAQZGEEN+RXkASiDT7TmdCQL+5esBWYmBAYSJx0PaFQkAW5GLdUGRgQLJ04gP8T1RAvDq0yMpmYEDfNDWzo2pgQDZShqKEbGBA/arzOECbW0AyHFhoawBYQClEFooX/09AFkG9P+F2VkBr0VDhFH5WQBqow+/irUJAw5iPCgxtYEDXO+hZFHBWQIlD3L73k15AU6ICwmqdW0AN66mCBqVbQBrYd7PMcGBAUrJhRe1yYECEUzH5bqxbQGxlCeOohlZAPiAWDBtyVkBsaKtMs49WQF0sMJ5kdGBAeDTaIIO0W0CyvtqQi5dWQJ5CzCW8g1tAq0q/9h4QUEBIJFTyDh5QQMRzJARJnlZA40fpfIueWUD5O1TtbM1CQE2E2UG19kJAEaRxS5ygWUAv3e52uZheQD+UQ98admBAqAgLEYKcXkBQbTN7cKVWQCmDpZfknV5ARZegIBm6W0BMkW0bxSlQQNoUtUTxEkNA+J8DaWlRVEBFpHAhJsJbQK0Isi8ErVZACfEvXS+2VkD/J/KI1xpDQNlXWuiMoV5A8b48EMmGW0AkjCMSpMhbQAoWXbGsMUNAOURU+2x4YEC8tGh1WgJYQNlGWfz7oVlATOX1w+hSVEADu9JPvaJZQHDzepmCemBA8Vjw3nDPW0ChrTX167tWQLv4Pp7VOVBAlsy/SdvJVkBeFfLjzaZdQJDfcbTeql1A8k6yPvfRVkDo0h3ObqNZQJ4DTm2fc1ZAaNrme4BUQ0DiG9tGq9VbQGRKNksM2VZAfVfy3xN9YEDSpyZ6dqVeQJ8pM6vPd1ZARGnBCUhCUEDRMYzHLIBgQJ72wWWt2ltA0Dz85CKJW0Cgsr9V+XlWQEVs1uCzVVRAVkUeWc7iVkCid6MkoYFgQAjbVOy0VlRAAxXZgYetXUC9c1nXp2ZDQN9nPHPr31tAWDud8jJJUEDhqsCL+uhWQHu8WxI251tA4V+ZmaaKQ0CP0ByQZ6VZQMgqn5RCqF5ACLpDwW+nWUArZPClsItbQJ/aZI8rqVlAEKKe5t+qWUBXIBnJ/a9dQHfJSoNAs11Awna4Z9bvVkCmSn7nQ1VQQJr2irK3uF1AWJmpHc68XUDCwEhZmIRgQEHZzNvZvV1Aw53WJuTuW0AcJ1b4trlDQCVAoywZ91tAIZup2tqrWUB0ljGVatlDQKoGZ39kwl1Az0Y38Jr9Q0Aqu5nrKvdWQH1pYnpF/VZAAL/QHMBcUEDR6wr1u2hQQPRXww1uDkRAVG8ohsMHV0DbthA/W4dgQGbj2L31O0RARpgfK5ZvUEBuT1xXslFEQBLenFVDEVdAXuGKzDQaV0B2i8v5h3pEQGBcgl1U/VtA0lgmeeLEXUBYS6f08n5EQMZ6FM6ae1ZAybiWkGOsWUD69Rv3LQNcQEY8wRxfCFxAZPjXrmi5REDJkm3J3aleQFJDitHsfVZA12fyRLshV0BMve5ZBShXQLD7VSqxA1hAgXEB3xXGXUA/6JRiGgRYQJVj2yJ1iWBA5Y6ohpaqXkC/aoiGFa5ZQCl8FnY1DVxAkIsIhuUEWEAJzXBDIIZQQGKER1efx0RAHlO6bQxYVEA9xtzSZllUQKdkqiMgnFBAYbiXqkCmUEBAYf2dBcpdQEpAMinpr1BAyBZCftMVXED4W0n2pYtgQKRH/fqDjWBAJCqDBd2OW0ATJlsAeJFbQF2Q5iHy80RA41JnrtXLXUBw2CdqeBRFQK3Y1Ej1MVdA19InTxW/UEAkQ/0EtclQQCMNhoh1j2BAfNF9Vh7SUEAJEmdOzzlXQOpu8JPcQVdAceRWx6kcXEBfBBy8CTFFQP06CcBjSldAMFsrLhHPXUCnrA3FM5BgQIaAqIjDIVxApJsTESNaRUBMjQRVhCdcQOPxb1+20l1A7ajlPgVaVEBtrWC05mdFQNDYruXUlFtAXBdPgtfaUEAk4KvAPqteQBfjCVMNMFxAJKela/OtXkBMajBBz4BWQMVeaFP6sF5AfL05yFGDRUBXJifO5lRXQFWgjpGDtF5Ab+2c0meDVkCda2wTrF1XQHM2JCDWs0VA6gFLGkmGVkCtAdjKqltUQIMwRVzo5FBAy0Dj1ivyUEB8sdvBsjVcQHjaflUqlVtAnYeBZK61XkBxYwvwSM5FQK5l54bFO1xAeWqNVhFpV0BuYaegXXBXQCqHiBlu9UVAIYNFrKqTYEBw6+5mTUJcQLPAhcN7iFZAykN8kBd3V0AONMe57LheQAAZ8HVYDkZA",
          "dtype": "f8"
         },
         "yaxis": "y"
        },
        {
         "hovertemplate": "Actual_Payment_Period=Jan-21<br>Reg_Month=%{x}<br>Cum_Sum=%{y}<extra></extra>",
         "legendgroup": "Jan-21",
         "marker": {
          "color": "#00cc96",
          "symbol": "circle"
         },
         "mode": "markers",
         "name": "Jan-21",
         "showlegend": true,
         "type": "scattergl",
         "x": {
          "bdata": "AwAAAAYAAAACAAAACQAAAAoAAAAHAAAABwAAAAgAAAAHAAAACAAAAAgAAAALAAAACQAAAAoAAAAKAAAADAAAAAQAAAACAAAAAgAAAAUAAAAEAAAABgAAAAQAAAAJAAAACAAAAAsAAAACAAAABwAAAAUAAAAMAAAABwAAAAoAAAAKAAAAAQAAAAkAAAAIAAAACQAAAAQAAAAFAAAACQAAAAkAAAAJAAAACQAAAAgAAAACAAAAAQAAAAcAAAAMAAAACgAAAAgAAAAIAAAABwAAAAIAAAADAAAACgAAAAYAAAAIAAAABgAAAAEAAAAIAAAADAAAAAoAAAAHAAAACwAAAAcAAAAIAAAACwAAAAEAAAAKAAAACQAAAAwAAAALAAAADAAAAAoAAAADAAAACQAAAAgAAAAIAAAAAwAAAAsAAAAKAAAADAAAAAgAAAAGAAAACwAAAAwAAAAEAAAABAAAAAkAAAALAAAACwAAAAcAAAAKAAAABwAAAAIAAAAKAAAACwAAAAgAAAAJAAAABAAAAAoAAAAGAAAAAQAAAAsAAAAMAAAABQAAAAsAAAAIAAAABAAAAAwAAAAIAAAABwAAAAwAAAAKAAAADAAAAAwAAAAJAAAACgAAAAsAAAAFAAAABwAAAAkAAAAMAAAAAwAAAAgAAAAMAAAACAAAAAgAAAAIAAAABwAAAAkAAAAFAAAADAAAAAQAAAAIAAAACwAAAAwAAAALAAAACAAAAAsAAAAHAAAABAAAAAMAAAALAAAACAAAAAsAAAAJAAAACQAAAAkAAAAJAAAACAAAAAsAAAAMAAAAAwAAAAkAAAALAAAACAAAAAwAAAAKAAAABwAAAAkAAAAGAAAACwAAAAMAAAAMAAAABgAAAAsAAAAHAAAACgAAAAwAAAAMAAAACQAAAAYAAAAHAAAACgAAAAYAAAAMAAAABQAAAAEAAAALAAAABgAAAAsAAAAKAAAACAAAAAsAAAAMAAAACwAAAAIAAAAKAAAACAAAAAkAAAAJAAAABgAAAAcAAAALAAAACwAAAAYAAAAMAAAADAAAAAsAAAALAAAACAAAAAwAAAAIAAAABAAAAAsAAAAHAAAADAAAAAMAAAADAAAACgAAAAQAAAAIAAAACAAAAAQAAAAGAAAACQAAAAcAAAALAAAACgAAAAYAAAAKAAAABwAAAAUAAAAMAAAACwAAAAcAAAAFAAAAAwAAAAYAAAAKAAAACQAAAAoAAAAJAAAABwAAAAwAAAAKAAAACQAAAAoAAAAFAAAABgAAAAwAAAACAAAABgAAAAEAAAAMAAAACQAAAAUAAAAHAAAABgAAAAcAAAALAAAAAgAAAAwAAAALAAAACgAAAAsAAAAIAAAAAwAAAAYAAAAGAAAACgAAAAQAAAAJAAAACwAAAAgAAAADAAAADAAAAAYAAAAIAAAACwAAAAwAAAAGAAAACwAAAAYAAAAFAAAACQAAAAkAAAAFAAAABAAAAAwAAAAJAAAADAAAAAYAAAAKAAAADAAAAAcAAAADAAAABQAAAAwAAAAIAAAABQAAAAkAAAAJAAAACQAAAAoAAAAHAAAACwAAAAcAAAAMAAAABwAAAAQAAAAKAAAADAAAAAkAAAALAAAACwAAAAIAAAAHAAAABQAAAAYAAAAGAAAACAAAAAkAAAALAAAADAAAAAsAAAAHAAAACwAAAAgAAAAEAAAACgAAAAUAAAAJAAAACAAAAAYAAAAJAAAACQAAAAYAAAAIAAAAAwAAAAsAAAABAAAAAwAAAAwAAAALAAAABQAAAAoAAAAMAAAACgAAAAgAAAAMAAAABQAAAAkAAAAEAAAACwAAAAEAAAAHAAAAAwAAAAkAAAAFAAAADAAAAAcAAAAJAAAACgAAAAYAAAAKAAAACgAAAAQAAAAIAAAABgAAAAgAAAAKAAAACQAAAAUAAAAMAAAABwAAAAkAAAALAAAAAwAAAAgAAAALAAAAAQAAAAUAAAAJAAAABwAAAAYAAAAIAAAACwAAAAYAAAAMAAAACQAAAAoAAAALAAAAAwAAAAsAAAAEAAAACAAAAAsAAAAKAAAABgAAAAgAAAALAAAABQAAAAwAAAAIAAAADAAAAAIAAAAEAAAADAAAAAsAAAACAAAABgAAAAcAAAACAAAACwAAAAQAAAAEAAAACQAAAAwAAAAIAAAABQAAAAgAAAADAAAACAAAAAgAAAAJAAAACAAAAAwAAAAHAAAAAQAAAAsAAAAHAAAABwAAAAoAAAAJAAAACAAAAAkAAAABAAAADAAAAAUAAAAJAAAACQAAAAwAAAAGAAAACQAAAAUAAAALAAAACgAAAAsAAAADAAAABwAAAAcAAAADAAAABQAAAAsAAAALAAAABAAAAAkAAAAGAAAACQAAAAgAAAACAAAACgAAAAgAAAAJAAAACwAAAAgAAAALAAAACwAAAAsAAAAIAAAADAAAAAoAAAACAAAAAQAAAAcAAAAMAAAACAAAAAUAAAAJAAAACAAAAAcAAAAFAAAABAAAAAgAAAAIAAAACQAAAAQAAAALAAAACAAAAAkAAAADAAAABwAAAAsAAAAMAAAACgAAAAcAAAAHAAAAAwAAAAkAAAAJAAAABgAAAAoAAAAMAAAABgAAAAwAAAABAAAABQAAAAkAAAAFAAAABgAAAAwAAAAHAAAACgAAAAgAAAAJAAAACwAAAAgAAAACAAAACwAAAAgAAAAMAAAAAQAAAAwAAAACAAAACgAAAAoAAAAEAAAABgAAAAkAAAAKAAAABgAAAAMAAAAKAAAACwAAAAwAAAAIAAAACgAAAAUAAAAIAAAADAAAAAcAAAAKAAAABQAAAAgAAAAMAAAACAAAAAoAAAAHAAAACAAAAAgAAAAHAAAADAAAAAkAAAALAAAADAAAAAkAAAAJAAAACQAAAAgAAAABAAAACAAAAAoAAAAMAAAADAAAAAgAAAAMAAAACQAAAAEAAAAKAAAADAAAAAQAAAAHAAAABwAAAAMAAAAIAAAACAAAAAcAAAAJAAAACgAAAAIAAAAHAAAACQAAAAMAAAAKAAAACgAAAAkAAAADAAAAAwAAAAYAAAAHAAAABAAAAAYAAAACAAAACgAAAAMAAAAIAAAABAAAAAgAAAAFAAAADAAAAAcAAAABAAAACAAAAAYAAAAIAAAABwAAAAcAAAAMAAAAAwAAAAMAAAAJAAAADAAAAAwAAAACAAAADAAAAAQAAAAJAAAABwAAAAQAAAAMAAAACQAAAAgAAAAJAAAACQAAAAsAAAADAAAADAAAAAQAAAALAAAACgAAAAUAAAAFAAAABwAAAAkAAAAGAAAADAAAAAsAAAAMAAAACQAAAAoAAAAJAAAABQAAAAYAAAABAAAACgAAAAUAAAADAAAACgAAAAkAAAAGAAAADAAAAAgAAAAMAAAADAAAAAsAAAAIAAAABAAAAAUAAAAHAAAACAAAAAcAAAAEAAAABgAAAAoAAAAIAAAADAAAAAQAAAAIAAAACAAAAAsAAAAHAAAACgAAAAkAAAAIAAAADAAAAAoAAAAMAAAADAAAAAEAAAAJAAAACQAAAAwAAAAIAAAACQAAAAgAAAAJAAAACgAAAAgAAAAHAAAACwAAAAsAAAAIAAAACAAAAAoAAAAKAAAACQAAAAkAAAABAAAABwAAAAoAAAAGAAAABgAAAAQAAAAKAAAABQAAAAkAAAAEAAAACAAAAAsAAAAKAAAACAAAAAQAAAAIAAAACwAAAAoAAAAEAAAADAAAAAcAAAAGAAAACgAAAAkAAAAIAAAACgAAAAcAAAAIAAAACwAAAAsAAAADAAAACQAAAAYAAAAFAAAABAAAAAgAAAAKAAAACgAAAAcAAAALAAAABwAAAAwAAAAFAAAACQAAAAsAAAAHAAAACwAAAAkAAAAJAAAACgAAAAoAAAAJAAAADAAAAAoAAAAHAAAABQAAAAYAAAAGAAAACAAAAAkAAAAMAAAACgAAAAQAAAACAAAAAQAAAAMAAAAGAAAACAAAAAUAAAAMAAAACwAAAAgAAAAKAAAACwAAAAoAAAAEAAAACQAAAAwAAAADAAAACgAAAAUAAAALAAAABwAAAAwAAAAMAAAADAAAAAIAAAABAAAAAgAAAAsAAAAJAAAACgAAAAkAAAALAAAACwAAAAEAAAALAAAACAAAAAkAAAAMAAAADAAAAAcAAAAMAAAABgAAAAUAAAAEAAAABgAAAAkAAAAMAAAACwAAAAwAAAAIAAAABgAAAAYAAAACAAAADAAAAAsAAAAKAAAABwAAAAoAAAALAAAACQAAAAIAAAAIAAAAAwAAAAwAAAAGAAAABgAAAAsAAAAJAAAADAAAAAUAAAAEAAAACAAAAAcAAAAMAAAACAAAAAkAAAAMAAAACgAAAAgAAAAJAAAADAAAAAwAAAAKAAAACwAAAAoAAAAJAAAABAAAAAsAAAAGAAAACQAAAAwAAAALAAAABQAAAAcAAAAIAAAACQAAAAcAAAAJAAAAAQAAAAoAAAALAAAABAAAAAwAAAALAAAAAwAAAAkAAAACAAAACgAAAAMAAAAHAAAABwAAAAIAAAAFAAAACgAAAAoAAAAIAAAACwAAAAsAAAAHAAAAAwAAAAkAAAAJAAAABAAAAAcAAAALAAAABgAAAAoAAAAMAAAACAAAAAsAAAAGAAAACgAAAAMAAAADAAAABgAAAAUAAAAJAAAABwAAAAsAAAAMAAAACwAAAAoAAAAHAAAACwAAAAUAAAAIAAAACwAAAAUAAAADAAAACAAAAAgAAAAHAAAACwAAAAgAAAABAAAACgAAAAkAAAADAAAABwAAAAsAAAAJAAAAAwAAAAkAAAADAAAACwAAAAsAAAAMAAAAAwAAAAUAAAAIAAAACwAAAAkAAAAHAAAABQAAAAYAAAABAAAABgAAAAMAAAAGAAAABwAAAAcAAAAGAAAACgAAAAoAAAAKAAAADAAAAAcAAAAKAAAACQAAAAMAAAADAAAACwAAAAUAAAAIAAAACQAAAAQAAAAKAAAACQAAAAUAAAABAAAADAAAAAUAAAABAAAACwAAAAgAAAAMAAAABgAAAAgAAAALAAAACAAAAAoAAAAJAAAABAAAAAgAAAAMAAAADAAAAAcAAAAIAAAADAAAAAYAAAAEAAAACAAAAAgAAAAJAAAADAAAAAQAAAAHAAAACAAAAAkAAAAEAAAABQAAAAoAAAAJAAAADAAAAAkAAAABAAAACAAAAAcAAAAFAAAABwAAAAEAAAAGAAAACwAAAAYAAAAKAAAACAAAAAoAAAAMAAAABQAAAAoAAAAJAAAACAAAAAoAAAAKAAAAAQAAAAsAAAAIAAAADAAAAAUAAAADAAAACQAAAAQAAAAMAAAABwAAAAoAAAALAAAADAAAAAwAAAAJAAAABwAAAAEAAAAIAAAAAwAAAAEAAAAKAAAACwAAAAgAAAALAAAADAAAAAoAAAAKAAAACgAAAAUAAAAKAAAACAAAAAgAAAADAAAABwAAAAgAAAAKAAAACQAAAAoAAAAIAAAABQAAAAsAAAAHAAAADAAAAAsAAAAFAAAADAAAAAcAAAAMAAAAAgAAAAgAAAALAAAACQAAAAwAAAALAAAADAAAAAgAAAAJAAAABgAAAAQAAAAJAAAABgAAAAoAAAAFAAAACgAAAAwAAAAHAAAACgAAAAgAAAAMAAAACAAAAAoAAAAGAAAACAAAAAgAAAAFAAAACQAAAAgAAAALAAAACgAAAAsAAAADAAAACAAAAAkAAAAFAAAABwAAAAgAAAAKAAAADAAAAAsAAAAMAAAACAAAAAUAAAABAAAACgAAAAcAAAAKAAAAAwAAAAgAAAALAAAABgAAAAMAAAAKAAAADAAAAAIAAAAIAAAABAAAAAgAAAAKAAAACAAAAAYAAAALAAAACgAAAAkAAAAFAAAADAAAAAwAAAACAAAACQAAAAgAAAACAAAACQAAAAoAAAAHAAAACwAAAAkAAAAJAAAAAwAAAAkAAAALAAAABAAAAAMAAAAMAAAACAAAAAsAAAADAAAACwAAAAUAAAAKAAAACgAAAAUAAAAIAAAAAwAAAAoAAAAMAAAACAAAAAoAAAALAAAABwAAAAoAAAABAAAACgAAAAoAAAAIAAAACgAAAAsAAAAGAAAAAwAAAAwAAAAJAAAACwAAAAkAAAAGAAAACgAAAAwAAAAJAAAABQAAAAkAAAAGAAAACwAAAAkAAAAHAAAACAAAAAgAAAAFAAAABQAAAAwAAAAMAAAACQAAAAYAAAAKAAAACQAAAAgAAAALAAAABgAAAAUAAAAKAAAACwAAAAcAAAAJAAAABAAAAAwAAAAJAAAAAwAAAAYAAAAFAAAADAAAAAcAAAAIAAAADAAAAAoAAAAHAAAABgAAAAQAAAABAAAACQAAAAoAAAADAAAADAAAAAgAAAAMAAAACAAAAAwAAAAIAAAAAgAAAAgAAAAIAAAACAAAAAkAAAABAAAACwAAAAoAAAAKAAAADAAAAAgAAAAEAAAABgAAAAkAAAAJAAAACAAAAAgAAAAJAAAACgAAAAQAAAAKAAAACAAAAAkAAAAKAAAABQAAAAsAAAALAAAACgAAAAwAAAAMAAAAAwAAAAYAAAAIAAAABgAAAAoAAAAGAAAACQAAAAsAAAAMAAAAAgAAAAkAAAAKAAAACgAAAAwAAAAGAAAABQAAAAkAAAAMAAAACAAAAAEAAAADAAAAAgAAAAMAAAAIAAAACQAAAAoAAAALAAAACgAAAAcAAAAHAAAACgAAAAQAAAAMAAAACQAAAAoAAAAIAAAABgAAAAQAAAALAAAACAAAAAkAAAAFAAAABAAAAAIAAAAKAAAACAAAAAIAAAAHAAAADAAAAAkAAAALAAAACgAAAAkAAAAMAAAAAwAAAAUAAAADAAAAAwAAAAcAAAAHAAAACgAAAAsAAAAHAAAABwAAAAgAAAAJAAAADAAAAAkAAAADAAAADAAAAAcAAAAMAAAACgAAAAoAAAALAAAACwAAAAwAAAAKAAAACAAAAAwAAAALAAAADAAAAAoAAAAKAAAADAAAAAkAAAAHAAAADAAAAAQAAAADAAAACQAAAAkAAAAMAAAABgAAAAQAAAAKAAAACgAAAAEAAAAHAAAAAQAAAAgAAAADAAAACQAAAAEAAAALAAAADAAAAAsAAAALAAAABwAAAAsAAAAJAAAACAAAAAgAAAAFAAAABQAAAAwAAAAMAAAACgAAAAsAAAALAAAACAAAAAsAAAAKAAAACgAAAAkAAAAMAAAACgAAAAcAAAAIAAAACQAAAAwAAAAJAAAABwAAAAwAAAAFAAAACwAAAAkAAAAGAAAABAAAAAYAAAAMAAAACgAAAAYAAAAEAAAACgAAAAwAAAAEAAAAAgAAAAsAAAALAAAACQAAAAwAAAAJAAAACgAAAAoAAAAMAAAACAAAAAkAAAAEAAAACgAAAAYAAAAMAAAA",
          "dtype": "i4"
         },
         "xaxis": "x",
         "y": {
          "bdata": "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",
          "dtype": "f8"
         },
         "yaxis": "y"
        },
        {
         "hovertemplate": "Actual_Payment_Period=Feb-21<br>Reg_Month=%{x}<br>Cum_Sum=%{y}<extra></extra>",
         "legendgroup": "Feb-21",
         "marker": {
          "color": "#ab63fa",
          "symbol": "circle"
         },
         "mode": "markers",
         "name": "Feb-21",
         "showlegend": true,
         "type": "scattergl",
         "x": {
          "bdata": "BgAAAAIAAAAJAAAACgAAAAcAAAAIAAAABwAAAAgAAAAIAAAACwAAAAkAAAAKAAAACgAAAAwAAAACAAAAAgAAAAUAAAAGAAAABAAAAAkAAAAIAAAACwAAAAIAAAAFAAAADAAAAAoAAAAKAAAAAQAAAAkAAAAIAAAACQAAAAQAAAAFAAAACQAAAAkAAAAJAAAACQAAAAgAAAACAAAAAQAAAAwAAAAKAAAACAAAAAgAAAAHAAAAAgAAAAoAAAAIAAAABgAAAAEAAAAIAAAADAAAAAoAAAALAAAABwAAAAgAAAALAAAACgAAAAkAAAAMAAAACwAAAAwAAAADAAAACQAAAAgAAAAIAAAAAwAAAAsAAAAKAAAADAAAAAgAAAAGAAAACwAAAAwAAAAEAAAABAAAAAkAAAALAAAACwAAAAoAAAACAAAACgAAAAsAAAAIAAAACQAAAAoAAAABAAAACwAAAAwAAAAFAAAACwAAAAgAAAAEAAAADAAAAAgAAAAMAAAACgAAAAwAAAAMAAAACQAAAAoAAAALAAAABQAAAAkAAAAMAAAACAAAAAwAAAAIAAAACAAAAAgAAAAHAAAACQAAAAUAAAAMAAAABAAAAAsAAAAMAAAACwAAAAsAAAAHAAAABAAAAAMAAAALAAAACwAAAAkAAAAJAAAACQAAAAgAAAALAAAADAAAAAkAAAALAAAACAAAAAwAAAAKAAAABwAAAAYAAAALAAAAAwAAAAwAAAAGAAAACwAAAAcAAAAKAAAADAAAAAwAAAAJAAAABgAAAAcAAAAKAAAABgAAAAwAAAAFAAAACwAAAAYAAAALAAAACgAAAAgAAAALAAAADAAAAAsAAAACAAAACgAAAAgAAAAJAAAACQAAAAYAAAALAAAACwAAAAYAAAAMAAAADAAAAAsAAAALAAAACAAAAAwAAAAIAAAABAAAAAsAAAAMAAAACgAAAAQAAAAIAAAACAAAAAQAAAAGAAAACQAAAAcAAAALAAAACgAAAAYAAAAKAAAABwAAAAUAAAAMAAAACwAAAAUAAAADAAAABgAAAAoAAAAJAAAACgAAAAkAAAAHAAAADAAAAAoAAAAJAAAACgAAAAUAAAAGAAAADAAAAAIAAAAGAAAAAQAAAAwAAAAJAAAABQAAAAcAAAAGAAAACwAAAAIAAAAMAAAACwAAAAoAAAALAAAACAAAAAYAAAAGAAAACgAAAAQAAAAJAAAACwAAAAgAAAADAAAADAAAAAgAAAALAAAADAAAAAYAAAALAAAABgAAAAUAAAAJAAAACQAAAAUAAAAEAAAADAAAAAwAAAAGAAAACgAAAAwAAAAHAAAAAwAAAAUAAAAMAAAACAAAAAUAAAAJAAAACQAAAAkAAAAKAAAABwAAAAsAAAAHAAAADAAAAAQAAAAKAAAADAAAAAkAAAALAAAACwAAAAIAAAAHAAAABQAAAAYAAAAIAAAACwAAAAwAAAALAAAACwAAAAgAAAAEAAAACgAAAAUAAAAJAAAACAAAAAYAAAAJAAAACQAAAAYAAAAIAAAAAwAAAAsAAAABAAAADAAAAAsAAAAFAAAACgAAAAwAAAAKAAAACAAAAAwAAAAFAAAABAAAAAsAAAABAAAABwAAAAkAAAAFAAAADAAAAAcAAAAJAAAACgAAAAYAAAAKAAAACgAAAAQAAAAIAAAABgAAAAgAAAAKAAAACQAAAAUAAAAMAAAABwAAAAkAAAALAAAAAwAAAAgAAAALAAAAAQAAAAUAAAAJAAAABwAAAAYAAAAIAAAACwAAAAYAAAAMAAAACQAAAAoAAAALAAAACwAAAAQAAAAIAAAACwAAAAoAAAAGAAAACAAAAAsAAAAFAAAADAAAAAgAAAAMAAAAAgAAAAQAAAAMAAAACwAAAAIAAAAGAAAABwAAAAIAAAALAAAABAAAAAQAAAAJAAAADAAAAAgAAAAFAAAACAAAAAgAAAAIAAAACQAAAAgAAAAMAAAAAQAAAAsAAAAHAAAACgAAAAkAAAAIAAAACQAAAAEAAAAMAAAABQAAAAkAAAAJAAAADAAAAAYAAAAJAAAABQAAAAsAAAAKAAAACwAAAAMAAAAHAAAABQAAAAsAAAALAAAABAAAAAkAAAAGAAAACQAAAAIAAAAKAAAACAAAAAkAAAALAAAACAAAAAsAAAALAAAACwAAAAgAAAAMAAAACgAAAAIAAAABAAAABwAAAAwAAAAIAAAABQAAAAkAAAAIAAAABwAAAAUAAAAEAAAACAAAAAgAAAAJAAAABAAAAAsAAAAIAAAACQAAAAcAAAALAAAADAAAAAoAAAAHAAAAAwAAAAkAAAAJAAAABgAAAAoAAAAMAAAABgAAAAwAAAABAAAABQAAAAkAAAAFAAAABgAAAAwAAAAHAAAACgAAAAgAAAAJAAAACwAAAAIAAAALAAAACAAAAAwAAAAMAAAAAgAAAAoAAAAKAAAABgAAAAkAAAAKAAAABgAAAAMAAAAKAAAACwAAAAwAAAAIAAAACgAAAAUAAAAIAAAADAAAAAcAAAAKAAAABQAAAAgAAAAMAAAACgAAAAgAAAAIAAAABwAAAAwAAAAJAAAACwAAAAwAAAAJAAAACQAAAAgAAAABAAAACAAAAAoAAAAMAAAADAAAAAgAAAAMAAAACQAAAAwAAAAHAAAAAwAAAAgAAAAIAAAABwAAAAkAAAAKAAAAAgAAAAkAAAADAAAACgAAAAoAAAAJAAAAAwAAAAYAAAAHAAAABAAAAAYAAAACAAAACgAAAAMAAAAIAAAABAAAAAgAAAAFAAAADAAAAAcAAAABAAAACAAAAAYAAAAIAAAABwAAAAwAAAADAAAAAwAAAAkAAAAMAAAADAAAAAIAAAAMAAAABAAAAAkAAAAHAAAABAAAAAwAAAAJAAAACAAAAAkAAAAJAAAACwAAAAMAAAAMAAAABAAAAAsAAAAKAAAABQAAAAUAAAAHAAAACQAAAAwAAAALAAAADAAAAAkAAAAKAAAACQAAAAUAAAAGAAAAAQAAAAoAAAAFAAAAAwAAAAoAAAAJAAAADAAAAAgAAAAMAAAADAAAAAsAAAAIAAAABQAAAAgAAAAEAAAABgAAAAoAAAAMAAAABAAAAAgAAAALAAAACgAAAAkAAAAIAAAADAAAAAoAAAAMAAAADAAAAAkAAAAJAAAADAAAAAgAAAAJAAAACAAAAAkAAAAKAAAACAAAAAcAAAALAAAACwAAAAgAAAAIAAAACgAAAAoAAAAJAAAACQAAAAEAAAAKAAAABgAAAAQAAAAKAAAABQAAAAkAAAAEAAAACAAAAAsAAAAKAAAACAAAAAQAAAAIAAAACwAAAAoAAAAEAAAADAAAAAYAAAAKAAAACQAAAAgAAAAKAAAABwAAAAgAAAALAAAACwAAAAMAAAAJAAAABgAAAAUAAAAEAAAACAAAAAoAAAAKAAAACwAAAAcAAAAMAAAABQAAAAkAAAALAAAABwAAAAsAAAAJAAAACQAAAAoAAAAKAAAACQAAAAwAAAAKAAAABwAAAAUAAAAGAAAABgAAAAgAAAAJAAAADAAAAAoAAAAEAAAAAgAAAAEAAAAGAAAABQAAAAwAAAALAAAACAAAAAoAAAALAAAACgAAAAQAAAAJAAAADAAAAAoAAAAFAAAACwAAAAcAAAAMAAAADAAAAAwAAAACAAAAAQAAAAIAAAALAAAACQAAAAoAAAAJAAAACQAAAAsAAAALAAAAAQAAAAsAAAAIAAAACQAAAAwAAAAMAAAABwAAAAwAAAAFAAAABAAAAAYAAAAJAAAADAAAAAsAAAAMAAAACAAAAAYAAAACAAAADAAAAAsAAAAKAAAABwAAAAoAAAALAAAACQAAAAIAAAAIAAAADAAAAAYAAAAGAAAACwAAAAkAAAAMAAAABQAAAAgAAAAHAAAADAAAAAgAAAAMAAAACgAAAAkAAAAMAAAADAAAAAoAAAALAAAACgAAAAkAAAAEAAAACwAAAAkAAAAMAAAACwAAAAUAAAAHAAAACAAAAAkAAAAHAAAACQAAAAEAAAAKAAAACwAAAAQAAAAMAAAACwAAAAkAAAACAAAACgAAAAMAAAAHAAAABwAAAAIAAAAFAAAACgAAAAoAAAAIAAAACwAAAAsAAAAHAAAAAwAAAAkAAAAJAAAABAAAAAcAAAALAAAABgAAAAoAAAAMAAAACAAAAAsAAAAGAAAACgAAAAMAAAADAAAABgAAAAUAAAAJAAAABwAAAAsAAAAMAAAACwAAAAoAAAAHAAAACwAAAAUAAAAIAAAACwAAAAUAAAADAAAACAAAAAgAAAAHAAAACwAAAAgAAAABAAAACgAAAAkAAAADAAAABwAAAAsAAAADAAAAAwAAAAsAAAALAAAADAAAAAUAAAAIAAAACwAAAAkAAAAFAAAABgAAAAYAAAADAAAABgAAAAcAAAAHAAAABgAAAAoAAAAKAAAACgAAAAwAAAAHAAAACgAAAAkAAAADAAAAAwAAAAsAAAAFAAAACAAAAAkAAAAEAAAACgAAAAkAAAAFAAAAAQAAAAwAAAAFAAAAAQAAAAsAAAAIAAAADAAAAAgAAAALAAAACAAAAAoAAAAJAAAABAAAAAgAAAAMAAAADAAAAAcAAAAIAAAADAAAAAYAAAAIAAAACAAAAAkAAAAMAAAABAAAAAgAAAAJAAAABAAAAAUAAAAKAAAADAAAAAkAAAAIAAAABQAAAAEAAAAGAAAACwAAAAoAAAAIAAAACgAAAAwAAAAFAAAACgAAAAkAAAAIAAAACgAAAAoAAAABAAAACwAAAAgAAAAMAAAABQAAAAMAAAAJAAAABAAAAAwAAAAKAAAACwAAAAwAAAAMAAAACQAAAAcAAAABAAAACAAAAAMAAAABAAAACgAAAAsAAAAIAAAACwAAAAwAAAAKAAAACgAAAAoAAAAFAAAACgAAAAgAAAAIAAAAAwAAAAcAAAAIAAAACgAAAAkAAAAKAAAACAAAAAUAAAALAAAADAAAAAsAAAAFAAAADAAAAAwAAAACAAAACAAAAAsAAAAJAAAADAAAAAsAAAAMAAAACAAAAAkAAAAGAAAABAAAAAkAAAAGAAAACgAAAAUAAAAKAAAADAAAAAcAAAAKAAAACAAAAAwAAAAIAAAACgAAAAgAAAAIAAAABQAAAAkAAAAIAAAACwAAAAoAAAALAAAACAAAAAkAAAAFAAAABwAAAAgAAAAKAAAADAAAAAsAAAAMAAAACAAAAAUAAAABAAAACgAAAAcAAAAKAAAAAwAAAAgAAAALAAAABgAAAAMAAAAKAAAADAAAAAIAAAAIAAAABAAAAAgAAAAKAAAACAAAAAYAAAALAAAACgAAAAkAAAAFAAAADAAAAAwAAAACAAAACQAAAAgAAAACAAAACQAAAAoAAAALAAAACQAAAAkAAAADAAAACQAAAAsAAAAEAAAAAwAAAAwAAAAIAAAACwAAAAsAAAAFAAAACgAAAAoAAAAFAAAACAAAAAMAAAAKAAAADAAAAAgAAAAKAAAACwAAAAcAAAAKAAAAAQAAAAoAAAAKAAAACAAAAAoAAAALAAAADAAAAAkAAAALAAAACQAAAAoAAAAMAAAACQAAAAUAAAAJAAAABgAAAAsAAAAJAAAABwAAAAgAAAAFAAAABQAAAAwAAAAMAAAACQAAAAYAAAAKAAAACQAAAAgAAAALAAAABQAAAAoAAAALAAAABwAAAAkAAAAEAAAADAAAAAkAAAAGAAAABQAAAAwAAAAHAAAACAAAAAwAAAAKAAAABwAAAAQAAAAKAAAADAAAAAgAAAAMAAAACAAAAAwAAAAIAAAAAgAAAAgAAAAIAAAACQAAAAEAAAALAAAACgAAAAoAAAAMAAAACAAAAAQAAAAGAAAACQAAAAkAAAAIAAAACAAAAAkAAAAKAAAABAAAAAoAAAAJAAAACgAAAAUAAAALAAAACwAAAAoAAAAMAAAADAAAAAMAAAAGAAAACAAAAAoAAAAJAAAACwAAAAwAAAACAAAACQAAAAoAAAAKAAAADAAAAAYAAAAFAAAADAAAAAgAAAABAAAAAwAAAAIAAAADAAAACAAAAAkAAAAKAAAACwAAAAoAAAAHAAAACgAAAAQAAAAMAAAACQAAAAoAAAAIAAAABgAAAAQAAAALAAAACAAAAAkAAAAFAAAAAgAAAAoAAAAIAAAAAgAAAAcAAAAMAAAACQAAAAsAAAAKAAAACQAAAAwAAAADAAAABQAAAAMAAAADAAAABwAAAAcAAAAKAAAACwAAAAcAAAAJAAAADAAAAAkAAAADAAAADAAAAAwAAAAKAAAACgAAAAsAAAALAAAADAAAAAoAAAAIAAAADAAAAAsAAAAMAAAACgAAAAoAAAAMAAAACQAAAAcAAAAMAAAABAAAAAkAAAAJAAAADAAAAAYAAAAEAAAACgAAAAoAAAABAAAAAQAAAAgAAAADAAAACQAAAAsAAAAMAAAACwAAAAsAAAAHAAAACwAAAAkAAAAIAAAACAAAAAUAAAAFAAAADAAAAAwAAAAKAAAACwAAAAsAAAAIAAAACwAAAAoAAAAKAAAACQAAAAwAAAAKAAAACQAAAAwAAAAJAAAADAAAAAUAAAALAAAACQAAAAQAAAAGAAAADAAAAAoAAAAGAAAABAAAAAoAAAAMAAAABAAAAAIAAAALAAAACwAAAAkAAAAMAAAACQAAAAoAAAAKAAAADAAAAAgAAAAJAAAACgAAAAYAAAAMAAAA",
          "dtype": "i4"
         },
         "xaxis": "x",
         "y": {
          "bdata": "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",
          "dtype": "f8"
         },
         "yaxis": "y"
        },
        {
         "hovertemplate": "Actual_Payment_Period=Mar-21<br>Reg_Month=%{x}<br>Cum_Sum=%{y}<extra></extra>",
         "legendgroup": "Mar-21",
         "marker": {
          "color": "#FFA15A",
          "symbol": "circle"
         },
         "mode": "markers",
         "name": "Mar-21",
         "showlegend": true,
         "type": "scattergl",
         "x": {
          "bdata": "BgAAAAIAAAAJAAAACgAAAAgAAAAIAAAACAAAAAsAAAAJAAAACgAAAAoAAAAMAAAAAgAAAAIAAAAFAAAABgAAAAkAAAALAAAAAgAAAAwAAAAKAAAACgAAAAkAAAAIAAAACQAAAAQAAAAJAAAACQAAAAkAAAAJAAAACAAAAAIAAAAMAAAACgAAAAgAAAAIAAAAAgAAAAoAAAAIAAAABgAAAAwAAAAKAAAACwAAAAcAAAAIAAAACwAAAAoAAAAJAAAADAAAAAsAAAAMAAAACgAAAAMAAAAJAAAACAAAAAgAAAADAAAACwAAAAoAAAAMAAAACAAAAAYAAAALAAAADAAAAAQAAAAJAAAACwAAAAsAAAAKAAAAAgAAAAoAAAALAAAACQAAAAoAAAALAAAADAAAAAUAAAALAAAACAAAAAQAAAAMAAAACAAAAAwAAAAKAAAADAAAAAwAAAAJAAAACgAAAAsAAAAJAAAADAAAAAgAAAAMAAAACAAAAAgAAAAHAAAACQAAAAUAAAAMAAAABAAAAAsAAAAMAAAACwAAAAsAAAAEAAAAAwAAAAsAAAAIAAAACwAAAAkAAAAJAAAACAAAAAsAAAAMAAAACwAAAAwAAAAKAAAABwAAAAYAAAALAAAAAwAAAAwAAAAGAAAACwAAAAcAAAAKAAAADAAAAAwAAAAJAAAABgAAAAcAAAAKAAAABgAAAAwAAAAFAAAACwAAAAYAAAALAAAACgAAAAgAAAALAAAADAAAAAsAAAACAAAACgAAAAgAAAAJAAAABgAAAAsAAAALAAAABgAAAAwAAAAMAAAACwAAAAsAAAAIAAAADAAAAAgAAAAEAAAACwAAAAwAAAAKAAAABgAAAAkAAAALAAAACgAAAAYAAAAKAAAABwAAAAUAAAAMAAAACwAAAAUAAAADAAAABgAAAAoAAAAJAAAACgAAAAkAAAAHAAAADAAAAAoAAAAKAAAABQAAAAYAAAAMAAAAAgAAAAYAAAAMAAAACQAAAAUAAAAHAAAABgAAAAsAAAACAAAADAAAAAsAAAAKAAAACwAAAAYAAAAGAAAACgAAAAQAAAAJAAAACwAAAAgAAAADAAAADAAAAAgAAAALAAAADAAAAAYAAAALAAAABgAAAAUAAAAJAAAACQAAAAUAAAAMAAAADAAAAAYAAAAKAAAADAAAAAMAAAAFAAAADAAAAAgAAAAFAAAACQAAAAkAAAAJAAAACgAAAAsAAAAMAAAACgAAAAwAAAALAAAACwAAAAIAAAAHAAAABQAAAAYAAAAIAAAACwAAAAwAAAALAAAACwAAAAgAAAAEAAAACgAAAAkAAAAIAAAABgAAAAkAAAAJAAAABgAAAAMAAAALAAAADAAAAAsAAAAFAAAADAAAAAoAAAAIAAAADAAAAAUAAAALAAAABwAAAAkAAAAFAAAADAAAAAcAAAAJAAAACgAAAAYAAAAKAAAACgAAAAQAAAAGAAAACAAAAAoAAAAJAAAABQAAAAwAAAAHAAAACQAAAAsAAAADAAAACAAAAAsAAAAFAAAACQAAAAcAAAAGAAAACAAAAAsAAAAGAAAADAAAAAkAAAAKAAAACwAAAAsAAAAEAAAACwAAAAoAAAAGAAAACAAAAAsAAAAMAAAADAAAAAIAAAAEAAAADAAAAAsAAAACAAAABgAAAAcAAAACAAAACwAAAAQAAAAJAAAADAAAAAUAAAAIAAAACAAAAAgAAAAJAAAACAAAAAwAAAALAAAABwAAAAoAAAAJAAAACAAAAAkAAAAMAAAABQAAAAkAAAAMAAAABgAAAAkAAAALAAAACgAAAAsAAAADAAAABwAAAAUAAAALAAAACwAAAAkAAAAGAAAACQAAAAIAAAAKAAAACAAAAAkAAAALAAAACwAAAAsAAAALAAAACAAAAAwAAAAKAAAAAgAAAAcAAAAMAAAACAAAAAUAAAAJAAAACAAAAAcAAAAFAAAABAAAAAkAAAAEAAAACwAAAAkAAAAHAAAACwAAAAwAAAAKAAAAAwAAAAkAAAAGAAAACgAAAAwAAAAGAAAADAAAAAUAAAAJAAAABQAAAAYAAAAMAAAACgAAAAgAAAAJAAAACwAAAAIAAAALAAAADAAAAAwAAAACAAAACgAAAAoAAAAGAAAACQAAAAoAAAAGAAAAAwAAAAoAAAALAAAADAAAAAgAAAAKAAAABQAAAAwAAAAHAAAACgAAAAUAAAAIAAAADAAAAAoAAAAIAAAABwAAAAwAAAAJAAAACwAAAAwAAAAJAAAACQAAAAgAAAAKAAAADAAAAAwAAAAIAAAADAAAAAkAAAAMAAAABwAAAAMAAAAIAAAACAAAAAcAAAAKAAAAAgAAAAkAAAADAAAACgAAAAoAAAAJAAAAAwAAAAYAAAAHAAAABgAAAAIAAAAKAAAAAwAAAAgAAAAEAAAACAAAAAUAAAAMAAAABwAAAAgAAAAGAAAACAAAAAcAAAAMAAAAAwAAAAMAAAAJAAAADAAAAAwAAAACAAAADAAAAAQAAAAJAAAABAAAAAwAAAAJAAAACQAAAAsAAAADAAAADAAAAAsAAAAKAAAABQAAAAUAAAAHAAAACQAAAAYAAAAMAAAACwAAAAwAAAAJAAAACgAAAAkAAAAFAAAABgAAAAoAAAAFAAAACgAAAAkAAAAMAAAADAAAAAwAAAALAAAABQAAAAgAAAAGAAAACgAAAAwAAAALAAAACgAAAAkAAAAIAAAADAAAAAoAAAAMAAAADAAAAAkAAAAJAAAADAAAAAkAAAAJAAAACgAAAAgAAAAHAAAACwAAAAsAAAAIAAAACAAAAAoAAAAKAAAACQAAAAkAAAAKAAAABgAAAAoAAAAJAAAABAAAAAgAAAALAAAACgAAAAgAAAAIAAAACwAAAAoAAAAEAAAADAAAAAYAAAAKAAAACQAAAAgAAAAKAAAABwAAAAgAAAALAAAACwAAAAMAAAAJAAAABgAAAAUAAAAIAAAACgAAAAoAAAALAAAABwAAAAwAAAAFAAAACQAAAAsAAAALAAAACQAAAAkAAAAKAAAACgAAAAkAAAAMAAAACgAAAAcAAAAFAAAABgAAAAYAAAAIAAAACQAAAAwAAAAKAAAAAgAAAAYAAAAFAAAADAAAAAsAAAAIAAAACgAAAAsAAAAKAAAABAAAAAkAAAAMAAAACgAAAAUAAAALAAAADAAAAAwAAAAMAAAAAgAAAAIAAAALAAAACQAAAAoAAAAJAAAACQAAAAsAAAALAAAACwAAAAgAAAAJAAAADAAAAAwAAAAHAAAADAAAAAYAAAAFAAAABAAAAAYAAAAJAAAADAAAAAsAAAAMAAAABgAAAAIAAAAMAAAACwAAAAoAAAAHAAAACgAAAAsAAAAJAAAAAgAAAAwAAAAGAAAABgAAAAsAAAAJAAAADAAAAAUAAAAIAAAABwAAAAwAAAAIAAAADAAAAAoAAAAJAAAADAAAAAwAAAAKAAAACwAAAAoAAAAJAAAABAAAAAsAAAAJAAAADAAAAAsAAAAFAAAABwAAAAgAAAAHAAAACgAAAAsAAAAEAAAADAAAAAsAAAAJAAAAAgAAAAoAAAADAAAABwAAAAcAAAACAAAABQAAAAoAAAAKAAAACwAAAAsAAAAHAAAAAwAAAAkAAAAJAAAABAAAAAcAAAALAAAABgAAAAoAAAAMAAAACAAAAAsAAAAGAAAACgAAAAMAAAADAAAABgAAAAUAAAAJAAAABwAAAAsAAAAMAAAACwAAAAoAAAALAAAABQAAAAgAAAALAAAABQAAAAMAAAAHAAAACwAAAAgAAAAKAAAACQAAAAMAAAAHAAAACwAAAAMAAAADAAAACwAAAAsAAAAMAAAABQAAAAgAAAALAAAACQAAAAUAAAAGAAAABgAAAAMAAAAHAAAABwAAAAYAAAAKAAAACgAAAAoAAAAMAAAABwAAAAoAAAAJAAAAAwAAAAMAAAALAAAABQAAAAgAAAAJAAAABAAAAAoAAAAFAAAADAAAAAUAAAALAAAADAAAAAgAAAALAAAACAAAAAoAAAAJAAAABAAAAAgAAAAMAAAADAAAAAcAAAAIAAAADAAAAAYAAAAIAAAACQAAAAwAAAAEAAAACAAAAAkAAAAFAAAACgAAAAwAAAAJAAAACAAAAAUAAAALAAAACgAAAAgAAAAKAAAADAAAAAUAAAAKAAAACQAAAAgAAAAKAAAACgAAAAsAAAAIAAAADAAAAAUAAAADAAAACQAAAAwAAAAKAAAACwAAAAwAAAAMAAAACQAAAAcAAAAIAAAAAwAAAAoAAAALAAAACAAAAAsAAAAMAAAACgAAAAoAAAAKAAAABQAAAAoAAAAIAAAAAwAAAAcAAAAIAAAACgAAAAkAAAAKAAAACAAAAAUAAAALAAAADAAAAAsAAAAFAAAADAAAAAwAAAACAAAACAAAAAsAAAAJAAAADAAAAAsAAAAMAAAACQAAAAYAAAAEAAAACQAAAAYAAAAKAAAABQAAAAoAAAAMAAAABwAAAAoAAAAIAAAADAAAAAgAAAAKAAAACAAAAAkAAAALAAAACgAAAAsAAAAJAAAABQAAAAcAAAAIAAAACgAAAAwAAAALAAAADAAAAAgAAAAFAAAACgAAAAMAAAAIAAAACwAAAAYAAAADAAAACgAAAAwAAAACAAAACAAAAAgAAAAKAAAABgAAAAsAAAAKAAAACQAAAAUAAAAMAAAADAAAAAIAAAAJAAAACAAAAAIAAAAJAAAACgAAAAsAAAAJAAAACQAAAAMAAAALAAAAAwAAAAwAAAAIAAAACwAAAAsAAAAFAAAACgAAAAoAAAAFAAAACAAAAAMAAAAKAAAADAAAAAoAAAALAAAABwAAAAoAAAAKAAAACgAAAAgAAAAKAAAACwAAAAwAAAAJAAAACwAAAAkAAAAKAAAADAAAAAkAAAAFAAAACQAAAAYAAAALAAAACQAAAAcAAAAIAAAABQAAAAUAAAAMAAAADAAAAAkAAAAGAAAACgAAAAkAAAALAAAABQAAAAoAAAALAAAABwAAAAkAAAAEAAAADAAAAAkAAAAGAAAADAAAAAcAAAAIAAAADAAAAAoAAAAHAAAABAAAAAoAAAAMAAAACAAAAAwAAAAMAAAACAAAAAIAAAAIAAAACQAAAAsAAAAKAAAACgAAAAwAAAAGAAAACQAAAAgAAAAIAAAACQAAAAoAAAAEAAAACgAAAAkAAAAKAAAABQAAAAsAAAALAAAACgAAAAwAAAAMAAAAAwAAAAYAAAAIAAAACgAAAAkAAAALAAAADAAAAAIAAAAJAAAACgAAAAoAAAAMAAAABgAAAAUAAAAJAAAADAAAAAgAAAADAAAAAgAAAAMAAAAIAAAACQAAAAoAAAALAAAACgAAAAcAAAAKAAAABAAAAAwAAAAJAAAACgAAAAgAAAAGAAAACwAAAAgAAAAJAAAABQAAAAIAAAAKAAAACAAAAAIAAAAHAAAADAAAAAkAAAALAAAACgAAAAkAAAAMAAAAAwAAAAMAAAADAAAACgAAAAsAAAAHAAAACQAAAAwAAAAJAAAAAwAAAAwAAAAMAAAACgAAAAoAAAALAAAACwAAAAwAAAAKAAAACAAAAAwAAAALAAAADAAAAAoAAAAKAAAADAAAAAkAAAAMAAAABAAAAAkAAAAJAAAADAAAAAYAAAAKAAAACgAAAAgAAAADAAAACQAAAAsAAAAMAAAACwAAAAsAAAAHAAAACwAAAAkAAAAIAAAABQAAAAUAAAAMAAAADAAAAAoAAAALAAAACwAAAAgAAAALAAAACgAAAAoAAAAJAAAADAAAAAoAAAAJAAAADAAAAAkAAAAMAAAACwAAAAkAAAAEAAAABgAAAAwAAAAKAAAABgAAAAoAAAAMAAAABAAAAAIAAAALAAAACwAAAAkAAAAMAAAACQAAAAoAAAAKAAAADAAAAAgAAAAJAAAACgAAAAYAAAAMAAAA",
          "dtype": "i4"
         },
         "xaxis": "x",
         "y": {
          "bdata": "+zDRV20fYEApLap7zcVUQFOv5nYm/WBABHXrjcULX0Ad1zJnJMRiQK1IRWLsxWJACm6/YjnGYkB6oF4rOUlaQAvtpIbg/mBA4jSAEgQOX0A0PfJJ+RBfQGyi7LqPwlhABDRtAX/HVEAHuJa+WMlUQHmiKE3+2lxAVUEwTgogYEBt2lUvIAFhQG6iLeLqTlpAjR3vRL7JVECRsqpXF8hYQKOP8jZaFl9ADeeHEe8ZX0BOKk6IswJhQCHLMzR/x2JAerYGOvsEYUDIa/tpR2tXQHABpy/GBmFA2KClPIMHYUDXp+26swhhQBmsev6QCmFA3QgZdbPIYkAVNhEACstUQPHeox1qzlhAkBRglNQeX0DvkUKd+sliQKsmMgfXymJAnMpLA3XLVECPNaP5myBfQP9wXy52y2JAdKOCai8hYEB1hzcO1NRYQGAVbWQVJF9A49hpTMVSWkDyY7is8dlfQHgkYG9uzWJAaO5zYv1XWkDF6OoDxShfQNhmuUlxDGFAIMqx7W7bWEDl8wF5nFxaQIQ5TTl74VhAZTup1bsqX0CPWwalzU9aQCnym0oCDmFA8eoZyZHOYkDEx5YYvc9iQF16vQfOUFpAktT0W01jWkDMYV9tti9fQIjZswno5lhAdUQI81PRYkBGdWsdAiJgQGxormNSZ1pAN7nKTejsWECQTXSG1WxXQLG7+sDMD2FAvmZxcQxqWkDaaUuVhHBaQJvspW90NF9AeO3rCiDNVEDUId/jHjdfQCe8+PLndlpAlNgpcrURYUAx5Bz5NTtfQEj5C8UbfFpA5BYuDFfxWEDuA2XOSNxcQIw9UAmAgVpAzcptS9rSYkDpOLFR5W1XQI26RqKn+FhA9aO7cPvTYkBV+7hPg/5YQFS/FnigPF9A+oGiyz8GWUCC82H66AtZQBgZV3VjE2FAMh8ZKFdAX0AzkIBAHIdaQFWVwYBIFWFA0a1qeKgQWUBZZb3ek9RiQCQR5VzbFVlAky1wQ9PUYkDWgJjq2NViQB0Ef37m3F9AdY+SIasVYUDqPDKs/N1cQI0TXuQ4HFlA5AjqJA5wV0BrfLPeboxaQIKCSteIIVlASXwiFsKPWkCZuowaJ5RaQH6ZiC73cVdA4wnp88NSWkBCVhD0FptaQG1RCE521mJAmXO7EJefWkDH9kv8mhdhQHfofXU4GmFAq3GqgqTWYkDNzNOBeqRaQFen+vSiKFlAykNcMVSpWkCh4qeBXTBZQMer9qlTQl9ATB3Ea4PeX0Dx2dQ4pCJgQJRSr8hHrlpAk7KwjslTWkDSVe5qpDZZQNDL5MwFI2BAWxl2jw61WkAg4hACjOFfQBQhc6nFRF9AYNEwQwo+WUCJqOODdkVZQF+owOUAG2FAmqC4Qz8kYECMsy1XMONfQFGQVk3YSl9A4NGZIyolYEAiS3itwEpZQBlhf1U14FxAMgI89N+5WkBnkedUlCVgQPt5D00pvlpAZiJVQ5JQX0BBYmnh6NdiQD7l03V+w1pAS8mR68JSWUAWcfzdschaQBzH1GVSzVRAh5aFtClVX0BnnGv9/dliQN/meNPfHGFAAfN0L8clYEAAwSFG9c1aQErt2NOa0lpAXxrMHLEmYEDz4lIVzlpZQIfXaisaYVlAm/d9JKXXWkCRH0g6c91aQEyeNDj12mJAlUtFbMFqWUA9hj+3o9tiQCXM7Fg6dFdAtI7uaeTgWkBXmVSUdXBZQMPckG2zWV9AAmA34hgoYEDG4iLFsh9hQJPCd0gY5VpAKcGgXlxdX0DChsTVsihgQAIxToGxYV9A7YBAOoTlX0Bzxbo0heFcQGrgq4DwdVlAcZ7iEfvoWkBiM30de+JcQP2LBLaMVVpATo1NzQ8qYED855ObN2ZfQJ6z5FKVIGFAy/iAxVpoX0A2FG/AjSFhQO0XSm1O5l9Ap8nkeuV7WUBrT5Imv2tfQMCk53u0bl9A7JYjAT3jXECEvq5CditgQBpCuP5ugFlA4tO1gufNVEDuQHHChSxgQBvH9JBIhllA+IbQKb4iYUD2bcdxeuVcQGdqav3/519AWGJXUvUtYEB9H3p8v+xaQF6Uust0z1RAc1m1MlSLWUAUFYs+sPJaQFsdPrDGcl9AGBv3Ykn5WkAQqmFSHi5gQCZqFppeL2BAljln4Rx4X0BjGA+3mXVXQOxJjkZbI2FAiXpIUDb9WkAhNvJbjtxiQAb/eI12VlpAhTFolryQWUBEnsC1Qt5iQOH5Pai1AltATrMNKtmYWUAR4b4I5i9gQNDJ7KKtBltAmpi7RrswYEDaZDqASOZcQP/NCKPrI2FAdoUfAzcmYUCVoTouVuhcQG3Kr3sjollAlSg3XpmqWUBBS8oiLjFgQP4KPk3fel9AFm8OBJuwWUBVYYPO2ldaQP4jE/JH6lxAXmQPVLO2WUC7Dl00g95iQEwcbcKI61xAMjYancUnYUALJWPlMClhQAFWA7emKmFAMDi+Dkx/X0Cz+LdosQlbQOtKGB7AvllALcFsfDKDX0Aa7f0P+sNZQKbZHP7bDltAzUnExEAUW0AtlhqHxdBUQGnUcmhO6l9Ag6OH6cnrXEAMTXEFdDJgQOycK2/o4GJAuQWDsPwYW0Acq3dF68pZQE0tNWHrHFtAICgs8RgiW0DG3dJ83OFiQB/UynJVd1dAbidohyCIX0BnAR6d5yxhQFiwGYKc42JAsQLXFusyYEDT5vgmQi5hQFXj3P5aL2FAR5kkoxI0YECKA1seuVhaQBiqS+maJ1tAR8Z8TZLQWUAW5n/+MypbQMRZtyAd7FxA1qm125XZWUC6hNYGsYtfQHVMV57n5WJAQt29pD3fWUCrhz2V++1cQDX6zp+ELltA4H1PeJHsX0Cn75qjqDFhQKnUhIE371xA9+VadFLlWUCXr1QZEe5fQKXT2qGMM2FAYrwk/w2PX0BTrbpZ0TRgQI1pIBYNlF9AdmsmcneXX0Bb/DuhEnlXQHqRdG8kNWBA7KCSsmnmYkA7qygTyZpfQHaphYBhNWFA8LX/leXwXEAh9nksRutZQMAWpf0z8F9AhWUTKbc2YUB777wYrTRbQMsS3BQUWlpAIsrtRRzoYkBIc5kOYTpbQIj3MR3l8lxA8KGrCQc4YUChJKzKk/FfQI7eUtqiNmBAxVtutXrpYkBI15o7nT5bQJGO16kfOGBA4t88pUj0WUD7+dZptDlhQNWxOe4zn19AI4jHkERDW0CnX9lHT0hbQBiUCx2MeVdAkdLUyxtKW0B0TwtZhaBfQFPpfJs2OWBAxO7c+YDrYkB1buWRvUxbQFPWHtk0+1lAroJwt3cBWkDmrlDNstFUQGgFFq+CeldARVgbcDMIWkDOaLaXslJbQGuaooXR0lRA5sCY+9o5YEBGcWoQJfNfQPi0oLyW01RAPYbxavFYW0Av7UsLiHxXQFPmsuNeO2FA/7ckuG0QWkAMCcKCFvZcQGdfGgRY7WJAPhkNhTzuYkD5VXQg0u9iQO7W+H5PPWFAGzNQ2zLxYkD/mfM7vhZaQIeTptJtXltAKQ76IJr1X0BXZVTVNKNfQJfpDjK5PmFAXk6wWK3yYkBiiElLB0FhQLp28lwBHFpAisQVxzT4XEC+TZ+nTEFhQI37B/jIH1pAvaIYIak6YEBThjaGFUNhQGxwDup9YVtAVAMBbGylX0ATodrqOWZbQFMV3uiAW1pACFmjPAr3X0DvfyDOU/tcQEidSHVraltAhm09sztvW0DCYPy7WkRhQPLXTVbeO2BAEsBX2IZGYUB9JEoRYNVUQN9JAyrmql9AxbQWv1P0YkDlS5WNRkhhQADBd7lDdVtAdIWBS416W0BDNq2L+3tbQDdqCaFkgVtA3ozwO8T0YkBq6DIbDSZaQEJlPemQq19A/yHed+DVVEAfr+IPHPpfQPiuGIRpLFpAp989wQv1YkDWeVW0TfxcQCYf5bRTSWFAmNolz031YkC9T6ZqYvxfQGq1lW1R/VxAUOroyrV/V0CpTL03gUphQBifnnoMgVdAZl5WI0aIW0BXb3MGVExhQJG5pmQLAGBAxTeJWeuNW0DXfk9/ADFaQP0LqaM3r19ANjLdo+1cWkAl7scIWk5hQDYCUcfdPGBAKkeus3iyX0AWq6GFnjZaQMezlIgPPmBAlXKf2+M8WkDIgN3ogP9cQKbVFb10T2FAztuN7tv/XEDuJKvxIT9gQDzJ5LIRQVpAUPtFhNe0X0C8JVvka/ZiQIcLYx6ZUWFAdA6IbyiTW0Cb92NybdZUQN5XZjUBmFtAFwGRMNVHWkDsMEXhu01aQFIClzFC2FRAnMwx5Va4X0A/1VS9aLxfQM552mE5QGBA5biQAj9TYUDYPcXeNsJfQEvqr+50QGBAklvTZv1eWkB8WGu4OcZfQPmNmqAxm1tAXp/sCARTWkDI+q0KIvhiQJTfUOuoyl9A6f1qypYAXUDU4vzlrVpaQPv+8M11AWBAhFyXyhTQX0ClZxfvmAFdQCGrKY1A+mJATFl4TWVhWkCBYJ+/PtRfQBIFs7co+2JAXWWIb4ECYECJkBwKbmZaQOV2SZypVGFA9nIkqMmfW0AquSSU8G5aQPAHHp6mVmFAFWLAwwBYYUDr9mGUsPxiQAtdt6CN119AWzOdBs5yWkBWIfKQx3paQOXIWtdp/WJAlQqGz7B+WkCkf6CZ/1hhQKrIMKsBhFpAIwykTVgDYECsIwQVnWBaQJ4NxQDs/WJAd+4kk+3+YkC1Isu2yQNgQF+Kodo43F9AUNcPG2nZVECQPHVizlphQProCm70YVpAwbuT55fhX0D76zBU++VfQOZL6XeYXGFAJT39VpZiWkDemFrf7EFgQH0mKEIwBWBAzxT4Gd9CYEBqwy9dBNtUQDyxhyF16l9AWgex1YljWkCIeItTcABjQGzOMTsQhFdAkd1/Ch0CY0B3Kt70DgNdQNHhZKlrjFpAnAlaYBMGYEBUgTyJWQJjQJI1yzUmRGBA7TE7rwsEY0Bu94ULiwdgQH4iijeFlVpAQ5SHfYRkWkCNJqzGVmZaQKCHubiRXmFAnWdIyyCdWkBL5Vm6yqJaQCoSzPJY3FRACHQuphOoWkCjqOIsUIZXQKSnt3taYGFAnQTZ3uKIV0DFGzI+XK9aQOIc6pdEYWFAmjg/g5NhYUAKNgECCadbQCawOZMTZ1pA9g1cF1y5WkBiZVbsAqxbQK54pJM87V9AfLhRLhEFXUD/QxSlNwddQBRE8c6rCGBAF1gN+jVjYUBmo9LWYERgQLuhW3Nhv1pACRStjvOxW0CBgNBJUcVaQDHutFuvZWFAFNxhH2jyX0ApiIqBVGZhQI1jzr8OCF1AyXX9/A1FYEDhKklj7fZfQIZ6oUDKCV1A+W+KlUj7X0DuG/NcEWhhQP1a+iUrzVpAiVrUQO3UWkAkJ0wFFtxaQDSmhInvtltAnTwhgDsLXUCAhqaGFAZjQAr34poDRmBAXGj5J/v+X0DTbi2AKuJaQOLxh6XdvltAhcQ7CSQBYECWIZvlZWlhQIIbkqOaB2NAN+UrimnoWkDb3wVLfANgQNQtOL/x7VpAf3TrJCH0WkCwtvLbDGphQJr31MMUbGFAT2y6Cnz6WkCfBdQ5YG1hQHyYzq+Mb2FA/RzwBlMHYEC706iMoQhjQDgpS/02CmBAllMxMOPAW0Cw9CPJXsZbQJCrNZhSCmNA1oiA9osLY0Dbb2SpAglgQKdGwpAcCmBAqLPYqHRyYUAjyIbwNXRhQLDRm4W5DGBADoe1J2hGYEAyILdtbg5gQOXox8RsdWFAC1ptLrOJV0Csy2KBNQ1jQP5tUkoLzFtALzypLywQYEC7wJtxXA9jQGYtKi37D2NAWDyn2gLSW0C5uLCcXhJgQJl4vm9pi1dAUg19/t7+WkBJ8jlVl0dgQOmJkGapFGBA8KWZHVJ2YUAsq4swgxBjQExTwPxVF2BAa5bvmpQLYEBoPEFE3BFjQPvQ0CSc1FtAvYsWGorZW0ALcZS8fGhaQDeNZuf1dmFAKKnQsZRJYEA23RXLngxdQCyCHGOGE2NAeUNyvR0aYEDzVyAFjxpgQIlhZy084FtAojc2OBwMYEDlHSFf/wVbQNKfhBIjD11Aq8iUdPB4YUBoIauAzeRbQCMj958W7FtASih2Wdx6YUCoQVFJxXxhQJqi2/2RHGBA545Wc0QeYEBvcK9IIn5hQBKiPSzmDVtAGQAqSJAgYEBeEBqwYw1gQHrMI1CqD11AVKKWRPRJYECIWjSBt0tgQO6YiCQNFWNAFZcMs/R/YUB3f/wLQBRbQNdSLU33IWBAmDcKA+PdVEAgoLCDYExgQIsmOvEPEV1A2sFIrvQaW0DTlV8xBPFbQNHe/xPyFmNAeNKhaEokYEDnNccRcfVbQBwQEtofJmBAzKvxolyNV0C8HiBy04BhQOOubmKMH1tAvBEseqEmYEBnBhtAfhFdQK/l+LPk+VtALzNPSe8kW0D86ZnSYStbQD/zGJ0rMFtAfIdgyLnfVEC/WA4/vuBUQELYF8zC/FtA+TO4NzGCYUAn64q7OSlgQO42tki3gmFAMX130RSDYUD82Q3P+gJcQAIsJZ2nCFxAM7ZzE64NXEAuDGh1oxdjQHxTZaRPhGFAC7Zl23Q1W0CfEX5S/DtbQO3SD9k/DmBAXcf2RtI/W0Bv4X12kkxgQEnfPOgUE11A2TeGYX+QV0AehbMtc01gQLI36ETyhWFAfSybQ8NEW0DXLgvzehRcQKSh+mEeTFtAFGXA4FlOYECTKKACS+FUQPVFuFGjUltAMGxClzcZXEABNS1Z3ilgQJpKF3ziDmBAhD9ZIyAsYEBDNF3dMh5cQGvDo/19h2FAsmHEahbiVECgK0Zj71pbQK1tEyeDT2BAgCbpu5dQYEBC18QUkyJcQJapRVuXiGFALnyM0vpfW0BYBMFdoBVdQOLOSwLlGGNAQHG2dLgPYEDQSzpVYGdbQLDmXjApGWNAQoePvoJtW0BHzx8yaS9gQE2ZU/APi2FAOdbOSfd0W0CSyFpv1npbQF4/x3HLL2BARlk7L80lXEASpvFwsDFgQI9CyrdOjGFAQ4e3fxCTV0D58T6H0ypcQIztYcOijWFAFAn1Pa6CW0AATnFIdC5cQGZD0v1VF11AUTFoIH8RYED18aSsphpjQPStVmDmEmBAsq2c2s0zYEBTddrOzjJcQCQCzC3Yk1dAxuFoHkGJW0BXEhGfODZcQO7qTGV1jmFACNprBNPjVEA+atJOXTVgQCdHUx6qaVpAr7h/n48TYEDvRGn3ZhVgQDT9eqY/5FRA/16GDqgZXUDVLEK63zZgQJK99/LeOWBAWepfInU6XEDx5Lq20j5cQH/ampo3FmBA2TPCfd5pWkAuPg5nTpFhQOthn84ck2FAIGzhPh6WV0AdIvczfRdgQKRMadCgRlxAZuw0lPJQYEA3wq9OUTtgQE4nM98UkltA+zm2W/gbY0AKZK9TCkxcQI/ksQWxUmBAZ+5Hq20+YED8KNuuu2taQPcOKvE8bVpAULys1PZTYEBywoe2EB1dQKyRkQ/HlGFActLApJMYYEAezQtGGFFcQAO1ZsucmVtAoKUKlKZVXEAbcJbGFUFgQJK4bpdPWVxA4U20Av0fXUASGWDbeR1jQHX72lP3XlxAFpDYDdIgXUDIgeZ6zm5aQM29qWblGWBAddavp7VhXEApGBQRfh9jQIFrNghgQ2BAKbVrM2CVYUDxT2g+9HBaQIL7/EVgG2BAR/KxxsFkXECnx0ctCXJaQE5goCl8c1pAX+shKTFqXEDj10Jk+XBcQGbicq8Fo1tA6BNLiBMjXUAfk383+h9jQLi9OWwSd1xA6e1AuHyXYUAJf1WHXCNdQP7jNvkQVWBAXoO/FWxVYEAnPRJP/XRaQBSb9Y3PHGBAvh4p1wYeYEAcAZg26VVgQIpk128TRWBAbNQq/C1HYEBG3MUiJ0lgQKBQD5PMqltAXKi40nUfYEAxwsh3j0tgQKdndqkpmGFAziNUPfh2WkD8frCjM3daQGLK0jajfFxAVRFWbIglXUAZTW4sOyBjQOq84HcTmmFA8pNeEUaXV0A8RSVpb0xgQC/6wIvZJV1AVZ/3FOivW0DYsB2xZihdQLsoBp6AglxAxNS2OKi0W0BDiLqJGSFjQBaK6xU0hVxAFdqAa04iY0B0Ly9uJk9gQBKcpFRpnGFAlL0X8QmZV0DqUmqS3yNjQNMnThTIuFtAN23v3Zm+W0CGjO9CTiBgQD3/m+jiJWNAFvcjvSPHW0Cy+2kvLFdgQJzgL3SkJmNAqarhGM6dYUCYampRGs5bQFCiWlQAmldAWcoK/XgoY0ADJmM+V6BhQJWrjhCUKl1AvoVdeJ5QYECwIvbj5tNbQOfR650homFA95e1zE4pY0AE/QtMsixdQGhCCpv/hlxAtpUct7tSYED9QbE1cSpjQM7bMcu2VGBA6gUe/jbZW0CCE6cwLy5dQGSDn54cWGBA/K0Q/RGkYUDeTUTfsytjQNWPJy8hWmBA7GTIFI9cYEB6POCL0IlcQKAr3BgJLGNAScsqOLPfW0A0ta3spzBdQBEs/HTud1pAdYrrNmelYUBmcVnv8uZbQC4ij8hoXmBA2HfrlLaPXEDMoPMCau5bQOUIB5tu9FtAzxIuYjWnYUDnqIy4GCFgQFgduLtGLGNAi7qmXJd4WkAFGp8l1WFgQEonpSXrlVxAWlkm594tY0CybMgmyphcQPyrfNLy+VtAvAi1z2dkYEDlAicbSGVgQOqVYCMAZ2BAyPQsPBsxXUAay/MPzWhgQPMJJQ2RL2NAERy/4vh6WkARIdBcTiJgQLLvgMt2MWNA3aUZtCJpYEBOTZ8kqqhhQBIE1P0ua2BAEQOEErkyY0DUBtOeajJdQAfCHXwPn1xA8f4CUz4FXECVQfc37aRcQJyCj2bmMl1ANxDdsMQKXEB2teginRFcQPdj9KT65FRAoTcp9cUzY0AIZ06qEqhcQDw/8xK7qmFAQ2O3a2IWXEAkodUfNKpcQJudJcbHG1xAbxubqGCsYUCyvSidsFdgQEVW6ifTm1dAu4bM10qtYUD0bIHEblhgQNTR8OLpbWBAwX7mKFY0XUDAmW/PcXBgQOZJ6hD0IFxAEFtM7NQjYEBcutCDLnJgQFOxqfpMNWNAH96iG+8oXEBJqMjbWDZjQLuBK/aPdGBAUyxf/UQ3Y0A2QDYroq9hQABH2zZarlxAFUxgfxV2YEBExlDZerNcQImp/uRxsWFAA7nmu0g3XUDHkrpnuCRgQGY1+OFVOGNAmwGsx8B2YEAQOTSZXDFcQL1VsuG9uFxAxM8E4wc3XECrau/gczpjQDV/wvlyOV1AUCRLu/Z4YEBs6EqdXHtaQLO2f7WMO2NA46sUBxS7XECWQpfdu1lgQPzvle1/fFpAvVUzFh97YEDBMs4Snj9cQO9wr6de5lRA6pO5uTY8Y0C+IC4Lyj1jQJzT7mljfWBAKdUfkVxaYEBEUDIyJMFcQPOa83hJf2BA+nzTMLizYUA87zZvNztdQC/K79aKRlxAuoPF8DNNXEA4tj0t/OZUQOsBMN4DtWFARa3rgcM/Y0AUNfDEUOdUQNbb+JWqtmFAJKF1I0aBYEBhk8ocNMZcQDcDiCfNt2FA4BsZtPG5YUBmOob4u3xaQDBQktUOylxAQczIJzF9WkBEhETELVRcQNosQtqZQWNAomxZRyvNXEDsjpKHdtJcQDTIK7XdO11AqIHxInKCYEBi+8X4soRgQNAQKe20PV1AixgeMPxBY0AuRmERXH5aQPCLEDH9hmBACAuIet5bXEDoCpK+g4dgQGd8pz1t2FxAB/vNYD8lYEA7leYqPolgQPyuuTiMiWBA1XAPzQmLYEAILqg+mENjQPEwEenJjGBAjEMYd+vbXEB3kVHnm2JcQNkcj3q/umFAXK7VpRDdXEDsxTSDkb1hQBPF7yTfjmBAdLzTsgpsXEAzR1/gdL5hQAWMhqCMP11Al5pKwdS/YUDfCPhkPFtgQMToN4VC4VxAopmCJerAYUCt4xLAyiVgQE0GopAxRWNAdz35rThAXUDqLwHdC0JdQFBFLigtcFxAVIXSnTB1XEAHAr+H88JhQL6aWej0XGBA44a0glGRYEA0EHIpYcRhQAbXiQNj5lxAGAiECqRDXUDiMo/4opJgQNICv2nd7FxAnEa5nRwnYEDp7o6GS8VhQPcm6dVLnldAd3IrH2F/XEC7FgxZc8ZhQCXZDOnMXWBAbnebbmGGXEDEgfyJQyhgQIRDQmEIR2NAng2Y0cqLXEBFMe4TVJVgQJyLdvNoKWBAfzTiIE+gV0B1C8ltb5ZgQKeQi8aMlVxAL5CEcFdIY0AGR76+3J1cQP005orPqFxAT4gHew9JY0BfRnL7p+dUQFfczlnqSWNAJ6juhwvIYUCY00+af/BcQK9j2FbRlmBAxlrwp8SYYEBcYN5P4bBcQDsoJ+ptXmBAlzgq62zIYUCm/qEKyEpjQLwimd6hS2NAodYK9QrJYUDGf16o6ZpgQJOHNTe6oVdAQAZNC6qdYEDmVTKgUMthQH8GkfC1n2BAL7hn1PpDXUBl2fvF3fJcQGJDj6//+FxAxHNjTWWhYECfh9c+frdcQEzhId3twFxAnVhJ1MV+WkCkzitYnl9gQNLU7nAITWNASj82sdKjYEC7qW91pM1hQItykKxw/1xAIOPyrKTGXEA7TO+z5+hUQJBWkvX7zmFALizBJNSlYEADC2nSPahgQBAK30EbzVxAjEtdOeFfYEBvPgloYEZdQFPPlIru0GFAaFmtpLfUXEBpTsIV9k1jQHgaOUqwf1pA2sPIdx7pVECt65DyoYBaQHFn7FBCTmNACFHjpdbRYUBUUOsjg6pgQAuGDSggBF1A8ppfAy2rYEAfkMfOWypgQN0m+odSrWBAe53r5pSjV0BEtnsrStpcQLaf+R4f0mFA2P0YF0GuYECn1QmV5E9jQDRmoRQvYWBARIouKqUHXUAWBWbfM1BjQAHEIvgf1GFASaKImjJJXUDZemVhj+lUQILJBidzsGBAi9ar9pBQY0CnBjEEXepUQCpEzhtbK2BAXG4HvhbgXEAvZhK/W9VhQPo/LNdTDV1AQ/S2fwyzYEBWO9pmLtdhQC3AwoV25lxAADAzKOOBWkBxCMwCMINaQAZeN0R3hFpAjiBX8k+0YEDW7e20bhJdQL/PLeq3LGBAByDysazYYUAP3ivHhe1cQChWNglp22FAGFdCOHKFWkDsdX/WUPRcQMh0oBmm+lxAiushRGK2YEAVUvJq+blgQINlTW3HF11AIJMXLUUeXUBuS15Jv/9cQNDaXm0ivGBA7+ze9EBSY0DDzGCZCgVdQHzRJ3ynI11AGIsCWZ8KXUCapT6dU75gQD64/OlIv2BArJNbuXQQXUBxos3HYN1hQHnTybDRF11AZE+M/AelV0DCWuxMjN5hQE/0DMj94GFAUqFmV3YeXUA1zW5IyWFgQP7BmKpSwWBACmJ3cq7DYEAWYLuMp1NjQNsQz8j4hlpARqR60oviYUAJ3ASBKShdQJgm1Vm3JF1AsvHDDk4rXUD9kblZ7jBdQJwSLSRvLWBAQ5cgrl43XUDuioVUs+RhQEdccva/VGNARDFWUX1LXUAzLS5MGE5dQPsWwBO4LF1AiLgHSfkyXUDSwoBifcZgQOb7nbcpO11AFQwei4lBXUAyfV7jElVjQM8qMvEBSF1AzeF5REXJYEAGOdyVSMtgQD+WttMv5mFA7FoF8684XUDpGMC0ncxgQPDQQweM52FAGIw18FA/XUDSJmhl0elhQNRRtMlBSV1ANh8P0oxOXUDJX76PPethQGJQZww4pldA/WKgT41jYEAFx23Hg1BdQEPUhjH7zmBAPOkHMoRkYEDaah3IEdFgQHzlpDPsVl1Avt8pAmGoV0Affqh7ZOtUQEPLMHdbVF1AA5BJ0DlYXUAeGRUSz+xhQAgCafwtYF1AfSGWQVjtYUCRquUY69NgQEEOh5Ub1mBAUt39LbRmXUA7K4ocV1VjQE+ichhH7mFAOeuZPJrXYEAcjbkaSWZgQEPNb71eb11A",
          "dtype": "f8"
         },
         "yaxis": "y"
        },
        {
         "hovertemplate": "Actual_Payment_Period=Apr-21<br>Reg_Month=%{x}<br>Cum_Sum=%{y}<extra></extra>",
         "legendgroup": "Apr-21",
         "marker": {
          "color": "#19d3f3",
          "symbol": "circle"
         },
         "mode": "markers",
         "name": "Apr-21",
         "showlegend": true,
         "type": "scattergl",
         "x": {
          "bdata": "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",
          "dtype": "i4"
         },
         "xaxis": "x",
         "y": {
          "bdata": "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",
          "dtype": "f8"
         },
         "yaxis": "y"
        },
        {
         "hovertemplate": "Actual_Payment_Period=May-21<br>Reg_Month=%{x}<br>Cum_Sum=%{y}<extra></extra>",
         "legendgroup": "May-21",
         "marker": {
          "color": "#FF6692",
          "symbol": "circle"
         },
         "mode": "markers",
         "name": "May-21",
         "showlegend": true,
         "type": "scattergl",
         "x": {
          "bdata": "CQAAAAgAAAAIAAAACwAAAAoAAAAMAAAACQAAAAsAAAAMAAAACgAAAAoAAAAJAAAACAAAAAkAAAAEAAAACQAAAAkAAAAIAAAADAAAAAoAAAAIAAAACAAAAAgAAAAMAAAACwAAAAcAAAAIAAAACwAAAAoAAAAJAAAADAAAAAsAAAAMAAAACAAAAAgAAAAKAAAADAAAAAgAAAAGAAAACwAAAAwAAAAEAAAACQAAAAsAAAALAAAACgAAAAoAAAAKAAAACwAAAAwAAAAFAAAACwAAAAgAAAAEAAAADAAAAAgAAAAMAAAADAAAAAwAAAAKAAAACwAAAAkAAAAMAAAACAAAAAwAAAAIAAAABwAAAAUAAAAMAAAABAAAAAsAAAAMAAAACwAAAAsAAAAEAAAACwAAAAsAAAAJAAAACQAAAAgAAAALAAAADAAAAAsAAAAMAAAACgAAAAcAAAALAAAADAAAAAYAAAALAAAABwAAAAwAAAAMAAAACgAAAAwAAAAFAAAACwAAAAsAAAAKAAAACAAAAAsAAAAMAAAACwAAAAgAAAAJAAAACwAAAAsAAAAGAAAADAAAAAwAAAALAAAACwAAAAgAAAAMAAAACAAAAAQAAAALAAAACgAAAAYAAAAKAAAACgAAAAUAAAAMAAAACwAAAAkAAAAJAAAABwAAAAwAAAAKAAAABQAAAAYAAAAGAAAADAAAAAUAAAAHAAAABgAAAAsAAAAMAAAACwAAAAoAAAALAAAABgAAAAoAAAAEAAAACwAAAAgAAAAMAAAACAAAAAsAAAAMAAAABgAAAAsAAAAJAAAACQAAAAUAAAAMAAAADAAAAAoAAAAMAAAABQAAAAwAAAAFAAAACQAAAAkAAAAKAAAACwAAAAwAAAAKAAAADAAAAAsAAAALAAAABwAAAAYAAAALAAAADAAAAAsAAAALAAAABAAAAAoAAAAIAAAACQAAAAYAAAAMAAAACwAAAAoAAAAIAAAADAAAAAUAAAALAAAABwAAAAkAAAAFAAAADAAAAAcAAAAJAAAACgAAAAoAAAAKAAAABAAAAAYAAAAIAAAACgAAAAUAAAAMAAAABwAAAAkAAAALAAAACAAAAAsAAAAFAAAACQAAAAYAAAAIAAAACwAAAAYAAAAMAAAACQAAAAoAAAALAAAACwAAAAgAAAALAAAADAAAAAQAAAAMAAAACwAAAAYAAAAHAAAACwAAAAQAAAAJAAAADAAAAAUAAAAIAAAACAAAAAgAAAAIAAAADAAAAAsAAAAHAAAACgAAAAkAAAAIAAAACQAAAAwAAAAFAAAADAAAAAYAAAAKAAAACwAAAAcAAAAFAAAACwAAAAsAAAAJAAAACQAAAAoAAAAIAAAACQAAAAsAAAALAAAACwAAAAsAAAAMAAAABwAAAAwAAAAFAAAABwAAAAQAAAAEAAAACwAAAAkAAAAHAAAACwAAAAwAAAAKAAAACQAAAAoAAAAMAAAADAAAAAUAAAAKAAAACAAAAAsAAAALAAAADAAAAAwAAAAKAAAACgAAAAYAAAAJAAAACgAAAAoAAAALAAAADAAAAAgAAAAKAAAADAAAAAcAAAAKAAAABQAAAAgAAAAMAAAACgAAAAgAAAAHAAAADAAAAAkAAAALAAAADAAAAAkAAAAIAAAACgAAAAwAAAAMAAAADAAAAAwAAAAHAAAACAAAAAgAAAAKAAAACQAAAAoAAAAJAAAABwAAAAYAAAAKAAAACAAAAAQAAAAIAAAABQAAAAwAAAAHAAAABgAAAAgAAAAHAAAADAAAAAkAAAAMAAAADAAAAAwAAAAEAAAACQAAAAQAAAAMAAAACQAAAAsAAAALAAAABQAAAAUAAAAHAAAADAAAAAsAAAAMAAAACQAAAAoAAAAFAAAACgAAAAUAAAAKAAAACQAAAAwAAAAMAAAADAAAAAsAAAAFAAAACAAAAAYAAAAKAAAADAAAAAsAAAAJAAAACAAAAAwAAAAKAAAADAAAAAwAAAAJAAAADAAAAAkAAAAKAAAACAAAAAcAAAALAAAACwAAAAgAAAAIAAAACgAAAAkAAAAJAAAACgAAAAoAAAAEAAAACAAAAAsAAAAKAAAACAAAAAsAAAAKAAAABAAAAAwAAAAGAAAACgAAAAoAAAAHAAAACAAAAAsAAAAFAAAACAAAAAoAAAALAAAADAAAAAUAAAAJAAAACwAAAAkAAAAJAAAACgAAAAoAAAAJAAAADAAAAAoAAAAGAAAABgAAAAgAAAAJAAAADAAAAAYAAAAFAAAADAAAAAsAAAAIAAAACgAAAAsAAAAKAAAABAAAAAwAAAALAAAADAAAAAwAAAAMAAAACwAAAAkAAAAKAAAACwAAAAsAAAALAAAADAAAAAwAAAAMAAAABQAAAAQAAAAJAAAADAAAAAwAAAAGAAAACwAAAAcAAAAKAAAACwAAAAkAAAAMAAAABgAAAAYAAAALAAAADAAAAAgAAAAMAAAADAAAAAoAAAAJAAAADAAAAAwAAAAKAAAABAAAAAsAAAAMAAAACwAAAAUAAAAHAAAACAAAAAcAAAAKAAAACwAAAAwAAAALAAAABQAAAAoAAAALAAAACwAAAAcAAAAEAAAABwAAAAsAAAAGAAAADAAAAAgAAAALAAAABgAAAAoAAAAGAAAABQAAAAkAAAAHAAAACwAAAAwAAAALAAAACwAAAAUAAAAIAAAACwAAAAcAAAALAAAACAAAAAcAAAALAAAACwAAAAwAAAAFAAAACAAAAAsAAAAGAAAABgAAAAYAAAAHAAAABwAAAAYAAAAMAAAABwAAAAoAAAALAAAABQAAAAkAAAAMAAAABQAAAAsAAAAMAAAACAAAAAsAAAAIAAAACQAAAAQAAAAIAAAADAAAAAwAAAAHAAAACAAAAAwAAAAGAAAACQAAAAwAAAAIAAAACQAAAAUAAAAKAAAADAAAAAkAAAAIAAAABQAAAAoAAAAIAAAADAAAAAUAAAAKAAAACQAAAAgAAAAKAAAACgAAAAwAAAAFAAAADAAAAAoAAAALAAAADAAAAAwAAAAJAAAABwAAAAsAAAAIAAAADAAAAAoAAAAKAAAABQAAAAgAAAAHAAAACAAAAAgAAAAFAAAADAAAAAsAAAAMAAAADAAAAAsAAAAJAAAADAAAAAsAAAAMAAAACQAAAAYAAAAEAAAABgAAAAUAAAAMAAAABwAAAAoAAAAIAAAADAAAAAgAAAAKAAAACAAAAAkAAAALAAAACwAAAAkAAAAFAAAABwAAAAgAAAAMAAAACwAAAAwAAAAIAAAABQAAAAoAAAALAAAACgAAAAwAAAAIAAAACgAAAAYAAAAJAAAADAAAAAwAAAAJAAAACAAAAAsAAAAJAAAACQAAAAsAAAAMAAAACAAAAAsAAAAKAAAABQAAAAgAAAAMAAAACwAAAAcAAAAKAAAACgAAAAgAAAAKAAAACwAAAAwAAAAJAAAACgAAAAwAAAAFAAAACQAAAAYAAAALAAAACQAAAAgAAAAFAAAADAAAAAkAAAALAAAABQAAAAoAAAALAAAABwAAAAkAAAAEAAAADAAAAAYAAAAMAAAABwAAAAgAAAAMAAAACgAAAAcAAAAEAAAADAAAAAwAAAAMAAAACAAAAAkAAAALAAAACgAAAAwAAAAIAAAABAAAAAoAAAAKAAAACwAAAAsAAAAKAAAADAAAAAwAAAAGAAAACAAAAAoAAAAJAAAACwAAAAwAAAAKAAAADAAAAAUAAAAMAAAACAAAAAkAAAAKAAAACwAAAAoAAAAHAAAACgAAAAQAAAAMAAAACgAAAAgAAAALAAAACQAAAAUAAAAKAAAABwAAAAwAAAAJAAAACwAAAAoAAAAJAAAADAAAAAoAAAALAAAABwAAAAwAAAAMAAAADAAAAAoAAAAKAAAACwAAAAsAAAAMAAAACAAAAAwAAAALAAAADAAAAAoAAAAMAAAACQAAAAwAAAAEAAAACQAAAAoAAAAKAAAACAAAAAkAAAAMAAAACwAAAAcAAAALAAAACAAAAAUAAAAFAAAADAAAAAwAAAAKAAAACwAAAAsAAAALAAAACgAAAAoAAAAJAAAADAAAAAoAAAAJAAAADAAAAAkAAAAMAAAACwAAAAQAAAAGAAAADAAAAAYAAAAKAAAADAAAAAQAAAALAAAACwAAAAwAAAAJAAAACgAAAAwAAAAIAAAACQAAAAoAAAAGAAAADAAAAA==",
          "dtype": "i4"
         },
         "xaxis": "x",
         "y": {
          "bdata": "VUoj2/+BYkCL2cyWHcBjQJGgOvvTwGNAe30vcm+hX0DKkA38i8RhQJTSrhAnYGBAs96RpGeDYkDyvkq7tKVfQPqZMOOvYmBA9+RAwbLGYUCEUrOBU8hhQJbSymDZhGJAqP2uzBnCY0DiLznguYViQBwzxQHW2ldA2HrZ1YSHYkCMfKu9Q4hiQHiXCfv1wmNAH1mJ1StlYEBoi0FlcMlhQGfvLT4UxGNAI4QdqPDEY0B4zkrPj8VjQEFDrlHGZmBAaPWGJY+pX0DPSH+W9GNgQJ+kXQIcx2NAVwc6jeitX0A4Gm/y3sphQEOxsuxviWJAJza97shoYEDI3ncx87JfQFO1huHgamBAK/Ux+2jIY0DslwsEFMljQNgZj0rGzGFA+/qtIsBtYEDkY7pGbMpjQCmGrXXPk2BAOnZdFHW0X0DVs5hCkHBgQAw4I6YL3FdANSySaDSKYkBj9T4b0rVfQLDH7seVt19AUIZFoJDNYUCam4+boc5hQDEM32Cnz2FAXuyT37S6X0CQhdZBpnJgQCnsqW6zoF1AfHxAUxq9X0CRAnKNpMtjQH+GNz9m3FdAafltppxzYEAl7xggNcxjQI9l89a1dGBARnqNh+Z1YEAKM+0eu3hgQCYsNUbk0GFAI89wirbCX0DzqWtvV4tiQH3rBB7semBA7HEc/GXNY0A4E2l5AH1gQK8/OeEgzmNA3FoNGOFkYEBFzDDInaJdQOLYK971fmBAL9rSWBDdV0CrhQx508ZfQKpnKnQGgmBAa1Kf9SfIX0DwSHxZAMxfQF3S6A6j3VdAxRY+RnjPX0BxpZNUuNFfQKJnE7iujGJADdv3AJuNYkDk4GPoB89jQNqoMIsI1l9AVbtc6g2EYEDZ7BAUzthfQCDDdyQ/h2BAcPIjh+LRYUAXhookAmZgQJdmRgWb2l9AH8tDdiuLYED3cMXTYZRgQEgY+LZM3F9AWlAXPflmYEAmVpK9yYxgQPALv82kjmBAxb/mpgLUYUCXFcI/JpFgQPdG5AxvpF1AsfZczV7dX0CB/xX7HuFfQAx82Rbf1WFA6NQUMgTQY0DgzlC28eNfQIx2Ko5PlGBAyCJpjhDnX0CSjKjoWtFjQC6q+GCyjmJAsnKO9lPsX0CH/CCbC/BfQA8qC/gclWBA9ryaWFKWYECJ5OvzBphgQCKo2jW39V9AHby/QJ74X0B4jnEjUtJjQO6TSCWDmWBAWV6HIa/TY0DpdVHy195XQEArZnAP/F9AGQulB9jWYUBndAnPGJZgQC+y0mzv2GFALDoopj7ZYUCNQ0fWnqZdQDQ8rSKenGBAmemQWp39X0BU+GHdHJBiQDiJsYGRkWJAWucgcMNnYEDziRV2mp5gQD6lfQRO2mFAoAqUnSKoXUDVbaYfuJZgQEvK+Xosl2BAH9qe2eCgYEBjAL35sapdQNgCgfVTaGBA9lZbzDeYYEDSDoVxUABgQOYK32SPomBAeTvl8WQBYEBqNU3Kd9thQGAKCyW0A2BASAWZzC2ZYEA2ga0b5NxhQLALODxj4FdAWhhox3IFYEBLtuBzJNRjQC2FJEdrpGBAWB2OFcjUY0Cf/mU/jAZgQGY1mdlupWBAzyAHhQ+aYEB2vR31ZQdgQBSUTXgSk2JA7G+7W6SUYkAOOD3Zk6xdQEWnL7ngp2BACpOAde+oYEAAV1Z4cd5hQMsez7vvqWBAoOBM1lOuXUDm3XnCcapgQL8QpCnUrl1ADyPy0bSVYkB4h4AaAZdiQACA3R+s32FA6FQD2OcIYECJF/z0dKxgQOgOejAX4WFAfafNVOWuYEAG8a8qjQlgQA6RiDeICmBAR02W0iZpYECaIq5nVZtgQDdgrse9DGBACc2MrdevYEAc6tpzuQ1gQMino/QNEGBAU5L3iZTgV0B46DizUuJhQP7g6dyW1WNAQCbSRrKYYkDg+8CCKJxgQGCOThjJsWBARz6XXAcRYECaRT48FuNhQBrmOpwB1mNAQj70dzy0YEBCbbbFgrBdQMZ2uCBXE2BAIFnVRMxpYEDsY96uJppiQKfOelNAsV1Ac4TNp522YEA2dsFCcmtgQKK9eWSAm2JAuZKxu1PjYUA5bx3qd+VhQItvHqQJ5mFAcSYwIXPhV0Ab0lcjpZxgQM3kk7rE1mNARhyfhwjnYUDvr/Vn7rJdQDbQUE4iuWBAMuRLlDVsYEBkHyhvdJxiQEk9qbWuE2BAFsIej3LXY0A9XiCzGxVgQJIwcAS7s11As0yaV3CdYkB3lkycJJ1gQLhTn/7Q2GNAPbdgvioWYEB47g4E451gQJYtFf6iu2BAifm818eeYkA640F8ZOhhQOky2x9/F2BAUosuInEYYEC4LMcP6NljQETZNgXCGWBAUMoiI668YEDAlzqzaeJXQFSrh4rnvWBAuODnOEccYEDwuzF8sJ5gQIQKKzf+bGBAQnDEAmcdYEBGvT5/keJXQC7SE8ckoGJAw+1vHLjAYEDSte1J6rVdQOJnE21W22NAuCEG7jrcY0A1SqBVSd1jQEDpPum+3WNAg4LdTRbDYEBSOtAZnx5gQAD6Qg9nbWBAK25mOrzpYUAsp4ywu6FiQEO3Jy3S3mNAzOqraPaiYkABDt0nMcVgQPM3Mvalt11AatBn9RTHYEBGFpjxAp9gQCszg9Ma6mFAnI8pWrEgYEBvnxcdH25gQKWVt3k1uV1AvOgQJT0jYEDYrFinZyVgQDvFcZ47pGJAK9EsEGelYkCTbeWyzOthQMs/sLUa4GNAGURltYanYkBrl9vatCVgQJGDiQt4J2BA+VufKy8oYED2/+QvRClgQEpyEb45yWBAdH1XR7xuYEDoa0et7slgQF0qFWX9uV1Aw025dN9vYEBRvB2/oONXQP3ES3rG5FdANG0HO1gsYECf6I7K7ahiQKnTf4R9cGBAlDbajhcuYEAY58wsZMpgQDG5BR7l7GFAUwgkS2+pYkBO9G2wCO5hQA76pnjMzGBAKphtNjHOYEAoboLjt7pdQFUYWQ2C7mFA11gXEnrgY0CHCXG0HTBgQLdwSrFRMmBAIabYFeLPYEBHgdtKp9FgQPwAz71B8GFAFA+hBN7wYUCLgMFz959gQK2UwPl2qmJAdsK/3FnxYUDugIE/f/JhQPKAQJ5GM2BALDrcl8rTYEDPJMZU0uFjQLlTbVXQ8mFAVPs2jFjWYEBo8THWGHFgQCo4NyFl9GFA5NcuCLq7XUD7/AOW4eJjQM6+08Ok2GBAATonHFH2YUBN4V2eJuRjQPwKlUiqcmBAieMYZMPaYEBuarDmDqxiQBnbL3mwNGBAZQxGDl3dYEDqdOQiSK1iQCbTDHuu5WNAyziJhHn3YUDEWNF1x99gQGhLZfVb4mBAw/tqUAzlYEDJ6Q11f+ZgQOSABjsAc2BA3xd3pDDmY0C3+NY2MudjQEJiztgb+WFAlWw1x8KuYkCvi7rw7/phQPJ0XaS8r2JAKYNxW9dzYEDWfSrwmKBgQBp4199t/GFAwD0Kl/PnY0CnXJVaSOZXQKjnysPh6GNAjQ9D5SS8XUCE2pLRLOlgQOfGE+bndGBA2bizyP2hYED0P8rWuuljQBtTw6MRdWBABEbyaSbqYEDbiE0PZbBiQBmS95097WBAuQsf8TXvYEBRz/Z/B/JgQHZDC1HI51dA3OhMUP2wYkA0QKgoluhXQAOcN2Gf82BApHEycQ6yYkCM49S1MjdgQGpTTH4xOGBAkNb8ASa9XUCpx1tYtr5dQFIX5+RxdWBAJCbZr671YEA27v+u+TlgQAU4MZ40+GBADF5k4tezYkD+kss4Wv1hQOymPNocwF1A4y9tjQL/YUDEIWxIGsFdQNlaO9aQAGJA2K91QWi1YkDPFG0etPpgQKs00cYg/WBAAWNaypb/YEBdRe2YRjxgQNvj64eLwl1AL61qqgnrY0DmBUjoLqJgQAGLNHcLAmJAO9D6nZ0BYUDTrm1cRD1gQL2R7G/ttmJAMEJWx4/sY0Dk1iTiNwRhQCKiGmAHBGJAVlrDXW4GYUDffyiOmAhhQPn/toYWuGJAc7deNJ4KYUDACv2AVLliQIZkzikwBmJAMXhzzuHtY0Atg6pHmnZgQK1fwiFHPmBAEVJQo44/YEAxMez8VO9jQIdhj9I08GNAWCgUrW8IYkBWGIJ9yLpiQNEsMMWJvGJA0X5Iv58JYkA8YaKQ6AliQP6qIYya6VdAM8qqQYnxY0BspA8yFEJgQDl9lFKmC2JA1X6kgl/yY0AKn0ExiURgQCM+MX91DWJA533LMvLpV0DzLfJ/DgthQIQ7Cn/GomBAuhlR4z0PYkBdPsRx9A9iQHqeE6/xdmBA6Vk2idLyY0ATxTttYkZgQCKAkheHxF1Aq4AFRb/zY0Bh7tExKxBiQGCTHhuAR2BAApYC8MQLYUAXkiVNasZdQAnwNlvsvWJAdSzHAZ9JYEAKZRyqlr9iQP8pnOvswGJAtJMvriwRYkD8zH0nQRJiQJxVqzNDw2JAGi9yVq4MYUDIbbUKyRNiQN0tlqSFo2BAoCfhoe6kYEAj+Hy8ZvRjQO/o2WgsxGJAq/4RUb0NYUA4bV2kl6VgQHPk6XKvyF1ALp+0Ki0PYUAq1Ppat0pgQHMPMIN39WNAc0uvbgYVYkDHxXBJYUtgQE7J5jKxFmJAtEqY/27qV0AZuW+jKhFhQKudiRqbTWBAPvvfFtwTYUDdBo9C6RVhQIGwbkmWF2FA/XuN3fZNYEAS9XlH9MRiQEknDooeGGJA+bR+T09OYEBVotz36k5gQA4enVFQUGBANOEBmegYYUAaIsda4BthQONz/TuaHWFAhG5bVALKXUDkpyThK+tXQAWg1rCnxWJAjJfgyyEhYUDuE6uAlSNhQDKNyw8ipmBAw1nlKaFRYEA8OFmpa3dgQG8S9dS/GWJAATwJaANTYECZ3J9E5MZiQMnfjMHHJWFAfhH1sramYEACpfqPY6dgQKXR0nuTVGBAFonFvDgnYUCHkPEh+PVjQP78cB0SKWFARTnhqtArYUDS6v6s6BpiQL7RU/2JyGJAAw2xza0tYUAYu/iuCC9hQCwelCzbG2JANlxegEXsV0B0cyn/Y1ZgQDhLn6L+MGFAnpCWZPtYYECCF3pUDM1dQEQYMv9OeGBAqGETO0v3Y0CWVimfAnlgQIciiI0QHWJAUdPWfaRbYEB9ekTspjFhQPxcPsPHXGBATiXUXDXOXUC2hrVb0B1iQMrXIcuvXmBAx+byVoFfYEB/dGZZLHlgQNjj7VSv7FdAcewF3Vp5YEDnhX6qU2BgQOlqRmi+p2BAz4DiWnQyYUAUvG8le/hjQLlZ4FHzYWBAJdSNhL2oYED44SvAOyBiQH4y863+qGBA+8ubuojPXUCuXZCN9MhiQH3j5vj5eWBAp9OvFExkYEDq30dhQTRhQJAp3iIgZWBAkzGckKxmYEBUne/iFNFdQBTL3TEj+mNAAdCpBWpoYEC/O56heHpgQIE9lC/JaWBA07bC3GD7Y0AsC3NZ13pgQJ87hKdEa2BA5K03phNtYEApSKIVLThhQP216uDm0V1AyTEuA937Y0CzOH6o0W5gQJcTUPwmqWBA+LLYGIKpYECxoPJDL6pgQLFtyT0lfGBA5YDWnTV9YEAwny2vgqpgQK035A1MOmFAGgSx8a99YEDxg9cxCSFiQM+6lx+/b2BAm0sCGBbTXUASEDUx08liQDX4MkC3O2FAVXdMnCDVXUDstbPXnHFgQNhI3cHTPWFADCqoy0D9Y0AxluEiJ3JgQJ1taZJ+/WNA8DaGG0PLYkCJo9jkNu1XQOSVDEoE/mNAf5E0A7Y+YUAv9zaSh0BhQDkv2kVSfmBA0M2+k0//Y0DzG2d4zkJhQCAby+l0q2BA0szhQVrNYkCIhB2R90NhQB3A9udvAGRA1BbJvt/OYkCUdcdm2tVdQAsXtoNLImJA9jsPwaRGYUCXdFnE2c9iQFKvLy23AGRA4dYKV8fXXUAItzUDJCNiQKsggsh4AWRAxDSZx/hHYUBf7aU7RNldQGEEfHi1JGJAnsQJRI7QYkCLLBVyuwJkQJoKwMC3JWJAeAov+AonYkBqsJyRvUlhQFSoaSWo2l1AbyHP2vJKYUC6x/Wr5ChiQIKHL5Dfc2BAsSF3yzpNYUC6M0//R09hQOKqe+To0WJAUnZB44R+YEBWR0FayHVgQI6+iBSrBGRAlTJHx79RYUCcwO/i8yliQFXi++vXK2JAHkgpzeHaXUA30Lt+1gRkQFkKon64fmBA0FQFF1sGZECmYr5JQQdkQCpazy8x3F1A9PxXNylTYUA6pzfJP3dgQOfT7j3rVGFAtdQipUVXYUBD/4RrMXhgQFSgOpd102JAmyuKSahZYUBH3nBUjHhgQDMLkvQKWmFA7RPv8t7UYkB1yB58JaxgQEtlUV8G7ldAWc8jt0KtYECr1TQ93t1dQHb6UtATW2FA2DU/at1/YEDGVbzNiSxiQOu93o1mCGRAsHeNh/RcYUAtJYflJQlkQCxGWNFjLmJAMmdS9psJZEDFGzY9HNZiQNhWg/5cemBAbRtX07p8YEB4g+RW6tZiQGHAJl6r311A/EBV6QqAYECwCwpv4wpkQEfwEAekXmFAjlTM3r19YECjoisjSGBhQFKmhW7yC2RAXJjSEivhXUDLUkyeMS9iQFOfeKMIfmBAswVzrY0vYkARQ/8pgmFhQK0bvIdCDWRARwTwjxAxYkDsYaxq461gQJ50K3Cs12JA2tuL8xpkYUBmecPjomZhQNaecH8n2WJAMqP6znEOZEDpK3Wf+35gQFHqZ6MZ2mJARasLxJLbYkD60IXZTX9gQDjFrrEDaWFAteit4McPZEAGyO8+N4FgQBEjLjVEMmJAg+rR4KDhXUA/yndhWxBkQKqp7CDDamFAYMrZ1aCCYEAd9d5lToBgQIKmn67XMmJAqT9VK8YzYkC83wFw9xFkQLtX1jzeNGJAPJZs3zWDYECEQCPFXW1hQNPI65mR3GJAw/zNi2M1YkDDbsMAJ25hQCUf7CpE411AOBzXevHdYkCuN4vwna5gQBirD2a1hGBARWSpfy7fYkB9tW7pMRJkQOtvUOHs5F1ATZZduj9xYUBo02bqouBiQCJ86vKYhmBAeVOJbxDmXUALR0DMhDZiQNIZ2zKfiGBA8fqTMt+AYEDTkKCkd+JiQE7jUIUV71dABK4ZlERyYUDRVVzxma9gQEKv9acEdGFA778W/duBYECHLsyNRBNkQKc2n3PSdWFAhTle5bo3YkDp5ZXnBYJgQOrDde7C8FdAKAmM4IR2YUCbO7NTt3lhQIEHgndDemFAr+TvmioUZEBi/SPjl+RiQI1sUryyimBAmh3DzYc5YkCRfV66LHxhQMUI524EFWRAzCSyqyrxV0AqjZkOUTpiQC44Dz43PWJAwMVv2UaMYECRyKbtHI1gQJ/8Z8kHP2JARXvJSnJ9YUDjvmm1gn9hQJF4p2kcsGBAXXRizKMVZEAQjf4PE0FiQAqtUfGt5WJAK6t4j3SPYEA4xxgRCIJhQIxWj9RQQWJAKr2kZRWFYUCF973+f+ZdQKtW+amHh2FAbcVEOkIWZEB3TSX45+ViQErkEJPeQmJA/QfdPMqPYECZCcuCM0NiQGzq5sL4gmBAO2S6vSdEYkBhvCyXLfJXQEYi0/o5iGFA/rO+JdVFYkBDu548MRdkQCCkvdfmkWBATk19IRPnYkARfj20sehdQF2ze2cNR2JAckRqaXiDYECeXTksn4phQKoS033Y52JArs6KMcGTYEBpy16pg0hiQJkCvnyH6GJAsFxUHU+MYUDTuTVIDkliQNHLvANhlWBAVycCnc+DYEDqQkqgx41hQDTqagHbj2FAVE4T7leSYUBHnbbWK0piQIzQHmr3S2JAs5jgSGKXYECAO2QGIphgQNJ++l9BlGFAoyjbaWsYZEA4P/v315VhQCc/KzR1mmBAanQJjDGYYUBwSgHW+U1iQJvM0VYjmmFAbkSWVq3pYkCHTGRTFZ1hQNzolFyK8ldAA37C5JfqYkBTfB+5K1BiQJAva78OUmJALyqz1P4ZZED+bf8GdetiQFNu2x83n2FA93ooSPWbYEA0agHXhoRgQJ2siGL4nWBAiY1FKd8aZEAN7McFdepdQCbpz29R7F1Aodc5HMGgYUAEwItpUaJhQJkoNd6RU2JANkHS+4yfYEBIRyLr8KFgQP+as5tlo2BA09wi3+BUYkAGz6pXtVZiQE95MIbx7GJAQR8+WFGkYUCI6C09xldiQFRl2qz27WJAjCuKl/mlYUB1MvB+U+9iQFxCezofp2FAduyn5pOlYEDaxH8cOPNXQGW34JN/sWBAt6QBrO2nYUBZKQScn7JgQNQzeYjRWGJAy4Bc8/ypYUCxaPBZwvNXQGkr9VYgp2BAbQyfjvSnYEByqcF9T6thQBPrcSM48GJAiiQNUNNaYkAm99rgt6thQKWXyNSrG2RAT6y8ZZ7xYkBESltN8ltiQKnEIRjrsmBAJFTA21etYUA=",
          "dtype": "f8"
         },
         "yaxis": "y"
        },
        {
         "hovertemplate": "Actual_Payment_Period=Jun-21<br>Reg_Month=%{x}<br>Cum_Sum=%{y}<extra></extra>",
         "legendgroup": "Jun-21",
         "marker": {
          "color": "#B6E880",
          "symbol": "circle"
         },
         "mode": "markers",
         "name": "Jun-21",
         "showlegend": true,
         "type": "scattergl",
         "x": {
          "bdata": "CQAAAAgAAAAIAAAACwAAAAoAAAAMAAAACQAAAAsAAAAMAAAACgAAAAoAAAAJAAAACAAAAAkAAAAJAAAACQAAAAgAAAAMAAAACgAAAAgAAAAIAAAADAAAAAcAAAAIAAAACwAAAAoAAAAJAAAADAAAAAsAAAAMAAAACAAAAAgAAAAKAAAADAAAAAgAAAAGAAAACwAAAAwAAAAJAAAACwAAAAoAAAALAAAADAAAAAUAAAALAAAACAAAAAwAAAAIAAAADAAAAAwAAAAMAAAACgAAAAsAAAAJAAAADAAAAAwAAAAIAAAABQAAAAwAAAALAAAADAAAAAsAAAALAAAACQAAAAkAAAAIAAAACwAAAAwAAAALAAAADAAAAAcAAAALAAAADAAAAAsAAAAHAAAADAAAAAwAAAAKAAAABgAAAAwAAAAFAAAACwAAAAoAAAAIAAAACwAAAAwAAAALAAAACAAAAAkAAAALAAAACwAAAAYAAAAMAAAADAAAAAsAAAAIAAAABgAAAAoAAAAFAAAADAAAAAkAAAAJAAAADAAAAAoAAAAFAAAABgAAAAYAAAAMAAAABQAAAAYAAAALAAAADAAAAAoAAAALAAAABgAAAAoAAAALAAAACAAAAAwAAAAIAAAACwAAAAwAAAAGAAAACQAAAAkAAAAFAAAADAAAAAwAAAAKAAAADAAAAAUAAAAFAAAACQAAAAkAAAAKAAAACwAAAAwAAAAKAAAADAAAAAsAAAAHAAAABgAAAAgAAAALAAAADAAAAAsAAAALAAAACgAAAAgAAAAJAAAABgAAAAwAAAAIAAAADAAAAAUAAAALAAAABwAAAAkAAAAFAAAADAAAAAcAAAAJAAAACgAAAAoAAAAGAAAACAAAAAUAAAAMAAAABwAAAAkAAAALAAAACAAAAAsAAAAFAAAACQAAAAYAAAAIAAAABgAAAAwAAAAJAAAACgAAAAgAAAAMAAAADAAAAAYAAAALAAAACQAAAAwAAAAFAAAACAAAAAgAAAAIAAAADAAAAAkAAAAIAAAACQAAAAwAAAAFAAAADAAAAAYAAAAHAAAABQAAAAsAAAAJAAAACQAAAAoAAAAIAAAACQAAAAsAAAAMAAAABwAAAAUAAAAHAAAACwAAAAkAAAAHAAAACwAAAAoAAAAJAAAACgAAAAwAAAAMAAAABQAAAAgAAAALAAAADAAAAAwAAAAKAAAACgAAAAYAAAAJAAAACgAAAAwAAAAIAAAADAAAAAoAAAAIAAAADAAAAAoAAAAIAAAABwAAAAwAAAAJAAAACwAAAAwAAAAJAAAACAAAAAoAAAAMAAAADAAAAAwAAAAMAAAABwAAAAgAAAAKAAAACQAAAAoAAAAJAAAABwAAAAYAAAAKAAAACAAAAAUAAAAHAAAABgAAAAgAAAAMAAAACQAAAAwAAAAMAAAADAAAAAQAAAAJAAAADAAAAAkAAAALAAAABQAAAAUAAAAMAAAACwAAAAwAAAAJAAAACgAAAAUAAAAKAAAABQAAAAoAAAAJAAAADAAAAAwAAAAMAAAACwAAAAUAAAAIAAAABgAAAAoAAAAMAAAACwAAAAkAAAAIAAAADAAAAAoAAAAMAAAADAAAAAkAAAAMAAAACQAAAAoAAAAIAAAABwAAAAsAAAAIAAAACgAAAAkAAAAJAAAACgAAAAgAAAALAAAACgAAAAgAAAALAAAACgAAAAYAAAAKAAAACgAAAAcAAAAIAAAACwAAAAUAAAAIAAAACwAAAAwAAAAFAAAACQAAAAsAAAAJAAAACQAAAAoAAAAJAAAADAAAAAoAAAAGAAAABgAAAAgAAAAJAAAADAAAAAYAAAAFAAAADAAAAAsAAAAIAAAACgAAAAsAAAAKAAAADAAAAAsAAAAMAAAADAAAAAwAAAAJAAAACgAAAAsAAAALAAAADAAAAAwAAAAMAAAABQAAAAkAAAAMAAAADAAAAAYAAAAHAAAACgAAAAsAAAAJAAAADAAAAAYAAAAGAAAACwAAAAwAAAAMAAAADAAAAAoAAAAJAAAADAAAAAwAAAAKAAAACwAAAAwAAAALAAAABQAAAAcAAAAIAAAABwAAAAoAAAALAAAADAAAAAsAAAAFAAAACwAAAAsAAAAGAAAACAAAAAsAAAAGAAAACgAAAAYAAAAFAAAACQAAAAcAAAALAAAADAAAAAsAAAALAAAABQAAAAgAAAALAAAABwAAAAsAAAAIAAAABwAAAAsAAAALAAAADAAAAAUAAAAIAAAACwAAAAYAAAAGAAAABgAAAAcAAAAHAAAABgAAAAwAAAAKAAAACwAAAAUAAAAJAAAADAAAAAUAAAALAAAADAAAAAgAAAAJAAAACAAAAAwAAAAIAAAADAAAAAYAAAAJAAAACAAAAAkAAAAFAAAACgAAAAwAAAAJAAAABQAAAAoAAAAIAAAADAAAAAUAAAAKAAAACQAAAAgAAAAKAAAACgAAAAwAAAAFAAAADAAAAAoAAAALAAAADAAAAAwAAAAJAAAACAAAAAwAAAAKAAAACgAAAAUAAAAIAAAACAAAAAgAAAAFAAAADAAAAAsAAAAMAAAADAAAAAkAAAAMAAAACQAAAAYAAAAGAAAABQAAAAcAAAAIAAAADAAAAAgAAAAKAAAACAAAAAkAAAALAAAACwAAAAkAAAAFAAAACAAAAAsAAAAMAAAACAAAAAUAAAAKAAAADAAAAAgAAAAKAAAABgAAAAkAAAAMAAAADAAAAAkAAAAIAAAACwAAAAkAAAAJAAAADAAAAAgAAAALAAAACgAAAAUAAAAIAAAADAAAAAsAAAAKAAAACAAAAAoAAAALAAAADAAAAAkAAAAKAAAABQAAAAkAAAAGAAAACQAAAAgAAAAFAAAADAAAAAkAAAALAAAABQAAAAoAAAALAAAACQAAAAYAAAAMAAAABwAAAAgAAAAKAAAABwAAAAwAAAAJAAAACwAAAAoAAAAMAAAACAAAAAoAAAAKAAAACwAAAAsAAAAKAAAADAAAAAwAAAAGAAAACAAAAAoAAAAJAAAACwAAAAwAAAAMAAAABQAAAAwAAAAIAAAACQAAAAoAAAAHAAAACgAAAAoAAAAIAAAACwAAAAkAAAAFAAAABwAAAAwAAAAJAAAACwAAAAoAAAAJAAAADAAAAAoAAAALAAAADAAAAAwAAAAKAAAACgAAAAsAAAAMAAAACAAAAAwAAAALAAAADAAAAAoAAAAMAAAACQAAAAwAAAAJAAAADAAAAAoAAAAKAAAACAAAAAkAAAAMAAAACwAAAAcAAAALAAAACAAAAAUAAAAFAAAADAAAAAwAAAAKAAAACwAAAAoAAAAKAAAACQAAAAwAAAAMAAAACQAAAAsAAAAGAAAABgAAAAoAAAAMAAAACwAAAAsAAAAMAAAACQAAAAoAAAAIAAAACQAAAAoAAAAGAAAADAAAAA==",
          "dtype": "i4"
         },
         "xaxis": "x",
         "y": {
          "bdata": "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",
          "dtype": "f8"
         },
         "yaxis": "y"
        },
        {
         "hovertemplate": "Actual_Payment_Period=Jul-21<br>Reg_Month=%{x}<br>Cum_Sum=%{y}<extra></extra>",
         "legendgroup": "Jul-21",
         "marker": {
          "color": "#FF97FF",
          "symbol": "circle"
         },
         "mode": "markers",
         "name": "Jul-21",
         "showlegend": true,
         "type": "scattergl",
         "x": {
          "bdata": "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",
          "dtype": "i4"
         },
         "xaxis": "x",
         "y": {
          "bdata": "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",
          "dtype": "f8"
         },
         "yaxis": "y"
        },
        {
         "hovertemplate": "Actual_Payment_Period=Aug-21<br>Reg_Month=%{x}<br>Cum_Sum=%{y}<extra></extra>",
         "legendgroup": "Aug-21",
         "marker": {
          "color": "#FECB52",
          "symbol": "circle"
         },
         "mode": "markers",
         "name": "Aug-21",
         "showlegend": true,
         "type": "scattergl",
         "x": {
          "bdata": "CQAAAAgAAAALAAAACgAAAAwAAAAJAAAACwAAAAwAAAAKAAAACgAAAAkAAAAJAAAACQAAAAwAAAAKAAAACAAAAAwAAAAHAAAACAAAAAsAAAAKAAAADAAAAAsAAAAIAAAACgAAAAwAAAAIAAAACwAAAAwAAAALAAAADAAAAAgAAAAMAAAACAAAAAwAAAAMAAAACgAAAAsAAAAMAAAACAAAAAwAAAALAAAADAAAAAsAAAALAAAACQAAAAgAAAALAAAADAAAAAsAAAAMAAAABwAAAAsAAAAHAAAADAAAAAoAAAAMAAAACwAAAAoAAAAIAAAACwAAAAwAAAALAAAACAAAAAkAAAALAAAADAAAAAwAAAALAAAACgAAAAwAAAAMAAAACwAAAAoAAAALAAAACgAAAAsAAAAMAAAACwAAAAkAAAAMAAAACgAAAAkAAAALAAAADAAAAAoAAAAMAAAABwAAAAsAAAALAAAACAAAAAkAAAAMAAAADAAAAAsAAAAHAAAACQAAAAwAAAAHAAAACQAAAAoAAAAMAAAABwAAAAgAAAAJAAAACQAAAAoAAAAIAAAACwAAAAwAAAAIAAAACAAAAAwAAAAJAAAACAAAAAkAAAAMAAAABwAAAAsAAAAJAAAACQAAAAoAAAAJAAAACwAAAAwAAAAHAAAABwAAAAsAAAAJAAAABwAAAAsAAAAJAAAACgAAAAwAAAAIAAAACwAAAAwAAAAKAAAACgAAAAwAAAAIAAAADAAAAAoAAAAIAAAADAAAAAoAAAAIAAAABwAAAAwAAAALAAAACAAAAAoAAAAMAAAADAAAAAwAAAAHAAAACAAAAAoAAAAJAAAACgAAAAkAAAAHAAAACAAAAAcAAAAIAAAADAAAAAwAAAAMAAAACQAAAAwAAAAMAAAACQAAAAoAAAAKAAAACgAAAAwAAAAMAAAADAAAAAsAAAAIAAAACgAAAAwAAAAKAAAADAAAAAwAAAAMAAAACQAAAAoAAAAIAAAABwAAAAsAAAAIAAAACgAAAAkAAAAKAAAACAAAAAsAAAAKAAAACAAAAAsAAAAKAAAACgAAAAoAAAALAAAACAAAAAsAAAALAAAACQAAAAoAAAAKAAAACAAAAAoAAAAKAAAADAAAAAsAAAAMAAAACgAAAAsAAAAMAAAADAAAAAcAAAAKAAAACwAAAAwAAAAKAAAACQAAAAwAAAAKAAAACwAAAAwAAAAHAAAACAAAAAcAAAAKAAAACwAAAAsAAAAIAAAACwAAAAoAAAALAAAADAAAAAsAAAALAAAACAAAAAcAAAALAAAACAAAAAcAAAALAAAACwAAAAgAAAALAAAABwAAAAwAAAAKAAAACQAAAAsAAAAMAAAACAAAAAgAAAAMAAAACAAAAAkAAAAIAAAADAAAAAkAAAAKAAAACgAAAAkAAAAIAAAACgAAAAoAAAAMAAAADAAAAAkAAAAIAAAADAAAAAoAAAAKAAAACAAAAAgAAAALAAAADAAAAAkAAAAHAAAACAAAAAwAAAAIAAAACgAAAAkAAAALAAAACwAAAAwAAAAKAAAACAAAAAoAAAAMAAAADAAAAAkAAAAJAAAADAAAAAgAAAALAAAACgAAAAsAAAAKAAAACAAAAAoAAAAMAAAACgAAAAkAAAAMAAAACQAAAAsAAAAKAAAACwAAAAoAAAAHAAAACAAAAAkAAAALAAAACgAAAAoAAAAKAAAACAAAAAoAAAAJAAAADAAAAAwAAAAIAAAACgAAAAoAAAALAAAACQAAAAcAAAAMAAAACQAAAAsAAAAKAAAADAAAAAoAAAAMAAAACgAAAAoAAAALAAAADAAAAAgAAAAMAAAACwAAAAwAAAAKAAAACQAAAAwAAAAJAAAACgAAAAgAAAAMAAAACwAAAAsAAAAKAAAACwAAAAoAAAAJAAAADAAAAAkAAAAJAAAACwAAAAoAAAALAAAACQAAAAoAAAAKAAAA",
          "dtype": "i4"
         },
         "xaxis": "x",
         "y": {
          "bdata": "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",
          "dtype": "f8"
         },
         "yaxis": "y"
        }
       ],
       "layout": {
        "legend": {
         "title": {
          "text": "Actual_Payment_Period"
         },
         "tracegroupgap": 0
        },
        "margin": {
         "t": 60
        },
        "template": {
         "data": {
          "bar": [
           {
            "error_x": {
             "color": "#2a3f5f"
            },
            "error_y": {
             "color": "#2a3f5f"
            },
            "marker": {
             "line": {
              "color": "#E5ECF6",
              "width": 0.5
             },
             "pattern": {
              "fillmode": "overlay",
              "size": 10,
              "solidity": 0.2
             }
            },
            "type": "bar"
           }
          ],
          "barpolar": [
           {
            "marker": {
             "line": {
              "color": "#E5ECF6",
              "width": 0.5
             },
             "pattern": {
              "fillmode": "overlay",
              "size": 10,
              "solidity": 0.2
             }
            },
            "type": "barpolar"
           }
          ],
          "carpet": [
           {
            "aaxis": {
             "endlinecolor": "#2a3f5f",
             "gridcolor": "white",
             "linecolor": "white",
             "minorgridcolor": "white",
             "startlinecolor": "#2a3f5f"
            },
            "baxis": {
             "endlinecolor": "#2a3f5f",
             "gridcolor": "white",
             "linecolor": "white",
             "minorgridcolor": "white",
             "startlinecolor": "#2a3f5f"
            },
            "type": "carpet"
           }
          ],
          "choropleth": [
           {
            "colorbar": {
             "outlinewidth": 0,
             "ticks": ""
            },
            "type": "choropleth"
           }
          ],
          "contour": [
           {
            "colorbar": {
             "outlinewidth": 0,
             "ticks": ""
            },
            "colorscale": [
             [
              0,
              "#0d0887"
             ],
             [
              0.1111111111111111,
              "#46039f"
             ],
             [
              0.2222222222222222,
              "#7201a8"
             ],
             [
              0.3333333333333333,
              "#9c179e"
             ],
             [
              0.4444444444444444,
              "#bd3786"
             ],
             [
              0.5555555555555556,
              "#d8576b"
             ],
             [
              0.6666666666666666,
              "#ed7953"
             ],
             [
              0.7777777777777778,
              "#fb9f3a"
             ],
             [
              0.8888888888888888,
              "#fdca26"
             ],
             [
              1,
              "#f0f921"
             ]
            ],
            "type": "contour"
           }
          ],
          "contourcarpet": [
           {
            "colorbar": {
             "outlinewidth": 0,
             "ticks": ""
            },
            "type": "contourcarpet"
           }
          ],
          "heatmap": [
           {
            "colorbar": {
             "outlinewidth": 0,
             "ticks": ""
            },
            "colorscale": [
             [
              0,
              "#0d0887"
             ],
             [
              0.1111111111111111,
              "#46039f"
             ],
             [
              0.2222222222222222,
              "#7201a8"
             ],
             [
              0.3333333333333333,
              "#9c179e"
             ],
             [
              0.4444444444444444,
              "#bd3786"
             ],
             [
              0.5555555555555556,
              "#d8576b"
             ],
             [
              0.6666666666666666,
              "#ed7953"
             ],
             [
              0.7777777777777778,
              "#fb9f3a"
             ],
             [
              0.8888888888888888,
              "#fdca26"
             ],
             [
              1,
              "#f0f921"
             ]
            ],
            "type": "heatmap"
           }
          ],
          "histogram": [
           {
            "marker": {
             "pattern": {
              "fillmode": "overlay",
              "size": 10,
              "solidity": 0.2
             }
            },
            "type": "histogram"
           }
          ],
          "histogram2d": [
           {
            "colorbar": {
             "outlinewidth": 0,
             "ticks": ""
            },
            "colorscale": [
             [
              0,
              "#0d0887"
             ],
             [
              0.1111111111111111,
              "#46039f"
             ],
             [
              0.2222222222222222,
              "#7201a8"
             ],
             [
              0.3333333333333333,
              "#9c179e"
             ],
             [
              0.4444444444444444,
              "#bd3786"
             ],
             [
              0.5555555555555556,
              "#d8576b"
             ],
             [
              0.6666666666666666,
              "#ed7953"
             ],
             [
              0.7777777777777778,
              "#fb9f3a"
             ],
             [
              0.8888888888888888,
              "#fdca26"
             ],
             [
              1,
              "#f0f921"
             ]
            ],
            "type": "histogram2d"
           }
          ],
          "histogram2dcontour": [
           {
            "colorbar": {
             "outlinewidth": 0,
             "ticks": ""
            },
            "colorscale": [
             [
              0,
              "#0d0887"
             ],
             [
              0.1111111111111111,
              "#46039f"
             ],
             [
              0.2222222222222222,
              "#7201a8"
             ],
             [
              0.3333333333333333,
              "#9c179e"
             ],
             [
              0.4444444444444444,
              "#bd3786"
             ],
             [
              0.5555555555555556,
              "#d8576b"
             ],
             [
              0.6666666666666666,
              "#ed7953"
             ],
             [
              0.7777777777777778,
              "#fb9f3a"
             ],
             [
              0.8888888888888888,
              "#fdca26"
             ],
             [
              1,
              "#f0f921"
             ]
            ],
            "type": "histogram2dcontour"
           }
          ],
          "mesh3d": [
           {
            "colorbar": {
             "outlinewidth": 0,
             "ticks": ""
            },
            "type": "mesh3d"
           }
          ],
          "parcoords": [
           {
            "line": {
             "colorbar": {
              "outlinewidth": 0,
              "ticks": ""
             }
            },
            "type": "parcoords"
           }
          ],
          "pie": [
           {
            "automargin": true,
            "type": "pie"
           }
          ],
          "scatter": [
           {
            "fillpattern": {
             "fillmode": "overlay",
             "size": 10,
             "solidity": 0.2
            },
            "type": "scatter"
           }
          ],
          "scatter3d": [
           {
            "line": {
             "colorbar": {
              "outlinewidth": 0,
              "ticks": ""
             }
            },
            "marker": {
             "colorbar": {
              "outlinewidth": 0,
              "ticks": ""
             }
            },
            "type": "scatter3d"
           }
          ],
          "scattercarpet": [
           {
            "marker": {
             "colorbar": {
              "outlinewidth": 0,
              "ticks": ""
             }
            },
            "type": "scattercarpet"
           }
          ],
          "scattergeo": [
           {
            "marker": {
             "colorbar": {
              "outlinewidth": 0,
              "ticks": ""
             }
            },
            "type": "scattergeo"
           }
          ],
          "scattergl": [
           {
            "marker": {
             "colorbar": {
              "outlinewidth": 0,
              "ticks": ""
             }
            },
            "type": "scattergl"
           }
          ],
          "scattermap": [
           {
            "marker": {
             "colorbar": {
              "outlinewidth": 0,
              "ticks": ""
             }
            },
            "type": "scattermap"
           }
          ],
          "scattermapbox": [
           {
            "marker": {
             "colorbar": {
              "outlinewidth": 0,
              "ticks": ""
             }
            },
            "type": "scattermapbox"
           }
          ],
          "scatterpolar": [
           {
            "marker": {
             "colorbar": {
              "outlinewidth": 0,
              "ticks": ""
             }
            },
            "type": "scatterpolar"
           }
          ],
          "scatterpolargl": [
           {
            "marker": {
             "colorbar": {
              "outlinewidth": 0,
              "ticks": ""
             }
            },
            "type": "scatterpolargl"
           }
          ],
          "scatterternary": [
           {
            "marker": {
             "colorbar": {
              "outlinewidth": 0,
              "ticks": ""
             }
            },
            "type": "scatterternary"
           }
          ],
          "surface": [
           {
            "colorbar": {
             "outlinewidth": 0,
             "ticks": ""
            },
            "colorscale": [
             [
              0,
              "#0d0887"
             ],
             [
              0.1111111111111111,
              "#46039f"
             ],
             [
              0.2222222222222222,
              "#7201a8"
             ],
             [
              0.3333333333333333,
              "#9c179e"
             ],
             [
              0.4444444444444444,
              "#bd3786"
             ],
             [
              0.5555555555555556,
              "#d8576b"
             ],
             [
              0.6666666666666666,
              "#ed7953"
             ],
             [
              0.7777777777777778,
              "#fb9f3a"
             ],
             [
              0.8888888888888888,
              "#fdca26"
             ],
             [
              1,
              "#f0f921"
             ]
            ],
            "type": "surface"
           }
          ],
          "table": [
           {
            "cells": {
             "fill": {
              "color": "#EBF0F8"
             },
             "line": {
              "color": "white"
             }
            },
            "header": {
             "fill": {
              "color": "#C8D4E3"
             },
             "line": {
              "color": "white"
             }
            },
            "type": "table"
           }
          ]
         },
         "layout": {
          "annotationdefaults": {
           "arrowcolor": "#2a3f5f",
           "arrowhead": 0,
           "arrowwidth": 1
          },
          "autotypenumbers": "strict",
          "coloraxis": {
           "colorbar": {
            "outlinewidth": 0,
            "ticks": ""
           }
          },
          "colorscale": {
           "diverging": [
            [
             0,
             "#8e0152"
            ],
            [
             0.1,
             "#c51b7d"
            ],
            [
             0.2,
             "#de77ae"
            ],
            [
             0.3,
             "#f1b6da"
            ],
            [
             0.4,
             "#fde0ef"
            ],
            [
             0.5,
             "#f7f7f7"
            ],
            [
             0.6,
             "#e6f5d0"
            ],
            [
             0.7,
             "#b8e186"
            ],
            [
             0.8,
             "#7fbc41"
            ],
            [
             0.9,
             "#4d9221"
            ],
            [
             1,
             "#276419"
            ]
           ],
           "sequential": [
            [
             0,
             "#0d0887"
            ],
            [
             0.1111111111111111,
             "#46039f"
            ],
            [
             0.2222222222222222,
             "#7201a8"
            ],
            [
             0.3333333333333333,
             "#9c179e"
            ],
            [
             0.4444444444444444,
             "#bd3786"
            ],
            [
             0.5555555555555556,
             "#d8576b"
            ],
            [
             0.6666666666666666,
             "#ed7953"
            ],
            [
             0.7777777777777778,
             "#fb9f3a"
            ],
            [
             0.8888888888888888,
             "#fdca26"
            ],
            [
             1,
             "#f0f921"
            ]
           ],
           "sequentialminus": [
            [
             0,
             "#0d0887"
            ],
            [
             0.1111111111111111,
             "#46039f"
            ],
            [
             0.2222222222222222,
             "#7201a8"
            ],
            [
             0.3333333333333333,
             "#9c179e"
            ],
            [
             0.4444444444444444,
             "#bd3786"
            ],
            [
             0.5555555555555556,
             "#d8576b"
            ],
            [
             0.6666666666666666,
             "#ed7953"
            ],
            [
             0.7777777777777778,
             "#fb9f3a"
            ],
            [
             0.8888888888888888,
             "#fdca26"
            ],
            [
             1,
             "#f0f921"
            ]
           ]
          },
          "colorway": [
           "#636efa",
           "#EF553B",
           "#00cc96",
           "#ab63fa",
           "#FFA15A",
           "#19d3f3",
           "#FF6692",
           "#B6E880",
           "#FF97FF",
           "#FECB52"
          ],
          "font": {
           "color": "#2a3f5f"
          },
          "geo": {
           "bgcolor": "white",
           "lakecolor": "white",
           "landcolor": "#E5ECF6",
           "showlakes": true,
           "showland": true,
           "subunitcolor": "white"
          },
          "hoverlabel": {
           "align": "left"
          },
          "hovermode": "closest",
          "mapbox": {
           "style": "light"
          },
          "paper_bgcolor": "white",
          "plot_bgcolor": "#E5ECF6",
          "polar": {
           "angularaxis": {
            "gridcolor": "white",
            "linecolor": "white",
            "ticks": ""
           },
           "bgcolor": "#E5ECF6",
           "radialaxis": {
            "gridcolor": "white",
            "linecolor": "white",
            "ticks": ""
           }
          },
          "scene": {
           "xaxis": {
            "backgroundcolor": "#E5ECF6",
            "gridcolor": "white",
            "gridwidth": 2,
            "linecolor": "white",
            "showbackground": true,
            "ticks": "",
            "zerolinecolor": "white"
           },
           "yaxis": {
            "backgroundcolor": "#E5ECF6",
            "gridcolor": "white",
            "gridwidth": 2,
            "linecolor": "white",
            "showbackground": true,
            "ticks": "",
            "zerolinecolor": "white"
           },
           "zaxis": {
            "backgroundcolor": "#E5ECF6",
            "gridcolor": "white",
            "gridwidth": 2,
            "linecolor": "white",
            "showbackground": true,
            "ticks": "",
            "zerolinecolor": "white"
           }
          },
          "shapedefaults": {
           "line": {
            "color": "#2a3f5f"
           }
          },
          "ternary": {
           "aaxis": {
            "gridcolor": "white",
            "linecolor": "white",
            "ticks": ""
           },
           "baxis": {
            "gridcolor": "white",
            "linecolor": "white",
            "ticks": ""
           },
           "bgcolor": "#E5ECF6",
           "caxis": {
            "gridcolor": "white",
            "linecolor": "white",
            "ticks": ""
           }
          },
          "title": {
           "x": 0.05
          },
          "xaxis": {
           "automargin": true,
           "gridcolor": "white",
           "linecolor": "white",
           "ticks": "",
           "title": {
            "standoff": 15
           },
           "zerolinecolor": "white",
           "zerolinewidth": 2
          },
          "yaxis": {
           "automargin": true,
           "gridcolor": "white",
           "linecolor": "white",
           "ticks": "",
           "title": {
            "standoff": 15
           },
           "zerolinecolor": "white",
           "zerolinewidth": 2
          }
         }
        },
        "xaxis": {
         "anchor": "y",
         "domain": [
          0,
          1
         ],
         "title": {
          "text": "Reg_Month"
         }
        },
        "yaxis": {
         "anchor": "x",
         "domain": [
          0,
          1
         ],
         "title": {
          "text": "Cum_Sum"
         }
        }
       }
      }
     },
     "metadata": {},
     "output_type": "display_data"
    }
   ],
   "source": [
    "px.scatter(mom_indi_pay_duo,x='Reg_Month',y='Cum_Sum',color='Actual_Payment_Period')"
   ]
  },
  {
   "cell_type": "code",
   "execution_count": null,
   "metadata": {},
   "outputs": [
    {
     "data": {
      "text/plain": [
       "0        0.033068\n",
       "3041     0.073485\n",
       "4555     0.176364\n",
       "6059     0.268220\n",
       "7563     0.334356\n",
       "9061     0.393144\n",
       "10557    0.451932\n",
       "12053    0.529091\n",
       "13348    0.576856\n",
       "14751    0.602576\n",
       "16230    0.646667\n",
       "Name: Percent_Paid, dtype: float64"
      ]
     },
     "execution_count": 69,
     "metadata": {},
     "output_type": "execute_result"
    }
   ],
   "source": [
    "mom_indi_pay_duo[mom_indi_pay_duo['AccountId']==5000]['Percent_Paid'].cumsum()"
   ]
  },
  {
   "cell_type": "code",
   "execution_count": null,
   "metadata": {},
   "outputs": [
    {
     "data": {
      "text/plain": [
       "[['Month', 'TotalValue']]"
      ]
     },
     "execution_count": 70,
     "metadata": {},
     "output_type": "execute_result"
    }
   ],
   "source": [
    "df_Account_upd[df_Account_upd['AccountId']==5000]\n",
    "\n",
    "[['Month','TotalValue']]"
   ]
  },
  {
   "cell_type": "code",
   "execution_count": 155,
   "metadata": {},
   "outputs": [
    {
     "data": {
      "text/html": [
       "<div>\n",
       "<style scoped>\n",
       "    .dataframe tbody tr th:only-of-type {\n",
       "        vertical-align: middle;\n",
       "    }\n",
       "\n",
       "    .dataframe tbody tr th {\n",
       "        vertical-align: top;\n",
       "    }\n",
       "\n",
       "    .dataframe thead th {\n",
       "        text-align: right;\n",
       "    }\n",
       "</style>\n",
       "<table border=\"1\" class=\"dataframe\">\n",
       "  <thead>\n",
       "    <tr style=\"text-align: right;\">\n",
       "      <th></th>\n",
       "      <th>Jan-20</th>\n",
       "      <th>Feb-20</th>\n",
       "      <th>Mar-20</th>\n",
       "      <th>Apr-20</th>\n",
       "      <th>May-20</th>\n",
       "      <th>Jun-20</th>\n",
       "      <th>Jul-20</th>\n",
       "      <th>Aug-20</th>\n",
       "      <th>Sep-20</th>\n",
       "      <th>Oct-20</th>\n",
       "      <th>Nov-20</th>\n",
       "      <th>Dec-20</th>\n",
       "      <th>Jan-21</th>\n",
       "      <th>Feb-21</th>\n",
       "      <th>Mar-21</th>\n",
       "      <th>Apr-21</th>\n",
       "      <th>May-21</th>\n",
       "      <th>Jun-21</th>\n",
       "      <th>Jul-21</th>\n",
       "      <th>Aug-21</th>\n",
       "    </tr>\n",
       "    <tr>\n",
       "      <th>Reg_Month</th>\n",
       "      <th></th>\n",
       "      <th></th>\n",
       "      <th></th>\n",
       "      <th></th>\n",
       "      <th></th>\n",
       "      <th></th>\n",
       "      <th></th>\n",
       "      <th></th>\n",
       "      <th></th>\n",
       "      <th></th>\n",
       "      <th></th>\n",
       "      <th></th>\n",
       "      <th></th>\n",
       "      <th></th>\n",
       "      <th></th>\n",
       "      <th></th>\n",
       "      <th></th>\n",
       "      <th></th>\n",
       "      <th></th>\n",
       "      <th></th>\n",
       "    </tr>\n",
       "  </thead>\n",
       "  <tbody>\n",
       "    <tr>\n",
       "      <th>1</th>\n",
       "      <td>11.152522</td>\n",
       "      <td>30.597051</td>\n",
       "      <td>46.314393</td>\n",
       "      <td>59.032953</td>\n",
       "      <td>69.083750</td>\n",
       "      <td>77.209749</td>\n",
       "      <td>83.517501</td>\n",
       "      <td>87.918451</td>\n",
       "      <td>90.697838</td>\n",
       "      <td>92.980298</td>\n",
       "      <td>94.656437</td>\n",
       "      <td>95.697399</td>\n",
       "      <td>96.500183</td>\n",
       "      <td>96.996652</td>\n",
       "      <td>0.000000</td>\n",
       "      <td>0.000000</td>\n",
       "      <td>0.000000</td>\n",
       "      <td>0.000000</td>\n",
       "      <td>0.000000</td>\n",
       "      <td>0.000000</td>\n",
       "    </tr>\n",
       "    <tr>\n",
       "      <th>2</th>\n",
       "      <td>0.000000</td>\n",
       "      <td>8.844764</td>\n",
       "      <td>26.425429</td>\n",
       "      <td>40.467653</td>\n",
       "      <td>51.529164</td>\n",
       "      <td>60.291254</td>\n",
       "      <td>67.036358</td>\n",
       "      <td>71.959857</td>\n",
       "      <td>75.240338</td>\n",
       "      <td>77.537034</td>\n",
       "      <td>79.354819</td>\n",
       "      <td>80.819782</td>\n",
       "      <td>81.888117</td>\n",
       "      <td>82.730993</td>\n",
       "      <td>83.407376</td>\n",
       "      <td>83.683366</td>\n",
       "      <td>0.000000</td>\n",
       "      <td>0.000000</td>\n",
       "      <td>0.000000</td>\n",
       "      <td>0.000000</td>\n",
       "    </tr>\n",
       "    <tr>\n",
       "      <th>3</th>\n",
       "      <td>0.000000</td>\n",
       "      <td>0.000000</td>\n",
       "      <td>12.550718</td>\n",
       "      <td>35.006029</td>\n",
       "      <td>52.388635</td>\n",
       "      <td>66.301095</td>\n",
       "      <td>77.330829</td>\n",
       "      <td>85.788223</td>\n",
       "      <td>92.022914</td>\n",
       "      <td>96.177814</td>\n",
       "      <td>99.065119</td>\n",
       "      <td>101.600842</td>\n",
       "      <td>103.526531</td>\n",
       "      <td>104.787870</td>\n",
       "      <td>105.701465</td>\n",
       "      <td>106.361115</td>\n",
       "      <td>0.000000</td>\n",
       "      <td>0.000000</td>\n",
       "      <td>0.000000</td>\n",
       "      <td>0.000000</td>\n",
       "    </tr>\n",
       "    <tr>\n",
       "      <th>4</th>\n",
       "      <td>0.000000</td>\n",
       "      <td>0.000000</td>\n",
       "      <td>0.000000</td>\n",
       "      <td>10.560694</td>\n",
       "      <td>29.962428</td>\n",
       "      <td>45.728108</td>\n",
       "      <td>58.140872</td>\n",
       "      <td>68.185365</td>\n",
       "      <td>75.908771</td>\n",
       "      <td>81.803122</td>\n",
       "      <td>86.145704</td>\n",
       "      <td>88.893580</td>\n",
       "      <td>91.265217</td>\n",
       "      <td>92.985536</td>\n",
       "      <td>94.152034</td>\n",
       "      <td>95.019247</td>\n",
       "      <td>95.619626</td>\n",
       "      <td>95.811667</td>\n",
       "      <td>0.000000</td>\n",
       "      <td>0.000000</td>\n",
       "    </tr>\n",
       "    <tr>\n",
       "      <th>5</th>\n",
       "      <td>0.000000</td>\n",
       "      <td>0.000000</td>\n",
       "      <td>0.000000</td>\n",
       "      <td>0.000000</td>\n",
       "      <td>14.818807</td>\n",
       "      <td>40.037202</td>\n",
       "      <td>59.559998</td>\n",
       "      <td>75.424987</td>\n",
       "      <td>87.365849</td>\n",
       "      <td>96.518538</td>\n",
       "      <td>103.584281</td>\n",
       "      <td>108.484100</td>\n",
       "      <td>111.796401</td>\n",
       "      <td>114.343064</td>\n",
       "      <td>116.286784</td>\n",
       "      <td>117.842598</td>\n",
       "      <td>119.115314</td>\n",
       "      <td>120.058562</td>\n",
       "      <td>120.413218</td>\n",
       "      <td>0.000000</td>\n",
       "    </tr>\n",
       "    <tr>\n",
       "      <th>6</th>\n",
       "      <td>0.000000</td>\n",
       "      <td>0.000000</td>\n",
       "      <td>0.000000</td>\n",
       "      <td>0.000000</td>\n",
       "      <td>0.000000</td>\n",
       "      <td>17.877476</td>\n",
       "      <td>49.137919</td>\n",
       "      <td>73.119283</td>\n",
       "      <td>90.570522</td>\n",
       "      <td>103.582157</td>\n",
       "      <td>113.069637</td>\n",
       "      <td>120.160429</td>\n",
       "      <td>124.758566</td>\n",
       "      <td>127.788720</td>\n",
       "      <td>130.050943</td>\n",
       "      <td>131.892408</td>\n",
       "      <td>133.111060</td>\n",
       "      <td>134.015909</td>\n",
       "      <td>134.691376</td>\n",
       "      <td>0.000000</td>\n",
       "    </tr>\n",
       "    <tr>\n",
       "      <th>7</th>\n",
       "      <td>0.000000</td>\n",
       "      <td>0.000000</td>\n",
       "      <td>0.000000</td>\n",
       "      <td>0.000000</td>\n",
       "      <td>0.000000</td>\n",
       "      <td>0.000000</td>\n",
       "      <td>18.725742</td>\n",
       "      <td>51.359193</td>\n",
       "      <td>75.708404</td>\n",
       "      <td>93.360480</td>\n",
       "      <td>106.381433</td>\n",
       "      <td>115.569406</td>\n",
       "      <td>122.083545</td>\n",
       "      <td>126.050233</td>\n",
       "      <td>128.405935</td>\n",
       "      <td>130.262142</td>\n",
       "      <td>131.684061</td>\n",
       "      <td>132.527014</td>\n",
       "      <td>133.116495</td>\n",
       "      <td>133.538915</td>\n",
       "    </tr>\n",
       "    <tr>\n",
       "      <th>8</th>\n",
       "      <td>0.000000</td>\n",
       "      <td>0.000000</td>\n",
       "      <td>0.000000</td>\n",
       "      <td>0.000000</td>\n",
       "      <td>0.000000</td>\n",
       "      <td>0.000000</td>\n",
       "      <td>0.000000</td>\n",
       "      <td>22.622602</td>\n",
       "      <td>60.084215</td>\n",
       "      <td>88.859150</td>\n",
       "      <td>110.063760</td>\n",
       "      <td>125.806107</td>\n",
       "      <td>137.860731</td>\n",
       "      <td>146.462614</td>\n",
       "      <td>152.429356</td>\n",
       "      <td>156.337961</td>\n",
       "      <td>159.435795</td>\n",
       "      <td>162.025972</td>\n",
       "      <td>163.774586</td>\n",
       "      <td>164.968797</td>\n",
       "    </tr>\n",
       "    <tr>\n",
       "      <th>9</th>\n",
       "      <td>0.000000</td>\n",
       "      <td>0.000000</td>\n",
       "      <td>0.000000</td>\n",
       "      <td>0.000000</td>\n",
       "      <td>0.000000</td>\n",
       "      <td>0.000000</td>\n",
       "      <td>0.000000</td>\n",
       "      <td>0.000000</td>\n",
       "      <td>20.571602</td>\n",
       "      <td>56.540188</td>\n",
       "      <td>83.647312</td>\n",
       "      <td>104.239535</td>\n",
       "      <td>119.760397</td>\n",
       "      <td>131.256899</td>\n",
       "      <td>139.703995</td>\n",
       "      <td>145.783896</td>\n",
       "      <td>149.836699</td>\n",
       "      <td>153.001790</td>\n",
       "      <td>155.276298</td>\n",
       "      <td>156.744227</td>\n",
       "    </tr>\n",
       "    <tr>\n",
       "      <th>10</th>\n",
       "      <td>0.000000</td>\n",
       "      <td>0.000000</td>\n",
       "      <td>0.000000</td>\n",
       "      <td>0.000000</td>\n",
       "      <td>0.000000</td>\n",
       "      <td>0.000000</td>\n",
       "      <td>0.000000</td>\n",
       "      <td>0.000000</td>\n",
       "      <td>0.000000</td>\n",
       "      <td>20.411119</td>\n",
       "      <td>56.040051</td>\n",
       "      <td>82.465175</td>\n",
       "      <td>103.026981</td>\n",
       "      <td>118.062298</td>\n",
       "      <td>129.401674</td>\n",
       "      <td>138.443339</td>\n",
       "      <td>144.478376</td>\n",
       "      <td>148.576447</td>\n",
       "      <td>151.869189</td>\n",
       "      <td>154.150477</td>\n",
       "    </tr>\n",
       "    <tr>\n",
       "      <th>11</th>\n",
       "      <td>0.000000</td>\n",
       "      <td>0.000000</td>\n",
       "      <td>0.000000</td>\n",
       "      <td>0.000000</td>\n",
       "      <td>0.000000</td>\n",
       "      <td>0.000000</td>\n",
       "      <td>0.000000</td>\n",
       "      <td>0.000000</td>\n",
       "      <td>0.000000</td>\n",
       "      <td>0.000000</td>\n",
       "      <td>19.190388</td>\n",
       "      <td>52.590849</td>\n",
       "      <td>78.565296</td>\n",
       "      <td>97.547396</td>\n",
       "      <td>111.296208</td>\n",
       "      <td>121.915631</td>\n",
       "      <td>129.907222</td>\n",
       "      <td>135.235946</td>\n",
       "      <td>138.506812</td>\n",
       "      <td>140.849331</td>\n",
       "    </tr>\n",
       "    <tr>\n",
       "      <th>12</th>\n",
       "      <td>0.000000</td>\n",
       "      <td>0.000000</td>\n",
       "      <td>0.000000</td>\n",
       "      <td>0.000000</td>\n",
       "      <td>0.000000</td>\n",
       "      <td>0.000000</td>\n",
       "      <td>0.000000</td>\n",
       "      <td>0.000000</td>\n",
       "      <td>0.000000</td>\n",
       "      <td>0.000000</td>\n",
       "      <td>0.000000</td>\n",
       "      <td>21.967855</td>\n",
       "      <td>60.083956</td>\n",
       "      <td>87.608014</td>\n",
       "      <td>108.197383</td>\n",
       "      <td>124.391230</td>\n",
       "      <td>136.387606</td>\n",
       "      <td>145.168134</td>\n",
       "      <td>151.051801</td>\n",
       "      <td>154.573588</td>\n",
       "    </tr>\n",
       "  </tbody>\n",
       "</table>\n",
       "</div>"
      ],
      "text/plain": [
       "              Jan-20     Feb-20     Mar-20     Apr-20     May-20     Jun-20  \\\n",
       "Reg_Month                                                                     \n",
       "1          11.152522  30.597051  46.314393  59.032953  69.083750  77.209749   \n",
       "2           0.000000   8.844764  26.425429  40.467653  51.529164  60.291254   \n",
       "3           0.000000   0.000000  12.550718  35.006029  52.388635  66.301095   \n",
       "4           0.000000   0.000000   0.000000  10.560694  29.962428  45.728108   \n",
       "5           0.000000   0.000000   0.000000   0.000000  14.818807  40.037202   \n",
       "6           0.000000   0.000000   0.000000   0.000000   0.000000  17.877476   \n",
       "7           0.000000   0.000000   0.000000   0.000000   0.000000   0.000000   \n",
       "8           0.000000   0.000000   0.000000   0.000000   0.000000   0.000000   \n",
       "9           0.000000   0.000000   0.000000   0.000000   0.000000   0.000000   \n",
       "10          0.000000   0.000000   0.000000   0.000000   0.000000   0.000000   \n",
       "11          0.000000   0.000000   0.000000   0.000000   0.000000   0.000000   \n",
       "12          0.000000   0.000000   0.000000   0.000000   0.000000   0.000000   \n",
       "\n",
       "              Jul-20     Aug-20     Sep-20      Oct-20      Nov-20  \\\n",
       "Reg_Month                                                            \n",
       "1          83.517501  87.918451  90.697838   92.980298   94.656437   \n",
       "2          67.036358  71.959857  75.240338   77.537034   79.354819   \n",
       "3          77.330829  85.788223  92.022914   96.177814   99.065119   \n",
       "4          58.140872  68.185365  75.908771   81.803122   86.145704   \n",
       "5          59.559998  75.424987  87.365849   96.518538  103.584281   \n",
       "6          49.137919  73.119283  90.570522  103.582157  113.069637   \n",
       "7          18.725742  51.359193  75.708404   93.360480  106.381433   \n",
       "8           0.000000  22.622602  60.084215   88.859150  110.063760   \n",
       "9           0.000000   0.000000  20.571602   56.540188   83.647312   \n",
       "10          0.000000   0.000000   0.000000   20.411119   56.040051   \n",
       "11          0.000000   0.000000   0.000000    0.000000   19.190388   \n",
       "12          0.000000   0.000000   0.000000    0.000000    0.000000   \n",
       "\n",
       "               Dec-20      Jan-21      Feb-21      Mar-21      Apr-21  \\\n",
       "Reg_Month                                                               \n",
       "1           95.697399   96.500183   96.996652    0.000000    0.000000   \n",
       "2           80.819782   81.888117   82.730993   83.407376   83.683366   \n",
       "3          101.600842  103.526531  104.787870  105.701465  106.361115   \n",
       "4           88.893580   91.265217   92.985536   94.152034   95.019247   \n",
       "5          108.484100  111.796401  114.343064  116.286784  117.842598   \n",
       "6          120.160429  124.758566  127.788720  130.050943  131.892408   \n",
       "7          115.569406  122.083545  126.050233  128.405935  130.262142   \n",
       "8          125.806107  137.860731  146.462614  152.429356  156.337961   \n",
       "9          104.239535  119.760397  131.256899  139.703995  145.783896   \n",
       "10          82.465175  103.026981  118.062298  129.401674  138.443339   \n",
       "11          52.590849   78.565296   97.547396  111.296208  121.915631   \n",
       "12          21.967855   60.083956   87.608014  108.197383  124.391230   \n",
       "\n",
       "               May-21      Jun-21      Jul-21      Aug-21  \n",
       "Reg_Month                                                  \n",
       "1            0.000000    0.000000    0.000000    0.000000  \n",
       "2            0.000000    0.000000    0.000000    0.000000  \n",
       "3            0.000000    0.000000    0.000000    0.000000  \n",
       "4           95.619626   95.811667    0.000000    0.000000  \n",
       "5          119.115314  120.058562  120.413218    0.000000  \n",
       "6          133.111060  134.015909  134.691376    0.000000  \n",
       "7          131.684061  132.527014  133.116495  133.538915  \n",
       "8          159.435795  162.025972  163.774586  164.968797  \n",
       "9          149.836699  153.001790  155.276298  156.744227  \n",
       "10         144.478376  148.576447  151.869189  154.150477  \n",
       "11         129.907222  135.235946  138.506812  140.849331  \n",
       "12         136.387606  145.168134  151.051801  154.573588  "
      ]
     },
     "execution_count": 155,
     "metadata": {},
     "output_type": "execute_result"
    }
   ],
   "source": [
    "final_piv=mom_indi_pay_duo.pivot_table(index='Reg_Month',columns='Actual_Payment_Period',values='Cum_Sum',fill_value=0)\n",
    "final_piv.columns.name=None\n",
    "\n",
    "final_piv.columns\n",
    "final_piv=final_piv.rename(columns=lambda x:pd.to_datetime(x,format='%b-%y'))\n",
    "sorted_columns=sorted([col for col in final_piv if col !='Reg_Month'])\n",
    "final_piv=final_piv[sorted_columns]\n",
    "final_piv.columns=[col.strftime('%b-%y') for col in sorted_columns]\n",
    "final_piv\n"
   ]
  },
  {
   "cell_type": "code",
   "execution_count": 158,
   "metadata": {},
   "outputs": [
    {
     "data": {
      "text/html": [
       "<div>\n",
       "<style scoped>\n",
       "    .dataframe tbody tr th:only-of-type {\n",
       "        vertical-align: middle;\n",
       "    }\n",
       "\n",
       "    .dataframe tbody tr th {\n",
       "        vertical-align: top;\n",
       "    }\n",
       "\n",
       "    .dataframe thead th {\n",
       "        text-align: right;\n",
       "    }\n",
       "</style>\n",
       "<table border=\"1\" class=\"dataframe\">\n",
       "  <thead>\n",
       "    <tr style=\"text-align: right;\">\n",
       "      <th></th>\n",
       "      <th>Actual_Payment_Period</th>\n",
       "      <th>AccountId</th>\n",
       "      <th>Amount</th>\n",
       "      <th>Reg_Month</th>\n",
       "      <th>Reg_Year</th>\n",
       "      <th>TotalValue</th>\n",
       "      <th>Percent_Paid</th>\n",
       "      <th>Year</th>\n",
       "      <th>Month</th>\n",
       "      <th>Cum_Sum</th>\n",
       "    </tr>\n",
       "  </thead>\n",
       "  <tbody>\n",
       "    <tr>\n",
       "      <th>0</th>\n",
       "      <td>Jan-20</td>\n",
       "      <td>5077</td>\n",
       "      <td>2324.175000</td>\n",
       "      <td>1</td>\n",
       "      <td>2020</td>\n",
       "      <td>27300</td>\n",
       "      <td>0.085135</td>\n",
       "      <td>20</td>\n",
       "      <td>Jan</td>\n",
       "      <td>0.085135</td>\n",
       "    </tr>\n",
       "    <tr>\n",
       "      <th>1</th>\n",
       "      <td>Jan-20</td>\n",
       "      <td>5099</td>\n",
       "      <td>1860.635593</td>\n",
       "      <td>1</td>\n",
       "      <td>2020</td>\n",
       "      <td>18900</td>\n",
       "      <td>0.098446</td>\n",
       "      <td>20</td>\n",
       "      <td>Jan</td>\n",
       "      <td>0.183581</td>\n",
       "    </tr>\n",
       "    <tr>\n",
       "      <th>2</th>\n",
       "      <td>Jan-20</td>\n",
       "      <td>5112</td>\n",
       "      <td>282.294444</td>\n",
       "      <td>1</td>\n",
       "      <td>2020</td>\n",
       "      <td>10675</td>\n",
       "      <td>0.026444</td>\n",
       "      <td>20</td>\n",
       "      <td>Jan</td>\n",
       "      <td>0.210025</td>\n",
       "    </tr>\n",
       "    <tr>\n",
       "      <th>3</th>\n",
       "      <td>Jan-20</td>\n",
       "      <td>5121</td>\n",
       "      <td>2112.388393</td>\n",
       "      <td>1</td>\n",
       "      <td>2020</td>\n",
       "      <td>10125</td>\n",
       "      <td>0.208631</td>\n",
       "      <td>20</td>\n",
       "      <td>Jan</td>\n",
       "      <td>0.418656</td>\n",
       "    </tr>\n",
       "    <tr>\n",
       "      <th>4</th>\n",
       "      <td>Jan-20</td>\n",
       "      <td>5134</td>\n",
       "      <td>2892.957589</td>\n",
       "      <td>1</td>\n",
       "      <td>2020</td>\n",
       "      <td>31125</td>\n",
       "      <td>0.092946</td>\n",
       "      <td>20</td>\n",
       "      <td>Jan</td>\n",
       "      <td>0.511603</td>\n",
       "    </tr>\n",
       "  </tbody>\n",
       "</table>\n",
       "</div>"
      ],
      "text/plain": [
       "  Actual_Payment_Period  AccountId       Amount  Reg_Month  Reg_Year  \\\n",
       "0                Jan-20       5077  2324.175000          1      2020   \n",
       "1                Jan-20       5099  1860.635593          1      2020   \n",
       "2                Jan-20       5112   282.294444          1      2020   \n",
       "3                Jan-20       5121  2112.388393          1      2020   \n",
       "4                Jan-20       5134  2892.957589          1      2020   \n",
       "\n",
       "   TotalValue  Percent_Paid Year Month   Cum_Sum  \n",
       "0       27300      0.085135   20   Jan  0.085135  \n",
       "1       18900      0.098446   20   Jan  0.183581  \n",
       "2       10675      0.026444   20   Jan  0.210025  \n",
       "3       10125      0.208631   20   Jan  0.418656  \n",
       "4       31125      0.092946   20   Jan  0.511603  "
      ]
     },
     "execution_count": 158,
     "metadata": {},
     "output_type": "execute_result"
    }
   ],
   "source": [
    "mom_indi_pay_duo.head()"
   ]
  },
  {
   "cell_type": "code",
   "execution_count": 161,
   "metadata": {},
   "outputs": [
    {
     "data": {
      "text/html": [
       "<div>\n",
       "<style scoped>\n",
       "    .dataframe tbody tr th:only-of-type {\n",
       "        vertical-align: middle;\n",
       "    }\n",
       "\n",
       "    .dataframe tbody tr th {\n",
       "        vertical-align: top;\n",
       "    }\n",
       "\n",
       "    .dataframe thead th {\n",
       "        text-align: right;\n",
       "    }\n",
       "</style>\n",
       "<table border=\"1\" class=\"dataframe\">\n",
       "  <thead>\n",
       "    <tr style=\"text-align: right;\">\n",
       "      <th></th>\n",
       "      <th>AccountId</th>\n",
       "      <th>RegistrationDate</th>\n",
       "      <th>CustomerId</th>\n",
       "      <th>PaymentPlanId</th>\n",
       "      <th>FullName</th>\n",
       "      <th>Region</th>\n",
       "      <th>Month</th>\n",
       "      <th>Year</th>\n",
       "      <th>Product</th>\n",
       "      <th>Deposit</th>\n",
       "      <th>TotalValue</th>\n",
       "    </tr>\n",
       "  </thead>\n",
       "  <tbody>\n",
       "    <tr>\n",
       "      <th>39</th>\n",
       "      <td>5077</td>\n",
       "      <td>2020-01-13</td>\n",
       "      <td>2103</td>\n",
       "      <td>17</td>\n",
       "      <td>Michael Lwoyelo</td>\n",
       "      <td>nairobi</td>\n",
       "      <td>1</td>\n",
       "      <td>2020</td>\n",
       "      <td>tv</td>\n",
       "      <td>1300</td>\n",
       "      <td>27300</td>\n",
       "    </tr>\n",
       "  </tbody>\n",
       "</table>\n",
       "</div>"
      ],
      "text/plain": [
       "    AccountId RegistrationDate  CustomerId  PaymentPlanId         FullName  \\\n",
       "39       5077       2020-01-13        2103             17  Michael Lwoyelo   \n",
       "\n",
       "     Region  Month  Year Product  Deposit  TotalValue  \n",
       "39  nairobi      1  2020      tv     1300       27300  "
      ]
     },
     "execution_count": 161,
     "metadata": {},
     "output_type": "execute_result"
    }
   ],
   "source": [
    "df_Account_upd[df_Account_upd['AccountId']==5077]"
   ]
  },
  {
   "cell_type": "code",
   "execution_count": null,
   "metadata": {},
   "outputs": [
    {
     "data": {
      "text/html": [
       "<div>\n",
       "<style scoped>\n",
       "    .dataframe tbody tr th:only-of-type {\n",
       "        vertical-align: middle;\n",
       "    }\n",
       "\n",
       "    .dataframe tbody tr th {\n",
       "        vertical-align: top;\n",
       "    }\n",
       "\n",
       "    .dataframe thead th {\n",
       "        text-align: right;\n",
       "    }\n",
       "</style>\n",
       "<table border=\"1\" class=\"dataframe\">\n",
       "  <thead>\n",
       "    <tr style=\"text-align: right;\">\n",
       "      <th></th>\n",
       "      <th>Actual_Payment_Period</th>\n",
       "      <th>AccountId</th>\n",
       "      <th>Amount</th>\n",
       "      <th>Reg_Month</th>\n",
       "      <th>Reg_Year</th>\n",
       "      <th>TotalValue</th>\n",
       "      <th>Percent_Paid</th>\n",
       "      <th>Year</th>\n",
       "      <th>Month</th>\n",
       "      <th>Cum_Sum</th>\n",
       "      <th>Region</th>\n",
       "      <th>Product</th>\n",
       "    </tr>\n",
       "  </thead>\n",
       "  <tbody>\n",
       "    <tr>\n",
       "      <th>0</th>\n",
       "      <td>Jan-20</td>\n",
       "      <td>5077</td>\n",
       "      <td>2324.175000</td>\n",
       "      <td>1</td>\n",
       "      <td>2020</td>\n",
       "      <td>27300</td>\n",
       "      <td>0.085135</td>\n",
       "      <td>20</td>\n",
       "      <td>Jan</td>\n",
       "      <td>0.085135</td>\n",
       "      <td>nairobi</td>\n",
       "      <td>tv</td>\n",
       "    </tr>\n",
       "    <tr>\n",
       "      <th>1</th>\n",
       "      <td>Jan-20</td>\n",
       "      <td>5099</td>\n",
       "      <td>1860.635593</td>\n",
       "      <td>1</td>\n",
       "      <td>2020</td>\n",
       "      <td>18900</td>\n",
       "      <td>0.098446</td>\n",
       "      <td>20</td>\n",
       "      <td>Jan</td>\n",
       "      <td>0.183581</td>\n",
       "      <td>kisumu</td>\n",
       "      <td>solar</td>\n",
       "    </tr>\n",
       "    <tr>\n",
       "      <th>2</th>\n",
       "      <td>Jan-20</td>\n",
       "      <td>5112</td>\n",
       "      <td>282.294444</td>\n",
       "      <td>1</td>\n",
       "      <td>2020</td>\n",
       "      <td>10675</td>\n",
       "      <td>0.026444</td>\n",
       "      <td>20</td>\n",
       "      <td>Jan</td>\n",
       "      <td>0.210025</td>\n",
       "      <td>mombasa</td>\n",
       "      <td>phone</td>\n",
       "    </tr>\n",
       "    <tr>\n",
       "      <th>3</th>\n",
       "      <td>Jan-20</td>\n",
       "      <td>5121</td>\n",
       "      <td>2112.388393</td>\n",
       "      <td>1</td>\n",
       "      <td>2020</td>\n",
       "      <td>10125</td>\n",
       "      <td>0.208631</td>\n",
       "      <td>20</td>\n",
       "      <td>Jan</td>\n",
       "      <td>0.418656</td>\n",
       "      <td>nairobi</td>\n",
       "      <td>solar</td>\n",
       "    </tr>\n",
       "    <tr>\n",
       "      <th>4</th>\n",
       "      <td>Jan-20</td>\n",
       "      <td>5134</td>\n",
       "      <td>2892.957589</td>\n",
       "      <td>1</td>\n",
       "      <td>2020</td>\n",
       "      <td>31125</td>\n",
       "      <td>0.092946</td>\n",
       "      <td>20</td>\n",
       "      <td>Jan</td>\n",
       "      <td>0.511603</td>\n",
       "      <td>nairobi</td>\n",
       "      <td>tv</td>\n",
       "    </tr>\n",
       "    <tr>\n",
       "      <th>...</th>\n",
       "      <td>...</td>\n",
       "      <td>...</td>\n",
       "      <td>...</td>\n",
       "      <td>...</td>\n",
       "      <td>...</td>\n",
       "      <td>...</td>\n",
       "      <td>...</td>\n",
       "      <td>...</td>\n",
       "      <td>...</td>\n",
       "      <td>...</td>\n",
       "      <td>...</td>\n",
       "      <td>...</td>\n",
       "    </tr>\n",
       "    <tr>\n",
       "      <th>18359</th>\n",
       "      <td>Aug-21</td>\n",
       "      <td>8959</td>\n",
       "      <td>114.852941</td>\n",
       "      <td>10</td>\n",
       "      <td>2020</td>\n",
       "      <td>17600</td>\n",
       "      <td>0.006526</td>\n",
       "      <td>21</td>\n",
       "      <td>Aug</td>\n",
       "      <td>154.862869</td>\n",
       "      <td>kisumu</td>\n",
       "      <td>tv</td>\n",
       "    </tr>\n",
       "    <tr>\n",
       "      <th>18360</th>\n",
       "      <td>Aug-21</td>\n",
       "      <td>8964</td>\n",
       "      <td>428.735220</td>\n",
       "      <td>11</td>\n",
       "      <td>2020</td>\n",
       "      <td>23625</td>\n",
       "      <td>0.018148</td>\n",
       "      <td>21</td>\n",
       "      <td>Aug</td>\n",
       "      <td>141.736927</td>\n",
       "      <td>kisumu</td>\n",
       "      <td>tv</td>\n",
       "    </tr>\n",
       "    <tr>\n",
       "      <th>18361</th>\n",
       "      <td>Aug-21</td>\n",
       "      <td>8976</td>\n",
       "      <td>457.173567</td>\n",
       "      <td>9</td>\n",
       "      <td>2020</td>\n",
       "      <td>27300</td>\n",
       "      <td>0.016746</td>\n",
       "      <td>21</td>\n",
       "      <td>Aug</td>\n",
       "      <td>157.218924</td>\n",
       "      <td>nairobi</td>\n",
       "      <td>tv</td>\n",
       "    </tr>\n",
       "    <tr>\n",
       "      <th>18362</th>\n",
       "      <td>Aug-21</td>\n",
       "      <td>8981</td>\n",
       "      <td>45.612536</td>\n",
       "      <td>10</td>\n",
       "      <td>2020</td>\n",
       "      <td>8000</td>\n",
       "      <td>0.005702</td>\n",
       "      <td>21</td>\n",
       "      <td>Aug</td>\n",
       "      <td>154.868571</td>\n",
       "      <td>kisumu</td>\n",
       "      <td>phone</td>\n",
       "    </tr>\n",
       "    <tr>\n",
       "      <th>18363</th>\n",
       "      <td>Aug-21</td>\n",
       "      <td>8993</td>\n",
       "      <td>308.289474</td>\n",
       "      <td>10</td>\n",
       "      <td>2020</td>\n",
       "      <td>17600</td>\n",
       "      <td>0.017516</td>\n",
       "      <td>21</td>\n",
       "      <td>Aug</td>\n",
       "      <td>154.886087</td>\n",
       "      <td>nairobi</td>\n",
       "      <td>tv</td>\n",
       "    </tr>\n",
       "  </tbody>\n",
       "</table>\n",
       "<p>18364 rows × 12 columns</p>\n",
       "</div>"
      ],
      "text/plain": [
       "      Actual_Payment_Period  AccountId       Amount  Reg_Month  Reg_Year  \\\n",
       "0                    Jan-20       5077  2324.175000          1      2020   \n",
       "1                    Jan-20       5099  1860.635593          1      2020   \n",
       "2                    Jan-20       5112   282.294444          1      2020   \n",
       "3                    Jan-20       5121  2112.388393          1      2020   \n",
       "4                    Jan-20       5134  2892.957589          1      2020   \n",
       "...                     ...        ...          ...        ...       ...   \n",
       "18359                Aug-21       8959   114.852941         10      2020   \n",
       "18360                Aug-21       8964   428.735220         11      2020   \n",
       "18361                Aug-21       8976   457.173567          9      2020   \n",
       "18362                Aug-21       8981    45.612536         10      2020   \n",
       "18363                Aug-21       8993   308.289474         10      2020   \n",
       "\n",
       "       TotalValue  Percent_Paid Year Month     Cum_Sum   Region Product  \n",
       "0           27300      0.085135   20   Jan    0.085135  nairobi      tv  \n",
       "1           18900      0.098446   20   Jan    0.183581   kisumu   solar  \n",
       "2           10675      0.026444   20   Jan    0.210025  mombasa   phone  \n",
       "3           10125      0.208631   20   Jan    0.418656  nairobi   solar  \n",
       "4           31125      0.092946   20   Jan    0.511603  nairobi      tv  \n",
       "...           ...           ...  ...   ...         ...      ...     ...  \n",
       "18359       17600      0.006526   21   Aug  154.862869   kisumu      tv  \n",
       "18360       23625      0.018148   21   Aug  141.736927   kisumu      tv  \n",
       "18361       27300      0.016746   21   Aug  157.218924  nairobi      tv  \n",
       "18362        8000      0.005702   21   Aug  154.868571   kisumu   phone  \n",
       "18363       17600      0.017516   21   Aug  154.886087  nairobi      tv  \n",
       "\n",
       "[18364 rows x 12 columns]"
      ]
     },
     "execution_count": 162,
     "metadata": {},
     "output_type": "execute_result"
    }
   ],
   "source": []
  },
  {
   "cell_type": "markdown",
   "metadata": {},
   "source": []
  },
  {
   "cell_type": "code",
   "execution_count": 156,
   "metadata": {},
   "outputs": [
    {
     "data": {
      "image/png": "[encoded data removed]",
      "text/plain": [
       "<Figure size 1200x900 with 2 Axes>"
      ]
     },
     "metadata": {},
     "output_type": "display_data"
    }
   ],
   "source": [
    "plt.figure(figsize=(12, 9))\n",
    "\n",
    "sns.heatmap(final_piv,cmap=\"YlGnBu\",   # Color scheme (Yellow-Green-Blue)\n",
    "    annot=True,      # Display values in cells\n",
    "    fmt=\".1f\",       # Format numbers with 1 decimal\n",
    "    linewidths=0.8,  # Add space between cells\n",
    "    cbar=True )\n",
    "\n",
    "plt.xlabel(\"Actual Payment Period\")\n",
    "plt.ylabel(\"Reg Month\")\n",
    "plt.title(\"Cumulative Sum Heatmap\")\n",
    "\n",
    "# Show the plot\n",
    "plt.show()"
   ]
  }
 ],
 "metadata": {
  "kernelspec": {
   "display_name": ".venv",
   "language": "python",
   "name": "python3"
  },
  "language_info": {
   "codemirror_mode": {
    "name": "ipython",
    "version": 3
   },
   "file_extension": ".py",
   "mimetype": "text/x-python",
   "name": "python",
   "nbconvert_exporter": "python",
   "pygments_lexer": "ipython3",
   "version": "3.12.3"
  }
 },
 "nbformat": 4,
 "nbformat_minor": 2
}
